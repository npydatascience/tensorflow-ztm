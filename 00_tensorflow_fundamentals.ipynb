{
  "nbformat": 4,
  "nbformat_minor": 0,
  "metadata": {
    "colab": {
      "provenance": [],
      "toc_visible": true
    },
    "kernelspec": {
      "name": "python3",
      "display_name": "Python 3"
    },
    "language_info": {
      "name": "python"
    },
    "accelerator": "GPU",
    "gpuClass": "standard"
  },
  "cells": [
    {
      "cell_type": "markdown",
      "source": [
        "# tensors in tensorflow comand mm\n",
        "More specifically we are going to cover:\n",
        "* intro to tensors\n",
        "* getting info from tensors\n",
        "* manipulating tensors\n",
        "* tensors & numpy\n",
        "* using @tf.function(a way to speed up your regular python function)\n",
        "* using GPUs with tensorflow/TPUs\n",
        "* Excercise"
      ],
      "metadata": {
        "id": "xMzsA9ybUx8r"
      }
    },
    {
      "cell_type": "markdown",
      "source": [
        "## Intro to tensors"
      ],
      "metadata": {
        "id": "GsEBM3YdVLMX"
      }
    },
    {
      "cell_type": "code",
      "source": [
        "# import tensorflow\n",
        "import tensorflow as tf\n",
        "tf.__version__"
      ],
      "metadata": {
        "colab": {
          "base_uri": "https://localhost:8080/",
          "height": 36
        },
        "id": "baCbFLNcWkHu",
        "outputId": "e169b019-12c4-47a3-e6c7-334d6cff80bd"
      },
      "execution_count": 2,
      "outputs": [
        {
          "output_type": "execute_result",
          "data": {
            "text/plain": [
              "'2.11.0'"
            ],
            "application/vnd.google.colaboratory.intrinsic+json": {
              "type": "string"
            }
          },
          "metadata": {},
          "execution_count": 2
        }
      ]
    },
    {
      "cell_type": "code",
      "source": [
        "# create tensors with  tf.constant()\n",
        "scalar=tf.constant(7)\n",
        "scalar\n",
        "# command+shift+space for docstring in colab"
      ],
      "metadata": {
        "colab": {
          "base_uri": "https://localhost:8080/"
        },
        "id": "y9DrnE0WWhxY",
        "outputId": "07e4a69f-c16f-4801-fc01-313168797d77"
      },
      "execution_count": 3,
      "outputs": [
        {
          "output_type": "execute_result",
          "data": {
            "text/plain": [
              "<tf.Tensor: shape=(), dtype=int32, numpy=7>"
            ]
          },
          "metadata": {},
          "execution_count": 3
        }
      ]
    },
    {
      "cell_type": "code",
      "source": [
        "# check number of dimension in tensor\n",
        "scalar.ndim"
      ],
      "metadata": {
        "colab": {
          "base_uri": "https://localhost:8080/"
        },
        "id": "-dn8DatbWY_c",
        "outputId": "c8714bea-84d4-4555-a310-146123510b5a"
      },
      "execution_count": 4,
      "outputs": [
        {
          "output_type": "execute_result",
          "data": {
            "text/plain": [
              "0"
            ]
          },
          "metadata": {},
          "execution_count": 4
        }
      ]
    },
    {
      "cell_type": "code",
      "source": [
        "# create vector\n",
        "vector=tf.constant([2,3,4])\n",
        "vector"
      ],
      "metadata": {
        "colab": {
          "base_uri": "https://localhost:8080/"
        },
        "id": "QxA5CXB8Ze3x",
        "outputId": "25cf54f6-d436-4615-ea67-34807af105df"
      },
      "execution_count": 5,
      "outputs": [
        {
          "output_type": "execute_result",
          "data": {
            "text/plain": [
              "<tf.Tensor: shape=(3,), dtype=int32, numpy=array([2, 3, 4], dtype=int32)>"
            ]
          },
          "metadata": {},
          "execution_count": 5
        }
      ]
    },
    {
      "cell_type": "code",
      "source": [
        "#  check dimension of vector\n",
        "vector.ndim"
      ],
      "metadata": {
        "colab": {
          "base_uri": "https://localhost:8080/"
        },
        "id": "ATjnch34Z8G0",
        "outputId": "c225254a-816b-44f8-ba40-b8114f70f7a0"
      },
      "execution_count": 6,
      "outputs": [
        {
          "output_type": "execute_result",
          "data": {
            "text/plain": [
              "1"
            ]
          },
          "metadata": {},
          "execution_count": 6
        }
      ]
    },
    {
      "cell_type": "code",
      "source": [
        "# create matrix(has more than 1 dimension)\n",
        "matrix=tf.constant([[3,2],\n",
        "                    [5,6]])\n",
        "matrix"
      ],
      "metadata": {
        "colab": {
          "base_uri": "https://localhost:8080/"
        },
        "id": "yi8V9rSIaMmN",
        "outputId": "c129e24b-0f51-407b-ca0b-1426d2efac59"
      },
      "execution_count": 7,
      "outputs": [
        {
          "output_type": "execute_result",
          "data": {
            "text/plain": [
              "<tf.Tensor: shape=(2, 2), dtype=int32, numpy=\n",
              "array([[3, 2],\n",
              "       [5, 6]], dtype=int32)>"
            ]
          },
          "metadata": {},
          "execution_count": 7
        }
      ]
    },
    {
      "cell_type": "code",
      "source": [
        "matrix.ndim"
      ],
      "metadata": {
        "colab": {
          "base_uri": "https://localhost:8080/"
        },
        "id": "x_-bMJSnatZr",
        "outputId": "78a7b8d3-db49-4c5d-e9ef-84083edad027"
      },
      "execution_count": 8,
      "outputs": [
        {
          "output_type": "execute_result",
          "data": {
            "text/plain": [
              "2"
            ]
          },
          "metadata": {},
          "execution_count": 8
        }
      ]
    },
    {
      "cell_type": "code",
      "source": [
        "# lets create another matrix\n",
        "another_matrix=tf.constant([[2.,3.],\n",
        "                            [4.,5.3]], dtype=tf.float16)\n",
        "another_matrix"
      ],
      "metadata": {
        "colab": {
          "base_uri": "https://localhost:8080/"
        },
        "id": "CSCpQjTKayYK",
        "outputId": "dbcb12ff-7038-4909-e34f-b7c2335c69b5"
      },
      "execution_count": 9,
      "outputs": [
        {
          "output_type": "execute_result",
          "data": {
            "text/plain": [
              "<tf.Tensor: shape=(2, 2), dtype=float16, numpy=\n",
              "array([[2. , 3. ],\n",
              "       [4. , 5.3]], dtype=float16)>"
            ]
          },
          "metadata": {},
          "execution_count": 9
        }
      ]
    },
    {
      "cell_type": "code",
      "source": [
        "another_matrix.ndim"
      ],
      "metadata": {
        "colab": {
          "base_uri": "https://localhost:8080/"
        },
        "id": "Gh6ikvM8bw2P",
        "outputId": "98675daa-bca1-48f5-deaa-2891e8eb25d2"
      },
      "execution_count": 10,
      "outputs": [
        {
          "output_type": "execute_result",
          "data": {
            "text/plain": [
              "2"
            ]
          },
          "metadata": {},
          "execution_count": 10
        }
      ]
    },
    {
      "cell_type": "code",
      "source": [
        "# lets create tensor\n",
        "tensor=tf.constant([[[3,4],[5,5]]])\n",
        "tensor"
      ],
      "metadata": {
        "colab": {
          "base_uri": "https://localhost:8080/"
        },
        "id": "MPaToWV-cBeW",
        "outputId": "72385d6c-f7ad-41bd-8cbb-2bd4d3de6147"
      },
      "execution_count": 11,
      "outputs": [
        {
          "output_type": "execute_result",
          "data": {
            "text/plain": [
              "<tf.Tensor: shape=(1, 2, 2), dtype=int32, numpy=\n",
              "array([[[3, 4],\n",
              "        [5, 5]]], dtype=int32)>"
            ]
          },
          "metadata": {},
          "execution_count": 11
        }
      ]
    },
    {
      "cell_type": "code",
      "source": [
        "tensor.ndim"
      ],
      "metadata": {
        "colab": {
          "base_uri": "https://localhost:8080/"
        },
        "id": "4KcGS3Xgddv7",
        "outputId": "5e6d1670-1d47-41f7-8482-66f136cfea71"
      },
      "execution_count": 12,
      "outputs": [
        {
          "output_type": "execute_result",
          "data": {
            "text/plain": [
              "3"
            ]
          },
          "metadata": {},
          "execution_count": 12
        }
      ]
    },
    {
      "cell_type": "markdown",
      "source": [
        "# everyrhing even matrix are refered as tensors, matrix tensor same thing. 3d tensor or 2d tensor"
      ],
      "metadata": {
        "id": "y3FjEUsueLfK"
      }
    },
    {
      "cell_type": "markdown",
      "source": [
        "What we heave created\n",
        "* scalar: single constant number\n",
        "* vector: number with direction (eg wind speed and direction)\n",
        "* matrix: 2d array of numbers\n",
        "* tensor: n-dimension array of numbers (can be 0-dim=tensor is a scalar, 1d-tensor is vector, 2d-tensor is matrix or more)"
      ],
      "metadata": {
        "id": "d6ji2nT7eWor"
      }
    },
    {
      "cell_type": "markdown",
      "source": [
        " ### creating tensors with `tf.Variable`"
      ],
      "metadata": {
        "id": "VgyP85DBgWuu"
      }
    },
    {
      "cell_type": "code",
      "source": [
        "changable_tensor=tf.Variable([2,3])\n",
        "unchangable_tensor=tf.constant([3,4])\n",
        "changable_tensor, unchangable_tensor"
      ],
      "metadata": {
        "colab": {
          "base_uri": "https://localhost:8080/"
        },
        "id": "zoAh1c78gG1W",
        "outputId": "b3578338-359c-4972-a79e-3447e9a2dd1b"
      },
      "execution_count": 13,
      "outputs": [
        {
          "output_type": "execute_result",
          "data": {
            "text/plain": [
              "(<tf.Variable 'Variable:0' shape=(2,) dtype=int32, numpy=array([2, 3], dtype=int32)>,\n",
              " <tf.Tensor: shape=(2,), dtype=int32, numpy=array([3, 4], dtype=int32)>)"
            ]
          },
          "metadata": {},
          "execution_count": 13
        }
      ]
    },
    {
      "cell_type": "code",
      "source": [
        "changable_tensor[0]=5"
      ],
      "metadata": {
        "colab": {
          "base_uri": "https://localhost:8080/",
          "height": 173
        },
        "id": "6tN4nK25gHPY",
        "outputId": "6049cf8a-a424-4ada-e1e6-d97b9deae2e7"
      },
      "execution_count": 15,
      "outputs": [
        {
          "output_type": "error",
          "ename": "TypeError",
          "evalue": "ignored",
          "traceback": [
            "\u001b[0;31m---------------------------------------------------------------------------\u001b[0m",
            "\u001b[0;31mTypeError\u001b[0m                                 Traceback (most recent call last)",
            "\u001b[0;32m<ipython-input-15-b17b3cfd54b4>\u001b[0m in \u001b[0;36m<module>\u001b[0;34m\u001b[0m\n\u001b[0;32m----> 1\u001b[0;31m \u001b[0mchangable_tensor\u001b[0m\u001b[0;34m[\u001b[0m\u001b[0;36m0\u001b[0m\u001b[0;34m]\u001b[0m\u001b[0;34m=\u001b[0m\u001b[0;36m5\u001b[0m\u001b[0;34m\u001b[0m\u001b[0;34m\u001b[0m\u001b[0m\n\u001b[0m",
            "\u001b[0;31mTypeError\u001b[0m: 'ResourceVariable' object does not support item assignment"
          ]
        }
      ]
    },
    {
      "cell_type": "code",
      "source": [
        "changable_tensor[0].assign(55)"
      ],
      "metadata": {
        "colab": {
          "base_uri": "https://localhost:8080/"
        },
        "id": "VpC-FtODgH8D",
        "outputId": "a2c9b133-51bc-468d-8a44-1b866370b4cd"
      },
      "execution_count": 16,
      "outputs": [
        {
          "output_type": "execute_result",
          "data": {
            "text/plain": [
              "<tf.Variable 'UnreadVariable' shape=(2,) dtype=int32, numpy=array([55,  3], dtype=int32)>"
            ]
          },
          "metadata": {},
          "execution_count": 16
        }
      ]
    },
    {
      "cell_type": "code",
      "source": [
        "unchangable_tensor[0].assign(46)"
      ],
      "metadata": {
        "colab": {
          "base_uri": "https://localhost:8080/",
          "height": 301
        },
        "id": "BlNNK8oHgIWh",
        "outputId": "cb41db9b-308a-48c3-b4f8-6c644ceba7be"
      },
      "execution_count": 17,
      "outputs": [
        {
          "output_type": "error",
          "ename": "AttributeError",
          "evalue": "ignored",
          "traceback": [
            "\u001b[0;31m---------------------------------------------------------------------------\u001b[0m",
            "\u001b[0;31mAttributeError\u001b[0m                            Traceback (most recent call last)",
            "\u001b[0;32m<ipython-input-17-6995dd2dfc7a>\u001b[0m in \u001b[0;36m<module>\u001b[0;34m\u001b[0m\n\u001b[0;32m----> 1\u001b[0;31m \u001b[0munchangable_tensor\u001b[0m\u001b[0;34m[\u001b[0m\u001b[0;36m0\u001b[0m\u001b[0;34m]\u001b[0m\u001b[0;34m.\u001b[0m\u001b[0massign\u001b[0m\u001b[0;34m(\u001b[0m\u001b[0;36m46\u001b[0m\u001b[0;34m)\u001b[0m\u001b[0;34m\u001b[0m\u001b[0;34m\u001b[0m\u001b[0m\n\u001b[0m",
            "\u001b[0;32m/usr/local/lib/python3.8/dist-packages/tensorflow/python/framework/ops.py\u001b[0m in \u001b[0;36m__getattr__\u001b[0;34m(self, name)\u001b[0m\n\u001b[1;32m    442\u001b[0m         \u001b[0mnp_config\u001b[0m\u001b[0;34m.\u001b[0m\u001b[0menable_numpy_behavior\u001b[0m\u001b[0;34m(\u001b[0m\u001b[0;34m)\u001b[0m\u001b[0;34m\u001b[0m\u001b[0;34m\u001b[0m\u001b[0m\n\u001b[1;32m    443\u001b[0m       \"\"\")\n\u001b[0;32m--> 444\u001b[0;31m     \u001b[0mself\u001b[0m\u001b[0;34m.\u001b[0m\u001b[0m__getattribute__\u001b[0m\u001b[0;34m(\u001b[0m\u001b[0mname\u001b[0m\u001b[0;34m)\u001b[0m\u001b[0;34m\u001b[0m\u001b[0;34m\u001b[0m\u001b[0m\n\u001b[0m\u001b[1;32m    445\u001b[0m \u001b[0;34m\u001b[0m\u001b[0m\n\u001b[1;32m    446\u001b[0m   \u001b[0;34m@\u001b[0m\u001b[0mstaticmethod\u001b[0m\u001b[0;34m\u001b[0m\u001b[0;34m\u001b[0m\u001b[0m\n",
            "\u001b[0;31mAttributeError\u001b[0m: 'tensorflow.python.framework.ops.EagerTensor' object has no attribute 'assign'"
          ]
        }
      ]
    },
    {
      "cell_type": "code",
      "source": [
        "unchangable_tensor[0]=-35"
      ],
      "metadata": {
        "colab": {
          "base_uri": "https://localhost:8080/",
          "height": 173
        },
        "id": "AglKcOXLgIsg",
        "outputId": "741bb3e1-6eaa-49ca-add0-59318d538725"
      },
      "execution_count": 18,
      "outputs": [
        {
          "output_type": "error",
          "ename": "TypeError",
          "evalue": "ignored",
          "traceback": [
            "\u001b[0;31m---------------------------------------------------------------------------\u001b[0m",
            "\u001b[0;31mTypeError\u001b[0m                                 Traceback (most recent call last)",
            "\u001b[0;32m<ipython-input-18-4ac3b8af0a17>\u001b[0m in \u001b[0;36m<module>\u001b[0;34m\u001b[0m\n\u001b[0;32m----> 1\u001b[0;31m \u001b[0munchangable_tensor\u001b[0m\u001b[0;34m[\u001b[0m\u001b[0;36m0\u001b[0m\u001b[0;34m]\u001b[0m\u001b[0;34m=\u001b[0m\u001b[0;34m-\u001b[0m\u001b[0;36m35\u001b[0m\u001b[0;34m\u001b[0m\u001b[0;34m\u001b[0m\u001b[0m\n\u001b[0m",
            "\u001b[0;31mTypeError\u001b[0m: 'tensorflow.python.framework.ops.EagerTensor' object does not support item assignment"
          ]
        }
      ]
    },
    {
      "cell_type": "markdown",
      "source": [
        " ## always create `tf.conatant` if you really need it "
      ],
      "metadata": {
        "id": "byNeWp17m2ux"
      }
    },
    {
      "cell_type": "markdown",
      "source": [
        "## create random tensor: use case for initializing model weight:  here we create pseud random using seed, they appear as random but really aren't because of seed they become same"
      ],
      "metadata": {
        "id": "fkaPnkFun2Ek"
      }
    },
    {
      "cell_type": "code",
      "source": [
        "tf.random.Generator.from_seed(101).uniform((2,5))"
      ],
      "metadata": {
        "colab": {
          "base_uri": "https://localhost:8080/"
        },
        "id": "NMJMpNg4gI_i",
        "outputId": "6397aadb-d620-4644-d205-f5dc3794be4e"
      },
      "execution_count": 19,
      "outputs": [
        {
          "output_type": "execute_result",
          "data": {
            "text/plain": [
              "<tf.Tensor: shape=(2, 5), dtype=float32, numpy=\n",
              "array([[0.22709787, 0.49256873, 0.7682668 , 0.8009803 , 0.7784879 ],\n",
              "       [0.7249299 , 0.89754343, 0.7963594 , 0.6212156 , 0.02030826]],\n",
              "      dtype=float32)>"
            ]
          },
          "metadata": {},
          "execution_count": 19
        }
      ]
    },
    {
      "cell_type": "code",
      "source": [
        "# create two same tandom tensor using seed\n",
        "random_1=tf.random.Generator.from_seed(42)\n",
        "random_1=random_1.normal((2,2,2))\n",
        "random_2=tf.random.Generator.from_seed(42)\n",
        "random_2=random_2.normal((2,2,2))\n",
        "random_1, random_2, random_1==random_2"
      ],
      "metadata": {
        "colab": {
          "base_uri": "https://localhost:8080/"
        },
        "id": "XNHHktvInskE",
        "outputId": "3194b3d4-fb93-4d85-d47c-24a3b8b288fe"
      },
      "execution_count": 20,
      "outputs": [
        {
          "output_type": "execute_result",
          "data": {
            "text/plain": [
              "(<tf.Tensor: shape=(2, 2, 2), dtype=float32, numpy=\n",
              " array([[[-0.7565803 , -0.06854702],\n",
              "         [ 0.07595026, -1.2573844 ]],\n",
              " \n",
              "        [[-0.23193763, -1.8107855 ],\n",
              "         [ 0.09988727, -0.50998646]]], dtype=float32)>,\n",
              " <tf.Tensor: shape=(2, 2, 2), dtype=float32, numpy=\n",
              " array([[[-0.7565803 , -0.06854702],\n",
              "         [ 0.07595026, -1.2573844 ]],\n",
              " \n",
              "        [[-0.23193763, -1.8107855 ],\n",
              "         [ 0.09988727, -0.50998646]]], dtype=float32)>,\n",
              " <tf.Tensor: shape=(2, 2, 2), dtype=bool, numpy=\n",
              " array([[[ True,  True],\n",
              "         [ True,  True]],\n",
              " \n",
              "        [[ True,  True],\n",
              "         [ True,  True]]])>)"
            ]
          },
          "metadata": {},
          "execution_count": 20
        }
      ]
    },
    {
      "cell_type": "code",
      "source": [
        "tf.random.normal((2,3))"
      ],
      "metadata": {
        "colab": {
          "base_uri": "https://localhost:8080/"
        },
        "id": "RTdEYs3FqWul",
        "outputId": "2138ecbc-b673-48ed-bfca-7dd737fbe16f"
      },
      "execution_count": 21,
      "outputs": [
        {
          "output_type": "execute_result",
          "data": {
            "text/plain": [
              "<tf.Tensor: shape=(2, 3), dtype=float32, numpy=\n",
              "array([[-0.51929754,  1.0671289 ,  0.43264177],\n",
              "       [ 0.72132534,  0.75572145, -0.44528016]], dtype=float32)>"
            ]
          },
          "metadata": {},
          "execution_count": 21
        }
      ]
    },
    {
      "cell_type": "code",
      "source": [],
      "metadata": {
        "id": "u4nV0l4frCbu"
      },
      "execution_count": 21,
      "outputs": []
    },
    {
      "cell_type": "markdown",
      "source": [
        "## suffle tenser: valuable when you want to suffle data so that inherient order doesnot effect learning"
      ],
      "metadata": {
        "id": "W5d81LgQ0bWs"
      }
    },
    {
      "cell_type": "code",
      "source": [
        "tf.random.set_seed(123)\n",
        "not_suffled=tf.constant([[1,2,3],\n",
        "                         [4,5,6],\n",
        "                         [3,6,7]])\n",
        "tf.random.shuffle(not_suffled, seed=123)\n",
        "# suffles along first dimension making column intact"
      ],
      "metadata": {
        "colab": {
          "base_uri": "https://localhost:8080/"
        },
        "id": "EUTuBXy8yjCq",
        "outputId": "9aa00a72-c381-48e3-c69e-523f46991bb3"
      },
      "execution_count": 22,
      "outputs": [
        {
          "output_type": "execute_result",
          "data": {
            "text/plain": [
              "<tf.Tensor: shape=(3, 3), dtype=int32, numpy=\n",
              "array([[3, 6, 7],\n",
              "       [4, 5, 6],\n",
              "       [1, 2, 3]], dtype=int32)>"
            ]
          },
          "metadata": {},
          "execution_count": 22
        }
      ]
    },
    {
      "cell_type": "code",
      "source": [
        "not_suffled_random=tf.random.normal((3,2,2))"
      ],
      "metadata": {
        "id": "9xQ5zByK00fo"
      },
      "execution_count": 23,
      "outputs": []
    },
    {
      "cell_type": "code",
      "source": [
        "not_suffled_random"
      ],
      "metadata": {
        "colab": {
          "base_uri": "https://localhost:8080/"
        },
        "id": "3NOW2iQp3Lq3",
        "outputId": "588fefc7-84e3-4434-e10a-2ab8ea5e3e9e"
      },
      "execution_count": 24,
      "outputs": [
        {
          "output_type": "execute_result",
          "data": {
            "text/plain": [
              "<tf.Tensor: shape=(3, 2, 2), dtype=float32, numpy=\n",
              "array([[[-0.8980837 , -1.8259144 ],\n",
              "        [-0.44441807, -1.4882947 ]],\n",
              "\n",
              "       [[-0.7855463 ,  0.19619656],\n",
              "        [ 0.17604655, -1.5252506 ]],\n",
              "\n",
              "       [[ 0.635294  ,  0.66812044],\n",
              "        [ 1.4230527 ,  0.04561644]]], dtype=float32)>"
            ]
          },
          "metadata": {},
          "execution_count": 24
        }
      ]
    },
    {
      "cell_type": "code",
      "source": [
        "tf.random.shuffle(not_suffled_random, seed=123)"
      ],
      "metadata": {
        "colab": {
          "base_uri": "https://localhost:8080/"
        },
        "id": "HP-0w1Qr3NkS",
        "outputId": "bc9fddca-314a-4543-ac4a-9a16e5cc5ee4"
      },
      "execution_count": 25,
      "outputs": [
        {
          "output_type": "execute_result",
          "data": {
            "text/plain": [
              "<tf.Tensor: shape=(3, 2, 2), dtype=float32, numpy=\n",
              "array([[[ 0.635294  ,  0.66812044],\n",
              "        [ 1.4230527 ,  0.04561644]],\n",
              "\n",
              "       [[-0.7855463 ,  0.19619656],\n",
              "        [ 0.17604655, -1.5252506 ]],\n",
              "\n",
              "       [[-0.8980837 , -1.8259144 ],\n",
              "        [-0.44441807, -1.4882947 ]]], dtype=float32)>"
            ]
          },
          "metadata": {},
          "execution_count": 25
        }
      ]
    },
    {
      "cell_type": "markdown",
      "source": [
        "> If both the global and the operation seed are set: Both seeds are used in conjunction to determine the random sequence. we need to set both seed to have suffle same order(different than original tensor) no matter how many time you run it."
      ],
      "metadata": {
        "id": "I78TXpci8lpR"
      }
    },
    {
      "cell_type": "code",
      "source": [
        "tf.random.set_seed(123)# globel level random seed\n",
        "not_suffled=tf.constant([[1,2,3],\n",
        "                         [4,5,6],\n",
        "                         [3,6,7]])\n",
        "tf.random.shuffle(not_suffled, seed=125)# operation level random seed"
      ],
      "metadata": {
        "colab": {
          "base_uri": "https://localhost:8080/"
        },
        "id": "Zf6xB_xs3R6i",
        "outputId": "183503a6-001f-4afc-a55f-10bb639bdfd3"
      },
      "execution_count": 26,
      "outputs": [
        {
          "output_type": "execute_result",
          "data": {
            "text/plain": [
              "<tf.Tensor: shape=(3, 3), dtype=int32, numpy=\n",
              "array([[4, 5, 6],\n",
              "       [1, 2, 3],\n",
              "       [3, 6, 7]], dtype=int32)>"
            ]
          },
          "metadata": {},
          "execution_count": 26
        }
      ]
    },
    {
      "cell_type": "markdown",
      "source": [
        ">> to make reproducible experiement, you want to suffle data in similar order, and have similar pattern(weight) for each new experiment. \n",
        ">because neural network initialize different weight in each experiment, to reproduce same result, initialize with seed."
      ],
      "metadata": {
        "id": "GTdOD77t9VAr"
      }
    },
    {
      "cell_type": "markdown",
      "source": [
        "# 14"
      ],
      "metadata": {
        "id": "DF5i66LI_yDf"
      }
    },
    {
      "cell_type": "code",
      "source": [
        "#  create tensor of all ones\n",
        "tf.ones(shape=[2,3])"
      ],
      "metadata": {
        "id": "bFGckSjY58yk",
        "colab": {
          "base_uri": "https://localhost:8080/"
        },
        "outputId": "170dd4ec-f6f6-47d8-adb1-b734fa365c04"
      },
      "execution_count": 30,
      "outputs": [
        {
          "output_type": "execute_result",
          "data": {
            "text/plain": [
              "<tf.Tensor: shape=(2, 3), dtype=float32, numpy=\n",
              "array([[1., 1., 1.],\n",
              "       [1., 1., 1.]], dtype=float32)>"
            ]
          },
          "metadata": {},
          "execution_count": 30
        }
      ]
    },
    {
      "cell_type": "code",
      "source": [
        "# create tensor of all zeros\n",
        "tf.zeros(shape=(2,3))"
      ],
      "metadata": {
        "id": "k8f13yim59gk",
        "colab": {
          "base_uri": "https://localhost:8080/"
        },
        "outputId": "8a6bdfef-e36e-4a53-c924-adb266369134"
      },
      "execution_count": 31,
      "outputs": [
        {
          "output_type": "execute_result",
          "data": {
            "text/plain": [
              "<tf.Tensor: shape=(2, 3), dtype=float32, numpy=\n",
              "array([[0., 0., 0.],\n",
              "       [0., 0., 0.]], dtype=float32)>"
            ]
          },
          "metadata": {},
          "execution_count": 31
        }
      ]
    },
    {
      "cell_type": "markdown",
      "source": [
        "### turn numpy array into tensor\n",
        "tensor runs on GPU(much faster for numerical computing than numpy) else both are same"
      ],
      "metadata": {
        "id": "6aGAuShUGhPb"
      }
    },
    {
      "cell_type": "code",
      "source": [
        "import numpy as np\n",
        "numpy_A=np.arange(1,6, dtype=np.int32)\n",
        "tensorflow_tensor=tf.Variable(numpy_A, dtype=tf.float16)\n",
        "tensorflow_tensor, numpy_A\n",
        "#  X=tf.constant(some_matrix) # capital X for matrix or tensor\n",
        "#  y=tf.constant(vector) # non-capital y for vector"
      ],
      "metadata": {
        "colab": {
          "base_uri": "https://localhost:8080/"
        },
        "id": "TH1QtSieGNd7",
        "outputId": "126301db-e938-401c-8397-ac72ab07327d"
      },
      "execution_count": 38,
      "outputs": [
        {
          "output_type": "execute_result",
          "data": {
            "text/plain": [
              "(<tf.Variable 'Variable:0' shape=(5,) dtype=float16, numpy=array([1., 2., 3., 4., 5.], dtype=float16)>,\n",
              " array([1, 2, 3, 4, 5], dtype=int32))"
            ]
          },
          "metadata": {},
          "execution_count": 38
        }
      ]
    },
    {
      "cell_type": "code",
      "source": [
        "import numpy as np\n",
        "numpy_A=np.arange(1,25, dtype=np.int32)\n",
        "tf.constant(numpy_A, shape=(2,3,4)), tf.Variable(numpy_A) \n",
        "# shape=(24,) is vector"
      ],
      "metadata": {
        "colab": {
          "base_uri": "https://localhost:8080/"
        },
        "id": "ZWO5M64HMW_7",
        "outputId": "e8b540d9-8a86-4f21-c7dd-4fe93d26d8c6"
      },
      "execution_count": 44,
      "outputs": [
        {
          "output_type": "execute_result",
          "data": {
            "text/plain": [
              "(<tf.Tensor: shape=(2, 3, 4), dtype=int32, numpy=\n",
              " array([[[ 1,  2,  3,  4],\n",
              "         [ 5,  6,  7,  8],\n",
              "         [ 9, 10, 11, 12]],\n",
              " \n",
              "        [[13, 14, 15, 16],\n",
              "         [17, 18, 19, 20],\n",
              "         [21, 22, 23, 24]]], dtype=int32)>,\n",
              " <tf.Variable 'Variable:0' shape=(24,) dtype=int32, numpy=\n",
              " array([ 1,  2,  3,  4,  5,  6,  7,  8,  9, 10, 11, 12, 13, 14, 15, 16, 17,\n",
              "        18, 19, 20, 21, 22, 23, 24], dtype=int32)>)"
            ]
          },
          "metadata": {},
          "execution_count": 44
        }
      ]
    },
    {
      "cell_type": "code",
      "source": [
        "tf.constant(numpy_A, shape=(2,3,4)).ndim"
      ],
      "metadata": {
        "colab": {
          "base_uri": "https://localhost:8080/"
        },
        "id": "JFMK7pN_Nx4C",
        "outputId": "445ae5bf-f8ff-4642-ab3f-0612b2621c5f"
      },
      "execution_count": 45,
      "outputs": [
        {
          "output_type": "execute_result",
          "data": {
            "text/plain": [
              "3"
            ]
          },
          "metadata": {},
          "execution_count": 45
        }
      ]
    },
    {
      "cell_type": "code",
      "source": [
        "tf.constant(numpy_A, shape=(2,12))"
      ],
      "metadata": {
        "colab": {
          "base_uri": "https://localhost:8080/"
        },
        "id": "7sSQKkG1PHIT",
        "outputId": "78e638f1-5eaf-461a-a550-2b2a6df84444"
      },
      "execution_count": 46,
      "outputs": [
        {
          "output_type": "execute_result",
          "data": {
            "text/plain": [
              "<tf.Tensor: shape=(2, 12), dtype=int32, numpy=\n",
              "array([[ 1,  2,  3,  4,  5,  6,  7,  8,  9, 10, 11, 12],\n",
              "       [13, 14, 15, 16, 17, 18, 19, 20, 21, 22, 23, 24]], dtype=int32)>"
            ]
          },
          "metadata": {},
          "execution_count": 46
        }
      ]
    },
    {
      "cell_type": "markdown",
      "source": [
        "## getting information from your tensor(tensor attributes)\n",
        "* shape\n",
        "* rank \n",
        "* axis or dimension\n",
        "* size\n"
      ],
      "metadata": {
        "id": "kkjDTpgQPQej"
      }
    },
    {
      "cell_type": "code",
      "source": [
        "# create rank 4 tensor(with 4 dimensions)\n",
        "rank_4_tensor=tf.random.uniform([2,3,3,3])\n",
        "rank_4_tensor"
      ],
      "metadata": {
        "colab": {
          "base_uri": "https://localhost:8080/"
        },
        "id": "e_TBucqJPK4-",
        "outputId": "179fc88f-5078-4c46-ccac-d1f4f633ae29"
      },
      "execution_count": 58,
      "outputs": [
        {
          "output_type": "execute_result",
          "data": {
            "text/plain": [
              "<tf.Tensor: shape=(2, 3, 3, 3), dtype=float32, numpy=\n",
              "array([[[[0.48962688, 0.5857923 , 0.36451697],\n",
              "         [0.6550509 , 0.9075084 , 0.37557673],\n",
              "         [0.6882372 , 0.25384045, 0.49978244]],\n",
              "\n",
              "        [[0.5126076 , 0.7279091 , 0.58709204],\n",
              "         [0.9021536 , 0.5414995 , 0.19642162],\n",
              "         [0.48716152, 0.53051543, 0.18828416]],\n",
              "\n",
              "        [[0.08821416, 0.9517412 , 0.8610064 ],\n",
              "         [0.30999136, 0.29496896, 0.9713614 ],\n",
              "         [0.11506426, 0.6156452 , 0.07070684]]],\n",
              "\n",
              "\n",
              "       [[[0.5894662 , 0.67997193, 0.3566662 ],\n",
              "         [0.06775165, 0.39543378, 0.15745914],\n",
              "         [0.02828848, 0.0177182 , 0.82267654]],\n",
              "\n",
              "        [[0.6525562 , 0.40753174, 0.2967404 ],\n",
              "         [0.7396951 , 0.2978605 , 0.6257639 ],\n",
              "         [0.2010107 , 0.7105304 , 0.7134371 ]],\n",
              "\n",
              "        [[0.69556856, 0.69403684, 0.4508797 ],\n",
              "         [0.67701876, 0.23518848, 0.00815082],\n",
              "         [0.9044007 , 0.12619221, 0.75219417]]]], dtype=float32)>"
            ]
          },
          "metadata": {},
          "execution_count": 58
        }
      ]
    },
    {
      "cell_type": "code",
      "source": [
        "rank_4_tensor[:,1:,0,0]"
      ],
      "metadata": {
        "colab": {
          "base_uri": "https://localhost:8080/"
        },
        "id": "ArfBpIV9T2mp",
        "outputId": "96b128b5-163f-4750-9b87-a946c1cf8136"
      },
      "execution_count": 85,
      "outputs": [
        {
          "output_type": "execute_result",
          "data": {
            "text/plain": [
              "<tf.Tensor: shape=(2, 2), dtype=float32, numpy=\n",
              "array([[0.5126076 , 0.08821416],\n",
              "       [0.6525562 , 0.69556856]], dtype=float32)>"
            ]
          },
          "metadata": {},
          "execution_count": 85
        }
      ]
    },
    {
      "cell_type": "code",
      "source": [
        "# get various attribute of our tensor\n",
        "print(\"datatype of our tensor\", rank_4_tensor.dtype)\n",
        "print(\"rank/number of dimension of our tensor\", rank_4_tensor.ndim)\n",
        "print(\"rank/number of dimension of our tensor\", tf.rank(rank_4_tensor).numpy())\n",
        "print(\"elements of first/0 axis/dimension of our tensor\", rank_4_tensor.shape[0])\n",
        "print(\"elements of last axis/dimension of our tensor\", rank_4_tensor.shape[-1])\n",
        "print(\"total number of elements in our tensor\", tf.size(rank_4_tensor))\n",
        "print(\"total number of elements in our tensor\", tf.size(rank_4_tensor).numpy())\n"
      ],
      "metadata": {
        "colab": {
          "base_uri": "https://localhost:8080/"
        },
        "id": "Jwn3z-x8T969",
        "outputId": "fe80d226-ce8e-4061-8ed8-0492ce754479"
      },
      "execution_count": 79,
      "outputs": [
        {
          "output_type": "stream",
          "name": "stdout",
          "text": [
            "datatype of our tensor <dtype: 'float32'>\n",
            "rank/number of dimension of our tensor 4\n",
            "rank/number of dimension of our tensor 4\n",
            "elements of first/0 axis/dimension of our tensor 2\n",
            "elements of last axis/dimension of our tensor 3\n",
            "total number of elements in our tensor tf.Tensor(54, shape=(), dtype=int32)\n",
            "total number of elements in our tensor 54\n"
          ]
        }
      ]
    },
    {
      "cell_type": "code",
      "source": [
        "rank_4_tensor.numpy()"
      ],
      "metadata": {
        "colab": {
          "base_uri": "https://localhost:8080/"
        },
        "id": "tLilCkEYWkTc",
        "outputId": "cd32b4be-03d6-425c-b155-af51b79228be"
      },
      "execution_count": 71,
      "outputs": [
        {
          "output_type": "execute_result",
          "data": {
            "text/plain": [
              "array([[[[0.48962688, 0.5857923 , 0.36451697],\n",
              "         [0.6550509 , 0.9075084 , 0.37557673],\n",
              "         [0.6882372 , 0.25384045, 0.49978244]],\n",
              "\n",
              "        [[0.5126076 , 0.7279091 , 0.58709204],\n",
              "         [0.9021536 , 0.5414995 , 0.19642162],\n",
              "         [0.48716152, 0.53051543, 0.18828416]],\n",
              "\n",
              "        [[0.08821416, 0.9517412 , 0.8610064 ],\n",
              "         [0.30999136, 0.29496896, 0.9713614 ],\n",
              "         [0.11506426, 0.6156452 , 0.07070684]]],\n",
              "\n",
              "\n",
              "       [[[0.5894662 , 0.67997193, 0.3566662 ],\n",
              "         [0.06775165, 0.39543378, 0.15745914],\n",
              "         [0.02828848, 0.0177182 , 0.82267654]],\n",
              "\n",
              "        [[0.6525562 , 0.40753174, 0.2967404 ],\n",
              "         [0.7396951 , 0.2978605 , 0.6257639 ],\n",
              "         [0.2010107 , 0.7105304 , 0.7134371 ]],\n",
              "\n",
              "        [[0.69556856, 0.69403684, 0.4508797 ],\n",
              "         [0.67701876, 0.23518848, 0.00815082],\n",
              "         [0.9044007 , 0.12619221, 0.75219417]]]], dtype=float32)"
            ]
          },
          "metadata": {},
          "execution_count": 71
        }
      ]
    },
    {
      "cell_type": "code",
      "source": [
        "rank_4_tensor"
      ],
      "metadata": {
        "colab": {
          "base_uri": "https://localhost:8080/"
        },
        "id": "ytfE308kXxXN",
        "outputId": "4939c0d2-f717-445d-96f6-04d4c0e5ea7c"
      },
      "execution_count": 72,
      "outputs": [
        {
          "output_type": "execute_result",
          "data": {
            "text/plain": [
              "<tf.Tensor: shape=(2, 3, 3, 3), dtype=float32, numpy=\n",
              "array([[[[0.48962688, 0.5857923 , 0.36451697],\n",
              "         [0.6550509 , 0.9075084 , 0.37557673],\n",
              "         [0.6882372 , 0.25384045, 0.49978244]],\n",
              "\n",
              "        [[0.5126076 , 0.7279091 , 0.58709204],\n",
              "         [0.9021536 , 0.5414995 , 0.19642162],\n",
              "         [0.48716152, 0.53051543, 0.18828416]],\n",
              "\n",
              "        [[0.08821416, 0.9517412 , 0.8610064 ],\n",
              "         [0.30999136, 0.29496896, 0.9713614 ],\n",
              "         [0.11506426, 0.6156452 , 0.07070684]]],\n",
              "\n",
              "\n",
              "       [[[0.5894662 , 0.67997193, 0.3566662 ],\n",
              "         [0.06775165, 0.39543378, 0.15745914],\n",
              "         [0.02828848, 0.0177182 , 0.82267654]],\n",
              "\n",
              "        [[0.6525562 , 0.40753174, 0.2967404 ],\n",
              "         [0.7396951 , 0.2978605 , 0.6257639 ],\n",
              "         [0.2010107 , 0.7105304 , 0.7134371 ]],\n",
              "\n",
              "        [[0.69556856, 0.69403684, 0.4508797 ],\n",
              "         [0.67701876, 0.23518848, 0.00815082],\n",
              "         [0.9044007 , 0.12619221, 0.75219417]]]], dtype=float32)>"
            ]
          },
          "metadata": {},
          "execution_count": 72
        }
      ]
    },
    {
      "cell_type": "markdown",
      "source": [
        "# indexing tensors(like py list)"
      ],
      "metadata": {
        "id": "JuCK-oHgbcax"
      }
    },
    {
      "cell_type": "code",
      "source": [
        "# get first two element of each dimension of tensor\n",
        "rank_4_tensor[:2,:2,:2,:2]"
      ],
      "metadata": {
        "colab": {
          "base_uri": "https://localhost:8080/"
        },
        "id": "m_JvKYrqXzqY",
        "outputId": "b3699860-f9d7-4d95-f88b-8acd6076218a"
      },
      "execution_count": 88,
      "outputs": [
        {
          "output_type": "execute_result",
          "data": {
            "text/plain": [
              "<tf.Tensor: shape=(2, 2, 2, 2), dtype=float32, numpy=\n",
              "array([[[[0.48962688, 0.5857923 ],\n",
              "         [0.6550509 , 0.9075084 ]],\n",
              "\n",
              "        [[0.5126076 , 0.7279091 ],\n",
              "         [0.9021536 , 0.5414995 ]]],\n",
              "\n",
              "\n",
              "       [[[0.5894662 , 0.67997193],\n",
              "         [0.06775165, 0.39543378]],\n",
              "\n",
              "        [[0.6525562 , 0.40753174],\n",
              "         [0.7396951 , 0.2978605 ]]]], dtype=float32)>"
            ]
          },
          "metadata": {},
          "execution_count": 88
        }
      ]
    },
    {
      "cell_type": "code",
      "source": [
        "rank_4_tensor"
      ],
      "metadata": {
        "colab": {
          "base_uri": "https://localhost:8080/"
        },
        "id": "nsJ4ZNvKYgbi",
        "outputId": "5991a131-5dfc-4516-8cbc-4dfa063fe9b8"
      },
      "execution_count": 89,
      "outputs": [
        {
          "output_type": "execute_result",
          "data": {
            "text/plain": [
              "<tf.Tensor: shape=(2, 3, 3, 3), dtype=float32, numpy=\n",
              "array([[[[0.48962688, 0.5857923 , 0.36451697],\n",
              "         [0.6550509 , 0.9075084 , 0.37557673],\n",
              "         [0.6882372 , 0.25384045, 0.49978244]],\n",
              "\n",
              "        [[0.5126076 , 0.7279091 , 0.58709204],\n",
              "         [0.9021536 , 0.5414995 , 0.19642162],\n",
              "         [0.48716152, 0.53051543, 0.18828416]],\n",
              "\n",
              "        [[0.08821416, 0.9517412 , 0.8610064 ],\n",
              "         [0.30999136, 0.29496896, 0.9713614 ],\n",
              "         [0.11506426, 0.6156452 , 0.07070684]]],\n",
              "\n",
              "\n",
              "       [[[0.5894662 , 0.67997193, 0.3566662 ],\n",
              "         [0.06775165, 0.39543378, 0.15745914],\n",
              "         [0.02828848, 0.0177182 , 0.82267654]],\n",
              "\n",
              "        [[0.6525562 , 0.40753174, 0.2967404 ],\n",
              "         [0.7396951 , 0.2978605 , 0.6257639 ],\n",
              "         [0.2010107 , 0.7105304 , 0.7134371 ]],\n",
              "\n",
              "        [[0.69556856, 0.69403684, 0.4508797 ],\n",
              "         [0.67701876, 0.23518848, 0.00815082],\n",
              "         [0.9044007 , 0.12619221, 0.75219417]]]], dtype=float32)>"
            ]
          },
          "metadata": {},
          "execution_count": 89
        }
      ]
    },
    {
      "cell_type": "code",
      "source": [
        "# get the first element from each dimension from each index except for the final one\n",
        "rank_4_tensor[0,0,0],rank_4_tensor[:1,:1,:1], rank_4_tensor[0,:1,0],rank_4_tensor[:1,:1,:1,:]"
      ],
      "metadata": {
        "colab": {
          "base_uri": "https://localhost:8080/"
        },
        "id": "D0dzX0mzcHED",
        "outputId": "c3f68a6f-f766-4e9b-a1ad-0e8beb31bbf1"
      },
      "execution_count": 98,
      "outputs": [
        {
          "output_type": "execute_result",
          "data": {
            "text/plain": [
              "(<tf.Tensor: shape=(3,), dtype=float32, numpy=array([0.48962688, 0.5857923 , 0.36451697], dtype=float32)>,\n",
              " <tf.Tensor: shape=(1, 1, 1, 3), dtype=float32, numpy=array([[[[0.48962688, 0.5857923 , 0.36451697]]]], dtype=float32)>,\n",
              " <tf.Tensor: shape=(1, 3), dtype=float32, numpy=array([[0.48962688, 0.5857923 , 0.36451697]], dtype=float32)>,\n",
              " <tf.Tensor: shape=(1, 1, 1, 3), dtype=float32, numpy=array([[[[0.48962688, 0.5857923 , 0.36451697]]]], dtype=float32)>)"
            ]
          },
          "metadata": {},
          "execution_count": 98
        }
      ]
    },
    {
      "cell_type": "code",
      "source": [
        "rank_4_tensor[:1,:1,:,:1]"
      ],
      "metadata": {
        "colab": {
          "base_uri": "https://localhost:8080/"
        },
        "id": "ZMWpB59tdP-T",
        "outputId": "8e48da61-70d1-480f-9f8e-67b4c3c62e60"
      },
      "execution_count": 99,
      "outputs": [
        {
          "output_type": "execute_result",
          "data": {
            "text/plain": [
              "<tf.Tensor: shape=(1, 1, 3, 1), dtype=float32, numpy=\n",
              "array([[[[0.48962688],\n",
              "         [0.6550509 ],\n",
              "         [0.6882372 ]]]], dtype=float32)>"
            ]
          },
          "metadata": {},
          "execution_count": 99
        }
      ]
    },
    {
      "cell_type": "code",
      "source": [
        "# Create rank 2 tensor(2 dimension)\n",
        "rank_2_tensor=tf.constant([[2,3],\n",
        "                           [4,5]])"
      ],
      "metadata": {
        "id": "KlxtS8ddeijb"
      },
      "execution_count": 104,
      "outputs": []
    },
    {
      "cell_type": "code",
      "source": [
        "rank_2_tensor"
      ],
      "metadata": {
        "colab": {
          "base_uri": "https://localhost:8080/"
        },
        "id": "VLzccqHxfAmG",
        "outputId": "4e58f805-0ab5-4a8c-fa95-101120ae9c77"
      },
      "execution_count": 105,
      "outputs": [
        {
          "output_type": "execute_result",
          "data": {
            "text/plain": [
              "<tf.Tensor: shape=(2, 2), dtype=int32, numpy=\n",
              "array([[2, 3],\n",
              "       [4, 5]], dtype=int32)>"
            ]
          },
          "metadata": {},
          "execution_count": 105
        }
      ]
    },
    {
      "cell_type": "code",
      "source": [
        "tf.reshape(rank_2_tensor, (4,1,1))"
      ],
      "metadata": {
        "colab": {
          "base_uri": "https://localhost:8080/"
        },
        "id": "m5LxRDhBfCwm",
        "outputId": "eca25bf1-1fef-4dd9-fa61-e4779423a6e8"
      },
      "execution_count": 106,
      "outputs": [
        {
          "output_type": "execute_result",
          "data": {
            "text/plain": [
              "<tf.Tensor: shape=(4, 1, 1), dtype=int32, numpy=\n",
              "array([[[2]],\n",
              "\n",
              "       [[3]],\n",
              "\n",
              "       [[4]],\n",
              "\n",
              "       [[5]]], dtype=int32)>"
            ]
          },
          "metadata": {},
          "execution_count": 106
        }
      ]
    },
    {
      "cell_type": "code",
      "source": [
        "tf.reshape(rank_2_tensor, (4,1,1))"
      ],
      "metadata": {
        "colab": {
          "base_uri": "https://localhost:8080/"
        },
        "id": "PMMt-_dgfTsI",
        "outputId": "6b8c62ef-60db-445c-eb4c-5e9b3ec78f10"
      },
      "execution_count": 107,
      "outputs": [
        {
          "output_type": "execute_result",
          "data": {
            "text/plain": [
              "<tf.Tensor: shape=(4, 1, 1), dtype=int32, numpy=\n",
              "array([[[2]],\n",
              "\n",
              "       [[3]],\n",
              "\n",
              "       [[4]],\n",
              "\n",
              "       [[5]]], dtype=int32)>"
            ]
          },
          "metadata": {},
          "execution_count": 107
        }
      ]
    },
    {
      "cell_type": "code",
      "source": [
        "# get last element of each dimension of rank 2 tensor\n",
        "rank_2_tensor[-1,-1].numpy()"
      ],
      "metadata": {
        "colab": {
          "base_uri": "https://localhost:8080/"
        },
        "id": "blciLidlfhUP",
        "outputId": "bbec57c6-aba6-410b-fd30-03b995d08dce"
      },
      "execution_count": 113,
      "outputs": [
        {
          "output_type": "execute_result",
          "data": {
            "text/plain": [
              "5"
            ]
          },
          "metadata": {},
          "execution_count": 113
        }
      ]
    },
    {
      "cell_type": "code",
      "source": [
        "rank_2_tensor"
      ],
      "metadata": {
        "colab": {
          "base_uri": "https://localhost:8080/"
        },
        "id": "GLjsBBWCfyu7",
        "outputId": "869058f1-5b33-4373-8818-e979b189e78d"
      },
      "execution_count": 111,
      "outputs": [
        {
          "output_type": "execute_result",
          "data": {
            "text/plain": [
              "<tf.Tensor: shape=(2, 2), dtype=int32, numpy=\n",
              "array([[2, 3],\n",
              "       [4, 5]], dtype=int32)>"
            ]
          },
          "metadata": {},
          "execution_count": 111
        }
      ]
    },
    {
      "cell_type": "code",
      "source": [
        "rank_2_tensor[:-1,:-1].numpy()"
      ],
      "metadata": {
        "colab": {
          "base_uri": "https://localhost:8080/"
        },
        "id": "JE4gvrPSgBL-",
        "outputId": "6b3a0f40-80d9-4ffd-8352-6e5e744490da"
      },
      "execution_count": 112,
      "outputs": [
        {
          "output_type": "execute_result",
          "data": {
            "text/plain": [
              "array([[2]], dtype=int32)"
            ]
          },
          "metadata": {},
          "execution_count": 112
        }
      ]
    },
    {
      "cell_type": "code",
      "source": [
        "rank_2_tensor[-1:,-1:].numpy()"
      ],
      "metadata": {
        "colab": {
          "base_uri": "https://localhost:8080/"
        },
        "id": "NEGkAEvLgKun",
        "outputId": "d2c14df7-d213-4295-f0d3-860927ddfcd1"
      },
      "execution_count": 115,
      "outputs": [
        {
          "output_type": "execute_result",
          "data": {
            "text/plain": [
              "array([[5]], dtype=int32)"
            ]
          },
          "metadata": {},
          "execution_count": 115
        }
      ]
    },
    {
      "cell_type": "code",
      "source": [
        "# get the last item of each row of rank 2 tensor\n",
        "rank_2_tensor[:,-1:]"
      ],
      "metadata": {
        "colab": {
          "base_uri": "https://localhost:8080/"
        },
        "id": "p_CljPr6gYcE",
        "outputId": "ffc473d6-7cd8-4df8-b3b8-d5619bef8347"
      },
      "execution_count": 116,
      "outputs": [
        {
          "output_type": "execute_result",
          "data": {
            "text/plain": [
              "<tf.Tensor: shape=(2, 1), dtype=int32, numpy=\n",
              "array([[3],\n",
              "       [5]], dtype=int32)>"
            ]
          },
          "metadata": {},
          "execution_count": 116
        }
      ]
    },
    {
      "cell_type": "code",
      "source": [
        "# reshape tensor adding/removing extra dimension is helpful to alter size of our tensors in tensorflow so that shape line up\n",
        "tf.reshape(rank_2_tensor, (2,2,1))"
      ],
      "metadata": {
        "colab": {
          "base_uri": "https://localhost:8080/"
        },
        "id": "Gzq-XTWOhCxu",
        "outputId": "b2571c0e-0502-402e-dd16-4b88e468e1aa"
      },
      "execution_count": 119,
      "outputs": [
        {
          "output_type": "execute_result",
          "data": {
            "text/plain": [
              "<tf.Tensor: shape=(2, 2, 1), dtype=int32, numpy=\n",
              "array([[[2],\n",
              "        [3]],\n",
              "\n",
              "       [[4],\n",
              "        [5]]], dtype=int32)>"
            ]
          },
          "metadata": {},
          "execution_count": 119
        }
      ]
    },
    {
      "cell_type": "code",
      "source": [
        "# add in extra dimension to our rank to tensor(another way by danial). keep exact info stored in rank 2 tensor\n",
        "rank_3_tensor=rank_2_tensor[..., tf.newaxis]\n",
        "rank_3_tensor"
      ],
      "metadata": {
        "colab": {
          "base_uri": "https://localhost:8080/"
        },
        "id": "l3SaGNMihYhw",
        "outputId": "150e65da-c5bd-430b-8b1c-619cdedfe659"
      },
      "execution_count": 121,
      "outputs": [
        {
          "output_type": "execute_result",
          "data": {
            "text/plain": [
              "<tf.Tensor: shape=(2, 2, 1), dtype=int32, numpy=\n",
              "array([[[2],\n",
              "        [3]],\n",
              "\n",
              "       [[4],\n",
              "        [5]]], dtype=int32)>"
            ]
          },
          "metadata": {},
          "execution_count": 121
        }
      ]
    },
    {
      "cell_type": "code",
      "source": [
        "rank_2_tensor[...]==rank_2_tensor[:, :]"
      ],
      "metadata": {
        "colab": {
          "base_uri": "https://localhost:8080/"
        },
        "id": "sTUQ9XL3ijLr",
        "outputId": "e441a98d-1b4f-4d15-b2bb-2f054b8d8db3"
      },
      "execution_count": 126,
      "outputs": [
        {
          "output_type": "execute_result",
          "data": {
            "text/plain": [
              "<tf.Tensor: shape=(2, 2), dtype=bool, numpy=\n",
              "array([[ True,  True],\n",
              "       [ True,  True]])>"
            ]
          },
          "metadata": {},
          "execution_count": 126
        }
      ]
    },
    {
      "cell_type": "code",
      "source": [
        "# ... means get all previous axis "
      ],
      "metadata": {
        "id": "oXCJ44LkjCiJ"
      },
      "execution_count": 127,
      "outputs": []
    },
    {
      "cell_type": "code",
      "source": [
        "rank_4_tensor=rank_2_tensor[..., tf.newaxis, tf.newaxis ]\n",
        "rank_4_tensor"
      ],
      "metadata": {
        "colab": {
          "base_uri": "https://localhost:8080/"
        },
        "id": "7mEIrQTvjVDi",
        "outputId": "98b784ca-bda0-4054-ecfa-3e1a906ad0fa"
      },
      "execution_count": 128,
      "outputs": [
        {
          "output_type": "execute_result",
          "data": {
            "text/plain": [
              "<tf.Tensor: shape=(2, 2, 1, 1), dtype=int32, numpy=\n",
              "array([[[[2]],\n",
              "\n",
              "        [[3]]],\n",
              "\n",
              "\n",
              "       [[[4]],\n",
              "\n",
              "        [[5]]]], dtype=int32)>"
            ]
          },
          "metadata": {},
          "execution_count": 128
        }
      ]
    },
    {
      "cell_type": "code",
      "source": [
        "# or you can replace ... with number of :,  according to number of rank/dimension\n",
        "rank_3_tensor=rank_2_tensor[:, :, tf.newaxis]\n",
        "rank_3_tensor"
      ],
      "metadata": {
        "colab": {
          "base_uri": "https://localhost:8080/"
        },
        "id": "R0MMNM7hjY-J",
        "outputId": "6bffd074-8d00-4e93-a779-665ff516cd7f"
      },
      "execution_count": 130,
      "outputs": [
        {
          "output_type": "execute_result",
          "data": {
            "text/plain": [
              "<tf.Tensor: shape=(2, 2, 1), dtype=int32, numpy=\n",
              "array([[[2],\n",
              "        [3]],\n",
              "\n",
              "       [[4],\n",
              "        [5]]], dtype=int32)>"
            ]
          },
          "metadata": {},
          "execution_count": 130
        }
      ]
    },
    {
      "cell_type": "code",
      "source": [
        "# alternative to tf.newaxis is tf.expand_dims()\n",
        "tf.expand_dims(rank_2_tensor, axis=-1) #-1 means expand the final(last) axis/ put -2 or 0 or 1 or 2\n",
        "# reshape can be used for 2*3 tensor to 3*2 or 6*1 meaning still possessing same number of dimension as original but not with expand_dims and nweaxis"
      ],
      "metadata": {
        "colab": {
          "base_uri": "https://localhost:8080/"
        },
        "id": "usFV2M8ajkZI",
        "outputId": "7752a226-a31c-4598-d90b-51af841e4e91"
      },
      "execution_count": 167,
      "outputs": [
        {
          "output_type": "execute_result",
          "data": {
            "text/plain": [
              "<tf.Tensor: shape=(2, 2, 1), dtype=int32, numpy=\n",
              "array([[[2],\n",
              "        [3]],\n",
              "\n",
              "       [[4],\n",
              "        [5]]], dtype=int32)>"
            ]
          },
          "metadata": {},
          "execution_count": 167
        }
      ]
    },
    {
      "cell_type": "code",
      "source": [
        "# expand second axis/ means last axis here being 2D\n",
        "tf.expand_dims(rank_2_tensor, axis=2)"
      ],
      "metadata": {
        "colab": {
          "base_uri": "https://localhost:8080/"
        },
        "id": "16gN8g2-kQLq",
        "outputId": "2fae6f0d-b5bb-4627-9b8d-34c3ea4c9cb5"
      },
      "execution_count": 139,
      "outputs": [
        {
          "output_type": "execute_result",
          "data": {
            "text/plain": [
              "<tf.Tensor: shape=(2, 2, 1), dtype=int32, numpy=\n",
              "array([[[2],\n",
              "        [3]],\n",
              "\n",
              "       [[4],\n",
              "        [5]]], dtype=int32)>"
            ]
          },
          "metadata": {},
          "execution_count": 139
        }
      ]
    },
    {
      "cell_type": "markdown",
      "source": [
        "## manipulating tensors (tensor operation)\n",
        "**Basic operations**\n",
        "`+`,`-`,`*`, `/`"
      ],
      "metadata": {
        "id": "wJrtVVwIlbSv"
      }
    },
    {
      "cell_type": "code",
      "source": [
        "#  Add values to tensor using addition operator\n",
        "tensor=tf.constant([[1,2],\n",
        "                    [3,4]])"
      ],
      "metadata": {
        "id": "SwcyKDQYlQLa"
      },
      "execution_count": 141,
      "outputs": []
    },
    {
      "cell_type": "code",
      "source": [
        "tensor+10\n",
        "# original tensor is unchanged, to change assign with operation"
      ],
      "metadata": {
        "colab": {
          "base_uri": "https://localhost:8080/"
        },
        "id": "MvlaW-D6oy11",
        "outputId": "2c6923e0-13f9-45e7-fe23-bd37cdb03f15"
      },
      "execution_count": 143,
      "outputs": [
        {
          "output_type": "execute_result",
          "data": {
            "text/plain": [
              "<tf.Tensor: shape=(2, 2), dtype=int32, numpy=\n",
              "array([[11, 12],\n",
              "       [13, 14]], dtype=int32)>"
            ]
          },
          "metadata": {},
          "execution_count": 143
        }
      ]
    },
    {
      "cell_type": "code",
      "source": [
        "# in addition to python operators, you can use tensorflow function access tensorflow library which do same operation. \n",
        "# if you want your code to be sped up on GPU use tenserflow version of operator rather using +, -\n",
        "# tensorflow built in function\n",
        "# google tf.math get all functions\n",
        "tf.multiply(10,tensor), tf.add(tensor, 12)"
      ],
      "metadata": {
        "colab": {
          "base_uri": "https://localhost:8080/"
        },
        "id": "Zi-gQ0kIo0eo",
        "outputId": "3784e0a9-d7ec-44ae-92e1-513c423f4dba"
      },
      "execution_count": 150,
      "outputs": [
        {
          "output_type": "execute_result",
          "data": {
            "text/plain": [
              "(<tf.Tensor: shape=(2, 2), dtype=int32, numpy=\n",
              " array([[10, 20],\n",
              "        [30, 40]], dtype=int32)>, <tf.Tensor: shape=(2, 2), dtype=int32, numpy=\n",
              " array([[13, 14],\n",
              "        [15, 16]], dtype=int32)>)"
            ]
          },
          "metadata": {},
          "execution_count": 150
        }
      ]
    },
    {
      "cell_type": "code",
      "source": [
        "tf.math.multiply(10,tensor)# we can use alias of tf.multiply"
      ],
      "metadata": {
        "colab": {
          "base_uri": "https://localhost:8080/"
        },
        "id": "ACFrM608pv-f",
        "outputId": "8007a75a-06ff-4599-e275-7b1497b3e9a3"
      },
      "execution_count": 151,
      "outputs": [
        {
          "output_type": "execute_result",
          "data": {
            "text/plain": [
              "<tf.Tensor: shape=(2, 2), dtype=int32, numpy=\n",
              "array([[10, 20],\n",
              "       [30, 40]], dtype=int32)>"
            ]
          },
          "metadata": {},
          "execution_count": 151
        }
      ]
    },
    {
      "cell_type": "code",
      "source": [
        "tf.math.multiply(tensor,tensor)"
      ],
      "metadata": {
        "colab": {
          "base_uri": "https://localhost:8080/"
        },
        "id": "urvelSHIqYyY",
        "outputId": "4572e28c-f6d9-480b-8525-d7aa16cf407a"
      },
      "execution_count": 152,
      "outputs": [
        {
          "output_type": "execute_result",
          "data": {
            "text/plain": [
              "<tf.Tensor: shape=(2, 2), dtype=int32, numpy=\n",
              "array([[ 1,  4],\n",
              "       [ 9, 16]], dtype=int32)>"
            ]
          },
          "metadata": {},
          "execution_count": 152
        }
      ]
    },
    {
      "cell_type": "code",
      "source": [
        "tensor"
      ],
      "metadata": {
        "colab": {
          "base_uri": "https://localhost:8080/"
        },
        "id": "LYMctAkMrNX3",
        "outputId": "08cfe18d-476e-473a-8696-0850259459e4"
      },
      "execution_count": 153,
      "outputs": [
        {
          "output_type": "execute_result",
          "data": {
            "text/plain": [
              "<tf.Tensor: shape=(2, 2), dtype=int32, numpy=\n",
              "array([[1, 2],\n",
              "       [3, 4]], dtype=int32)>"
            ]
          },
          "metadata": {},
          "execution_count": 153
        }
      ]
    },
    {
      "cell_type": "markdown",
      "source": [
        "**Matrix Multiplication**\n",
        " >In ML, matrix multiplicatio is of the most common tensor operation. basic operation are element wise like add. matrix and tensor interchangable here and matrix multiplication is taking dot product.\n",
        " "
      ],
      "metadata": {
        "id": "IBmbg3h9rhHR"
      }
    },
    {
      "cell_type": "code",
      "source": [
        "tf.linalg.matmul(tensor,tensor)"
      ],
      "metadata": {
        "colab": {
          "base_uri": "https://localhost:8080/"
        },
        "id": "SfYTgzILrV79",
        "outputId": "21d0c7a3-afc8-49da-e434-57439a73a626"
      },
      "execution_count": 155,
      "outputs": [
        {
          "output_type": "execute_result",
          "data": {
            "text/plain": [
              "<tf.Tensor: shape=(2, 2), dtype=int32, numpy=\n",
              "array([[ 7, 10],\n",
              "       [15, 22]], dtype=int32)>"
            ]
          },
          "metadata": {},
          "execution_count": 155
        }
      ]
    },
    {
      "cell_type": "code",
      "source": [
        "# using only alias\n",
        "tf.matmul(tensor,tensor)"
      ],
      "metadata": {
        "colab": {
          "base_uri": "https://localhost:8080/"
        },
        "id": "BUieuOZetScj",
        "outputId": "03cb5952-3941-4445-e7de-2e1ea1565445"
      },
      "execution_count": 157,
      "outputs": [
        {
          "output_type": "execute_result",
          "data": {
            "text/plain": [
              "<tf.Tensor: shape=(2, 2), dtype=int32, numpy=\n",
              "array([[ 7, 10],\n",
              "       [15, 22]], dtype=int32)>"
            ]
          },
          "metadata": {},
          "execution_count": 157
        }
      ]
    },
    {
      "cell_type": "code",
      "source": [],
      "metadata": {
        "id": "zUYIpe0mtXom"
      },
      "execution_count": 159,
      "outputs": []
    },
    {
      "cell_type": "code",
      "source": [
        "tf.matmul([[1,2],[3,4]], [[5,5],[2,2]])"
      ],
      "metadata": {
        "colab": {
          "base_uri": "https://localhost:8080/"
        },
        "id": "woZ1bBSKtgai",
        "outputId": "f5ac12b2-17c3-4407-e105-351a4059c42a"
      },
      "execution_count": 161,
      "outputs": [
        {
          "output_type": "execute_result",
          "data": {
            "text/plain": [
              "<tf.Tensor: shape=(2, 2), dtype=int32, numpy=\n",
              "array([[ 9,  9],\n",
              "       [23, 23]], dtype=int32)>"
            ]
          },
          "metadata": {},
          "execution_count": 161
        }
      ]
    },
    {
      "cell_type": "code",
      "source": [
        "# matrix multiplication with python operator @\n",
        "tensor @ tensor"
      ],
      "metadata": {
        "colab": {
          "base_uri": "https://localhost:8080/"
        },
        "id": "pO6T3NNOty1y",
        "outputId": "9e84bd91-78b3-41cb-8d32-cf729d8aaee4"
      },
      "execution_count": 166,
      "outputs": [
        {
          "output_type": "execute_result",
          "data": {
            "text/plain": [
              "<tf.Tensor: shape=(2, 2), dtype=int32, numpy=\n",
              "array([[ 7, 10],\n",
              "       [15, 22]], dtype=int32)>"
            ]
          },
          "metadata": {},
          "execution_count": 166
        }
      ]
    },
    {
      "cell_type": "code",
      "source": [
        "tf.matmul(tensor,tensor, transpose_b=True)"
      ],
      "metadata": {
        "colab": {
          "base_uri": "https://localhost:8080/"
        },
        "id": "i9AJk6VwuMxj",
        "outputId": "36b691fc-e5d5-4240-91d6-82623a453d99"
      },
      "execution_count": 170,
      "outputs": [
        {
          "output_type": "execute_result",
          "data": {
            "text/plain": [
              "<tf.Tensor: shape=(2, 2), dtype=int32, numpy=\n",
              "array([[ 5, 11],\n",
              "       [11, 25]], dtype=int32)>"
            ]
          },
          "metadata": {},
          "execution_count": 170
        }
      ]
    },
    {
      "cell_type": "code",
      "source": [
        "tf.matmul(tensor,tensor, transpose_a=True)"
      ],
      "metadata": {
        "colab": {
          "base_uri": "https://localhost:8080/"
        },
        "id": "zn2yqoVyuTHj",
        "outputId": "0dd8f422-7d9a-49ad-8cc4-443031403aa2"
      },
      "execution_count": 168,
      "outputs": [
        {
          "output_type": "execute_result",
          "data": {
            "text/plain": [
              "<tf.Tensor: shape=(2, 2), dtype=int32, numpy=\n",
              "array([[10, 14],\n",
              "       [14, 20]], dtype=int32)>"
            ]
          },
          "metadata": {},
          "execution_count": 168
        }
      ]
    },
    {
      "cell_type": "code",
      "source": [
        "tf.matmul(tf.reshape(tensor, [2,2]), tensor) # if you have 2 tensor 3*2 and 3*2, it is handy to make inner dimension same for matmul"
      ],
      "metadata": {
        "colab": {
          "base_uri": "https://localhost:8080/"
        },
        "id": "X41vzq-dxIJ9",
        "outputId": "b8591d42-4745-4696-b444-c3617b9be18b"
      },
      "execution_count": 173,
      "outputs": [
        {
          "output_type": "execute_result",
          "data": {
            "text/plain": [
              "<tf.Tensor: shape=(2, 2), dtype=int32, numpy=\n",
              "array([[ 7, 10],\n",
              "       [15, 22]], dtype=int32)>"
            ]
          },
          "metadata": {},
          "execution_count": 173
        }
      ]
    },
    {
      "cell_type": "code",
      "source": [
        "# transpose and reshape gives different outcomes even if for matris 3*2 we transpose to become 2*3 or reshape to become 2*3"
      ],
      "metadata": {
        "id": "LMgsUs2Qxe7d"
      },
      "execution_count": 174,
      "outputs": []
    },
    {
      "cell_type": "code",
      "source": [
        "tensor, tf.reshape(tensor, (2,2)),tf.transpose(tensor)"
      ],
      "metadata": {
        "colab": {
          "base_uri": "https://localhost:8080/"
        },
        "id": "kgQ9WcqPyhnD",
        "outputId": "c556a4da-177c-4c29-9a3f-be7223fa04b3"
      },
      "execution_count": 177,
      "outputs": [
        {
          "output_type": "execute_result",
          "data": {
            "text/plain": [
              "(<tf.Tensor: shape=(2, 2), dtype=int32, numpy=\n",
              " array([[1, 2],\n",
              "        [3, 4]], dtype=int32)>, <tf.Tensor: shape=(2, 2), dtype=int32, numpy=\n",
              " array([[1, 2],\n",
              "        [3, 4]], dtype=int32)>, <tf.Tensor: shape=(2, 2), dtype=int32, numpy=\n",
              " array([[1, 3],\n",
              "        [2, 4]], dtype=int32)>)"
            ]
          },
          "metadata": {},
          "execution_count": 177
        }
      ]
    },
    {
      "cell_type": "code",
      "source": [
        "tf.transpose(tensor)"
      ],
      "metadata": {
        "colab": {
          "base_uri": "https://localhost:8080/"
        },
        "id": "x5iMse5gyleg",
        "outputId": "3ed959c7-5eef-410f-9720-54deec9e85cc"
      },
      "execution_count": 176,
      "outputs": [
        {
          "output_type": "execute_result",
          "data": {
            "text/plain": [
              "<tf.Tensor: shape=(2, 2), dtype=int32, numpy=\n",
              "array([[1, 3],\n",
              "       [2, 4]], dtype=int32)>"
            ]
          },
          "metadata": {},
          "execution_count": 176
        }
      ]
    },
    {
      "cell_type": "code",
      "source": [
        "a=tf.random.uniform((2,3))"
      ],
      "metadata": {
        "id": "70nenaFmyupr"
      },
      "execution_count": 178,
      "outputs": []
    },
    {
      "cell_type": "code",
      "source": [
        "a,  tf.reshape(a, (3,2)),tf.transpose(a)"
      ],
      "metadata": {
        "colab": {
          "base_uri": "https://localhost:8080/"
        },
        "id": "00u47p5bzIN4",
        "outputId": "e2a4422c-6c14-4fb4-abba-f6c4695dff68"
      },
      "execution_count": 180,
      "outputs": [
        {
          "output_type": "execute_result",
          "data": {
            "text/plain": [
              "(<tf.Tensor: shape=(2, 3), dtype=float32, numpy=\n",
              " array([[0.42140496, 0.58069193, 0.28269458],\n",
              "        [0.59165394, 0.533049  , 0.63115454]], dtype=float32)>,\n",
              " <tf.Tensor: shape=(3, 2), dtype=float32, numpy=\n",
              " array([[0.42140496, 0.58069193],\n",
              "        [0.28269458, 0.59165394],\n",
              "        [0.533049  , 0.63115454]], dtype=float32)>,\n",
              " <tf.Tensor: shape=(3, 2), dtype=float32, numpy=\n",
              " array([[0.42140496, 0.59165394],\n",
              "        [0.58069193, 0.533049  ],\n",
              "        [0.28269458, 0.63115454]], dtype=float32)>)"
            ]
          },
          "metadata": {},
          "execution_count": 180
        }
      ]
    },
    {
      "cell_type": "code",
      "source": [
        "# transpose flips axis while reshape suffles around element of tensor to makes the tensor into shape you want."
      ],
      "metadata": {
        "id": "LMzQu4c2zI6X"
      },
      "execution_count": 182,
      "outputs": []
    },
    {
      "cell_type": "markdown",
      "source": [
        "**`tf.tensordot(a,b)`==`tf.matmul(a,b)`==`@`(for python)**"
      ],
      "metadata": {
        "id": "jAMNv02I1XE_"
      }
    },
    {
      "cell_type": "code",
      "source": [
        "tf.tensordot(tensor,tensor, axes = 1)==tf.matmul(tensor,tensor)"
      ],
      "metadata": {
        "colab": {
          "base_uri": "https://localhost:8080/"
        },
        "id": "mXmxjjSpzm7V",
        "outputId": "9d73065f-beb8-4455-e33c-87f0db24f6ad"
      },
      "execution_count": 193,
      "outputs": [
        {
          "output_type": "execute_result",
          "data": {
            "text/plain": [
              "<tf.Tensor: shape=(2, 2), dtype=bool, numpy=\n",
              "array([[ True,  True],\n",
              "       [ True,  True]])>"
            ]
          },
          "metadata": {},
          "execution_count": 193
        }
      ]
    },
    {
      "cell_type": "code",
      "source": [
        "tf.matmul(tensor,tensor)"
      ],
      "metadata": {
        "colab": {
          "base_uri": "https://localhost:8080/"
        },
        "id": "xkwqXgZs1j-Y",
        "outputId": "b600cca8-1c19-4e6a-da06-81ad8896e52e"
      },
      "execution_count": 194,
      "outputs": [
        {
          "output_type": "execute_result",
          "data": {
            "text/plain": [
              "<tf.Tensor: shape=(2, 2), dtype=int32, numpy=\n",
              "array([[ 7, 10],\n",
              "       [15, 22]], dtype=int32)>"
            ]
          },
          "metadata": {},
          "execution_count": 194
        }
      ]
    },
    {
      "cell_type": "code",
      "source": [
        "tf.tensordot(tensor,tensor, axes = 0)"
      ],
      "metadata": {
        "colab": {
          "base_uri": "https://localhost:8080/"
        },
        "id": "-IQuV1MX10TW",
        "outputId": "360f4110-0014-4b19-8069-7c4aa69d2ebb"
      },
      "execution_count": 195,
      "outputs": [
        {
          "output_type": "execute_result",
          "data": {
            "text/plain": [
              "<tf.Tensor: shape=(2, 2, 2, 2), dtype=int32, numpy=\n",
              "array([[[[ 1,  2],\n",
              "         [ 3,  4]],\n",
              "\n",
              "        [[ 2,  4],\n",
              "         [ 6,  8]]],\n",
              "\n",
              "\n",
              "       [[[ 3,  6],\n",
              "         [ 9, 12]],\n",
              "\n",
              "        [[ 4,  8],\n",
              "         [12, 16]]]], dtype=int32)>"
            ]
          },
          "metadata": {},
          "execution_count": 195
        }
      ]
    },
    {
      "cell_type": "markdown",
      "source": [
        "## Change tensor dtype"
      ],
      "metadata": {
        "id": "GI912fvm5GmU"
      }
    },
    {
      "cell_type": "code",
      "source": [
        "tf.__version__"
      ],
      "metadata": {
        "colab": {
          "base_uri": "https://localhost:8080/",
          "height": 36
        },
        "id": "ALoXggM02897",
        "outputId": "d4d54b44-23f5-4acc-9f5d-be500271deb6"
      },
      "execution_count": 197,
      "outputs": [
        {
          "output_type": "execute_result",
          "data": {
            "text/plain": [
              "'2.11.0'"
            ],
            "application/vnd.google.colaboratory.intrinsic+json": {
              "type": "string"
            }
          },
          "metadata": {},
          "execution_count": 197
        }
      ]
    },
    {
      "cell_type": "code",
      "source": [
        "# create tensor with default datatype(default based on data, here float32)\n",
        "B=tf.constant([1.3,2.4,3.5,4.3])\n",
        "B.dtype"
      ],
      "metadata": {
        "colab": {
          "base_uri": "https://localhost:8080/"
        },
        "id": "GGuIb7VG5LAc",
        "outputId": "26a91b48-02de-4e30-a1f8-2f6b976fae61"
      },
      "execution_count": 211,
      "outputs": [
        {
          "output_type": "execute_result",
          "data": {
            "text/plain": [
              "tf.float32"
            ]
          },
          "metadata": {},
          "execution_count": 211
        }
      ]
    },
    {
      "cell_type": "code",
      "source": [
        "C=tf.constant([2,3,4,5])\n",
        "C.dtype"
      ],
      "metadata": {
        "colab": {
          "base_uri": "https://localhost:8080/"
        },
        "id": "tiHm9Hj46Dhs",
        "outputId": "4598c6f2-3283-410c-8591-f3722ed78b33"
      },
      "execution_count": 212,
      "outputs": [
        {
          "output_type": "execute_result",
          "data": {
            "text/plain": [
              "tf.int32"
            ]
          },
          "metadata": {},
          "execution_count": 212
        }
      ]
    },
    {
      "cell_type": "code",
      "source": [
        "tf.dtypes.cast(C, tf.int16)"
      ],
      "metadata": {
        "colab": {
          "base_uri": "https://localhost:8080/"
        },
        "id": "Ls8SLjAE5cG8",
        "outputId": "f44a46af-af9f-43db-e47e-4e5d89cb4015"
      },
      "execution_count": 213,
      "outputs": [
        {
          "output_type": "execute_result",
          "data": {
            "text/plain": [
              "<tf.Tensor: shape=(4,), dtype=int16, numpy=array([2, 3, 4, 5], dtype=int16)>"
            ]
          },
          "metadata": {},
          "execution_count": 213
        }
      ]
    },
    {
      "cell_type": "code",
      "source": [
        "# by using alias\n",
        "tf.cast(B, dtype=tf.float16)"
      ],
      "metadata": {
        "colab": {
          "base_uri": "https://localhost:8080/"
        },
        "id": "OXHKpJhD5j8G",
        "outputId": "dba90d71-f18c-4909-a7d4-abbfeaaae619"
      },
      "execution_count": 214,
      "outputs": [
        {
          "output_type": "execute_result",
          "data": {
            "text/plain": [
              "<tf.Tensor: shape=(4,), dtype=float16, numpy=array([1.3, 2.4, 3.5, 4.3], dtype=float16)>"
            ]
          },
          "metadata": {},
          "execution_count": 214
        }
      ]
    },
    {
      "cell_type": "code",
      "source": [
        "# change from float32 to float 16(called reduced precision)\n",
        "tf.cast(B, dtype=tf.float16)\n",
        "# for large tensor almost half the memory preserved + performance in modern hardware accelerator like GPU and TPU increases by twice too but low precision."
      ],
      "metadata": {
        "colab": {
          "base_uri": "https://localhost:8080/"
        },
        "id": "qiXXxY7P54_2",
        "outputId": "6f62bfa0-3443-4005-ce05-c1de6103dfa8"
      },
      "execution_count": 218,
      "outputs": [
        {
          "output_type": "execute_result",
          "data": {
            "text/plain": [
              "<tf.Tensor: shape=(4,), dtype=float16, numpy=array([1.3, 2.4, 3.5, 4.3], dtype=float16)>"
            ]
          },
          "metadata": {},
          "execution_count": 218
        }
      ]
    },
    {
      "cell_type": "markdown",
      "source": [
        "NVIDIA GPUs can run operations in float16 faster than in float32, and TPUs can run operations in bfloat16 faster than float32. Therefore, these lower-precision dtypes should be used whenever possible on those devices. However, variables and a few computations should still be in float32 for numeric reasons so that the model trains to the same quality. The Keras mixed precision API allows you to use a mix of either float16 or bfloat16 with float32, to get the performance benefits from float16/bfloat16 and the numeric stability benefits from float32.\n",
        "`google tensorflow bit precision`"
      ],
      "metadata": {
        "id": "b5oRRzLh7nPd"
      }
    },
    {
      "cell_type": "code",
      "source": [
        "# change from int32 to float32\n",
        "E=tf.cast(B, dtype=tf.float32)\n",
        "E"
      ],
      "metadata": {
        "colab": {
          "base_uri": "https://localhost:8080/"
        },
        "id": "-XRmhQRk6Uag",
        "outputId": "fc97239f-c37d-4182-fa56-3b857ddf36c5"
      },
      "execution_count": 224,
      "outputs": [
        {
          "output_type": "execute_result",
          "data": {
            "text/plain": [
              "<tf.Tensor: shape=(4,), dtype=float32, numpy=array([1.3, 2.4, 3.5, 4.3], dtype=float32)>"
            ]
          },
          "metadata": {},
          "execution_count": 224
        }
      ]
    },
    {
      "cell_type": "code",
      "source": [
        "E_float16=tf.cast(E, tf.float16)\n",
        "E_float16"
      ],
      "metadata": {
        "colab": {
          "base_uri": "https://localhost:8080/"
        },
        "id": "ZHgkF4z_9hwc",
        "outputId": "bd870d45-86b8-4ef4-e143-012ec49d230e"
      },
      "execution_count": 226,
      "outputs": [
        {
          "output_type": "execute_result",
          "data": {
            "text/plain": [
              "<tf.Tensor: shape=(4,), dtype=float16, numpy=array([1.3, 2.4, 3.5, 4.3], dtype=float16)>"
            ]
          },
          "metadata": {},
          "execution_count": 226
        }
      ]
    },
    {
      "cell_type": "markdown",
      "source": [
        "## Aggregating tensors\n",
        "aggtegating tensor==condensing them from multiple of values down to smaller amount of values"
      ],
      "metadata": {
        "id": "X9Z3_0SM98zF"
      }
    },
    {
      "cell_type": "code",
      "source": [
        "# getting the absolute values of tensor\n",
        "tensor=tf.constant([-1,2,4,-5.5])"
      ],
      "metadata": {
        "id": "cQpxeokH9k0a"
      },
      "execution_count": 227,
      "outputs": []
    },
    {
      "cell_type": "code",
      "source": [
        "list(tf.abs(tensor).numpy())\n",
        "# shift + command +space to get docsstring"
      ],
      "metadata": {
        "colab": {
          "base_uri": "https://localhost:8080/"
        },
        "id": "LFKq8R3VAvmt",
        "outputId": "b401b2b5-70b2-4530-ac18-867bfc0f2d46"
      },
      "execution_count": 234,
      "outputs": [
        {
          "output_type": "execute_result",
          "data": {
            "text/plain": [
              "[1.0, 2.0, 4.0, 5.5]"
            ]
          },
          "metadata": {},
          "execution_count": 234
        }
      ]
    },
    {
      "cell_type": "markdown",
      "source": [
        "lets go through more aggrigation function\n",
        "\n",
        "\n",
        "1.   minimum\n",
        "2.   maximum\n",
        "3.   sum of tensor\n",
        "4.   mean of tensor\n",
        "\n",
        "\n",
        "\n",
        "\n",
        "\n",
        "\n",
        "\n"
      ],
      "metadata": {
        "id": "b2xWkoEfAxyi"
      }
    },
    {
      "cell_type": "code",
      "source": [
        "agg_tensor=tf.constant([[1,2,3],[3,4,1]])\n",
        "tf.math.reduce_min(agg_tensor, axis=1)"
      ],
      "metadata": {
        "colab": {
          "base_uri": "https://localhost:8080/"
        },
        "id": "-gl6WubRCFfc",
        "outputId": "8f67e991-c98d-46fe-dad7-751511c4e57a"
      },
      "execution_count": 249,
      "outputs": [
        {
          "output_type": "execute_result",
          "data": {
            "text/plain": [
              "<tf.Tensor: shape=(2,), dtype=int32, numpy=array([1, 1], dtype=int32)>"
            ]
          },
          "metadata": {},
          "execution_count": 249
        }
      ]
    },
    {
      "cell_type": "code",
      "source": [
        "# or use alias\n",
        "tf.reduce_max(agg_tensor, axis=0)"
      ],
      "metadata": {
        "colab": {
          "base_uri": "https://localhost:8080/"
        },
        "id": "GkinVUZvCKzU",
        "outputId": "77d3315a-cc04-4928-8c04-686a06fe0ec6"
      },
      "execution_count": 250,
      "outputs": [
        {
          "output_type": "execute_result",
          "data": {
            "text/plain": [
              "<tf.Tensor: shape=(3,), dtype=int32, numpy=array([3, 4, 3], dtype=int32)>"
            ]
          },
          "metadata": {},
          "execution_count": 250
        }
      ]
    },
    {
      "cell_type": "code",
      "source": [
        "tf.reduce_mean(agg_tensor, axis=0)"
      ],
      "metadata": {
        "colab": {
          "base_uri": "https://localhost:8080/"
        },
        "id": "lbN7-QQwCxKF",
        "outputId": "eb5332fc-b136-4ce6-8772-0d7cfb03b06a"
      },
      "execution_count": 253,
      "outputs": [
        {
          "output_type": "execute_result",
          "data": {
            "text/plain": [
              "<tf.Tensor: shape=(3,), dtype=int32, numpy=array([2, 3, 2], dtype=int32)>"
            ]
          },
          "metadata": {},
          "execution_count": 253
        }
      ]
    },
    {
      "cell_type": "code",
      "source": [
        "tf.reduce_sum(agg_tensor)"
      ],
      "metadata": {
        "colab": {
          "base_uri": "https://localhost:8080/"
        },
        "id": "vlsPDvePDbRF",
        "outputId": "0c9df56e-dad1-44f0-9780-862f9bfb763e"
      },
      "execution_count": 255,
      "outputs": [
        {
          "output_type": "execute_result",
          "data": {
            "text/plain": [
              "<tf.Tensor: shape=(), dtype=int32, numpy=14>"
            ]
          },
          "metadata": {},
          "execution_count": 255
        }
      ]
    },
    {
      "cell_type": "code",
      "source": [
        "# calculate the large tensor with value between 0 and 100 of size 50\n",
        "tf.random.uniform((25,2), minval=0, maxval=100)"
      ],
      "metadata": {
        "colab": {
          "base_uri": "https://localhost:8080/"
        },
        "id": "itDvm1OBDtcY",
        "outputId": "33707d6a-54b8-4178-cf51-22d3c947dca3"
      },
      "execution_count": 256,
      "outputs": [
        {
          "output_type": "execute_result",
          "data": {
            "text/plain": [
              "<tf.Tensor: shape=(25, 2), dtype=float32, numpy=\n",
              "array([[96.59534  , 70.0438   ],\n",
              "       [21.7548   ,  6.525898 ],\n",
              "       [21.781467 , 20.961498 ],\n",
              "       [72.122284 , 50.428963 ],\n",
              "       [73.57051  ,  6.668675 ],\n",
              "       [34.826565 , 26.65646  ],\n",
              "       [31.096315 , 61.949623 ],\n",
              "       [50.94631  , 30.490149 ],\n",
              "       [54.13226  , 91.67947  ],\n",
              "       [ 6.1190724, 85.84317  ],\n",
              "       [ 3.5464168, 12.356388 ],\n",
              "       [31.783688 , 96.47371  ],\n",
              "       [41.784214 , 88.09492  ],\n",
              "       [16.108776 , 46.933258 ],\n",
              "       [22.514856 , 93.230125 ],\n",
              "       [16.625118 , 20.055258 ],\n",
              "       [34.088017 , 86.3053   ],\n",
              "       [86.93222  , 12.523281 ],\n",
              "       [37.922752 , 53.58341  ],\n",
              "       [30.825115 , 72.40162  ],\n",
              "       [56.7315   , 34.02196  ],\n",
              "       [84.56925  , 36.375153 ],\n",
              "       [16.96502  , 13.768649 ],\n",
              "       [ 4.213524 , 65.457115 ],\n",
              "       [52.464928 , 46.55695  ]], dtype=float32)>"
            ]
          },
          "metadata": {},
          "execution_count": 256
        }
      ]
    },
    {
      "cell_type": "code",
      "source": [
        "# calculate the large tensor with value between 0 and 100 of size 50\n",
        "E=tf.constant(np.random.randint(0,100,size=50))"
      ],
      "metadata": {
        "id": "45IdOOMLEWMR"
      },
      "execution_count": 261,
      "outputs": []
    },
    {
      "cell_type": "code",
      "source": [
        "E.ndim, tf.size(E), E.shape, "
      ],
      "metadata": {
        "colab": {
          "base_uri": "https://localhost:8080/"
        },
        "id": "fqp4a0zaE6ie",
        "outputId": "41447cd6-42b6-4edf-9f1e-e34ef7bd9285"
      },
      "execution_count": 262,
      "outputs": [
        {
          "output_type": "execute_result",
          "data": {
            "text/plain": [
              "(1, <tf.Tensor: shape=(), dtype=int32, numpy=50>, TensorShape([50]))"
            ]
          },
          "metadata": {},
          "execution_count": 262
        }
      ]
    },
    {
      "cell_type": "code",
      "source": [
        "np.min(E)"
      ],
      "metadata": {
        "colab": {
          "base_uri": "https://localhost:8080/"
        },
        "id": "HP7hrGwQFR_S",
        "outputId": "d5c99c76-339a-4d99-fadc-5e74e7d5f501"
      },
      "execution_count": 263,
      "outputs": [
        {
          "output_type": "execute_result",
          "data": {
            "text/plain": [
              "4"
            ]
          },
          "metadata": {},
          "execution_count": 263
        }
      ]
    },
    {
      "cell_type": "code",
      "source": [
        "tf.reduce_min(E)"
      ],
      "metadata": {
        "colab": {
          "base_uri": "https://localhost:8080/"
        },
        "id": "e7quCMkkFdY3",
        "outputId": "77537554-5b1d-4b6f-d18c-83b44436b966"
      },
      "execution_count": 264,
      "outputs": [
        {
          "output_type": "execute_result",
          "data": {
            "text/plain": [
              "<tf.Tensor: shape=(), dtype=int64, numpy=4>"
            ]
          },
          "metadata": {},
          "execution_count": 264
        }
      ]
    },
    {
      "cell_type": "code",
      "source": [
        "# find the variance and standard deviation of our tensor\n",
        "np.std(E)"
      ],
      "metadata": {
        "colab": {
          "base_uri": "https://localhost:8080/"
        },
        "id": "SDOF1ztdFhQa",
        "outputId": "32ebdbea-3bc5-4012-a657-f0938148c0bf"
      },
      "execution_count": 265,
      "outputs": [
        {
          "output_type": "execute_result",
          "data": {
            "text/plain": [
              "25.37732058354467"
            ]
          },
          "metadata": {},
          "execution_count": 265
        }
      ]
    },
    {
      "cell_type": "code",
      "source": [
        "tf.math.reduce_std(tf.cast(E, dtype=tf.float32))\n",
        "# working with tensorflow, float32 is standard type for entire library"
      ],
      "metadata": {
        "colab": {
          "base_uri": "https://localhost:8080/"
        },
        "id": "y9tf7YnlF7zO",
        "outputId": "900b2764-946e-4573-fd54-fb7a02d74945"
      },
      "execution_count": 280,
      "outputs": [
        {
          "output_type": "execute_result",
          "data": {
            "text/plain": [
              "<tf.Tensor: shape=(), dtype=float32, numpy=25.37732>"
            ]
          },
          "metadata": {},
          "execution_count": 280
        }
      ]
    },
    {
      "cell_type": "code",
      "source": [
        "tf.math.reduce_variance(tf.cast(E, dtype=tf.float32))"
      ],
      "metadata": {
        "colab": {
          "base_uri": "https://localhost:8080/"
        },
        "id": "gtaX_-0NGAb5",
        "outputId": "527c5cb9-4724-4c1a-9618-3d637920d4be"
      },
      "execution_count": 277,
      "outputs": [
        {
          "output_type": "execute_result",
          "data": {
            "text/plain": [
              "<tf.Tensor: shape=(), dtype=float32, numpy=644.0083>"
            ]
          },
          "metadata": {},
          "execution_count": 277
        }
      ]
    },
    {
      "cell_type": "code",
      "source": [
        "import tensorflow_probability as tfp"
      ],
      "metadata": {
        "id": "wlmJFrMRGLiU"
      },
      "execution_count": 278,
      "outputs": []
    },
    {
      "cell_type": "code",
      "source": [
        "tfp.stats.variance(E)"
      ],
      "metadata": {
        "colab": {
          "base_uri": "https://localhost:8080/"
        },
        "id": "vkeA6LoNGeid",
        "outputId": "79484129-1416-4889-d9bb-d50455183266"
      },
      "execution_count": 279,
      "outputs": [
        {
          "output_type": "execute_result",
          "data": {
            "text/plain": [
              "<tf.Tensor: shape=(), dtype=int64, numpy=644>"
            ]
          },
          "metadata": {},
          "execution_count": 279
        }
      ]
    },
    {
      "cell_type": "markdown",
      "source": [
        "## find positional max and min of tensor using axis\n",
        "# use case when find max of representational output probability"
      ],
      "metadata": {
        "id": "JK5cuGQnKtiH"
      }
    },
    {
      "cell_type": "code",
      "source": [
        "# create new tensor to find positional max and min\n",
        "tf.random.set_seed(42)\n",
        "F=tf.random.uniform(shape=[50])"
      ],
      "metadata": {
        "id": "zYu3qlTkGmYl"
      },
      "execution_count": 302,
      "outputs": []
    },
    {
      "cell_type": "code",
      "source": [
        "F"
      ],
      "metadata": {
        "colab": {
          "base_uri": "https://localhost:8080/"
        },
        "id": "n2FyQnjNMSqB",
        "outputId": "f6bf8d30-8c7e-4f9f-8682-9c75bb749986"
      },
      "execution_count": 303,
      "outputs": [
        {
          "output_type": "execute_result",
          "data": {
            "text/plain": [
              "<tf.Tensor: shape=(50,), dtype=float32, numpy=\n",
              "array([0.6645621 , 0.44100678, 0.3528825 , 0.46448255, 0.03366041,\n",
              "       0.68467236, 0.74011743, 0.8724445 , 0.22632635, 0.22319686,\n",
              "       0.3103881 , 0.7223358 , 0.13318717, 0.5480639 , 0.5746088 ,\n",
              "       0.8996835 , 0.00946367, 0.5212307 , 0.6345445 , 0.1993283 ,\n",
              "       0.72942245, 0.54583454, 0.10756552, 0.6767061 , 0.6602763 ,\n",
              "       0.33695042, 0.60141766, 0.21062577, 0.8527372 , 0.44062173,\n",
              "       0.9485276 , 0.23752594, 0.81179297, 0.5263394 , 0.494308  ,\n",
              "       0.21612847, 0.8457197 , 0.8718841 , 0.3083862 , 0.6868038 ,\n",
              "       0.23764038, 0.7817228 , 0.9671384 , 0.06870162, 0.79873943,\n",
              "       0.66028714, 0.5871513 , 0.16461694, 0.7381023 , 0.32054043],\n",
              "      dtype=float32)>"
            ]
          },
          "metadata": {},
          "execution_count": 303
        }
      ]
    },
    {
      "cell_type": "code",
      "source": [
        "np.argmax(F)"
      ],
      "metadata": {
        "colab": {
          "base_uri": "https://localhost:8080/"
        },
        "id": "zr1xUiVKMTKB",
        "outputId": "b451e9bf-8f12-4ea6-d6e2-372129650883"
      },
      "execution_count": 304,
      "outputs": [
        {
          "output_type": "execute_result",
          "data": {
            "text/plain": [
              "42"
            ]
          },
          "metadata": {},
          "execution_count": 304
        }
      ]
    },
    {
      "cell_type": "code",
      "source": [
        "tf.argmax(F)\n",
        "# gives the positional/index of max value"
      ],
      "metadata": {
        "colab": {
          "base_uri": "https://localhost:8080/"
        },
        "id": "VKx9ZLBNNRGN",
        "outputId": "d4f26a3e-4b3f-418a-b9a8-2e1f64551e37"
      },
      "execution_count": 305,
      "outputs": [
        {
          "output_type": "execute_result",
          "data": {
            "text/plain": [
              "<tf.Tensor: shape=(), dtype=int64, numpy=42>"
            ]
          },
          "metadata": {},
          "execution_count": 305
        }
      ]
    },
    {
      "cell_type": "code",
      "source": [
        "F[tf.argmax(F)]"
      ],
      "metadata": {
        "colab": {
          "base_uri": "https://localhost:8080/"
        },
        "id": "x1D5ZgCZNT5V",
        "outputId": "4029d58c-a86f-4bbf-aef4-0d7b250361d7"
      },
      "execution_count": 306,
      "outputs": [
        {
          "output_type": "execute_result",
          "data": {
            "text/plain": [
              "<tf.Tensor: shape=(), dtype=float32, numpy=0.9671384>"
            ]
          },
          "metadata": {},
          "execution_count": 306
        }
      ]
    },
    {
      "cell_type": "code",
      "source": [
        "tf.reduce_max(F)==F[tf.argmax(F)]"
      ],
      "metadata": {
        "colab": {
          "base_uri": "https://localhost:8080/"
        },
        "id": "PO-oLsuTNZEN",
        "outputId": "0b779249-59d0-4562-882f-c422faf13f56"
      },
      "execution_count": 307,
      "outputs": [
        {
          "output_type": "execute_result",
          "data": {
            "text/plain": [
              "<tf.Tensor: shape=(), dtype=bool, numpy=True>"
            ]
          },
          "metadata": {},
          "execution_count": 307
        }
      ]
    },
    {
      "cell_type": "code",
      "source": [
        "F[tf.argmin(F)]"
      ],
      "metadata": {
        "colab": {
          "base_uri": "https://localhost:8080/"
        },
        "id": "PX1DEU7UNlOz",
        "outputId": "cf0c9245-68c6-4b53-b4d5-96c66259e20a"
      },
      "execution_count": 308,
      "outputs": [
        {
          "output_type": "execute_result",
          "data": {
            "text/plain": [
              "<tf.Tensor: shape=(), dtype=float32, numpy=0.009463668>"
            ]
          },
          "metadata": {},
          "execution_count": 308
        }
      ]
    },
    {
      "cell_type": "code",
      "source": [
        "tf.reduce_max(F)!=F[tf.argmax(F)]"
      ],
      "metadata": {
        "colab": {
          "base_uri": "https://localhost:8080/"
        },
        "id": "JkeTkfVRN3WK",
        "outputId": "0c99d942-6d31-444c-c76c-e15217835829"
      },
      "execution_count": 311,
      "outputs": [
        {
          "output_type": "execute_result",
          "data": {
            "text/plain": [
              "<tf.Tensor: shape=(), dtype=bool, numpy=False>"
            ]
          },
          "metadata": {},
          "execution_count": 311
        }
      ]
    },
    {
      "cell_type": "code",
      "source": [
        "# assert gives error if equal\n",
        "assert tf.reduce_max(F)!=F[tf.argmax(F)]"
      ],
      "metadata": {
        "colab": {
          "base_uri": "https://localhost:8080/",
          "height": 191
        },
        "id": "_-bFCYDUO2GS",
        "outputId": "6fc105c0-315f-4ab6-e73f-b27948965ad6"
      },
      "execution_count": 313,
      "outputs": [
        {
          "output_type": "error",
          "ename": "AssertionError",
          "evalue": "ignored",
          "traceback": [
            "\u001b[0;31m---------------------------------------------------------------------------\u001b[0m",
            "\u001b[0;31mAssertionError\u001b[0m                            Traceback (most recent call last)",
            "\u001b[0;32m<ipython-input-313-e42192427273>\u001b[0m in \u001b[0;36m<module>\u001b[0;34m\u001b[0m\n\u001b[1;32m      1\u001b[0m \u001b[0;31m# assert gives error if equal\u001b[0m\u001b[0;34m\u001b[0m\u001b[0;34m\u001b[0m\u001b[0;34m\u001b[0m\u001b[0m\n\u001b[0;32m----> 2\u001b[0;31m \u001b[0;32massert\u001b[0m \u001b[0mtf\u001b[0m\u001b[0;34m.\u001b[0m\u001b[0mreduce_max\u001b[0m\u001b[0;34m(\u001b[0m\u001b[0mF\u001b[0m\u001b[0;34m)\u001b[0m\u001b[0;34m!=\u001b[0m\u001b[0mF\u001b[0m\u001b[0;34m[\u001b[0m\u001b[0mtf\u001b[0m\u001b[0;34m.\u001b[0m\u001b[0margmax\u001b[0m\u001b[0;34m(\u001b[0m\u001b[0mF\u001b[0m\u001b[0;34m)\u001b[0m\u001b[0;34m]\u001b[0m\u001b[0;34m\u001b[0m\u001b[0;34m\u001b[0m\u001b[0m\n\u001b[0m",
            "\u001b[0;31mAssertionError\u001b[0m: "
          ]
        }
      ]
    },
    {
      "cell_type": "code",
      "source": [
        "assert True"
      ],
      "metadata": {
        "id": "fjwjNuYmO9Ye"
      },
      "execution_count": 314,
      "outputs": []
    },
    {
      "cell_type": "code",
      "source": [
        "assert False"
      ],
      "metadata": {
        "colab": {
          "base_uri": "https://localhost:8080/",
          "height": 173
        },
        "id": "l2dMREvjPFT8",
        "outputId": "6ad5885b-97dc-4cc0-90d9-1b4df41720cf"
      },
      "execution_count": 315,
      "outputs": [
        {
          "output_type": "error",
          "ename": "AssertionError",
          "evalue": "ignored",
          "traceback": [
            "\u001b[0;31m---------------------------------------------------------------------------\u001b[0m",
            "\u001b[0;31mAssertionError\u001b[0m                            Traceback (most recent call last)",
            "\u001b[0;32m<ipython-input-315-a871fdc9ebee>\u001b[0m in \u001b[0;36m<module>\u001b[0;34m\u001b[0m\n\u001b[0;32m----> 1\u001b[0;31m \u001b[0;32massert\u001b[0m \u001b[0;32mFalse\u001b[0m\u001b[0;34m\u001b[0m\u001b[0;34m\u001b[0m\u001b[0m\n\u001b[0m",
            "\u001b[0;31mAssertionError\u001b[0m: "
          ]
        }
      ]
    },
    {
      "cell_type": "markdown",
      "source": [
        "## Squeezing tensors/removing all single dimensions from tensors eg (1,2,1,3) converted to (2,3)"
      ],
      "metadata": {
        "id": "i76gA2ZgP90W"
      }
    },
    {
      "cell_type": "code",
      "source": [
        "tf.random.set_seed(42)\n",
        "G=tf.constant(tf.random.uniform(shape=[50]), shape=(1,1,1,1,50))\n",
        "G"
      ],
      "metadata": {
        "colab": {
          "base_uri": "https://localhost:8080/"
        },
        "id": "VbByt7B8PG-1",
        "outputId": "eb66320b-daab-46e6-a04c-301e3e747c42"
      },
      "execution_count": 334,
      "outputs": [
        {
          "output_type": "execute_result",
          "data": {
            "text/plain": [
              "<tf.Tensor: shape=(1, 1, 1, 1, 50), dtype=float32, numpy=\n",
              "array([[[[[0.6645621 , 0.44100678, 0.3528825 , 0.46448255, 0.03366041,\n",
              "           0.68467236, 0.74011743, 0.8724445 , 0.22632635, 0.22319686,\n",
              "           0.3103881 , 0.7223358 , 0.13318717, 0.5480639 , 0.5746088 ,\n",
              "           0.8996835 , 0.00946367, 0.5212307 , 0.6345445 , 0.1993283 ,\n",
              "           0.72942245, 0.54583454, 0.10756552, 0.6767061 , 0.6602763 ,\n",
              "           0.33695042, 0.60141766, 0.21062577, 0.8527372 , 0.44062173,\n",
              "           0.9485276 , 0.23752594, 0.81179297, 0.5263394 , 0.494308  ,\n",
              "           0.21612847, 0.8457197 , 0.8718841 , 0.3083862 , 0.6868038 ,\n",
              "           0.23764038, 0.7817228 , 0.9671384 , 0.06870162, 0.79873943,\n",
              "           0.66028714, 0.5871513 , 0.16461694, 0.7381023 , 0.32054043]]]]],\n",
              "      dtype=float32)>"
            ]
          },
          "metadata": {},
          "execution_count": 334
        }
      ]
    },
    {
      "cell_type": "code",
      "source": [
        "G.shape"
      ],
      "metadata": {
        "colab": {
          "base_uri": "https://localhost:8080/"
        },
        "id": "fBPzSUyKQrws",
        "outputId": "568cb0f1-50d8-42d2-87e1-6b288f7ed7d6"
      },
      "execution_count": 335,
      "outputs": [
        {
          "output_type": "execute_result",
          "data": {
            "text/plain": [
              "TensorShape([1, 1, 1, 1, 50])"
            ]
          },
          "metadata": {},
          "execution_count": 335
        }
      ]
    },
    {
      "cell_type": "code",
      "source": [
        "G_squeezed=tf.squeeze(G)\n",
        "G_squeezed, G_squeezed.shape"
      ],
      "metadata": {
        "colab": {
          "base_uri": "https://localhost:8080/"
        },
        "id": "8fwruEdZQzP6",
        "outputId": "68fcc161-24e6-4c8a-949f-4453ddf7610b"
      },
      "execution_count": 338,
      "outputs": [
        {
          "output_type": "execute_result",
          "data": {
            "text/plain": [
              "(<tf.Tensor: shape=(50,), dtype=float32, numpy=\n",
              " array([0.6645621 , 0.44100678, 0.3528825 , 0.46448255, 0.03366041,\n",
              "        0.68467236, 0.74011743, 0.8724445 , 0.22632635, 0.22319686,\n",
              "        0.3103881 , 0.7223358 , 0.13318717, 0.5480639 , 0.5746088 ,\n",
              "        0.8996835 , 0.00946367, 0.5212307 , 0.6345445 , 0.1993283 ,\n",
              "        0.72942245, 0.54583454, 0.10756552, 0.6767061 , 0.6602763 ,\n",
              "        0.33695042, 0.60141766, 0.21062577, 0.8527372 , 0.44062173,\n",
              "        0.9485276 , 0.23752594, 0.81179297, 0.5263394 , 0.494308  ,\n",
              "        0.21612847, 0.8457197 , 0.8718841 , 0.3083862 , 0.6868038 ,\n",
              "        0.23764038, 0.7817228 , 0.9671384 , 0.06870162, 0.79873943,\n",
              "        0.66028714, 0.5871513 , 0.16461694, 0.7381023 , 0.32054043],\n",
              "       dtype=float32)>, TensorShape([50]))"
            ]
          },
          "metadata": {},
          "execution_count": 338
        }
      ]
    },
    {
      "cell_type": "markdown",
      "source": [
        "# one hot encoding=form to encode categorical data into numerical\n",
        "form of numerical incoding as our model process numbers not string"
      ],
      "metadata": {
        "id": "VDDzFU9pSe5Y"
      }
    },
    {
      "cell_type": "code",
      "source": [
        "# create list of indices\n",
        "some_list=[0, 1,2,3] #could be red, green blue it's categories\n",
        "tf.one_hot(some_list, depth=4)"
      ],
      "metadata": {
        "colab": {
          "base_uri": "https://localhost:8080/"
        },
        "id": "HEDuhZBXSeXf",
        "outputId": "afd954dc-1752-4447-b7f9-bfd41752f952"
      },
      "execution_count": 355,
      "outputs": [
        {
          "output_type": "execute_result",
          "data": {
            "text/plain": [
              "<tf.Tensor: shape=(4, 4), dtype=float32, numpy=\n",
              "array([[1., 0., 0., 0.],\n",
              "       [0., 1., 0., 0.],\n",
              "       [0., 0., 1., 0.],\n",
              "       [0., 0., 0., 1.]], dtype=float32)>"
            ]
          },
          "metadata": {},
          "execution_count": 355
        }
      ]
    },
    {
      "cell_type": "code",
      "source": [
        "tf.one_hot(some_list, depth=3, on_value=\"present\", off_value=\"absent\") # custom value for one hot encode"
      ],
      "metadata": {
        "colab": {
          "base_uri": "https://localhost:8080/"
        },
        "id": "jWiveTC5Rm-E",
        "outputId": "93d6a3e8-586a-4f95-8dd7-4494ddf4e817"
      },
      "execution_count": 357,
      "outputs": [
        {
          "output_type": "execute_result",
          "data": {
            "text/plain": [
              "<tf.Tensor: shape=(4, 3), dtype=string, numpy=\n",
              "array([[b'present', b'absent', b'absent'],\n",
              "       [b'absent', b'present', b'absent'],\n",
              "       [b'absent', b'absent', b'present'],\n",
              "       [b'absent', b'absent', b'absent']], dtype=object)>"
            ]
          },
          "metadata": {},
          "execution_count": 357
        }
      ]
    },
    {
      "cell_type": "markdown",
      "source": [
        "#more math tensorflow"
      ],
      "metadata": {
        "id": "muhjdy_-WeBp"
      }
    },
    {
      "cell_type": "code",
      "source": [
        "H=tf.range(1,10)"
      ],
      "metadata": {
        "id": "mebr_zFnT0W4"
      },
      "execution_count": 358,
      "outputs": []
    },
    {
      "cell_type": "code",
      "source": [
        "tf.math.square(H) #or alias"
      ],
      "metadata": {
        "colab": {
          "base_uri": "https://localhost:8080/"
        },
        "id": "KaSsEmfQWm-7",
        "outputId": "2d685e6e-5504-4274-95ed-347875c7f688"
      },
      "execution_count": 361,
      "outputs": [
        {
          "output_type": "execute_result",
          "data": {
            "text/plain": [
              "<tf.Tensor: shape=(9,), dtype=int32, numpy=array([ 1,  4,  9, 16, 25, 36, 49, 64, 81], dtype=int32)>"
            ]
          },
          "metadata": {},
          "execution_count": 361
        }
      ]
    },
    {
      "cell_type": "code",
      "source": [
        "tf.math.sqrt(H)#make dtype lab dtype as in error"
      ],
      "metadata": {
        "colab": {
          "base_uri": "https://localhost:8080/",
          "height": 344
        },
        "id": "cSP3KkYUWnr3",
        "outputId": "eb0edd4a-c688-40cb-84f4-286e193f300b"
      },
      "execution_count": 366,
      "outputs": [
        {
          "output_type": "error",
          "ename": "InvalidArgumentError",
          "evalue": "ignored",
          "traceback": [
            "\u001b[0;31m---------------------------------------------------------------------------\u001b[0m",
            "\u001b[0;31mInvalidArgumentError\u001b[0m                      Traceback (most recent call last)",
            "\u001b[0;32m<ipython-input-366-16288ea0b2d8>\u001b[0m in \u001b[0;36m<module>\u001b[0;34m\u001b[0m\n\u001b[0;32m----> 1\u001b[0;31m \u001b[0mtf\u001b[0m\u001b[0;34m.\u001b[0m\u001b[0mmath\u001b[0m\u001b[0;34m.\u001b[0m\u001b[0msqrt\u001b[0m\u001b[0;34m(\u001b[0m\u001b[0mH\u001b[0m\u001b[0;34m)\u001b[0m\u001b[0;31m#make dtype lab dtype as in error\u001b[0m\u001b[0;34m\u001b[0m\u001b[0;34m\u001b[0m\u001b[0m\n\u001b[0m",
            "\u001b[0;32m/usr/local/lib/python3.8/dist-packages/tensorflow/python/util/traceback_utils.py\u001b[0m in \u001b[0;36merror_handler\u001b[0;34m(*args, **kwargs)\u001b[0m\n\u001b[1;32m    151\u001b[0m     \u001b[0;32mexcept\u001b[0m \u001b[0mException\u001b[0m \u001b[0;32mas\u001b[0m \u001b[0me\u001b[0m\u001b[0;34m:\u001b[0m\u001b[0;34m\u001b[0m\u001b[0;34m\u001b[0m\u001b[0m\n\u001b[1;32m    152\u001b[0m       \u001b[0mfiltered_tb\u001b[0m \u001b[0;34m=\u001b[0m \u001b[0m_process_traceback_frames\u001b[0m\u001b[0;34m(\u001b[0m\u001b[0me\u001b[0m\u001b[0;34m.\u001b[0m\u001b[0m__traceback__\u001b[0m\u001b[0;34m)\u001b[0m\u001b[0;34m\u001b[0m\u001b[0;34m\u001b[0m\u001b[0m\n\u001b[0;32m--> 153\u001b[0;31m       \u001b[0;32mraise\u001b[0m \u001b[0me\u001b[0m\u001b[0;34m.\u001b[0m\u001b[0mwith_traceback\u001b[0m\u001b[0;34m(\u001b[0m\u001b[0mfiltered_tb\u001b[0m\u001b[0;34m)\u001b[0m \u001b[0;32mfrom\u001b[0m \u001b[0;32mNone\u001b[0m\u001b[0;34m\u001b[0m\u001b[0;34m\u001b[0m\u001b[0m\n\u001b[0m\u001b[1;32m    154\u001b[0m     \u001b[0;32mfinally\u001b[0m\u001b[0;34m:\u001b[0m\u001b[0;34m\u001b[0m\u001b[0;34m\u001b[0m\u001b[0m\n\u001b[1;32m    155\u001b[0m       \u001b[0;32mdel\u001b[0m \u001b[0mfiltered_tb\u001b[0m\u001b[0;34m\u001b[0m\u001b[0;34m\u001b[0m\u001b[0m\n",
            "\u001b[0;32m/usr/local/lib/python3.8/dist-packages/tensorflow/python/framework/ops.py\u001b[0m in \u001b[0;36mraise_from_not_ok_status\u001b[0;34m(e, name)\u001b[0m\n\u001b[1;32m   7213\u001b[0m \u001b[0;32mdef\u001b[0m \u001b[0mraise_from_not_ok_status\u001b[0m\u001b[0;34m(\u001b[0m\u001b[0me\u001b[0m\u001b[0;34m,\u001b[0m \u001b[0mname\u001b[0m\u001b[0;34m)\u001b[0m\u001b[0;34m:\u001b[0m\u001b[0;34m\u001b[0m\u001b[0;34m\u001b[0m\u001b[0m\n\u001b[1;32m   7214\u001b[0m   \u001b[0me\u001b[0m\u001b[0;34m.\u001b[0m\u001b[0mmessage\u001b[0m \u001b[0;34m+=\u001b[0m \u001b[0;34m(\u001b[0m\u001b[0;34m\" name: \"\u001b[0m \u001b[0;34m+\u001b[0m \u001b[0mname\u001b[0m \u001b[0;32mif\u001b[0m \u001b[0mname\u001b[0m \u001b[0;32mis\u001b[0m \u001b[0;32mnot\u001b[0m \u001b[0;32mNone\u001b[0m \u001b[0;32melse\u001b[0m \u001b[0;34m\"\"\u001b[0m\u001b[0;34m)\u001b[0m\u001b[0;34m\u001b[0m\u001b[0;34m\u001b[0m\u001b[0m\n\u001b[0;32m-> 7215\u001b[0;31m   \u001b[0;32mraise\u001b[0m \u001b[0mcore\u001b[0m\u001b[0;34m.\u001b[0m\u001b[0m_status_to_exception\u001b[0m\u001b[0;34m(\u001b[0m\u001b[0me\u001b[0m\u001b[0;34m)\u001b[0m \u001b[0;32mfrom\u001b[0m \u001b[0;32mNone\u001b[0m  \u001b[0;31m# pylint: disable=protected-access\u001b[0m\u001b[0;34m\u001b[0m\u001b[0;34m\u001b[0m\u001b[0m\n\u001b[0m\u001b[1;32m   7216\u001b[0m \u001b[0;34m\u001b[0m\u001b[0m\n\u001b[1;32m   7217\u001b[0m \u001b[0;34m\u001b[0m\u001b[0m\n",
            "\u001b[0;31mInvalidArgumentError\u001b[0m: Value for attr 'T' of int32 is not in the list of allowed values: bfloat16, half, float, double, complex64, complex128\n\t; NodeDef: {{node Sqrt}}; Op<name=Sqrt; signature=x:T -> y:T; attr=T:type,allowed=[DT_BFLOAT16, DT_HALF, DT_FLOAT, DT_DOUBLE, DT_COMPLEX64, DT_COMPLEX128]> [Op:Sqrt]"
          ]
        }
      ]
    },
    {
      "cell_type": "code",
      "source": [
        "tf.math.sqrt(tf.cast(H, tf.float32))"
      ],
      "metadata": {
        "colab": {
          "base_uri": "https://localhost:8080/"
        },
        "id": "Aj7rJbplW1Df",
        "outputId": "d76cd1a3-8ad3-4d8c-b91b-ab1345a9fdab"
      },
      "execution_count": 367,
      "outputs": [
        {
          "output_type": "execute_result",
          "data": {
            "text/plain": [
              "<tf.Tensor: shape=(9,), dtype=float32, numpy=\n",
              "array([1.       , 1.4142135, 1.7320508, 2.       , 2.236068 , 2.4494898,\n",
              "       2.6457512, 2.828427 , 3.       ], dtype=float32)>"
            ]
          },
          "metadata": {},
          "execution_count": 367
        }
      ]
    },
    {
      "cell_type": "code",
      "source": [
        "tf.math.log(tf.cast(H, tf.float32))"
      ],
      "metadata": {
        "colab": {
          "base_uri": "https://localhost:8080/"
        },
        "id": "a4i2e5GYW7tf",
        "outputId": "3bfc0a29-e00e-4181-80c2-ac1d6be69cd0"
      },
      "execution_count": 368,
      "outputs": [
        {
          "output_type": "execute_result",
          "data": {
            "text/plain": [
              "<tf.Tensor: shape=(9,), dtype=float32, numpy=\n",
              "array([0.       , 0.6931472, 1.0986123, 1.3862944, 1.609438 , 1.7917595,\n",
              "       1.9459102, 2.0794415, 2.1972246], dtype=float32)>"
            ]
          },
          "metadata": {},
          "execution_count": 368
        }
      ]
    },
    {
      "cell_type": "markdown",
      "source": [
        "# Tensor and numpy\n",
        "tensorflow interacts beautifully with numpy arrays"
      ],
      "metadata": {
        "id": "Eyt9NAc2YyIx"
      }
    },
    {
      "cell_type": "code",
      "source": [
        "#  create tensor directly from numpy array. tensordflow built upon tensor and numpy built upon array with full interoperability between tensorflow and numpy\n",
        "J=tf.constant(np.array([1,2,3,4]))\n",
        "J, type(J)"
      ],
      "metadata": {
        "colab": {
          "base_uri": "https://localhost:8080/"
        },
        "id": "-JGnzPIsY1Jw",
        "outputId": "e4ab4782-d4a7-4993-83c6-747ae43482fa"
      },
      "execution_count": 372,
      "outputs": [
        {
          "output_type": "execute_result",
          "data": {
            "text/plain": [
              "(<tf.Tensor: shape=(4,), dtype=int64, numpy=array([1, 2, 3, 4])>,\n",
              " tensorflow.python.framework.ops.EagerTensor)"
            ]
          },
          "metadata": {},
          "execution_count": 372
        }
      ]
    },
    {
      "cell_type": "code",
      "source": [
        "# convert tensor back to numpy array\n",
        "np.array(J), type(np.array(J) )"
      ],
      "metadata": {
        "colab": {
          "base_uri": "https://localhost:8080/"
        },
        "id": "MVXFLVo9ZgzY",
        "outputId": "99d3d6d1-1dda-4f60-e956-12c822649059"
      },
      "execution_count": 373,
      "outputs": [
        {
          "output_type": "execute_result",
          "data": {
            "text/plain": [
              "(array([1, 2, 3, 4]), numpy.ndarray)"
            ]
          },
          "metadata": {},
          "execution_count": 373
        }
      ]
    },
    {
      "cell_type": "code",
      "source": [
        "# convert tensor back to numpy array another method in tensorflow\n",
        "J.numpy(),  type(J.numpy())\n",
        " "
      ],
      "metadata": {
        "colab": {
          "base_uri": "https://localhost:8080/"
        },
        "id": "NGkpB0YDZnw6",
        "outputId": "d7f00ddc-6577-4183-be42-30ac2fe390ed"
      },
      "execution_count": 375,
      "outputs": [
        {
          "output_type": "execute_result",
          "data": {
            "text/plain": [
              "(array([1, 2, 3, 4]), numpy.ndarray)"
            ]
          },
          "metadata": {},
          "execution_count": 375
        }
      ]
    },
    {
      "cell_type": "code",
      "source": [
        "# some functionality we want to use that dont work with data intensive types like tensor we convert to numpy array and viceversa"
      ],
      "metadata": {
        "id": "hYWpkSJ1aLSn"
      },
      "execution_count": 377,
      "outputs": []
    },
    {
      "cell_type": "code",
      "source": [
        "# default type of each numpy array and tensor slightly different\n",
        "numpy_J=tf.constant(np.array([1,2,3,4]))\n",
        "tensor_J=tf.constant([1,2,3,4])\n",
        "# check datatype of each\n",
        "numpy_J.dtype, tensor_J.dtype"
      ],
      "metadata": {
        "colab": {
          "base_uri": "https://localhost:8080/"
        },
        "id": "A-31UnMUaoFE",
        "outputId": "e52bf9f8-ed97-42a1-fcd5-a2c26342b104"
      },
      "execution_count": 380,
      "outputs": [
        {
          "output_type": "execute_result",
          "data": {
            "text/plain": [
              "(tf.int64, tf.int32)"
            ]
          },
          "metadata": {},
          "execution_count": 380
        }
      ]
    },
    {
      "cell_type": "code",
      "source": [
        "# default type of each numpy array and tensor slightly different\n",
        "numpy_J=tf.constant(np.array([1.4,2,3,4])) # from numpy array\n",
        "tensor_J=tf.constant([1,2,3.4,4]) #from python list\n",
        "# check datatype of each\n",
        "numpy_J.dtype, tensor_J.dtype"
      ],
      "metadata": {
        "colab": {
          "base_uri": "https://localhost:8080/"
        },
        "id": "OtddClH2a6TF",
        "outputId": "a5534633-6ab2-419e-a3fb-3c7d2c895a80"
      },
      "execution_count": 381,
      "outputs": [
        {
          "output_type": "execute_result",
          "data": {
            "text/plain": [
              "(tf.float64, tf.float32)"
            ]
          },
          "metadata": {},
          "execution_count": 381
        }
      ]
    },
    {
      "cell_type": "code",
      "source": [
        "np.array([1.4,2,3,4]).dtype"
      ],
      "metadata": {
        "colab": {
          "base_uri": "https://localhost:8080/"
        },
        "id": "deiZhR5abhBM",
        "outputId": "a2f01664-e5b4-4325-c094-25c40b8169d4"
      },
      "execution_count": 382,
      "outputs": [
        {
          "output_type": "execute_result",
          "data": {
            "text/plain": [
              "dtype('float64')"
            ]
          },
          "metadata": {},
          "execution_count": 382
        }
      ]
    },
    {
      "cell_type": "code",
      "source": [
        "# one of main issues with tensors is different datatype issues and if you have converted numpy array to tensor than most of the time you may need to convert to appropriate type like float32 to work with tensorflow"
      ],
      "metadata": {
        "id": "_woDkJ2lbmqr"
      },
      "execution_count": 389,
      "outputs": []
    },
    {
      "cell_type": "code",
      "source": [
        "# tensorflow tensor and numpy array difference is tensorflow tensor can be run on GPU and TPU for faster numerical processing"
      ],
      "metadata": {
        "id": "qfUYOZXeb0ET"
      },
      "execution_count": 391,
      "outputs": []
    },
    {
      "cell_type": "code",
      "source": [
        "import tensorflow as tf\n",
        "tf.config.list_physical_devices()"
      ],
      "metadata": {
        "colab": {
          "base_uri": "https://localhost:8080/"
        },
        "id": "w-lmHfIYc2_A",
        "outputId": "324153c4-e8e3-40a8-bc09-14e24c7172a1"
      },
      "execution_count": 2,
      "outputs": [
        {
          "output_type": "execute_result",
          "data": {
            "text/plain": [
              "[PhysicalDevice(name='/physical_device:CPU:0', device_type='CPU'),\n",
              " PhysicalDevice(name='/physical_device:GPU:0', device_type='GPU')]"
            ]
          },
          "metadata": {},
          "execution_count": 2
        }
      ]
    },
    {
      "cell_type": "code",
      "source": [
        "tf.config.list_physical_devices(\"GPU\")"
      ],
      "metadata": {
        "colab": {
          "base_uri": "https://localhost:8080/"
        },
        "id": "3U07uUJ7eNuE",
        "outputId": "eda6971f-e402-4037-ea81-083599f1ff27"
      },
      "execution_count": 3,
      "outputs": [
        {
          "output_type": "execute_result",
          "data": {
            "text/plain": [
              "[PhysicalDevice(name='/physical_device:GPU:0', device_type='GPU')]"
            ]
          },
          "metadata": {},
          "execution_count": 3
        }
      ]
    },
    {
      "cell_type": "code",
      "source": [
        "# some GPU from low to high speed Nvidia K80s, T4s,P4, and P100s ===higher the number faster p100 is fastest among them "
      ],
      "metadata": {
        "id": "ruMMEIGBegEV"
      },
      "execution_count": 4,
      "outputs": []
    },
    {
      "cell_type": "code",
      "source": [
        "!nvidia-smi\n",
        "# we got access to tesla t4 GPU with almost 16 gigabytes of memory(15360MiB) with CUDA version 11.6"
      ],
      "metadata": {
        "colab": {
          "base_uri": "https://localhost:8080/"
        },
        "id": "JdwgvUrYgJAM",
        "outputId": "99190ef6-f6d0-4730-98f9-581a822c24f3"
      },
      "execution_count": 6,
      "outputs": [
        {
          "output_type": "stream",
          "name": "stdout",
          "text": [
            "Thu Feb 16 09:20:36 2023       \n",
            "+-----------------------------------------------------------------------------+\n",
            "| NVIDIA-SMI 510.47.03    Driver Version: 510.47.03    CUDA Version: 11.6     |\n",
            "|-------------------------------+----------------------+----------------------+\n",
            "| GPU  Name        Persistence-M| Bus-Id        Disp.A | Volatile Uncorr. ECC |\n",
            "| Fan  Temp  Perf  Pwr:Usage/Cap|         Memory-Usage | GPU-Util  Compute M. |\n",
            "|                               |                      |               MIG M. |\n",
            "|===============================+======================+======================|\n",
            "|   0  Tesla T4            Off  | 00000000:00:04.0 Off |                    0 |\n",
            "| N/A   36C    P8     9W /  70W |      3MiB / 15360MiB |      0%      Default |\n",
            "|                               |                      |                  N/A |\n",
            "+-------------------------------+----------------------+----------------------+\n",
            "                                                                               \n",
            "+-----------------------------------------------------------------------------+\n",
            "| Processes:                                                                  |\n",
            "|  GPU   GI   CI        PID   Type   Process name                  GPU Memory |\n",
            "|        ID   ID                                                   Usage      |\n",
            "|=============================================================================|\n",
            "|  No running processes found                                                 |\n",
            "+-----------------------------------------------------------------------------+\n"
          ]
        }
      ]
    },
    {
      "cell_type": "markdown",
      "source": [
        "## CUDA is basically a driver is the interface between GPU and tensorflow code that makes tensorflow code run really fast by parallel.\n",
        "if you have accessed to CUDA enabled GPU, tensorflow will automatically use it whenever possible\n",
        "CUDA® is a parallel computing platform and programming model developed by NVIDIA for general computing on graphical processing units (GPUs)."
      ],
      "metadata": {
        "id": "4y9DhsZZhqUp"
      }
    },
    {
      "cell_type": "code",
      "source": [],
      "metadata": {
        "id": "JYlVOt31gL7e"
      },
      "execution_count": null,
      "outputs": []
    }
  ]
}