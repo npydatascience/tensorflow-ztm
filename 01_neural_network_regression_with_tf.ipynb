{
  "nbformat": 4,
  "nbformat_minor": 0,
  "metadata": {
    "colab": {
      "provenance": []
    },
    "kernelspec": {
      "name": "python3",
      "display_name": "Python 3"
    },
    "language_info": {
      "name": "python"
    }
  },
  "cells": [
    {
      "cell_type": "markdown",
      "source": [
        "# intro to regression task using neural network\n",
        "in regression task output shape will be 1\n",
        "and input shape will be number of feature\n",
        "if you have features and labels as numpy array, turn this into tensors using tf.constant()"
      ],
      "metadata": {
        "id": "Zu97zo46w__Y"
      }
    },
    {
      "cell_type": "code",
      "source": [
        "import tensorflow as tf\n",
        "import numpy as np\n",
        "import matplotlib.pyplot as plt"
      ],
      "metadata": {
        "id": "8jN_GDEdyD39"
      },
      "execution_count": 27,
      "outputs": []
    },
    {
      "cell_type": "code",
      "source": [
        "# our data with one feature and one label( input shape=1, hidden shape=1)\n",
        "X=np.array([1,2,3,4,5,6,7,8,9,10,11,12])\n",
        "y=np.array([4,6,8,10,12,14,16,18,20,22,24,26])\n",
        "plt.scatter(X,y)"
      ],
      "metadata": {
        "colab": {
          "base_uri": "https://localhost:8080/",
          "height": 283
        },
        "id": "fhasjyJB2T4b",
        "outputId": "798a370e-0a4b-4835-9458-3c2d205ffb3e"
      },
      "execution_count": 28,
      "outputs": [
        {
          "output_type": "execute_result",
          "data": {
            "text/plain": [
              "<matplotlib.collections.PathCollection at 0x7fe764a7aaf0>"
            ]
          },
          "metadata": {},
          "execution_count": 28
        },
        {
          "output_type": "display_data",
          "data": {
            "text/plain": [
              "<Figure size 432x288 with 1 Axes>"
            ],
            "image/png": "[encoded data removed]"
          },
          "metadata": {
            "needs_background": "light"
          }
        }
      ]
    },
    {
      "cell_type": "code",
      "source": [
        "# need to convert numpy array to tensorflow tensors\n",
        "X=tf.cast(tf.constant(X), tf.float32)\n",
        "y=tf.constant(tf.cast(y, tf.float32))\n",
        "X.dtype,y.dtype"
      ],
      "metadata": {
        "colab": {
          "base_uri": "https://localhost:8080/"
        },
        "id": "Kqs5UGye2tc6",
        "outputId": "49e53517-4e72-4d5d-bfdb-8e356edeb744"
      },
      "execution_count": 29,
      "outputs": [
        {
          "output_type": "execute_result",
          "data": {
            "text/plain": [
              "(tf.float32, tf.float32)"
            ]
          },
          "metadata": {},
          "execution_count": 29
        }
      ]
    },
    {
      "cell_type": "markdown",
      "source": [
        "## steps im modeling in tensorflow\n",
        "1.  **Creating a model** -define input, output and hidden layer of model.\n",
        "2.  **Compiling model** -define loss function(that tells our model how wrong it is),  and the optimiser(tells our model how to improve the pattern its learning) and evaluation metrics(interprete model performance).\n",
        "3.   **Fitting a model** -let model find pattern between features(covariates) and labels.\n",
        "\n"
      ],
      "metadata": {
        "id": "_uEYWFlb3LxW"
      }
    },
    {
      "cell_type": "code",
      "source": [
        "# set random seed for reproducability\n",
        "tf.random.set_seed(42)\n",
        "# create model using sequential API\n",
        "model=tf.keras.Sequential([\n",
        "    tf.keras.layers.Dense(1),\n",
        "])\n",
        "\n",
        "# compile model\n",
        "model.compile(loss=tf.keras.losses.mae, \n",
        "              optimizer=tf.keras.optimizers.SGD(),\n",
        "              metrics=[\"mae\"])\n",
        "# fit the model\n",
        "model.fit(tf.expand_dims(X, axis=-1), y, epochs=100)\n",
        "# you got 5 opportunity to go through all X and y value and try find patterns\n",
        "#  can alson use \"sgd\". in place of tf.keras.optimizers.SGD(). if they have shortcot name like mae/SGD you can replace with string version of that."
      ],
      "metadata": {
        "colab": {
          "base_uri": "https://localhost:8080/"
        },
        "id": "IvGMftVe5Uhb",
        "outputId": "3b17f751-7418-4326-f716-b0dbe8cb1563"
      },
      "execution_count": 30,
      "outputs": [
        {
          "output_type": "stream",
          "name": "stdout",
          "text": [
            "Epoch 1/100\n",
            "1/1 [==============================] - 0s 364ms/step - loss: 9.9055 - mae: 9.9055\n",
            "Epoch 2/100\n",
            "1/1 [==============================] - 0s 14ms/step - loss: 9.4730 - mae: 9.4730\n",
            "Epoch 3/100\n",
            "1/1 [==============================] - 0s 12ms/step - loss: 9.0405 - mae: 9.0405\n",
            "Epoch 4/100\n",
            "1/1 [==============================] - 0s 12ms/step - loss: 8.6080 - mae: 8.6080\n",
            "Epoch 5/100\n",
            "1/1 [==============================] - 0s 10ms/step - loss: 8.1755 - mae: 8.1755\n",
            "Epoch 6/100\n",
            "1/1 [==============================] - 0s 10ms/step - loss: 7.7430 - mae: 7.7430\n",
            "Epoch 7/100\n",
            "1/1 [==============================] - 0s 15ms/step - loss: 7.3105 - mae: 7.3105\n",
            "Epoch 8/100\n",
            "1/1 [==============================] - 0s 10ms/step - loss: 6.8780 - mae: 6.8780\n",
            "Epoch 9/100\n",
            "1/1 [==============================] - 0s 11ms/step - loss: 6.4455 - mae: 6.4455\n",
            "Epoch 10/100\n",
            "1/1 [==============================] - 0s 11ms/step - loss: 6.0130 - mae: 6.0130\n",
            "Epoch 11/100\n",
            "1/1 [==============================] - 0s 10ms/step - loss: 5.5805 - mae: 5.5805\n",
            "Epoch 12/100\n",
            "1/1 [==============================] - 0s 12ms/step - loss: 5.1480 - mae: 5.1480\n",
            "Epoch 13/100\n",
            "1/1 [==============================] - 0s 12ms/step - loss: 4.7155 - mae: 4.7155\n",
            "Epoch 14/100\n",
            "1/1 [==============================] - 0s 12ms/step - loss: 4.2830 - mae: 4.2830\n",
            "Epoch 15/100\n",
            "1/1 [==============================] - 0s 12ms/step - loss: 3.8505 - mae: 3.8505\n",
            "Epoch 16/100\n",
            "1/1 [==============================] - 0s 12ms/step - loss: 3.4180 - mae: 3.4180\n",
            "Epoch 17/100\n",
            "1/1 [==============================] - 0s 12ms/step - loss: 2.9855 - mae: 2.9855\n",
            "Epoch 18/100\n",
            "1/1 [==============================] - 0s 13ms/step - loss: 2.5530 - mae: 2.5530\n",
            "Epoch 19/100\n",
            "1/1 [==============================] - 0s 13ms/step - loss: 2.1205 - mae: 2.1205\n",
            "Epoch 20/100\n",
            "1/1 [==============================] - 0s 12ms/step - loss: 1.6880 - mae: 1.6880\n",
            "Epoch 21/100\n",
            "1/1 [==============================] - 0s 12ms/step - loss: 1.2555 - mae: 1.2555\n",
            "Epoch 22/100\n",
            "1/1 [==============================] - 0s 12ms/step - loss: 0.8230 - mae: 0.8230\n",
            "Epoch 23/100\n",
            "1/1 [==============================] - 0s 12ms/step - loss: 0.7002 - mae: 0.7002\n",
            "Epoch 24/100\n",
            "1/1 [==============================] - 0s 13ms/step - loss: 0.6966 - mae: 0.6966\n",
            "Epoch 25/100\n",
            "1/1 [==============================] - 0s 12ms/step - loss: 0.6930 - mae: 0.6930\n",
            "Epoch 26/100\n",
            "1/1 [==============================] - 0s 16ms/step - loss: 0.6894 - mae: 0.6894\n",
            "Epoch 27/100\n",
            "1/1 [==============================] - 0s 11ms/step - loss: 0.6896 - mae: 0.6896\n",
            "Epoch 28/100\n",
            "1/1 [==============================] - 0s 11ms/step - loss: 0.6891 - mae: 0.6891\n",
            "Epoch 29/100\n",
            "1/1 [==============================] - 0s 11ms/step - loss: 0.6855 - mae: 0.6855\n",
            "Epoch 30/100\n",
            "1/1 [==============================] - 0s 11ms/step - loss: 0.6837 - mae: 0.6837\n",
            "Epoch 31/100\n",
            "1/1 [==============================] - 0s 14ms/step - loss: 0.6852 - mae: 0.6852\n",
            "Epoch 32/100\n",
            "1/1 [==============================] - 0s 13ms/step - loss: 0.6816 - mae: 0.6816\n",
            "Epoch 33/100\n",
            "1/1 [==============================] - 0s 14ms/step - loss: 0.6780 - mae: 0.6780\n",
            "Epoch 34/100\n",
            "1/1 [==============================] - 0s 12ms/step - loss: 0.6812 - mae: 0.6812\n",
            "Epoch 35/100\n",
            "1/1 [==============================] - 0s 12ms/step - loss: 0.6777 - mae: 0.6777\n",
            "Epoch 36/100\n",
            "1/1 [==============================] - 0s 12ms/step - loss: 0.6741 - mae: 0.6741\n",
            "Epoch 37/100\n",
            "1/1 [==============================] - 0s 12ms/step - loss: 0.6754 - mae: 0.6754\n",
            "Epoch 38/100\n",
            "1/1 [==============================] - 0s 11ms/step - loss: 0.6738 - mae: 0.6738\n",
            "Epoch 39/100\n",
            "1/1 [==============================] - 0s 13ms/step - loss: 0.6702 - mae: 0.6702\n",
            "Epoch 40/100\n",
            "1/1 [==============================] - 0s 11ms/step - loss: 0.6696 - mae: 0.6696\n",
            "Epoch 41/100\n",
            "1/1 [==============================] - 0s 11ms/step - loss: 0.6699 - mae: 0.6699\n",
            "Epoch 42/100\n",
            "1/1 [==============================] - 0s 11ms/step - loss: 0.6663 - mae: 0.6663\n",
            "Epoch 43/100\n",
            "1/1 [==============================] - 0s 12ms/step - loss: 0.6637 - mae: 0.6637\n",
            "Epoch 44/100\n",
            "1/1 [==============================] - 0s 12ms/step - loss: 0.6660 - mae: 0.6660\n",
            "Epoch 45/100\n",
            "1/1 [==============================] - 0s 13ms/step - loss: 0.6624 - mae: 0.6624\n",
            "Epoch 46/100\n",
            "1/1 [==============================] - 0s 11ms/step - loss: 0.6588 - mae: 0.6588\n",
            "Epoch 47/100\n",
            "1/1 [==============================] - 0s 11ms/step - loss: 0.6612 - mae: 0.6612\n",
            "Epoch 48/100\n",
            "1/1 [==============================] - 0s 11ms/step - loss: 0.6585 - mae: 0.6585\n",
            "Epoch 49/100\n",
            "1/1 [==============================] - 0s 11ms/step - loss: 0.6549 - mae: 0.6549\n",
            "Epoch 50/100\n",
            "1/1 [==============================] - 0s 11ms/step - loss: 0.6554 - mae: 0.6554\n",
            "Epoch 51/100\n",
            "1/1 [==============================] - 0s 12ms/step - loss: 0.6547 - mae: 0.6547\n",
            "Epoch 52/100\n",
            "1/1 [==============================] - 0s 11ms/step - loss: 0.6510 - mae: 0.6510\n",
            "Epoch 53/100\n",
            "1/1 [==============================] - 0s 11ms/step - loss: 0.6496 - mae: 0.6496\n",
            "Epoch 54/100\n",
            "1/1 [==============================] - 0s 11ms/step - loss: 0.6508 - mae: 0.6508\n",
            "Epoch 55/100\n",
            "1/1 [==============================] - 0s 12ms/step - loss: 0.6472 - mae: 0.6472\n",
            "Epoch 56/100\n",
            "1/1 [==============================] - 0s 11ms/step - loss: 0.6437 - mae: 0.6437\n",
            "Epoch 57/100\n",
            "1/1 [==============================] - 0s 11ms/step - loss: 0.6469 - mae: 0.6469\n",
            "Epoch 58/100\n",
            "1/1 [==============================] - 0s 11ms/step - loss: 0.6433 - mae: 0.6433\n",
            "Epoch 59/100\n",
            "1/1 [==============================] - 0s 11ms/step - loss: 0.6397 - mae: 0.6397\n",
            "Epoch 60/100\n",
            "1/1 [==============================] - 0s 10ms/step - loss: 0.6412 - mae: 0.6412\n",
            "Epoch 61/100\n",
            "1/1 [==============================] - 0s 11ms/step - loss: 0.6394 - mae: 0.6394\n",
            "Epoch 62/100\n",
            "1/1 [==============================] - 0s 11ms/step - loss: 0.6358 - mae: 0.6358\n",
            "Epoch 63/100\n",
            "1/1 [==============================] - 0s 11ms/step - loss: 0.6354 - mae: 0.6354\n",
            "Epoch 64/100\n",
            "1/1 [==============================] - 0s 11ms/step - loss: 0.6355 - mae: 0.6355\n",
            "Epoch 65/100\n",
            "1/1 [==============================] - 0s 11ms/step - loss: 0.6319 - mae: 0.6319\n",
            "Epoch 66/100\n",
            "1/1 [==============================] - 0s 11ms/step - loss: 0.6296 - mae: 0.6296\n",
            "Epoch 67/100\n",
            "1/1 [==============================] - 0s 11ms/step - loss: 0.6316 - mae: 0.6316\n",
            "Epoch 68/100\n",
            "1/1 [==============================] - 0s 11ms/step - loss: 0.6280 - mae: 0.6280\n",
            "Epoch 69/100\n",
            "1/1 [==============================] - 0s 11ms/step - loss: 0.6244 - mae: 0.6244\n",
            "Epoch 70/100\n",
            "1/1 [==============================] - 0s 11ms/step - loss: 0.6271 - mae: 0.6271\n",
            "Epoch 71/100\n",
            "1/1 [==============================] - 0s 11ms/step - loss: 0.6241 - mae: 0.6241\n",
            "Epoch 72/100\n",
            "1/1 [==============================] - 0s 11ms/step - loss: 0.6205 - mae: 0.6205\n",
            "Epoch 73/100\n",
            "1/1 [==============================] - 0s 11ms/step - loss: 0.6212 - mae: 0.6212\n",
            "Epoch 74/100\n",
            "1/1 [==============================] - 0s 12ms/step - loss: 0.6202 - mae: 0.6202\n",
            "Epoch 75/100\n",
            "1/1 [==============================] - 0s 12ms/step - loss: 0.6166 - mae: 0.6166\n",
            "Epoch 76/100\n",
            "1/1 [==============================] - 0s 12ms/step - loss: 0.6154 - mae: 0.6154\n",
            "Epoch 77/100\n",
            "1/1 [==============================] - 0s 11ms/step - loss: 0.6163 - mae: 0.6163\n",
            "Epoch 78/100\n",
            "1/1 [==============================] - 0s 13ms/step - loss: 0.6127 - mae: 0.6127\n",
            "Epoch 79/100\n",
            "1/1 [==============================] - 0s 11ms/step - loss: 0.6096 - mae: 0.6096\n",
            "Epoch 80/100\n",
            "1/1 [==============================] - 0s 12ms/step - loss: 0.6124 - mae: 0.6124\n",
            "Epoch 81/100\n",
            "1/1 [==============================] - 0s 11ms/step - loss: 0.6088 - mae: 0.6088\n",
            "Epoch 82/100\n",
            "1/1 [==============================] - 0s 11ms/step - loss: 0.6052 - mae: 0.6052\n",
            "Epoch 83/100\n",
            "1/1 [==============================] - 0s 11ms/step - loss: 0.6071 - mae: 0.6071\n",
            "Epoch 84/100\n",
            "1/1 [==============================] - 0s 11ms/step - loss: 0.6049 - mae: 0.6049\n",
            "Epoch 85/100\n",
            "1/1 [==============================] - 0s 11ms/step - loss: 0.6013 - mae: 0.6013\n",
            "Epoch 86/100\n",
            "1/1 [==============================] - 0s 11ms/step - loss: 0.6012 - mae: 0.6012\n",
            "Epoch 87/100\n",
            "1/1 [==============================] - 0s 10ms/step - loss: 0.6010 - mae: 0.6010\n",
            "Epoch 88/100\n",
            "1/1 [==============================] - 0s 10ms/step - loss: 0.5974 - mae: 0.5974\n",
            "Epoch 89/100\n",
            "1/1 [==============================] - 0s 13ms/step - loss: 0.5954 - mae: 0.5954\n",
            "Epoch 90/100\n",
            "1/1 [==============================] - 0s 12ms/step - loss: 0.5972 - mae: 0.5972\n",
            "Epoch 91/100\n",
            "1/1 [==============================] - 0s 18ms/step - loss: 0.5935 - mae: 0.5935\n",
            "Epoch 92/100\n",
            "1/1 [==============================] - 0s 11ms/step - loss: 0.5899 - mae: 0.5899\n",
            "Epoch 93/100\n",
            "1/1 [==============================] - 0s 11ms/step - loss: 0.5929 - mae: 0.5929\n",
            "Epoch 94/100\n",
            "1/1 [==============================] - 0s 12ms/step - loss: 0.5897 - mae: 0.5897\n",
            "Epoch 95/100\n",
            "1/1 [==============================] - 0s 15ms/step - loss: 0.5860 - mae: 0.5860\n",
            "Epoch 96/100\n",
            "1/1 [==============================] - 0s 14ms/step - loss: 0.5871 - mae: 0.5871\n",
            "Epoch 97/100\n",
            "1/1 [==============================] - 0s 14ms/step - loss: 0.5858 - mae: 0.5858\n",
            "Epoch 98/100\n",
            "1/1 [==============================] - 0s 16ms/step - loss: 0.5822 - mae: 0.5822\n",
            "Epoch 99/100\n",
            "1/1 [==============================] - 0s 14ms/step - loss: 0.5812 - mae: 0.5812\n",
            "Epoch 100/100\n",
            "1/1 [==============================] - 0s 14ms/step - loss: 0.5819 - mae: 0.5819\n"
          ]
        },
        {
          "output_type": "execute_result",
          "data": {
            "text/plain": [
              "<keras.callbacks.History at 0x7fe764aa1f70>"
            ]
          },
          "metadata": {},
          "execution_count": 30
        }
      ]
    },
    {
      "cell_type": "code",
      "source": [
        "tf.expand_dims(X, axis=-1)"
      ],
      "metadata": {
        "colab": {
          "base_uri": "https://localhost:8080/"
        },
        "id": "LrcKd1-8_ku9",
        "outputId": "38bdeca0-2f12-4db7-989e-f72df66572ce"
      },
      "execution_count": 31,
      "outputs": [
        {
          "output_type": "execute_result",
          "data": {
            "text/plain": [
              "<tf.Tensor: shape=(12, 1), dtype=float32, numpy=\n",
              "array([[ 1.],\n",
              "       [ 2.],\n",
              "       [ 3.],\n",
              "       [ 4.],\n",
              "       [ 5.],\n",
              "       [ 6.],\n",
              "       [ 7.],\n",
              "       [ 8.],\n",
              "       [ 9.],\n",
              "       [10.],\n",
              "       [11.],\n",
              "       [12.]], dtype=float32)>"
            ]
          },
          "metadata": {},
          "execution_count": 31
        }
      ]
    },
    {
      "cell_type": "code",
      "source": [
        "y_pred=model.predict([[20]])"
      ],
      "metadata": {
        "colab": {
          "base_uri": "https://localhost:8080/"
        },
        "id": "DSN1fVRmO0MB",
        "outputId": "d1bd3704-8cf0-4872-fc68-27fefd8a5275"
      },
      "execution_count": 32,
      "outputs": [
        {
          "output_type": "stream",
          "name": "stdout",
          "text": [
            "1/1 [==============================] - 0s 100ms/step\n"
          ]
        }
      ]
    },
    {
      "cell_type": "code",
      "source": [
        "y_pred"
      ],
      "metadata": {
        "colab": {
          "base_uri": "https://localhost:8080/"
        },
        "id": "aV_JlGOPPu01",
        "outputId": "c9c4703d-726a-4b14-e1a8-09cd36e5eba0"
      },
      "execution_count": 33,
      "outputs": [
        {
          "output_type": "execute_result",
          "data": {
            "text/plain": [
              "array([[43.893505]], dtype=float32)"
            ]
          },
          "metadata": {},
          "execution_count": 33
        }
      ]
    },
    {
      "cell_type": "markdown",
      "source": [
        "## Improve the model\n",
        "we can improve the model by altering steps we took to create our model.\n",
        "* create model--add more layers, increase hidden units(nurons) in each hidden layer, change activation function of each layer.\n",
        "* compile a model--change optimization function/change learning rate of optimization function.\n",
        "* fitting model--fit with more epochs or more data\n",
        "\n",
        "\n",
        "\n"
      ],
      "metadata": {
        "id": "G8BbQfOBlVXe"
      }
    },
    {
      "cell_type": "code",
      "source": [
        "# lets tweak hyperparameter\n",
        "# create model\n",
        "tf.random.set_seed(42)\n",
        "model=tf.keras.Sequential([\n",
        "    tf.keras.layers.Dense(1)\n",
        "])\n",
        "\n",
        "# model compile\n",
        "model.compile(optimizer=tf.keras.optimizers.Adam(learning_rate=0.000001),\n",
        "              loss=tf.keras.losses.mae,\n",
        "              metrics=[\"mae\"])\n",
        "# fit the model\n",
        "model.fit(tf.expand_dims(X, axis=-1), y, epochs=100)\n",
        "# here adding adam with learning rate 0.00001 didnt improve"
      ],
      "metadata": {
        "colab": {
          "base_uri": "https://localhost:8080/"
        },
        "id": "uiKQBfvYPxB3",
        "outputId": "95052897-7549-45e5-f179-60fb6bce5ed2"
      },
      "execution_count": 34,
      "outputs": [
        {
          "output_type": "stream",
          "name": "stdout",
          "text": [
            "Epoch 1/100\n",
            "1/1 [==============================] - 1s 613ms/step - loss: 13.5824 - mae: 13.5824\n",
            "Epoch 2/100\n",
            "1/1 [==============================] - 0s 19ms/step - loss: 13.5823 - mae: 13.5823\n",
            "Epoch 3/100\n",
            "1/1 [==============================] - 0s 19ms/step - loss: 13.5823 - mae: 13.5823\n",
            "Epoch 4/100\n",
            "1/1 [==============================] - 0s 19ms/step - loss: 13.5823 - mae: 13.5823\n",
            "Epoch 5/100\n",
            "1/1 [==============================] - 0s 14ms/step - loss: 13.5823 - mae: 13.5823\n",
            "Epoch 6/100\n",
            "1/1 [==============================] - 0s 15ms/step - loss: 13.5823 - mae: 13.5823\n",
            "Epoch 7/100\n",
            "1/1 [==============================] - 0s 18ms/step - loss: 13.5823 - mae: 13.5823\n",
            "Epoch 8/100\n",
            "1/1 [==============================] - 0s 14ms/step - loss: 13.5823 - mae: 13.5823\n",
            "Epoch 9/100\n",
            "1/1 [==============================] - 0s 10ms/step - loss: 13.5823 - mae: 13.5823\n",
            "Epoch 10/100\n",
            "1/1 [==============================] - 0s 11ms/step - loss: 13.5823 - mae: 13.5823\n",
            "Epoch 11/100\n",
            "1/1 [==============================] - 0s 11ms/step - loss: 13.5823 - mae: 13.5823\n",
            "Epoch 12/100\n",
            "1/1 [==============================] - 0s 15ms/step - loss: 13.5823 - mae: 13.5823\n",
            "Epoch 13/100\n",
            "1/1 [==============================] - 0s 9ms/step - loss: 13.5823 - mae: 13.5823\n",
            "Epoch 14/100\n",
            "1/1 [==============================] - 0s 11ms/step - loss: 13.5823 - mae: 13.5823\n",
            "Epoch 15/100\n",
            "1/1 [==============================] - 0s 11ms/step - loss: 13.5822 - mae: 13.5822\n",
            "Epoch 16/100\n",
            "1/1 [==============================] - 0s 11ms/step - loss: 13.5822 - mae: 13.5822\n",
            "Epoch 17/100\n",
            "1/1 [==============================] - 0s 10ms/step - loss: 13.5822 - mae: 13.5822\n",
            "Epoch 18/100\n",
            "1/1 [==============================] - 0s 13ms/step - loss: 13.5822 - mae: 13.5822\n",
            "Epoch 19/100\n",
            "1/1 [==============================] - 0s 16ms/step - loss: 13.5822 - mae: 13.5822\n",
            "Epoch 20/100\n",
            "1/1 [==============================] - 0s 11ms/step - loss: 13.5822 - mae: 13.5822\n",
            "Epoch 21/100\n",
            "1/1 [==============================] - 0s 11ms/step - loss: 13.5822 - mae: 13.5822\n",
            "Epoch 22/100\n",
            "1/1 [==============================] - 0s 14ms/step - loss: 13.5822 - mae: 13.5822\n",
            "Epoch 23/100\n",
            "1/1 [==============================] - 0s 13ms/step - loss: 13.5822 - mae: 13.5822\n",
            "Epoch 24/100\n",
            "1/1 [==============================] - 0s 17ms/step - loss: 13.5822 - mae: 13.5822\n",
            "Epoch 25/100\n",
            "1/1 [==============================] - 0s 18ms/step - loss: 13.5822 - mae: 13.5822\n",
            "Epoch 26/100\n",
            "1/1 [==============================] - 0s 14ms/step - loss: 13.5822 - mae: 13.5822\n",
            "Epoch 27/100\n",
            "1/1 [==============================] - 0s 12ms/step - loss: 13.5822 - mae: 13.5822\n",
            "Epoch 28/100\n",
            "1/1 [==============================] - 0s 13ms/step - loss: 13.5822 - mae: 13.5822\n",
            "Epoch 29/100\n",
            "1/1 [==============================] - 0s 13ms/step - loss: 13.5821 - mae: 13.5821\n",
            "Epoch 30/100\n",
            "1/1 [==============================] - 0s 14ms/step - loss: 13.5821 - mae: 13.5821\n",
            "Epoch 31/100\n",
            "1/1 [==============================] - 0s 14ms/step - loss: 13.5821 - mae: 13.5821\n",
            "Epoch 32/100\n",
            "1/1 [==============================] - 0s 14ms/step - loss: 13.5821 - mae: 13.5821\n",
            "Epoch 33/100\n",
            "1/1 [==============================] - 0s 13ms/step - loss: 13.5821 - mae: 13.5821\n",
            "Epoch 34/100\n",
            "1/1 [==============================] - 0s 11ms/step - loss: 13.5821 - mae: 13.5821\n",
            "Epoch 35/100\n",
            "1/1 [==============================] - 0s 10ms/step - loss: 13.5821 - mae: 13.5821\n",
            "Epoch 36/100\n",
            "1/1 [==============================] - 0s 10ms/step - loss: 13.5821 - mae: 13.5821\n",
            "Epoch 37/100\n",
            "1/1 [==============================] - 0s 11ms/step - loss: 13.5821 - mae: 13.5821\n",
            "Epoch 38/100\n",
            "1/1 [==============================] - 0s 10ms/step - loss: 13.5821 - mae: 13.5821\n",
            "Epoch 39/100\n",
            "1/1 [==============================] - 0s 11ms/step - loss: 13.5821 - mae: 13.5821\n",
            "Epoch 40/100\n",
            "1/1 [==============================] - 0s 10ms/step - loss: 13.5821 - mae: 13.5821\n",
            "Epoch 41/100\n",
            "1/1 [==============================] - 0s 11ms/step - loss: 13.5821 - mae: 13.5821\n",
            "Epoch 42/100\n",
            "1/1 [==============================] - 0s 11ms/step - loss: 13.5820 - mae: 13.5820\n",
            "Epoch 43/100\n",
            "1/1 [==============================] - 0s 10ms/step - loss: 13.5820 - mae: 13.5820\n",
            "Epoch 44/100\n",
            "1/1 [==============================] - 0s 10ms/step - loss: 13.5820 - mae: 13.5820\n",
            "Epoch 45/100\n",
            "1/1 [==============================] - 0s 10ms/step - loss: 13.5820 - mae: 13.5820\n",
            "Epoch 46/100\n",
            "1/1 [==============================] - 0s 11ms/step - loss: 13.5820 - mae: 13.5820\n",
            "Epoch 47/100\n",
            "1/1 [==============================] - 0s 11ms/step - loss: 13.5820 - mae: 13.5820\n",
            "Epoch 48/100\n",
            "1/1 [==============================] - 0s 11ms/step - loss: 13.5820 - mae: 13.5820\n",
            "Epoch 49/100\n",
            "1/1 [==============================] - 0s 11ms/step - loss: 13.5820 - mae: 13.5820\n",
            "Epoch 50/100\n",
            "1/1 [==============================] - 0s 11ms/step - loss: 13.5820 - mae: 13.5820\n",
            "Epoch 51/100\n",
            "1/1 [==============================] - 0s 12ms/step - loss: 13.5820 - mae: 13.5820\n",
            "Epoch 52/100\n",
            "1/1 [==============================] - 0s 11ms/step - loss: 13.5820 - mae: 13.5820\n",
            "Epoch 53/100\n",
            "1/1 [==============================] - 0s 11ms/step - loss: 13.5820 - mae: 13.5820\n",
            "Epoch 54/100\n",
            "1/1 [==============================] - 0s 10ms/step - loss: 13.5820 - mae: 13.5820\n",
            "Epoch 55/100\n",
            "1/1 [==============================] - 0s 11ms/step - loss: 13.5819 - mae: 13.5819\n",
            "Epoch 56/100\n",
            "1/1 [==============================] - 0s 11ms/step - loss: 13.5819 - mae: 13.5819\n",
            "Epoch 57/100\n",
            "1/1 [==============================] - 0s 11ms/step - loss: 13.5819 - mae: 13.5819\n",
            "Epoch 58/100\n",
            "1/1 [==============================] - 0s 14ms/step - loss: 13.5819 - mae: 13.5819\n",
            "Epoch 59/100\n",
            "1/1 [==============================] - 0s 14ms/step - loss: 13.5819 - mae: 13.5819\n",
            "Epoch 60/100\n",
            "1/1 [==============================] - 0s 14ms/step - loss: 13.5819 - mae: 13.5819\n",
            "Epoch 61/100\n",
            "1/1 [==============================] - 0s 13ms/step - loss: 13.5819 - mae: 13.5819\n",
            "Epoch 62/100\n",
            "1/1 [==============================] - 0s 13ms/step - loss: 13.5819 - mae: 13.5819\n",
            "Epoch 63/100\n",
            "1/1 [==============================] - 0s 9ms/step - loss: 13.5819 - mae: 13.5819\n",
            "Epoch 64/100\n",
            "1/1 [==============================] - 0s 12ms/step - loss: 13.5819 - mae: 13.5819\n",
            "Epoch 65/100\n",
            "1/1 [==============================] - 0s 11ms/step - loss: 13.5819 - mae: 13.5819\n",
            "Epoch 66/100\n",
            "1/1 [==============================] - 0s 11ms/step - loss: 13.5819 - mae: 13.5819\n",
            "Epoch 67/100\n",
            "1/1 [==============================] - 0s 11ms/step - loss: 13.5819 - mae: 13.5819\n",
            "Epoch 68/100\n",
            "1/1 [==============================] - 0s 13ms/step - loss: 13.5819 - mae: 13.5819\n",
            "Epoch 69/100\n",
            "1/1 [==============================] - 0s 14ms/step - loss: 13.5818 - mae: 13.5818\n",
            "Epoch 70/100\n",
            "1/1 [==============================] - 0s 11ms/step - loss: 13.5818 - mae: 13.5818\n",
            "Epoch 71/100\n",
            "1/1 [==============================] - 0s 11ms/step - loss: 13.5818 - mae: 13.5818\n",
            "Epoch 72/100\n",
            "1/1 [==============================] - 0s 10ms/step - loss: 13.5818 - mae: 13.5818\n",
            "Epoch 73/100\n",
            "1/1 [==============================] - 0s 11ms/step - loss: 13.5818 - mae: 13.5818\n",
            "Epoch 74/100\n",
            "1/1 [==============================] - 0s 11ms/step - loss: 13.5818 - mae: 13.5818\n",
            "Epoch 75/100\n",
            "1/1 [==============================] - 0s 11ms/step - loss: 13.5818 - mae: 13.5818\n",
            "Epoch 76/100\n",
            "1/1 [==============================] - 0s 11ms/step - loss: 13.5818 - mae: 13.5818\n",
            "Epoch 77/100\n",
            "1/1 [==============================] - 0s 11ms/step - loss: 13.5818 - mae: 13.5818\n",
            "Epoch 78/100\n",
            "1/1 [==============================] - 0s 11ms/step - loss: 13.5818 - mae: 13.5818\n",
            "Epoch 79/100\n",
            "1/1 [==============================] - 0s 11ms/step - loss: 13.5818 - mae: 13.5818\n",
            "Epoch 80/100\n",
            "1/1 [==============================] - 0s 11ms/step - loss: 13.5818 - mae: 13.5818\n",
            "Epoch 81/100\n",
            "1/1 [==============================] - 0s 11ms/step - loss: 13.5818 - mae: 13.5818\n",
            "Epoch 82/100\n",
            "1/1 [==============================] - 0s 11ms/step - loss: 13.5817 - mae: 13.5817\n",
            "Epoch 83/100\n",
            "1/1 [==============================] - 0s 12ms/step - loss: 13.5817 - mae: 13.5817\n",
            "Epoch 84/100\n",
            "1/1 [==============================] - 0s 12ms/step - loss: 13.5817 - mae: 13.5817\n",
            "Epoch 85/100\n",
            "1/1 [==============================] - 0s 11ms/step - loss: 13.5817 - mae: 13.5817\n",
            "Epoch 86/100\n",
            "1/1 [==============================] - 0s 12ms/step - loss: 13.5817 - mae: 13.5817\n",
            "Epoch 87/100\n",
            "1/1 [==============================] - 0s 10ms/step - loss: 13.5817 - mae: 13.5817\n",
            "Epoch 88/100\n",
            "1/1 [==============================] - 0s 12ms/step - loss: 13.5817 - mae: 13.5817\n",
            "Epoch 89/100\n",
            "1/1 [==============================] - 0s 11ms/step - loss: 13.5817 - mae: 13.5817\n",
            "Epoch 90/100\n",
            "1/1 [==============================] - 0s 12ms/step - loss: 13.5817 - mae: 13.5817\n",
            "Epoch 91/100\n",
            "1/1 [==============================] - 0s 12ms/step - loss: 13.5817 - mae: 13.5817\n",
            "Epoch 92/100\n",
            "1/1 [==============================] - 0s 11ms/step - loss: 13.5817 - mae: 13.5817\n",
            "Epoch 93/100\n",
            "1/1 [==============================] - 0s 11ms/step - loss: 13.5817 - mae: 13.5817\n",
            "Epoch 94/100\n",
            "1/1 [==============================] - 0s 12ms/step - loss: 13.5817 - mae: 13.5817\n",
            "Epoch 95/100\n",
            "1/1 [==============================] - 0s 11ms/step - loss: 13.5816 - mae: 13.5816\n",
            "Epoch 96/100\n",
            "1/1 [==============================] - 0s 15ms/step - loss: 13.5816 - mae: 13.5816\n",
            "Epoch 97/100\n",
            "1/1 [==============================] - 0s 10ms/step - loss: 13.5816 - mae: 13.5816\n",
            "Epoch 98/100\n",
            "1/1 [==============================] - 0s 11ms/step - loss: 13.5816 - mae: 13.5816\n",
            "Epoch 99/100\n",
            "1/1 [==============================] - 0s 11ms/step - loss: 13.5816 - mae: 13.5816\n",
            "Epoch 100/100\n",
            "1/1 [==============================] - 0s 10ms/step - loss: 13.5816 - mae: 13.5816\n"
          ]
        },
        {
          "output_type": "execute_result",
          "data": {
            "text/plain": [
              "<keras.callbacks.History at 0x7fe7649d8cd0>"
            ]
          },
          "metadata": {},
          "execution_count": 34
        }
      ]
    },
    {
      "cell_type": "code",
      "source": [
        "# lets create model by adding 100 units layer\n",
        "tf.random.set_seed(42)\n",
        "# create model using sequential API\n",
        "model=tf.keras.Sequential([\n",
        "    tf.keras.layers.Dense(100, activation=\"relu\"),\n",
        "    tf.keras.layers.Dense(1)\n",
        "])\n",
        "\n",
        "# compile model\n",
        "model.compile(loss=tf.keras.losses.mae, \n",
        "              optimizer=tf.keras.optimizers.SGD(lr=0.1),\n",
        "              metrics=[\"mae\"])\n",
        "# fit the model\n",
        "model.fit(tf.expand_dims(X, axis=-1), y, epochs=100)\n",
        "# it improved"
      ],
      "metadata": {
        "colab": {
          "base_uri": "https://localhost:8080/"
        },
        "id": "vY4TLBOgB0H_",
        "outputId": "52d3ae04-d153-40f3-f061-c33d3fec412d"
      },
      "execution_count": 35,
      "outputs": [
        {
          "output_type": "stream",
          "name": "stderr",
          "text": [
            "WARNING:absl:`lr` is deprecated, please use `learning_rate` instead, or use the legacy optimizer, e.g.,tf.keras.optimizers.legacy.SGD.\n"
          ]
        },
        {
          "output_type": "stream",
          "name": "stdout",
          "text": [
            "Epoch 1/100\n",
            "1/1 [==============================] - 0s 445ms/step - loss: 15.6919 - mae: 15.6919\n",
            "Epoch 2/100\n",
            "1/1 [==============================] - 0s 10ms/step - loss: 15.0137 - mae: 15.0137\n",
            "Epoch 3/100\n",
            "1/1 [==============================] - 0s 11ms/step - loss: 14.3734 - mae: 14.3734\n",
            "Epoch 4/100\n",
            "1/1 [==============================] - 0s 10ms/step - loss: 13.7527 - mae: 13.7527\n",
            "Epoch 5/100\n",
            "1/1 [==============================] - 0s 10ms/step - loss: 13.1257 - mae: 13.1257\n",
            "Epoch 6/100\n",
            "1/1 [==============================] - 0s 11ms/step - loss: 12.4723 - mae: 12.4723\n",
            "Epoch 7/100\n",
            "1/1 [==============================] - 0s 10ms/step - loss: 11.7888 - mae: 11.7888\n",
            "Epoch 8/100\n",
            "1/1 [==============================] - 0s 11ms/step - loss: 11.0689 - mae: 11.0689\n",
            "Epoch 9/100\n",
            "1/1 [==============================] - 0s 15ms/step - loss: 10.3196 - mae: 10.3196\n",
            "Epoch 10/100\n",
            "1/1 [==============================] - 0s 11ms/step - loss: 9.5124 - mae: 9.5124\n",
            "Epoch 11/100\n",
            "1/1 [==============================] - 0s 11ms/step - loss: 8.6195 - mae: 8.6195\n",
            "Epoch 12/100\n",
            "1/1 [==============================] - 0s 11ms/step - loss: 7.6257 - mae: 7.6257\n",
            "Epoch 13/100\n",
            "1/1 [==============================] - 0s 11ms/step - loss: 6.5149 - mae: 6.5149\n",
            "Epoch 14/100\n",
            "1/1 [==============================] - 0s 11ms/step - loss: 5.2696 - mae: 5.2696\n",
            "Epoch 15/100\n",
            "1/1 [==============================] - 0s 11ms/step - loss: 3.8703 - mae: 3.8703\n",
            "Epoch 16/100\n",
            "1/1 [==============================] - 0s 11ms/step - loss: 2.2934 - mae: 2.2934\n",
            "Epoch 17/100\n",
            "1/1 [==============================] - 0s 12ms/step - loss: 0.6483 - mae: 0.6483\n",
            "Epoch 18/100\n",
            "1/1 [==============================] - 0s 11ms/step - loss: 0.6720 - mae: 0.6720\n",
            "Epoch 19/100\n",
            "1/1 [==============================] - 0s 10ms/step - loss: 0.7389 - mae: 0.7389\n",
            "Epoch 20/100\n",
            "1/1 [==============================] - 0s 10ms/step - loss: 1.1152 - mae: 1.1152\n",
            "Epoch 21/100\n",
            "1/1 [==============================] - 0s 10ms/step - loss: 0.8720 - mae: 0.8720\n",
            "Epoch 22/100\n",
            "1/1 [==============================] - 0s 10ms/step - loss: 1.4579 - mae: 1.4579\n",
            "Epoch 23/100\n",
            "1/1 [==============================] - 0s 11ms/step - loss: 0.6855 - mae: 0.6855\n",
            "Epoch 24/100\n",
            "1/1 [==============================] - 0s 12ms/step - loss: 1.1590 - mae: 1.1590\n",
            "Epoch 25/100\n",
            "1/1 [==============================] - 0s 11ms/step - loss: 0.8009 - mae: 0.8009\n",
            "Epoch 26/100\n",
            "1/1 [==============================] - 0s 11ms/step - loss: 1.5133 - mae: 1.5133\n",
            "Epoch 27/100\n",
            "1/1 [==============================] - 0s 11ms/step - loss: 0.6442 - mae: 0.6442\n",
            "Epoch 28/100\n",
            "1/1 [==============================] - 0s 11ms/step - loss: 0.8244 - mae: 0.8244\n",
            "Epoch 29/100\n",
            "1/1 [==============================] - 0s 11ms/step - loss: 0.9835 - mae: 0.9835\n",
            "Epoch 30/100\n",
            "1/1 [==============================] - 0s 11ms/step - loss: 1.3266 - mae: 1.3266\n",
            "Epoch 31/100\n",
            "1/1 [==============================] - 0s 11ms/step - loss: 0.7780 - mae: 0.7780\n",
            "Epoch 32/100\n",
            "1/1 [==============================] - 0s 11ms/step - loss: 1.5164 - mae: 1.5164\n",
            "Epoch 33/100\n",
            "1/1 [==============================] - 0s 13ms/step - loss: 0.6231 - mae: 0.6231\n",
            "Epoch 34/100\n",
            "1/1 [==============================] - 0s 11ms/step - loss: 0.8188 - mae: 0.8188\n",
            "Epoch 35/100\n",
            "1/1 [==============================] - 0s 11ms/step - loss: 0.9586 - mae: 0.9586\n",
            "Epoch 36/100\n",
            "1/1 [==============================] - 0s 11ms/step - loss: 1.3317 - mae: 1.3317\n",
            "Epoch 37/100\n",
            "1/1 [==============================] - 0s 13ms/step - loss: 0.7526 - mae: 0.7526\n",
            "Epoch 38/100\n",
            "1/1 [==============================] - 0s 12ms/step - loss: 1.5220 - mae: 1.5220\n",
            "Epoch 39/100\n",
            "1/1 [==============================] - 0s 11ms/step - loss: 0.6010 - mae: 0.6010\n",
            "Epoch 40/100\n",
            "1/1 [==============================] - 0s 10ms/step - loss: 0.8148 - mae: 0.8148\n",
            "Epoch 41/100\n",
            "1/1 [==============================] - 0s 11ms/step - loss: 0.9312 - mae: 0.9312\n",
            "Epoch 42/100\n",
            "1/1 [==============================] - 0s 10ms/step - loss: 1.3392 - mae: 1.3392\n",
            "Epoch 43/100\n",
            "1/1 [==============================] - 0s 10ms/step - loss: 0.7245 - mae: 0.7245\n",
            "Epoch 44/100\n",
            "1/1 [==============================] - 0s 11ms/step - loss: 1.5301 - mae: 1.5301\n",
            "Epoch 45/100\n",
            "1/1 [==============================] - 0s 11ms/step - loss: 0.5777 - mae: 0.5777\n",
            "Epoch 46/100\n",
            "1/1 [==============================] - 0s 11ms/step - loss: 0.8125 - mae: 0.8125\n",
            "Epoch 47/100\n",
            "1/1 [==============================] - 0s 10ms/step - loss: 0.9011 - mae: 0.9011\n",
            "Epoch 48/100\n",
            "1/1 [==============================] - 0s 10ms/step - loss: 1.3492 - mae: 1.3492\n",
            "Epoch 49/100\n",
            "1/1 [==============================] - 0s 11ms/step - loss: 0.6937 - mae: 0.6937\n",
            "Epoch 50/100\n",
            "1/1 [==============================] - 0s 10ms/step - loss: 1.5407 - mae: 1.5407\n",
            "Epoch 51/100\n",
            "1/1 [==============================] - 0s 11ms/step - loss: 0.5535 - mae: 0.5535\n",
            "Epoch 52/100\n",
            "1/1 [==============================] - 0s 11ms/step - loss: 0.5655 - mae: 0.5655\n",
            "Epoch 53/100\n",
            "1/1 [==============================] - 0s 11ms/step - loss: 0.6912 - mae: 0.6912\n",
            "Epoch 54/100\n",
            "1/1 [==============================] - 0s 11ms/step - loss: 1.5287 - mae: 1.5287\n",
            "Epoch 55/100\n",
            "1/1 [==============================] - 0s 11ms/step - loss: 0.5430 - mae: 0.5430\n",
            "Epoch 56/100\n",
            "1/1 [==============================] - 0s 11ms/step - loss: 0.7973 - mae: 0.7973\n",
            "Epoch 57/100\n",
            "1/1 [==============================] - 0s 10ms/step - loss: 0.8642 - mae: 0.8642\n",
            "Epoch 58/100\n",
            "1/1 [==============================] - 0s 10ms/step - loss: 1.3515 - mae: 1.3515\n",
            "Epoch 59/100\n",
            "1/1 [==============================] - 0s 12ms/step - loss: 0.6556 - mae: 0.6556\n",
            "Epoch 60/100\n",
            "1/1 [==============================] - 0s 10ms/step - loss: 1.5439 - mae: 1.5439\n",
            "Epoch 61/100\n",
            "1/1 [==============================] - 0s 10ms/step - loss: 0.5196 - mae: 0.5196\n",
            "Epoch 62/100\n",
            "1/1 [==============================] - 0s 11ms/step - loss: 0.5405 - mae: 0.5405\n",
            "Epoch 63/100\n",
            "1/1 [==============================] - 0s 13ms/step - loss: 0.6491 - mae: 0.6491\n",
            "Epoch 64/100\n",
            "1/1 [==============================] - 0s 14ms/step - loss: 1.5357 - mae: 1.5357\n",
            "Epoch 65/100\n",
            "1/1 [==============================] - 0s 14ms/step - loss: 0.5062 - mae: 0.5062\n",
            "Epoch 66/100\n",
            "1/1 [==============================] - 0s 10ms/step - loss: 0.5265 - mae: 0.5265\n",
            "Epoch 67/100\n",
            "1/1 [==============================] - 0s 10ms/step - loss: 0.6408 - mae: 0.6408\n",
            "Epoch 68/100\n",
            "1/1 [==============================] - 0s 11ms/step - loss: 1.5293 - mae: 1.5293\n",
            "Epoch 69/100\n",
            "1/1 [==============================] - 0s 11ms/step - loss: 0.4925 - mae: 0.4925\n",
            "Epoch 70/100\n",
            "1/1 [==============================] - 0s 12ms/step - loss: 0.5130 - mae: 0.5130\n",
            "Epoch 71/100\n",
            "1/1 [==============================] - 0s 13ms/step - loss: 0.6306 - mae: 0.6306\n",
            "Epoch 72/100\n",
            "1/1 [==============================] - 0s 12ms/step - loss: 1.5245 - mae: 1.5245\n",
            "Epoch 73/100\n",
            "1/1 [==============================] - 0s 12ms/step - loss: 0.4785 - mae: 0.4785\n",
            "Epoch 74/100\n",
            "1/1 [==============================] - 0s 12ms/step - loss: 0.5000 - mae: 0.5000\n",
            "Epoch 75/100\n",
            "1/1 [==============================] - 0s 11ms/step - loss: 0.6187 - mae: 0.6187\n",
            "Epoch 76/100\n",
            "1/1 [==============================] - 0s 12ms/step - loss: 1.5248 - mae: 1.5248\n",
            "Epoch 77/100\n",
            "1/1 [==============================] - 0s 12ms/step - loss: 0.5676 - mae: 0.5676\n",
            "Epoch 78/100\n",
            "1/1 [==============================] - 0s 11ms/step - loss: 1.5745 - mae: 1.5745\n",
            "Epoch 79/100\n",
            "1/1 [==============================] - 0s 11ms/step - loss: 0.5209 - mae: 0.5209\n",
            "Epoch 80/100\n",
            "1/1 [==============================] - 0s 12ms/step - loss: 1.0994 - mae: 1.0994\n",
            "Epoch 81/100\n",
            "1/1 [==============================] - 0s 11ms/step - loss: 0.8481 - mae: 0.8481\n",
            "Epoch 82/100\n",
            "1/1 [==============================] - 0s 11ms/step - loss: 1.2905 - mae: 1.2905\n",
            "Epoch 83/100\n",
            "1/1 [==============================] - 0s 11ms/step - loss: 0.6379 - mae: 0.6379\n",
            "Epoch 84/100\n",
            "1/1 [==============================] - 0s 11ms/step - loss: 1.4897 - mae: 1.4897\n",
            "Epoch 85/100\n",
            "1/1 [==============================] - 0s 12ms/step - loss: 0.5866 - mae: 0.5866\n",
            "Epoch 86/100\n",
            "1/1 [==============================] - 0s 12ms/step - loss: 1.5396 - mae: 1.5396\n",
            "Epoch 87/100\n",
            "1/1 [==============================] - 0s 12ms/step - loss: 0.5352 - mae: 0.5352\n",
            "Epoch 88/100\n",
            "1/1 [==============================] - 0s 11ms/step - loss: 1.5898 - mae: 1.5898\n",
            "Epoch 89/100\n",
            "1/1 [==============================] - 0s 12ms/step - loss: 0.4907 - mae: 0.4907\n",
            "Epoch 90/100\n",
            "1/1 [==============================] - 0s 11ms/step - loss: 1.1083 - mae: 1.1083\n",
            "Epoch 91/100\n",
            "1/1 [==============================] - 0s 11ms/step - loss: 0.8142 - mae: 0.8142\n",
            "Epoch 92/100\n",
            "1/1 [==============================] - 0s 12ms/step - loss: 1.2999 - mae: 1.2999\n",
            "Epoch 93/100\n",
            "1/1 [==============================] - 0s 13ms/step - loss: 0.6033 - mae: 0.6033\n",
            "Epoch 94/100\n",
            "1/1 [==============================] - 0s 12ms/step - loss: 1.5072 - mae: 1.5072\n",
            "Epoch 95/100\n",
            "1/1 [==============================] - 0s 11ms/step - loss: 0.5516 - mae: 0.5516\n",
            "Epoch 96/100\n",
            "1/1 [==============================] - 0s 11ms/step - loss: 1.5576 - mae: 1.5576\n",
            "Epoch 97/100\n",
            "1/1 [==============================] - 0s 11ms/step - loss: 0.4997 - mae: 0.4997\n",
            "Epoch 98/100\n",
            "1/1 [==============================] - 0s 12ms/step - loss: 1.6083 - mae: 1.6083\n",
            "Epoch 99/100\n",
            "1/1 [==============================] - 0s 10ms/step - loss: 0.4582 - mae: 0.4582\n",
            "Epoch 100/100\n",
            "1/1 [==============================] - 0s 11ms/step - loss: 1.1200 - mae: 1.1200\n"
          ]
        },
        {
          "output_type": "execute_result",
          "data": {
            "text/plain": [
              "<keras.callbacks.History at 0x7fe765b72670>"
            ]
          },
          "metadata": {},
          "execution_count": 35
        }
      ]
    },
    {
      "cell_type": "code",
      "source": [
        "# lets make prediction\n",
        "model.predict([[20]])\n",
        "# maybe overfitting, the metrics from training data is not real performance metrics but the metrics from unseen data."
      ],
      "metadata": {
        "colab": {
          "base_uri": "https://localhost:8080/"
        },
        "id": "Xn-jENBlFm8k",
        "outputId": "1670f596-e346-42c7-fd86-ef6eba07da65"
      },
      "execution_count": 36,
      "outputs": [
        {
          "output_type": "stream",
          "name": "stdout",
          "text": [
            "1/1 [==============================] - 0s 73ms/step\n"
          ]
        },
        {
          "output_type": "execute_result",
          "data": {
            "text/plain": [
              "array([[41.786926]], dtype=float32)"
            ]
          },
          "metadata": {},
          "execution_count": 36
        }
      ]
    },
    {
      "cell_type": "markdown",
      "source": [
        "# Evaluating model\n",
        "when evaluating model, visualize, visualize, visualize\n",
        "data/model itself/training of model/predictions of model"
      ],
      "metadata": {
        "id": "SHA_AkdpI-Gd"
      }
    },
    {
      "cell_type": "code",
      "source": [
        "# lets make bigger data\n",
        "X=tf.range(-100,100,2)\n",
        "y=2*X**3-2"
      ],
      "metadata": {
        "id": "0ykwpfojGrZ5"
      },
      "execution_count": 37,
      "outputs": []
    },
    {
      "cell_type": "code",
      "source": [
        "plt.scatter(X,y)"
      ],
      "metadata": {
        "colab": {
          "base_uri": "https://localhost:8080/",
          "height": 294
        },
        "id": "mXyCPSGDLfgA",
        "outputId": "27bce7c0-6baa-4944-950e-16816d29a3f1"
      },
      "execution_count": 38,
      "outputs": [
        {
          "output_type": "execute_result",
          "data": {
            "text/plain": [
              "<matplotlib.collections.PathCollection at 0x7fe765b308e0>"
            ]
          },
          "metadata": {},
          "execution_count": 38
        },
        {
          "output_type": "display_data",
          "data": {
            "text/plain": [
              "<Figure size 432x288 with 1 Axes>"
            ],
            "image/png": "[encoded data removed]"
          },
          "metadata": {
            "needs_background": "light"
          }
        }
      ]
    },
    {
      "cell_type": "code",
      "source": [
        "# the 3 set...\n",
        "from sklearn.model_selection import train_test_split"
      ],
      "metadata": {
        "id": "cz5KISQ6LiS0"
      },
      "execution_count": 39,
      "outputs": []
    },
    {
      "cell_type": "markdown",
      "source": [
        "### what we are going for here three data sets train, validation and test?\n",
        "=>generalization(ablity for machine learning model to perform well on data it hasnt seen before)\n"
      ],
      "metadata": {
        "id": "X305xaLaNT_r"
      }
    },
    {
      "cell_type": "code",
      "source": [
        "# lets split to train and test\n",
        "len(X)"
      ],
      "metadata": {
        "colab": {
          "base_uri": "https://localhost:8080/"
        },
        "id": "aVGtNXY-MauN",
        "outputId": "330199fc-29aa-40df-8b91-836e9faa3c29"
      },
      "execution_count": 40,
      "outputs": [
        {
          "output_type": "execute_result",
          "data": {
            "text/plain": [
              "100"
            ]
          },
          "metadata": {},
          "execution_count": 40
        }
      ]
    },
    {
      "cell_type": "code",
      "source": [
        "# 80 percent of 100 samples is 80 so, 80 train set ramaining test set"
      ],
      "metadata": {
        "id": "1fCY_82zOcfZ"
      },
      "execution_count": 41,
      "outputs": []
    },
    {
      "cell_type": "code",
      "source": [
        "X_train=X[:80]\n",
        "y_train=y[:80]\n",
        "X_test=X[80:]\n",
        "y_test=y[80:]"
      ],
      "metadata": {
        "id": "D6nke_qKOlha"
      },
      "execution_count": 42,
      "outputs": []
    },
    {
      "cell_type": "code",
      "source": [
        "len(X_train), len(X_test), len(y_train), len(y_test)"
      ],
      "metadata": {
        "colab": {
          "base_uri": "https://localhost:8080/"
        },
        "id": "9NsLWxXrO08B",
        "outputId": "8949814e-e1a9-45d2-8d8c-c4abf22770ab"
      },
      "execution_count": 43,
      "outputs": [
        {
          "output_type": "execute_result",
          "data": {
            "text/plain": [
              "(80, 20, 80, 20)"
            ]
          },
          "metadata": {},
          "execution_count": 43
        }
      ]
    },
    {
      "cell_type": "code",
      "source": [
        "# lets visualize our data of different set\n",
        "plt.scatter(X_train, y_train, c=\"b\", label=\"train data\")\n",
        "plt.scatter(X_test, y_test, c=\"r\", label=\"test data\")\n",
        "plt.legend();"
      ],
      "metadata": {
        "colab": {
          "base_uri": "https://localhost:8080/",
          "height": 276
        },
        "id": "LpgpJD5jPGYP",
        "outputId": "7b30fdbe-b243-4a0c-a306-aaea27c4eff3"
      },
      "execution_count": 44,
      "outputs": [
        {
          "output_type": "display_data",
          "data": {
            "text/plain": [
              "<Figure size 432x288 with 1 Axes>"
            ],
            "image/png": "[encoded data removed]"
          },
          "metadata": {
            "needs_background": "light"
          }
        }
      ]
    },
    {
      "cell_type": "code",
      "source": [
        "# lets built model\n",
        "# create model\n",
        "model=tf.keras.Sequential([\n",
        "    tf.keras.layers.Dense(1)\n",
        "])\n",
        "# model compile\n",
        "model.compile(loss=tf.keras.losses.mae,\n",
        "              optimizer=tf.keras.optimizers.SGD(),\n",
        "              metrics=[\"mae\"])\n",
        "# fit model\n",
        "# model.fit(tf.expand_dims(X_train, axis=-1), y_train, epochs=100)"
      ],
      "metadata": {
        "id": "uc0VNEkXPwgb"
      },
      "execution_count": 45,
      "outputs": []
    },
    {
      "cell_type": "code",
      "source": [
        "# before fitting model, lets visualize it\n",
        "model.summary()"
      ],
      "metadata": {
        "colab": {
          "base_uri": "https://localhost:8080/",
          "height": 320
        },
        "id": "fN1euiaZR5-o",
        "outputId": "9b254dfc-f49b-4275-e39a-65a65bf3e961"
      },
      "execution_count": 46,
      "outputs": [
        {
          "output_type": "error",
          "ename": "ValueError",
          "evalue": "ignored",
          "traceback": [
            "\u001b[0;31m---------------------------------------------------------------------------\u001b[0m",
            "\u001b[0;31mValueError\u001b[0m                                Traceback (most recent call last)",
            "\u001b[0;32m<ipython-input-46-f2e553ef849f>\u001b[0m in \u001b[0;36m<module>\u001b[0;34m\u001b[0m\n\u001b[1;32m      1\u001b[0m \u001b[0;31m# before fitting model, lets visualize it\u001b[0m\u001b[0;34m\u001b[0m\u001b[0;34m\u001b[0m\u001b[0;34m\u001b[0m\u001b[0m\n\u001b[0;32m----> 2\u001b[0;31m \u001b[0mmodel\u001b[0m\u001b[0;34m.\u001b[0m\u001b[0msummary\u001b[0m\u001b[0;34m(\u001b[0m\u001b[0;34m)\u001b[0m\u001b[0;34m\u001b[0m\u001b[0;34m\u001b[0m\u001b[0m\n\u001b[0m",
            "\u001b[0;32m/usr/local/lib/python3.8/dist-packages/keras/engine/training.py\u001b[0m in \u001b[0;36msummary\u001b[0;34m(self, line_length, positions, print_fn, expand_nested, show_trainable, layer_range)\u001b[0m\n\u001b[1;32m   3290\u001b[0m         \"\"\"\n\u001b[1;32m   3291\u001b[0m         \u001b[0;32mif\u001b[0m \u001b[0;32mnot\u001b[0m \u001b[0mself\u001b[0m\u001b[0;34m.\u001b[0m\u001b[0mbuilt\u001b[0m\u001b[0;34m:\u001b[0m\u001b[0;34m\u001b[0m\u001b[0;34m\u001b[0m\u001b[0m\n\u001b[0;32m-> 3292\u001b[0;31m             raise ValueError(\n\u001b[0m\u001b[1;32m   3293\u001b[0m                 \u001b[0;34m\"This model has not yet been built. \"\u001b[0m\u001b[0;34m\u001b[0m\u001b[0;34m\u001b[0m\u001b[0m\n\u001b[1;32m   3294\u001b[0m                 \u001b[0;34m\"Build the model first by calling `build()` or by calling \"\u001b[0m\u001b[0;34m\u001b[0m\u001b[0;34m\u001b[0m\u001b[0m\n",
            "\u001b[0;31mValueError\u001b[0m: This model has not yet been built. Build the model first by calling `build()` or by calling the model on a batch of data."
          ]
        }
      ]
    },
    {
      "cell_type": "code",
      "source": [
        "# model.build(input_shape=(1))"
      ],
      "metadata": {
        "id": "ke_XOVAoSeCb"
      },
      "execution_count": 47,
      "outputs": []
    },
    {
      "cell_type": "code",
      "source": [
        "input_shape=tf.expand_dims(X, axis=-1)[0].shape\n",
        "input_shape\n",
        "# shape of one(here zeroth index is choosen as eg but can be any as they have same shape) element in X (features) is input shape."
      ],
      "metadata": {
        "colab": {
          "base_uri": "https://localhost:8080/"
        },
        "id": "MzRH4EWqY8aG",
        "outputId": "92b4ca14-5ad8-4aad-c12c-178f4d5613df"
      },
      "execution_count": 48,
      "outputs": [
        {
          "output_type": "execute_result",
          "data": {
            "text/plain": [
              "TensorShape([1])"
            ]
          },
          "metadata": {},
          "execution_count": 48
        }
      ]
    },
    {
      "cell_type": "code",
      "source": [
        "# or\n",
        "# specify input shape in first layer for automatic build to run summary without fitting model\n",
        "# lets create model which builds automatically by defining input shape as argument in first layer\n",
        "# usually neural network can determine the input shape, however sometime you need to manually define it depending on what problem you working on...\n",
        "tf.random.set_seed(42)\n",
        "model=tf.keras.Sequential([\n",
        "    tf.keras.layers.Dense(10, input_shape=[1], name=\"input_layer\"),\n",
        "    tf.keras.layers.Dense(1, name=\"output_layer\")\n",
        "], name=\"first_sequential_model\")\n",
        "model.compile(\n",
        "    loss=tf.keras.losses.mae,\n",
        "              optimizer=tf.keras.optimizers.SGD(),\n",
        "              metrics=[\"mae\"]\n",
        ")"
      ],
      "metadata": {
        "id": "hz-V8qOYWx1d"
      },
      "execution_count": 103,
      "outputs": []
    },
    {
      "cell_type": "markdown",
      "source": [
        "Here\n",
        "1> dense means fully connected layer\n",
        "2> total params= total number of parameters model oing to learn. patterns that model going to learn\n",
        "3> trainable parameter=patterns/ parameters models can update as it trains\n",
        "4> when we import model which has already learned pattern , we freeze those learnt patterns at that time we have bunch of non trainable params. we just have few trainable params at that time.\n",
        "5> non trainable params arnt updated during training ==transfer learning\n",
        "actual params in dense layer are weight matricx and bias vector\n",
        "\n",
        "sequential_16, dense_18 (Dense)   in summery means how many time you instanciate that in entire colab till now. it increases each time you rerun or reinstantiate them.\n"
      ],
      "metadata": {
        "id": "9yNFQU8AUzBR"
      }
    },
    {
      "cell_type": "code",
      "source": [
        "# lets fit\n",
        "model.fit(tf.expand_dims(X_train, axis=-1), y_train, epochs=100, verbose=0)"
      ],
      "metadata": {
        "id": "nyL0tnMuZ-nr",
        "colab": {
          "base_uri": "https://localhost:8080/"
        },
        "outputId": "4c028bba-d395-42e0-c632-c06719046a56"
      },
      "execution_count": 104,
      "outputs": [
        {
          "output_type": "execute_result",
          "data": {
            "text/plain": [
              "<keras.callbacks.History at 0x7fe76dc14a90>"
            ]
          },
          "metadata": {},
          "execution_count": 104
        }
      ]
    },
    {
      "cell_type": "code",
      "source": [
        "model.summary()"
      ],
      "metadata": {
        "colab": {
          "base_uri": "https://localhost:8080/"
        },
        "id": "UoN5ufxlanuD",
        "outputId": "04f1e0ee-a087-45a6-c02c-b8dc776581a9"
      },
      "execution_count": 105,
      "outputs": [
        {
          "output_type": "stream",
          "name": "stdout",
          "text": [
            "Model: \"first_sequential_model\"\n",
            "_________________________________________________________________\n",
            " Layer (type)                Output Shape              Param #   \n",
            "=================================================================\n",
            " input_layer (Dense)         (None, 10)                20        \n",
            "                                                                 \n",
            " output_layer (Dense)        (None, 1)                 11        \n",
            "                                                                 \n",
            "=================================================================\n",
            "Total params: 31\n",
            "Trainable params: 31\n",
            "Non-trainable params: 0\n",
            "_________________________________________________________________\n"
          ]
        }
      ]
    },
    {
      "cell_type": "code",
      "source": [
        "from tensorflow.keras.utils import plot_model\n",
        "plot_model(model, show_shapes=True)"
      ],
      "metadata": {
        "colab": {
          "base_uri": "https://localhost:8080/",
          "height": 312
        },
        "id": "NdfC_r-YapIk",
        "outputId": "9f44a9b7-788e-468f-a005-9e80facede27"
      },
      "execution_count": 106,
      "outputs": [
        {
          "output_type": "execute_result",
          "data": {
            "image/png": "[encoded data removed]",
            "text/plain": [
              "<IPython.core.display.Image object>"
            ]
          },
          "metadata": {},
          "execution_count": 106
        }
      ]
    },
    {
      "cell_type": "markdown",
      "source": [
        "# visualizing our model predictions\n",
        "plot ground truth(y_test) vs model prediction(y_pred)"
      ],
      "metadata": {
        "id": "-EjqXS3ogJc1"
      }
    },
    {
      "cell_type": "code",
      "source": [
        "y_pred=model.predict(X_test)"
      ],
      "metadata": {
        "colab": {
          "base_uri": "https://localhost:8080/"
        },
        "id": "hy51icRwdPli",
        "outputId": "20f62d48-1085-4604-f311-5c0de01d7f73"
      },
      "execution_count": 127,
      "outputs": [
        {
          "output_type": "stream",
          "name": "stdout",
          "text": [
            "1/1 [==============================] - 0s 23ms/step\n"
          ]
        }
      ]
    },
    {
      "cell_type": "code",
      "source": [
        "y_pred"
      ],
      "metadata": {
        "colab": {
          "base_uri": "https://localhost:8080/"
        },
        "id": "jG3g7-hxd_uG",
        "outputId": "a4f392be-d80a-4898-dbec-5e5fbee9567a"
      },
      "execution_count": 128,
      "outputs": [
        {
          "output_type": "execute_result",
          "data": {
            "text/plain": [
              "array([[514595.38],\n",
              "       [531919.7 ],\n",
              "       [549244.06],\n",
              "       [566568.44],\n",
              "       [583892.75],\n",
              "       [601217.1 ],\n",
              "       [618541.44],\n",
              "       [635865.9 ],\n",
              "       [653190.2 ],\n",
              "       [670514.56],\n",
              "       [687838.94],\n",
              "       [705163.2 ],\n",
              "       [722487.6 ],\n",
              "       [739812.  ],\n",
              "       [757136.3 ],\n",
              "       [774460.56],\n",
              "       [791784.94],\n",
              "       [809109.4 ],\n",
              "       [826433.7 ],\n",
              "       [843758.06]], dtype=float32)"
            ]
          },
          "metadata": {},
          "execution_count": 128
        }
      ]
    },
    {
      "cell_type": "code",
      "source": [
        "y_test"
      ],
      "metadata": {
        "colab": {
          "base_uri": "https://localhost:8080/"
        },
        "id": "n5sbb4HyhBDX",
        "outputId": "11726ae7-763f-4984-b3c9-ec217fbf27b2"
      },
      "execution_count": 129,
      "outputs": [
        {
          "output_type": "execute_result",
          "data": {
            "text/plain": [
              "<tf.Tensor: shape=(20,), dtype=int32, numpy=\n",
              "array([ 431998,  476654,  524286,  574990,  628862,  685998,  746494,\n",
              "        810446,  877950,  949102, 1023998, 1102734, 1185406, 1272110,\n",
              "       1362942, 1457998, 1557374, 1661166, 1769470, 1882382], dtype=int32)>"
            ]
          },
          "metadata": {},
          "execution_count": 129
        }
      ]
    },
    {
      "cell_type": "code",
      "source": [
        "def plot_pred(train_data=X_train, \n",
        "              test_data=X_test,\n",
        "              train_labels=y_train, \n",
        "              test_labels=y_test,\n",
        "              test_pred=y_pred):\n",
        "  \"\"\"\n",
        "  plot training and test data for compairing ground truth and prediction\n",
        "  \"\"\"\n",
        "  plt.scatter(train_data, train_labels, c=\"r\", label=\"training data\")\n",
        "  plt.scatter(test_data, test_labels, c=\"b\", label=\"testing_data\")\n",
        "  plt.scatter(test_data, test_pred, c=\"g\", label=\"predictions\" )\n",
        "  plt.legend()\n"
      ],
      "metadata": {
        "id": "s_2b7beUhLz6"
      },
      "execution_count": 130,
      "outputs": []
    },
    {
      "cell_type": "code",
      "source": [
        "plot_pred()"
      ],
      "metadata": {
        "colab": {
          "base_uri": "https://localhost:8080/",
          "height": 276
        },
        "id": "j93-skugi1pL",
        "outputId": "c51f5a64-77c9-4a8c-d983-6ea1340ea1fd"
      },
      "execution_count": 131,
      "outputs": [
        {
          "output_type": "display_data",
          "data": {
            "text/plain": [
              "<Figure size 432x288 with 1 Axes>"
            ],
            "image/png": "[encoded data removed]"
          },
          "metadata": {
            "needs_background": "light"
          }
        }
      ]
    },
    {
      "cell_type": "markdown",
      "source": [
        "# Evaluating our models predictions with regression evaluation metrics"
      ],
      "metadata": {
        "id": "2tBp9HBpjUYL"
      }
    },
    {
      "cell_type": "code",
      "source": [
        "model.evaluate(X_test, y_test)"
      ],
      "metadata": {
        "colab": {
          "base_uri": "https://localhost:8080/"
        },
        "id": "ANq1KxnwlXdc",
        "outputId": "96fe5bed-ec98-491e-9bda-697d747ebe02"
      },
      "execution_count": 132,
      "outputs": [
        {
          "output_type": "stream",
          "name": "stdout",
          "text": [
            "1/1 [==============================] - 0s 41ms/step - loss: 386223.4062 - mae: 386223.4062\n"
          ]
        },
        {
          "output_type": "execute_result",
          "data": {
            "text/plain": [
              "[386223.40625, 386223.40625]"
            ]
          },
          "metadata": {},
          "execution_count": 132
        }
      ]
    },
    {
      "cell_type": "code",
      "source": [
        "# MAE\n",
        "tf.keras.losses.MeanAbsoluteError()(y_test, y_pred)\n"
      ],
      "metadata": {
        "colab": {
          "base_uri": "https://localhost:8080/"
        },
        "id": "gy1Ds_jaoLHi",
        "outputId": "9ec4c14a-3cb5-4de9-93e6-e207650dd591"
      },
      "execution_count": 133,
      "outputs": [
        {
          "output_type": "execute_result",
          "data": {
            "text/plain": [
              "<tf.Tensor: shape=(), dtype=float32, numpy=454622.66>"
            ]
          },
          "metadata": {},
          "execution_count": 133
        }
      ]
    },
    {
      "cell_type": "code",
      "source": [
        "tf.keras.metrics.mean_absolute_error(y_test, y_pred)"
      ],
      "metadata": {
        "colab": {
          "base_uri": "https://localhost:8080/"
        },
        "id": "WGuf4K1qorwS",
        "outputId": "7e5f7e9f-2b0a-408d-96c6-3913ad75c875"
      },
      "execution_count": 134,
      "outputs": [
        {
          "output_type": "execute_result",
          "data": {
            "text/plain": [
              "<tf.Tensor: shape=(20,), dtype=float32, numpy=\n",
              "array([546576.5 , 533480.4 , 521353.34, 509226.3 , 497989.56, 487594.9 ,\n",
              "       477200.3 , 467506.1 , 458843.9 , 450181.75, 441703.6 , 434773.9 ,\n",
              "       427844.16, 420914.4 , 415048.9 , 409851.66, 404654.3 , 399456.97,\n",
              "       395858.44, 392393.6 ], dtype=float32)>"
            ]
          },
          "metadata": {},
          "execution_count": 134
        }
      ]
    },
    {
      "cell_type": "code",
      "source": [
        "# both should be in tensors and both should have same shape"
      ],
      "metadata": {
        "id": "wldcD1_Kpk_m"
      },
      "execution_count": 138,
      "outputs": []
    },
    {
      "cell_type": "code",
      "source": [
        "tf.keras.metrics.mean_absolute_error(y_test, tf.squeeze(tf.constant(y_pred)))"
      ],
      "metadata": {
        "colab": {
          "base_uri": "https://localhost:8080/"
        },
        "id": "ICOYDzrBtJmO",
        "outputId": "30d42196-5cf9-41c5-ff05-1718f7ccc026"
      },
      "execution_count": 144,
      "outputs": [
        {
          "output_type": "execute_result",
          "data": {
            "text/plain": [
              "<tf.Tensor: shape=(), dtype=float32, numpy=386223.4>"
            ]
          },
          "metadata": {},
          "execution_count": 144
        }
      ]
    },
    {
      "cell_type": "code",
      "source": [
        "y_test"
      ],
      "metadata": {
        "colab": {
          "base_uri": "https://localhost:8080/"
        },
        "id": "mplfYy3ntLKo",
        "outputId": "9821879b-a5b7-48bf-f049-863d13669a0a"
      },
      "execution_count": 145,
      "outputs": [
        {
          "output_type": "execute_result",
          "data": {
            "text/plain": [
              "<tf.Tensor: shape=(20,), dtype=int32, numpy=\n",
              "array([ 431998,  476654,  524286,  574990,  628862,  685998,  746494,\n",
              "        810446,  877950,  949102, 1023998, 1102734, 1185406, 1272110,\n",
              "       1362942, 1457998, 1557374, 1661166, 1769470, 1882382], dtype=int32)>"
            ]
          },
          "metadata": {},
          "execution_count": 145
        }
      ]
    },
    {
      "cell_type": "code",
      "source": [
        "tf.squeeze(tf.constant(y_pred))"
      ],
      "metadata": {
        "colab": {
          "base_uri": "https://localhost:8080/"
        },
        "id": "z1HZWNg7tcop",
        "outputId": "2626e807-decb-4719-a090-3ed239eb6630"
      },
      "execution_count": 147,
      "outputs": [
        {
          "output_type": "execute_result",
          "data": {
            "text/plain": [
              "<tf.Tensor: shape=(20,), dtype=float32, numpy=\n",
              "array([514595.38, 531919.7 , 549244.06, 566568.44, 583892.75, 601217.1 ,\n",
              "       618541.44, 635865.9 , 653190.2 , 670514.56, 687838.94, 705163.2 ,\n",
              "       722487.6 , 739812.  , 757136.3 , 774460.56, 791784.94, 809109.4 ,\n",
              "       826433.7 , 843758.06], dtype=float32)>"
            ]
          },
          "metadata": {},
          "execution_count": 147
        }
      ]
    },
    {
      "cell_type": "code",
      "source": [
        "tf.keras.losses.MeanAbsoluteError()(y_test, tf.squeeze(tf.constant(y_pred)))"
      ],
      "metadata": {
        "colab": {
          "base_uri": "https://localhost:8080/"
        },
        "id": "lFWYFRfvtxmu",
        "outputId": "c14841f4-250d-467a-f34f-5918e5b0867b"
      },
      "execution_count": 148,
      "outputs": [
        {
          "output_type": "execute_result",
          "data": {
            "text/plain": [
              "<tf.Tensor: shape=(), dtype=float32, numpy=386223.4>"
            ]
          },
          "metadata": {},
          "execution_count": 148
        }
      ]
    },
    {
      "cell_type": "code",
      "source": [
        "#  calculate mean square error\n",
        "tf.keras.metrics.mean_squared_error(y_test, tf.squeeze(y_pred))"
      ],
      "metadata": {
        "colab": {
          "base_uri": "https://localhost:8080/"
        },
        "id": "IS1L9ANfuTbU",
        "outputId": "adfbe855-8d3c-4dd7-e559-0ecf69eff8da"
      },
      "execution_count": 152,
      "outputs": [
        {
          "output_type": "execute_result",
          "data": {
            "text/plain": [
              "<tf.Tensor: shape=(), dtype=float32, numpy=253893330000.0>"
            ]
          },
          "metadata": {},
          "execution_count": 152
        }
      ]
    },
    {
      "cell_type": "markdown",
      "source": [
        "## Running experiments to improve our model\n",
        "motto\n",
        "visualize visualize visualize\n",
        "experiment excperiment experiment\n"
      ],
      "metadata": {
        "id": "A-dZW0DqyNT9"
      }
    },
    {
      "cell_type": "code",
      "source": [
        "tf.random.set_seed(42)\n",
        "model_1=tf.keras.Sequential([\n",
        "    tf.keras.layers.Dense(1)\n",
        "])\n",
        "model_1.compile(loss=tf.keras.losses.mae, \n",
        "                optimizer=tf.keras.optimizers.SGD(), \n",
        "                metrics=[\"mae\"]\n",
        "                )\n",
        "model_1.fit(tf.expand_dims(X_train, axis=-1), y_train, epochs=100)"
      ],
      "metadata": {
        "colab": {
          "base_uri": "https://localhost:8080/"
        },
        "id": "qYeWhMy6ynIz",
        "outputId": "a966b4e6-a5ab-4e85-c5d1-8e9e00b60100"
      },
      "execution_count": 155,
      "outputs": [
        {
          "output_type": "stream",
          "name": "stdout",
          "text": [
            "Epoch 1/100\n",
            "3/3 [==============================] - 0s 7ms/step - loss: 362905.6875 - mae: 362905.6875\n",
            "Epoch 2/100\n",
            "3/3 [==============================] - 0s 5ms/step - loss: 362853.3125 - mae: 362853.3125\n",
            "Epoch 3/100\n",
            "3/3 [==============================] - 0s 5ms/step - loss: 362797.3750 - mae: 362797.3750\n",
            "Epoch 4/100\n",
            "3/3 [==============================] - 0s 6ms/step - loss: 362742.7500 - mae: 362742.7500\n",
            "Epoch 5/100\n",
            "3/3 [==============================] - 0s 5ms/step - loss: 362688.1250 - mae: 362688.1250\n",
            "Epoch 6/100\n",
            "3/3 [==============================] - 0s 6ms/step - loss: 362634.5312 - mae: 362634.5312\n",
            "Epoch 7/100\n",
            "3/3 [==============================] - 0s 5ms/step - loss: 362578.5625 - mae: 362578.5625\n",
            "Epoch 8/100\n",
            "3/3 [==============================] - 0s 6ms/step - loss: 362523.1875 - mae: 362523.1875\n",
            "Epoch 9/100\n",
            "3/3 [==============================] - 0s 5ms/step - loss: 362468.7500 - mae: 362468.7500\n",
            "Epoch 10/100\n",
            "3/3 [==============================] - 0s 5ms/step - loss: 362412.1562 - mae: 362412.1562\n",
            "Epoch 11/100\n",
            "3/3 [==============================] - 0s 6ms/step - loss: 362357.0312 - mae: 362357.0312\n",
            "Epoch 12/100\n",
            "3/3 [==============================] - 0s 7ms/step - loss: 362301.2500 - mae: 362301.2500\n",
            "Epoch 13/100\n",
            "3/3 [==============================] - 0s 6ms/step - loss: 362244.6562 - mae: 362244.6562\n",
            "Epoch 14/100\n",
            "3/3 [==============================] - 0s 7ms/step - loss: 362190.6562 - mae: 362190.6562\n",
            "Epoch 15/100\n",
            "3/3 [==============================] - 0s 5ms/step - loss: 362135.1875 - mae: 362135.1875\n",
            "Epoch 16/100\n",
            "3/3 [==============================] - 0s 5ms/step - loss: 362081.5312 - mae: 362081.5312\n",
            "Epoch 17/100\n",
            "3/3 [==============================] - 0s 6ms/step - loss: 362027.4062 - mae: 362027.4062\n",
            "Epoch 18/100\n",
            "3/3 [==============================] - 0s 5ms/step - loss: 361972.5625 - mae: 361972.5625\n",
            "Epoch 19/100\n",
            "3/3 [==============================] - 0s 5ms/step - loss: 361917.5625 - mae: 361917.5625\n",
            "Epoch 20/100\n",
            "3/3 [==============================] - 0s 5ms/step - loss: 361862.1250 - mae: 361862.1250\n",
            "Epoch 21/100\n",
            "3/3 [==============================] - 0s 5ms/step - loss: 361807.0000 - mae: 361807.0000\n",
            "Epoch 22/100\n",
            "3/3 [==============================] - 0s 5ms/step - loss: 361752.1562 - mae: 361752.1562\n",
            "Epoch 23/100\n",
            "3/3 [==============================] - 0s 6ms/step - loss: 361697.9062 - mae: 361697.9062\n",
            "Epoch 24/100\n",
            "3/3 [==============================] - 0s 5ms/step - loss: 361644.8125 - mae: 361644.8125\n",
            "Epoch 25/100\n",
            "3/3 [==============================] - 0s 5ms/step - loss: 361591.6875 - mae: 361591.6875\n",
            "Epoch 26/100\n",
            "3/3 [==============================] - 0s 5ms/step - loss: 361537.3750 - mae: 361537.3750\n",
            "Epoch 27/100\n",
            "3/3 [==============================] - 0s 5ms/step - loss: 361482.9375 - mae: 361482.9375\n",
            "Epoch 28/100\n",
            "3/3 [==============================] - 0s 5ms/step - loss: 361428.5625 - mae: 361428.5625\n",
            "Epoch 29/100\n",
            "3/3 [==============================] - 0s 5ms/step - loss: 361374.0000 - mae: 361374.0000\n",
            "Epoch 30/100\n",
            "3/3 [==============================] - 0s 5ms/step - loss: 361318.0625 - mae: 361318.0625\n",
            "Epoch 31/100\n",
            "3/3 [==============================] - 0s 6ms/step - loss: 361264.8125 - mae: 361264.8125\n",
            "Epoch 32/100\n",
            "3/3 [==============================] - 0s 6ms/step - loss: 361211.4062 - mae: 361211.4062\n",
            "Epoch 33/100\n",
            "3/3 [==============================] - 0s 6ms/step - loss: 361157.2500 - mae: 361157.2500\n",
            "Epoch 34/100\n",
            "3/3 [==============================] - 0s 5ms/step - loss: 361103.9062 - mae: 361103.9062\n",
            "Epoch 35/100\n",
            "3/3 [==============================] - 0s 5ms/step - loss: 361049.2500 - mae: 361049.2500\n",
            "Epoch 36/100\n",
            "3/3 [==============================] - 0s 5ms/step - loss: 360994.6562 - mae: 360994.6562\n",
            "Epoch 37/100\n",
            "3/3 [==============================] - 0s 5ms/step - loss: 360941.8125 - mae: 360941.8125\n",
            "Epoch 38/100\n",
            "3/3 [==============================] - 0s 5ms/step - loss: 360886.1250 - mae: 360886.1250\n",
            "Epoch 39/100\n",
            "3/3 [==============================] - 0s 5ms/step - loss: 360832.1875 - mae: 360832.1875\n",
            "Epoch 40/100\n",
            "3/3 [==============================] - 0s 4ms/step - loss: 360777.9375 - mae: 360777.9375\n",
            "Epoch 41/100\n",
            "3/3 [==============================] - 0s 5ms/step - loss: 360724.0000 - mae: 360724.0000\n",
            "Epoch 42/100\n",
            "3/3 [==============================] - 0s 5ms/step - loss: 360669.7188 - mae: 360669.7188\n",
            "Epoch 43/100\n",
            "3/3 [==============================] - 0s 5ms/step - loss: 360616.4062 - mae: 360616.4062\n",
            "Epoch 44/100\n",
            "3/3 [==============================] - 0s 6ms/step - loss: 360563.1562 - mae: 360563.1562\n",
            "Epoch 45/100\n",
            "3/3 [==============================] - 0s 8ms/step - loss: 360508.6875 - mae: 360508.6875\n",
            "Epoch 46/100\n",
            "3/3 [==============================] - 0s 5ms/step - loss: 360454.0938 - mae: 360454.0938\n",
            "Epoch 47/100\n",
            "3/3 [==============================] - 0s 7ms/step - loss: 360400.6250 - mae: 360400.6250\n",
            "Epoch 48/100\n",
            "3/3 [==============================] - 0s 7ms/step - loss: 360346.9062 - mae: 360346.9062\n",
            "Epoch 49/100\n",
            "3/3 [==============================] - 0s 5ms/step - loss: 360292.0625 - mae: 360292.0625\n",
            "Epoch 50/100\n",
            "3/3 [==============================] - 0s 5ms/step - loss: 360237.8125 - mae: 360237.8125\n",
            "Epoch 51/100\n",
            "3/3 [==============================] - 0s 5ms/step - loss: 360184.0938 - mae: 360184.0938\n",
            "Epoch 52/100\n",
            "3/3 [==============================] - 0s 5ms/step - loss: 360129.7188 - mae: 360129.7188\n",
            "Epoch 53/100\n",
            "3/3 [==============================] - 0s 5ms/step - loss: 360075.5000 - mae: 360075.5000\n",
            "Epoch 54/100\n",
            "3/3 [==============================] - 0s 5ms/step - loss: 360019.0625 - mae: 360019.0625\n",
            "Epoch 55/100\n",
            "3/3 [==============================] - 0s 6ms/step - loss: 359965.4375 - mae: 359965.4375\n",
            "Epoch 56/100\n",
            "3/3 [==============================] - 0s 6ms/step - loss: 359911.5312 - mae: 359911.5312\n",
            "Epoch 57/100\n",
            "3/3 [==============================] - 0s 5ms/step - loss: 359859.8750 - mae: 359859.8750\n",
            "Epoch 58/100\n",
            "3/3 [==============================] - 0s 4ms/step - loss: 359808.8125 - mae: 359808.8125\n",
            "Epoch 59/100\n",
            "3/3 [==============================] - 0s 5ms/step - loss: 359754.3125 - mae: 359754.3125\n",
            "Epoch 60/100\n",
            "3/3 [==============================] - 0s 5ms/step - loss: 359699.6875 - mae: 359699.6875\n",
            "Epoch 61/100\n",
            "3/3 [==============================] - 0s 5ms/step - loss: 359646.0625 - mae: 359646.0625\n",
            "Epoch 62/100\n",
            "3/3 [==============================] - 0s 7ms/step - loss: 359593.0000 - mae: 359593.0000\n",
            "Epoch 63/100\n",
            "3/3 [==============================] - 0s 6ms/step - loss: 359541.3125 - mae: 359541.3125\n",
            "Epoch 64/100\n",
            "3/3 [==============================] - 0s 6ms/step - loss: 359489.8125 - mae: 359489.8125\n",
            "Epoch 65/100\n",
            "3/3 [==============================] - 0s 6ms/step - loss: 359436.0938 - mae: 359436.0938\n",
            "Epoch 66/100\n",
            "3/3 [==============================] - 0s 5ms/step - loss: 359382.8438 - mae: 359382.8438\n",
            "Epoch 67/100\n",
            "3/3 [==============================] - 0s 5ms/step - loss: 359329.8125 - mae: 359329.8125\n",
            "Epoch 68/100\n",
            "3/3 [==============================] - 0s 5ms/step - loss: 359275.6875 - mae: 359275.6875\n",
            "Epoch 69/100\n",
            "3/3 [==============================] - 0s 5ms/step - loss: 359222.3438 - mae: 359222.3438\n",
            "Epoch 70/100\n",
            "3/3 [==============================] - 0s 5ms/step - loss: 359167.4062 - mae: 359167.4062\n",
            "Epoch 71/100\n",
            "3/3 [==============================] - 0s 6ms/step - loss: 359112.0938 - mae: 359112.0938\n",
            "Epoch 72/100\n",
            "3/3 [==============================] - 0s 5ms/step - loss: 359058.3750 - mae: 359058.3750\n",
            "Epoch 73/100\n",
            "3/3 [==============================] - 0s 5ms/step - loss: 359004.4062 - mae: 359004.4062\n",
            "Epoch 74/100\n",
            "3/3 [==============================] - 0s 6ms/step - loss: 358949.7500 - mae: 358949.7500\n",
            "Epoch 75/100\n",
            "3/3 [==============================] - 0s 7ms/step - loss: 358896.5938 - mae: 358896.5938\n",
            "Epoch 76/100\n",
            "3/3 [==============================] - 0s 5ms/step - loss: 358843.0938 - mae: 358843.0938\n",
            "Epoch 77/100\n",
            "3/3 [==============================] - 0s 6ms/step - loss: 358790.0625 - mae: 358790.0625\n",
            "Epoch 78/100\n",
            "3/3 [==============================] - 0s 5ms/step - loss: 358736.1562 - mae: 358736.1562\n",
            "Epoch 79/100\n",
            "3/3 [==============================] - 0s 5ms/step - loss: 358681.8750 - mae: 358681.8750\n",
            "Epoch 80/100\n",
            "3/3 [==============================] - 0s 5ms/step - loss: 358630.0625 - mae: 358630.0625\n",
            "Epoch 81/100\n",
            "3/3 [==============================] - 0s 5ms/step - loss: 358579.4688 - mae: 358579.4688\n",
            "Epoch 82/100\n",
            "3/3 [==============================] - 0s 5ms/step - loss: 358525.1875 - mae: 358525.1875\n",
            "Epoch 83/100\n",
            "3/3 [==============================] - 0s 5ms/step - loss: 358469.0938 - mae: 358469.0938\n",
            "Epoch 84/100\n",
            "3/3 [==============================] - 0s 5ms/step - loss: 358413.6875 - mae: 358413.6875\n",
            "Epoch 85/100\n",
            "3/3 [==============================] - 0s 5ms/step - loss: 358359.5938 - mae: 358359.5938\n",
            "Epoch 86/100\n",
            "3/3 [==============================] - 0s 5ms/step - loss: 358304.4375 - mae: 358304.4375\n",
            "Epoch 87/100\n",
            "3/3 [==============================] - 0s 5ms/step - loss: 358252.7500 - mae: 358252.7500\n",
            "Epoch 88/100\n",
            "3/3 [==============================] - 0s 5ms/step - loss: 358198.5938 - mae: 358198.5938\n",
            "Epoch 89/100\n",
            "3/3 [==============================] - 0s 5ms/step - loss: 358144.6562 - mae: 358144.6562\n",
            "Epoch 90/100\n",
            "3/3 [==============================] - 0s 7ms/step - loss: 358088.3750 - mae: 358088.3750\n",
            "Epoch 91/100\n",
            "3/3 [==============================] - 0s 5ms/step - loss: 358035.7812 - mae: 358035.7812\n",
            "Epoch 92/100\n",
            "3/3 [==============================] - 0s 6ms/step - loss: 357982.4688 - mae: 357982.4688\n",
            "Epoch 93/100\n",
            "3/3 [==============================] - 0s 5ms/step - loss: 357930.2188 - mae: 357930.2188\n",
            "Epoch 94/100\n",
            "3/3 [==============================] - 0s 5ms/step - loss: 357878.0625 - mae: 357878.0625\n",
            "Epoch 95/100\n",
            "3/3 [==============================] - 0s 6ms/step - loss: 357825.1562 - mae: 357825.1562\n",
            "Epoch 96/100\n",
            "3/3 [==============================] - 0s 5ms/step - loss: 357771.6250 - mae: 357771.6250\n",
            "Epoch 97/100\n",
            "3/3 [==============================] - 0s 5ms/step - loss: 357718.4375 - mae: 357718.4375\n",
            "Epoch 98/100\n",
            "3/3 [==============================] - 0s 6ms/step - loss: 357665.3125 - mae: 357665.3125\n",
            "Epoch 99/100\n",
            "3/3 [==============================] - 0s 6ms/step - loss: 357611.2188 - mae: 357611.2188\n",
            "Epoch 100/100\n",
            "3/3 [==============================] - 0s 5ms/step - loss: 357560.4062 - mae: 357560.4062\n"
          ]
        },
        {
          "output_type": "execute_result",
          "data": {
            "text/plain": [
              "<keras.callbacks.History at 0x7fe7578a0730>"
            ]
          },
          "metadata": {},
          "execution_count": 155
        }
      ]
    },
    {
      "cell_type": "code",
      "source": [
        "y_pred_1=model_1.predict(X_test)"
      ],
      "metadata": {
        "colab": {
          "base_uri": "https://localhost:8080/"
        },
        "id": "MNw-wV0f1Xeg",
        "outputId": "8546146f-3b80-4931-8b43-c31d358dae83"
      },
      "execution_count": 159,
      "outputs": [
        {
          "output_type": "stream",
          "name": "stdout",
          "text": [
            "1/1 [==============================] - 0s 36ms/step\n"
          ]
        }
      ]
    },
    {
      "cell_type": "code",
      "source": [
        "plot_pred(test_pred=y_pred_1)"
      ],
      "metadata": {
        "colab": {
          "base_uri": "https://localhost:8080/",
          "height": 276
        },
        "id": "3mLiEjzL1yPq",
        "outputId": "157930a3-0b55-461e-889e-fa0136c749aa"
      },
      "execution_count": 160,
      "outputs": [
        {
          "output_type": "display_data",
          "data": {
            "text/plain": [
              "<Figure size 432x288 with 1 Axes>"
            ],
            "image/png": "[encoded data removed]"
          },
          "metadata": {
            "needs_background": "light"
          }
        }
      ]
    },
    {
      "cell_type": "code",
      "source": [
        "# calculate evaluation metrics for model 1\n",
        "mae_1=tf.metrics.MAE(y_test, tf.squeeze(y_pred_1))"
      ],
      "metadata": {
        "id": "zfo2ZYW618hX"
      },
      "execution_count": 171,
      "outputs": []
    },
    {
      "cell_type": "code",
      "source": [
        "model_1.evaluate(X_test,y_test)"
      ],
      "metadata": {
        "colab": {
          "base_uri": "https://localhost:8080/"
        },
        "id": "vt7BiHmk3BPF",
        "outputId": "57d395e8-1ef7-4010-ab22-316cd1ce7fcc"
      },
      "execution_count": 162,
      "outputs": [
        {
          "output_type": "stream",
          "name": "stdout",
          "text": [
            "1/1 [==============================] - 0s 193ms/step - loss: 1038960.5000 - mae: 1038960.5000\n"
          ]
        },
        {
          "output_type": "execute_result",
          "data": {
            "text/plain": [
              "[1038960.5, 1038960.5]"
            ]
          },
          "metadata": {},
          "execution_count": 162
        }
      ]
    },
    {
      "cell_type": "code",
      "source": [
        "mse_1=tf.metrics.MSE(y_test, tf.squeeze(y_pred_1))"
      ],
      "metadata": {
        "id": "E3qbZ9oC3Jao"
      },
      "execution_count": 172,
      "outputs": []
    },
    {
      "cell_type": "code",
      "source": [
        "# second experiment\n",
        "tf.random.set_seed(42)\n",
        "model_2=tf.keras.Sequential([\n",
        "    tf.keras.layers.Dense(10),\n",
        "    tf.keras.layers.Dense(1)\n",
        "])\n",
        "model_2.compile(loss=tf.keras.losses.mae, \n",
        "                optimizer=tf.keras.optimizers.SGD(), \n",
        "                metrics=[\"mse\"]\n",
        "                )\n",
        "model_2.fit(tf.expand_dims(X_train, axis=-1), y_train, epochs=100)"
      ],
      "metadata": {
        "colab": {
          "base_uri": "https://localhost:8080/"
        },
        "id": "4X82gWvj3WSS",
        "outputId": "63306a32-aef6-4627-e5b5-981334a6954f"
      },
      "execution_count": 170,
      "outputs": [
        {
          "output_type": "stream",
          "name": "stdout",
          "text": [
            "Epoch 1/100\n",
            "3/3 [==============================] - 1s 11ms/step - loss: 362942.9375 - mse: 391494303744.0000\n",
            "Epoch 2/100\n",
            "3/3 [==============================] - 0s 8ms/step - loss: 362577.0938 - mse: 390971260928.0000\n",
            "Epoch 3/100\n",
            "3/3 [==============================] - 0s 7ms/step - loss: 359571.9062 - mse: 387298557952.0000\n",
            "Epoch 4/100\n",
            "3/3 [==============================] - 0s 6ms/step - loss: 337514.7188 - mse: 356974919680.0000\n",
            "Epoch 5/100\n",
            "3/3 [==============================] - 0s 6ms/step - loss: 267558.5312 - mse: 233801170944.0000\n",
            "Epoch 6/100\n",
            "3/3 [==============================] - 0s 6ms/step - loss: 222663.1250 - mse: 161812021248.0000\n",
            "Epoch 7/100\n",
            "3/3 [==============================] - 0s 6ms/step - loss: 218262.8750 - mse: 130936979456.0000\n",
            "Epoch 8/100\n",
            "3/3 [==============================] - 0s 6ms/step - loss: 220491.4062 - mse: 129103388672.0000\n",
            "Epoch 9/100\n",
            "3/3 [==============================] - 0s 6ms/step - loss: 221512.6719 - mse: 145201201152.0000\n",
            "Epoch 10/100\n",
            "3/3 [==============================] - 0s 7ms/step - loss: 218525.3438 - mse: 101484675072.0000\n",
            "Epoch 11/100\n",
            "3/3 [==============================] - 0s 7ms/step - loss: 221958.5938 - mse: 134209716224.0000\n",
            "Epoch 12/100\n",
            "3/3 [==============================] - 0s 8ms/step - loss: 220251.6562 - mse: 156874702848.0000\n",
            "Epoch 13/100\n",
            "3/3 [==============================] - 0s 8ms/step - loss: 235462.4219 - mse: 114343624704.0000\n",
            "Epoch 14/100\n",
            "3/3 [==============================] - 0s 9ms/step - loss: 221245.4688 - mse: 150059515904.0000\n",
            "Epoch 15/100\n",
            "3/3 [==============================] - 0s 15ms/step - loss: 221139.4219 - mse: 103421075456.0000\n",
            "Epoch 16/100\n",
            "3/3 [==============================] - 0s 5ms/step - loss: 217582.7188 - mse: 114254569472.0000\n",
            "Epoch 17/100\n",
            "3/3 [==============================] - 0s 8ms/step - loss: 222031.2500 - mse: 135627259904.0000\n",
            "Epoch 18/100\n",
            "3/3 [==============================] - 0s 8ms/step - loss: 221841.0938 - mse: 122886111232.0000\n",
            "Epoch 19/100\n",
            "3/3 [==============================] - 0s 8ms/step - loss: 222906.5469 - mse: 123062280192.0000\n",
            "Epoch 20/100\n",
            "3/3 [==============================] - 0s 8ms/step - loss: 217941.5781 - mse: 122865909760.0000\n",
            "Epoch 21/100\n",
            "3/3 [==============================] - 0s 8ms/step - loss: 216815.7500 - mse: 118372196352.0000\n",
            "Epoch 22/100\n",
            "3/3 [==============================] - 0s 8ms/step - loss: 215839.8281 - mse: 129963606016.0000\n",
            "Epoch 23/100\n",
            "3/3 [==============================] - 0s 8ms/step - loss: 219273.4531 - mse: 115702185984.0000\n",
            "Epoch 24/100\n",
            "3/3 [==============================] - 0s 7ms/step - loss: 229433.8281 - mse: 132254990336.0000\n",
            "Epoch 25/100\n",
            "3/3 [==============================] - 0s 7ms/step - loss: 221018.7969 - mse: 139025481728.0000\n",
            "Epoch 26/100\n",
            "3/3 [==============================] - 0s 7ms/step - loss: 220464.6250 - mse: 140629852160.0000\n",
            "Epoch 27/100\n",
            "3/3 [==============================] - 0s 7ms/step - loss: 224924.5469 - mse: 133185667072.0000\n",
            "Epoch 28/100\n",
            "3/3 [==============================] - 0s 8ms/step - loss: 217424.2500 - mse: 122884669440.0000\n",
            "Epoch 29/100\n",
            "3/3 [==============================] - 0s 6ms/step - loss: 223799.9531 - mse: 143420784640.0000\n",
            "Epoch 30/100\n",
            "3/3 [==============================] - 0s 7ms/step - loss: 218936.9062 - mse: 100353359872.0000\n",
            "Epoch 31/100\n",
            "3/3 [==============================] - 0s 6ms/step - loss: 221494.0000 - mse: 148101234688.0000\n",
            "Epoch 32/100\n",
            "3/3 [==============================] - 0s 8ms/step - loss: 221800.4062 - mse: 164930830336.0000\n",
            "Epoch 33/100\n",
            "3/3 [==============================] - 0s 8ms/step - loss: 229432.1250 - mse: 122153615360.0000\n",
            "Epoch 34/100\n",
            "3/3 [==============================] - 0s 8ms/step - loss: 220531.4062 - mse: 144829972480.0000\n",
            "Epoch 35/100\n",
            "3/3 [==============================] - 0s 8ms/step - loss: 224131.9688 - mse: 96377536512.0000\n",
            "Epoch 36/100\n",
            "3/3 [==============================] - 0s 7ms/step - loss: 218940.1719 - mse: 125309616128.0000\n",
            "Epoch 37/100\n",
            "3/3 [==============================] - 0s 6ms/step - loss: 226943.6719 - mse: 175028207616.0000\n",
            "Epoch 38/100\n",
            "3/3 [==============================] - 0s 7ms/step - loss: 222443.0312 - mse: 107062312960.0000\n",
            "Epoch 39/100\n",
            "3/3 [==============================] - 0s 6ms/step - loss: 218184.3750 - mse: 123313586176.0000\n",
            "Epoch 40/100\n",
            "3/3 [==============================] - 0s 6ms/step - loss: 217209.4531 - mse: 117369683968.0000\n",
            "Epoch 41/100\n",
            "3/3 [==============================] - 0s 6ms/step - loss: 219588.0469 - mse: 132102660096.0000\n",
            "Epoch 42/100\n",
            "3/3 [==============================] - 0s 7ms/step - loss: 217457.5469 - mse: 133905883136.0000\n",
            "Epoch 43/100\n",
            "3/3 [==============================] - 0s 6ms/step - loss: 216425.1719 - mse: 126436638720.0000\n",
            "Epoch 44/100\n",
            "3/3 [==============================] - 0s 6ms/step - loss: 216648.5312 - mse: 124631007232.0000\n",
            "Epoch 45/100\n",
            "3/3 [==============================] - 0s 6ms/step - loss: 226200.0469 - mse: 144760881152.0000\n",
            "Epoch 46/100\n",
            "3/3 [==============================] - 0s 6ms/step - loss: 230687.1562 - mse: 116620566528.0000\n",
            "Epoch 47/100\n",
            "3/3 [==============================] - 0s 6ms/step - loss: 218748.1250 - mse: 127577964544.0000\n",
            "Epoch 48/100\n",
            "3/3 [==============================] - 0s 6ms/step - loss: 223347.5938 - mse: 164047126528.0000\n",
            "Epoch 49/100\n",
            "3/3 [==============================] - 0s 6ms/step - loss: 223698.4688 - mse: 121710223360.0000\n",
            "Epoch 50/100\n",
            "3/3 [==============================] - 0s 6ms/step - loss: 218179.5469 - mse: 136165613568.0000\n",
            "Epoch 51/100\n",
            "3/3 [==============================] - 0s 6ms/step - loss: 220339.7500 - mse: 125866762240.0000\n",
            "Epoch 52/100\n",
            "3/3 [==============================] - 0s 6ms/step - loss: 218466.7500 - mse: 111802015744.0000\n",
            "Epoch 53/100\n",
            "3/3 [==============================] - 0s 7ms/step - loss: 224597.4531 - mse: 159036424192.0000\n",
            "Epoch 54/100\n",
            "3/3 [==============================] - 0s 7ms/step - loss: 223824.1562 - mse: 102999597056.0000\n",
            "Epoch 55/100\n",
            "3/3 [==============================] - 0s 13ms/step - loss: 217714.3281 - mse: 141861093376.0000\n",
            "Epoch 56/100\n",
            "3/3 [==============================] - 0s 10ms/step - loss: 223824.0469 - mse: 115372695552.0000\n",
            "Epoch 57/100\n",
            "3/3 [==============================] - 0s 10ms/step - loss: 249912.8438 - mse: 189110796288.0000\n",
            "Epoch 58/100\n",
            "3/3 [==============================] - 0s 7ms/step - loss: 228341.4688 - mse: 172252594176.0000\n",
            "Epoch 59/100\n",
            "3/3 [==============================] - 0s 7ms/step - loss: 233758.8438 - mse: 142336802816.0000\n",
            "Epoch 60/100\n",
            "3/3 [==============================] - 0s 7ms/step - loss: 222291.6562 - mse: 105121054720.0000\n",
            "Epoch 61/100\n",
            "3/3 [==============================] - 0s 7ms/step - loss: 224369.0938 - mse: 131164250112.0000\n",
            "Epoch 62/100\n",
            "3/3 [==============================] - 0s 10ms/step - loss: 218475.5312 - mse: 125171818496.0000\n",
            "Epoch 63/100\n",
            "3/3 [==============================] - 0s 7ms/step - loss: 226331.3281 - mse: 149895397376.0000\n",
            "Epoch 64/100\n",
            "3/3 [==============================] - 0s 8ms/step - loss: 219834.2031 - mse: 152386830336.0000\n",
            "Epoch 65/100\n",
            "3/3 [==============================] - 0s 15ms/step - loss: 233053.5312 - mse: 105931128832.0000\n",
            "Epoch 66/100\n",
            "3/3 [==============================] - 0s 27ms/step - loss: 222086.6719 - mse: 123070758912.0000\n",
            "Epoch 67/100\n",
            "3/3 [==============================] - 0s 13ms/step - loss: 218447.9531 - mse: 143592046592.0000\n",
            "Epoch 68/100\n",
            "3/3 [==============================] - 0s 39ms/step - loss: 222442.3438 - mse: 115821944832.0000\n",
            "Epoch 69/100\n",
            "3/3 [==============================] - 0s 22ms/step - loss: 222120.2500 - mse: 153596608512.0000\n",
            "Epoch 70/100\n",
            "3/3 [==============================] - 0s 28ms/step - loss: 216334.3438 - mse: 138246520832.0000\n",
            "Epoch 71/100\n",
            "3/3 [==============================] - 0s 32ms/step - loss: 220709.5938 - mse: 135733968896.0000\n",
            "Epoch 72/100\n",
            "3/3 [==============================] - 0s 17ms/step - loss: 227893.0781 - mse: 118429753344.0000\n",
            "Epoch 73/100\n",
            "3/3 [==============================] - 0s 21ms/step - loss: 229405.2969 - mse: 133781233664.0000\n",
            "Epoch 74/100\n",
            "3/3 [==============================] - 0s 23ms/step - loss: 222241.7500 - mse: 101691949056.0000\n",
            "Epoch 75/100\n",
            "3/3 [==============================] - 0s 19ms/step - loss: 220605.4688 - mse: 142745337856.0000\n",
            "Epoch 76/100\n",
            "3/3 [==============================] - 0s 20ms/step - loss: 217433.4219 - mse: 127142871040.0000\n",
            "Epoch 77/100\n",
            "3/3 [==============================] - 0s 11ms/step - loss: 220069.2031 - mse: 128893173760.0000\n",
            "Epoch 78/100\n",
            "3/3 [==============================] - 0s 16ms/step - loss: 216429.0469 - mse: 138932764672.0000\n",
            "Epoch 79/100\n",
            "3/3 [==============================] - 0s 10ms/step - loss: 216184.0781 - mse: 119753162752.0000\n",
            "Epoch 80/100\n",
            "3/3 [==============================] - 0s 10ms/step - loss: 226692.2969 - mse: 136325808128.0000\n",
            "Epoch 81/100\n",
            "3/3 [==============================] - 0s 13ms/step - loss: 218815.5312 - mse: 155859025920.0000\n",
            "Epoch 82/100\n",
            "3/3 [==============================] - 0s 15ms/step - loss: 221782.7969 - mse: 122059513856.0000\n",
            "Epoch 83/100\n",
            "3/3 [==============================] - 0s 11ms/step - loss: 225729.7188 - mse: 114826215424.0000\n",
            "Epoch 84/100\n",
            "3/3 [==============================] - 0s 8ms/step - loss: 231240.1719 - mse: 119832051712.0000\n",
            "Epoch 85/100\n",
            "3/3 [==============================] - 0s 7ms/step - loss: 229369.5938 - mse: 141288505344.0000\n",
            "Epoch 86/100\n",
            "3/3 [==============================] - 0s 6ms/step - loss: 221419.2500 - mse: 97218486272.0000\n",
            "Epoch 87/100\n",
            "3/3 [==============================] - 0s 7ms/step - loss: 220879.4062 - mse: 153957826560.0000\n",
            "Epoch 88/100\n",
            "3/3 [==============================] - 0s 6ms/step - loss: 220182.4531 - mse: 120102150144.0000\n",
            "Epoch 89/100\n",
            "3/3 [==============================] - 0s 6ms/step - loss: 227136.7969 - mse: 137676324864.0000\n",
            "Epoch 90/100\n",
            "3/3 [==============================] - 0s 6ms/step - loss: 227213.9531 - mse: 108971909120.0000\n",
            "Epoch 91/100\n",
            "3/3 [==============================] - 0s 7ms/step - loss: 219638.9062 - mse: 102265847808.0000\n",
            "Epoch 92/100\n",
            "3/3 [==============================] - 0s 5ms/step - loss: 245153.9531 - mse: 181713633280.0000\n",
            "Epoch 93/100\n",
            "3/3 [==============================] - 0s 5ms/step - loss: 223964.7500 - mse: 123630780416.0000\n",
            "Epoch 94/100\n",
            "3/3 [==============================] - 0s 6ms/step - loss: 218661.9531 - mse: 137093840896.0000\n",
            "Epoch 95/100\n",
            "3/3 [==============================] - 0s 11ms/step - loss: 228583.0000 - mse: 151571988480.0000\n",
            "Epoch 96/100\n",
            "3/3 [==============================] - 0s 6ms/step - loss: 219215.5312 - mse: 138563649536.0000\n",
            "Epoch 97/100\n",
            "3/3 [==============================] - 0s 6ms/step - loss: 220729.7812 - mse: 128764977152.0000\n",
            "Epoch 98/100\n",
            "3/3 [==============================] - 0s 8ms/step - loss: 220405.4531 - mse: 160196083712.0000\n",
            "Epoch 99/100\n",
            "3/3 [==============================] - 0s 7ms/step - loss: 224158.7969 - mse: 122642628608.0000\n",
            "Epoch 100/100\n",
            "3/3 [==============================] - 0s 7ms/step - loss: 217805.7969 - mse: 139277959168.0000\n"
          ]
        },
        {
          "output_type": "execute_result",
          "data": {
            "text/plain": [
              "<keras.callbacks.History at 0x7fe76daaab80>"
            ]
          },
          "metadata": {},
          "execution_count": 170
        }
      ]
    },
    {
      "cell_type": "code",
      "source": [
        "y_pred_2=model_2.predict(X_test)\n",
        "plot_pred(test_pred=y_pred_2)"
      ],
      "metadata": {
        "colab": {
          "base_uri": "https://localhost:8080/",
          "height": 294
        },
        "id": "3qDNAV9P4M_B",
        "outputId": "5e00d5ec-cfb0-4b3d-ef67-dfbcf4670024"
      },
      "execution_count": 169,
      "outputs": [
        {
          "output_type": "stream",
          "name": "stdout",
          "text": [
            "1/1 [==============================] - 0s 55ms/step\n"
          ]
        },
        {
          "output_type": "display_data",
          "data": {
            "text/plain": [
              "<Figure size 432x288 with 1 Axes>"
            ],
            "image/png": "[encoded data removed]"
          },
          "metadata": {
            "needs_background": "light"
          }
        }
      ]
    },
    {
      "cell_type": "code",
      "source": [
        "# calculate evaluation metrics for model 1\n",
        "mae_2=tf.metrics.MAE(y_test, tf.squeeze(y_pred_2))"
      ],
      "metadata": {
        "id": "W0gWYtr_4c0L"
      },
      "execution_count": 174,
      "outputs": []
    },
    {
      "cell_type": "code",
      "source": [
        "mse_2=tf.metrics.MSE(y_test, tf.squeeze(y_pred_2))"
      ],
      "metadata": {
        "id": "XHPJsxpA7a3b"
      },
      "execution_count": 175,
      "outputs": []
    },
    {
      "cell_type": "markdown",
      "source": [
        "# compare result of our experiment\n"
      ],
      "metadata": {
        "id": "ZJJlhkBU7gBi"
      }
    },
    {
      "cell_type": "code",
      "source": [
        "import pandas as pd\n",
        "model_result=[[\"model_1\", mae_1.numpy(),mse_1.numpy()], [\"model_2\", mae_2.numpy(), mse_2.numpy()]]"
      ],
      "metadata": {
        "id": "Zw7SARSh7lLk"
      },
      "execution_count": 179,
      "outputs": []
    },
    {
      "cell_type": "code",
      "source": [
        "all_results=pd.DataFrame(model_result, columns=[\"model\", \"mae\", \"mse\"])"
      ],
      "metadata": {
        "id": "1whfj9MP71YG"
      },
      "execution_count": 180,
      "outputs": []
    },
    {
      "cell_type": "code",
      "source": [
        "all_results"
      ],
      "metadata": {
        "colab": {
          "base_uri": "https://localhost:8080/",
          "height": 112
        },
        "id": "wwU0AsR38RPq",
        "outputId": "7e59bbe7-c56c-42ca-acdf-08ee431ac572"
      },
      "execution_count": 181,
      "outputs": [
        {
          "output_type": "execute_result",
          "data": {
            "text/plain": [
              "     model           mae           mse\n",
              "0  model_1  1.038960e+06  1.272582e+12\n",
              "1  model_2  3.855511e+05  2.531567e+11"
            ],
            "text/html": [
              "\n",
              "  <div id=\"df-d9b229cd-bcb5-4e4b-b7f2-f163181bb569\">\n",
              "    <div class=\"colab-df-container\">\n",
              "      <div>\n",
              "<style scoped>\n",
              "    .dataframe tbody tr th:only-of-type {\n",
              "        vertical-align: middle;\n",
              "    }\n",
              "\n",
              "    .dataframe tbody tr th {\n",
              "        vertical-align: top;\n",
              "    }\n",
              "\n",
              "    .dataframe thead th {\n",
              "        text-align: right;\n",
              "    }\n",
              "</style>\n",
              "<table border=\"1\" class=\"dataframe\">\n",
              "  <thead>\n",
              "    <tr style=\"text-align: right;\">\n",
              "      <th></th>\n",
              "      <th>model</th>\n",
              "      <th>mae</th>\n",
              "      <th>mse</th>\n",
              "    </tr>\n",
              "  </thead>\n",
              "  <tbody>\n",
              "    <tr>\n",
              "      <th>0</th>\n",
              "      <td>model_1</td>\n",
              "      <td>1.038960e+06</td>\n",
              "      <td>1.272582e+12</td>\n",
              "    </tr>\n",
              "    <tr>\n",
              "      <th>1</th>\n",
              "      <td>model_2</td>\n",
              "      <td>3.855511e+05</td>\n",
              "      <td>2.531567e+11</td>\n",
              "    </tr>\n",
              "  </tbody>\n",
              "</table>\n",
              "</div>\n",
              "      <button class=\"colab-df-convert\" onclick=\"convertToInteractive('df-d9b229cd-bcb5-4e4b-b7f2-f163181bb569')\"\n",
              "              title=\"Convert this dataframe to an interactive table.\"\n",
              "              style=\"display:none;\">\n",
              "        \n",
              "  <svg xmlns=\"http://www.w3.org/2000/svg\" height=\"24px\"viewBox=\"0 0 24 24\"\n",
              "       width=\"24px\">\n",
              "    <path d=\"M0 0h24v24H0V0z\" fill=\"none\"/>\n",
              "    <path d=\"M18.56 5.44l.94 2.06.94-2.06 2.06-.94-2.06-.94-.94-2.06-.94 2.06-2.06.94zm-11 1L8.5 8.5l.94-2.06 2.06-.94-2.06-.94L8.5 2.5l-.94 2.06-2.06.94zm10 10l.94 2.06.94-2.06 2.06-.94-2.06-.94-.94-2.06-.94 2.06-2.06.94z\"/><path d=\"M17.41 7.96l-1.37-1.37c-.4-.4-.92-.59-1.43-.59-.52 0-1.04.2-1.43.59L10.3 9.45l-7.72 7.72c-.78.78-.78 2.05 0 2.83L4 21.41c.39.39.9.59 1.41.59.51 0 1.02-.2 1.41-.59l7.78-7.78 2.81-2.81c.8-.78.8-2.07 0-2.86zM5.41 20L4 18.59l7.72-7.72 1.47 1.35L5.41 20z\"/>\n",
              "  </svg>\n",
              "      </button>\n",
              "      \n",
              "  <style>\n",
              "    .colab-df-container {\n",
              "      display:flex;\n",
              "      flex-wrap:wrap;\n",
              "      gap: 12px;\n",
              "    }\n",
              "\n",
              "    .colab-df-convert {\n",
              "      background-color: #E8F0FE;\n",
              "      border: none;\n",
              "      border-radius: 50%;\n",
              "      cursor: pointer;\n",
              "      display: none;\n",
              "      fill: #1967D2;\n",
              "      height: 32px;\n",
              "      padding: 0 0 0 0;\n",
              "      width: 32px;\n",
              "    }\n",
              "\n",
              "    .colab-df-convert:hover {\n",
              "      background-color: #E2EBFA;\n",
              "      box-shadow: 0px 1px 2px rgba(60, 64, 67, 0.3), 0px 1px 3px 1px rgba(60, 64, 67, 0.15);\n",
              "      fill: #174EA6;\n",
              "    }\n",
              "\n",
              "    [theme=dark] .colab-df-convert {\n",
              "      background-color: #3B4455;\n",
              "      fill: #D2E3FC;\n",
              "    }\n",
              "\n",
              "    [theme=dark] .colab-df-convert:hover {\n",
              "      background-color: #434B5C;\n",
              "      box-shadow: 0px 1px 3px 1px rgba(0, 0, 0, 0.15);\n",
              "      filter: drop-shadow(0px 1px 2px rgba(0, 0, 0, 0.3));\n",
              "      fill: #FFFFFF;\n",
              "    }\n",
              "  </style>\n",
              "\n",
              "      <script>\n",
              "        const buttonEl =\n",
              "          document.querySelector('#df-d9b229cd-bcb5-4e4b-b7f2-f163181bb569 button.colab-df-convert');\n",
              "        buttonEl.style.display =\n",
              "          google.colab.kernel.accessAllowed ? 'block' : 'none';\n",
              "\n",
              "        async function convertToInteractive(key) {\n",
              "          const element = document.querySelector('#df-d9b229cd-bcb5-4e4b-b7f2-f163181bb569');\n",
              "          const dataTable =\n",
              "            await google.colab.kernel.invokeFunction('convertToInteractive',\n",
              "                                                     [key], {});\n",
              "          if (!dataTable) return;\n",
              "\n",
              "          const docLinkHtml = 'Like what you see? Visit the ' +\n",
              "            '<a target=\"_blank\" href=https://colab.research.google.com/notebooks/data_table.ipynb>data table notebook</a>'\n",
              "            + ' to learn more about interactive tables.';\n",
              "          element.innerHTML = '';\n",
              "          dataTable['output_type'] = 'display_data';\n",
              "          await google.colab.output.renderOutput(dataTable, element);\n",
              "          const docLink = document.createElement('div');\n",
              "          docLink.innerHTML = docLinkHtml;\n",
              "          element.appendChild(docLink);\n",
              "        }\n",
              "      </script>\n",
              "    </div>\n",
              "  </div>\n",
              "  "
            ]
          },
          "metadata": {},
          "execution_count": 181
        }
      ]
    },
    {
      "cell_type": "code",
      "source": [
        "model_2.summary()"
      ],
      "metadata": {
        "colab": {
          "base_uri": "https://localhost:8080/"
        },
        "id": "SnkmtAry8S8U",
        "outputId": "4a0f2a70-fed2-4343-bbc8-802558f3f117"
      },
      "execution_count": 184,
      "outputs": [
        {
          "output_type": "stream",
          "name": "stdout",
          "text": [
            "Model: \"sequential_27\"\n",
            "_________________________________________________________________\n",
            " Layer (type)                Output Shape              Param #   \n",
            "=================================================================\n",
            " dense_34 (Dense)            (None, 10)                20        \n",
            "                                                                 \n",
            " dense_35 (Dense)            (None, 1)                 11        \n",
            "                                                                 \n",
            "=================================================================\n",
            "Total params: 31\n",
            "Trainable params: 31\n",
            "Non-trainable params: 0\n",
            "_________________________________________________________________\n"
          ]
        }
      ]
    },
    {
      "cell_type": "markdown",
      "source": [
        "Tracking your experiments\n",
        "One really good habit to get into is tracking your modelling experiments to see which perform better than others.\n",
        "\n",
        "We've done a simple version of this above (keeping the results in different variables).\n",
        "\n",
        "📖 Resource: But as you build more models, you'll want to look into using tools such as:\n",
        "\n",
        "TensorBoard - a component of the TensorFlow library to help track modelling experiments (we'll see this later).\n",
        "Weights & Biases - a tool for tracking all kinds of machine learning experiments (the good news for Weights & Biases is it plugs into TensorBoard)."
      ],
      "metadata": {
        "id": "mXivIF6O8sL2"
      }
    },
    {
      "cell_type": "markdown",
      "source": [
        "# two formate we can save models\n",
        "\n",
        "\n",
        "1.   SavedModel format\n",
        "2.   HDF5 format\n",
        "\n"
      ],
      "metadata": {
        "id": "OGk-9hLX-HEU"
      }
    },
    {
      "cell_type": "code",
      "source": [
        "model_2.save(\"best_model_savedmodel_formate\")"
      ],
      "metadata": {
        "colab": {
          "base_uri": "https://localhost:8080/"
        },
        "id": "KNwXhEZVC5r7",
        "outputId": "646adc1f-a393-4bc5-d558-1a8816e09d25"
      },
      "execution_count": 185,
      "outputs": [
        {
          "output_type": "stream",
          "name": "stderr",
          "text": [
            "WARNING:absl:Found untraced functions such as _update_step_xla while saving (showing 1 of 1). These functions will not be directly callable after loading.\n"
          ]
        }
      ]
    },
    {
      "cell_type": "code",
      "source": [
        "model_2.save(\"hdf5formetmodel.h5\")"
      ],
      "metadata": {
        "id": "Wp0_ERBvD2zN"
      },
      "execution_count": 186,
      "outputs": []
    },
    {
      "cell_type": "code",
      "source": [
        "# if you want to load and save within tensorflow environment, savedmodel formate is good but if you want to run model in other devices outside tenserflow  h5 is the best\n",
        "# i recommend h5 for both"
      ],
      "metadata": {
        "id": "gu1vBzrdEqm-"
      },
      "execution_count": 188,
      "outputs": []
    },
    {
      "cell_type": "code",
      "source": [
        "h5_model = tf.keras.models.load_model('hdf5formetmodel.h5')"
      ],
      "metadata": {
        "id": "1aJsVuZcE-6c"
      },
      "execution_count": 189,
      "outputs": []
    },
    {
      "cell_type": "code",
      "source": [
        "saved_model = tf.keras.models.load_model('best_model_savedmodel_formate')\n",
        "# in colap go to file three dot and copy file path and past here"
      ],
      "metadata": {
        "id": "DpRY8OsJF9uY"
      },
      "execution_count": 195,
      "outputs": []
    },
    {
      "cell_type": "code",
      "source": [
        "h5_model.summary()"
      ],
      "metadata": {
        "colab": {
          "base_uri": "https://localhost:8080/"
        },
        "id": "I2fiQkTQGKEH",
        "outputId": "f86bc4ac-a15c-4af6-fa3f-6e3596861943"
      },
      "execution_count": 192,
      "outputs": [
        {
          "output_type": "stream",
          "name": "stdout",
          "text": [
            "Model: \"sequential_27\"\n",
            "_________________________________________________________________\n",
            " Layer (type)                Output Shape              Param #   \n",
            "=================================================================\n",
            " dense_34 (Dense)            (None, 10)                20        \n",
            "                                                                 \n",
            " dense_35 (Dense)            (None, 1)                 11        \n",
            "                                                                 \n",
            "=================================================================\n",
            "Total params: 31\n",
            "Trainable params: 31\n",
            "Non-trainable params: 0\n",
            "_________________________________________________________________\n"
          ]
        }
      ]
    },
    {
      "cell_type": "code",
      "source": [
        "saved_model .summary()"
      ],
      "metadata": {
        "colab": {
          "base_uri": "https://localhost:8080/"
        },
        "id": "7tBB7mCXGMVk",
        "outputId": "58bca9bc-63f1-4594-c923-ad2dbc6e91f1"
      },
      "execution_count": 193,
      "outputs": [
        {
          "output_type": "stream",
          "name": "stdout",
          "text": [
            "Model: \"sequential_27\"\n",
            "_________________________________________________________________\n",
            " Layer (type)                Output Shape              Param #   \n",
            "=================================================================\n",
            " dense_34 (Dense)            (None, 10)                20        \n",
            "                                                                 \n",
            " dense_35 (Dense)            (None, 1)                 11        \n",
            "                                                                 \n",
            "=================================================================\n",
            "Total params: 31\n",
            "Trainable params: 31\n",
            "Non-trainable params: 0\n",
            "_________________________________________________________________\n"
          ]
        }
      ]
    },
    {
      "cell_type": "code",
      "source": [
        "model_2.summary()"
      ],
      "metadata": {
        "colab": {
          "base_uri": "https://localhost:8080/"
        },
        "id": "g51Uvvl2GQ6f",
        "outputId": "1b9ee027-b11d-498c-d8ec-8b9a53000406"
      },
      "execution_count": 194,
      "outputs": [
        {
          "output_type": "stream",
          "name": "stdout",
          "text": [
            "Model: \"sequential_27\"\n",
            "_________________________________________________________________\n",
            " Layer (type)                Output Shape              Param #   \n",
            "=================================================================\n",
            " dense_34 (Dense)            (None, 10)                20        \n",
            "                                                                 \n",
            " dense_35 (Dense)            (None, 1)                 11        \n",
            "                                                                 \n",
            "=================================================================\n",
            "Total params: 31\n",
            "Trainable params: 31\n",
            "Non-trainable params: 0\n",
            "_________________________________________________________________\n"
          ]
        }
      ]
    },
    {
      "cell_type": "code",
      "source": [
        "# compare each model prediction to know if they are parameter and evaluate each"
      ],
      "metadata": {
        "id": "nvHC1aJ_GT2V"
      },
      "execution_count": 198,
      "outputs": []
    },
    {
      "cell_type": "code",
      "source": [
        "# numpy.squeeze() for data is array not tensor, ie numpy method"
      ],
      "metadata": {
        "id": "zKyjO26KHBT1"
      },
      "execution_count": 197,
      "outputs": []
    },
    {
      "cell_type": "markdown",
      "source": [
        "# Download file \n",
        "1. 3 dot and download or use function\n",
        "2. form google colab code\n",
        "3. or save to google drive by connect it / mount google drive first "
      ],
      "metadata": {
        "id": "cp9sx_3xHhsC"
      }
    },
    {
      "cell_type": "code",
      "source": [
        "from google.colab import files\n",
        "files.download(\"/content/hdf5formetmodel.h5\")\n",
        "# copy path past it"
      ],
      "metadata": {
        "colab": {
          "base_uri": "https://localhost:8080/",
          "height": 17
        },
        "id": "PaIiRcMKI1H-",
        "outputId": "181b6f48-5153-4ec1-ef34-b5eff65745b8"
      },
      "execution_count": 199,
      "outputs": [
        {
          "output_type": "display_data",
          "data": {
            "text/plain": [
              "<IPython.core.display.Javascript object>"
            ],
            "application/javascript": [
              "\n",
              "    async function download(id, filename, size) {\n",
              "      if (!google.colab.kernel.accessAllowed) {\n",
              "        return;\n",
              "      }\n",
              "      const div = document.createElement('div');\n",
              "      const label = document.createElement('label');\n",
              "      label.textContent = `Downloading \"${filename}\": `;\n",
              "      div.appendChild(label);\n",
              "      const progress = document.createElement('progress');\n",
              "      progress.max = size;\n",
              "      div.appendChild(progress);\n",
              "      document.body.appendChild(div);\n",
              "\n",
              "      const buffers = [];\n",
              "      let downloaded = 0;\n",
              "\n",
              "      const channel = await google.colab.kernel.comms.open(id);\n",
              "      // Send a message to notify the kernel that we're ready.\n",
              "      channel.send({})\n",
              "\n",
              "      for await (const message of channel.messages) {\n",
              "        // Send a message to notify the kernel that we're ready.\n",
              "        channel.send({})\n",
              "        if (message.buffers) {\n",
              "          for (const buffer of message.buffers) {\n",
              "            buffers.push(buffer);\n",
              "            downloaded += buffer.byteLength;\n",
              "            progress.value = downloaded;\n",
              "          }\n",
              "        }\n",
              "      }\n",
              "      const blob = new Blob(buffers, {type: 'application/binary'});\n",
              "      const a = document.createElement('a');\n",
              "      a.href = window.URL.createObjectURL(blob);\n",
              "      a.download = filename;\n",
              "      div.appendChild(a);\n",
              "      a.click();\n",
              "      div.remove();\n",
              "    }\n",
              "  "
            ]
          },
          "metadata": {}
        },
        {
          "output_type": "display_data",
          "data": {
            "text/plain": [
              "<IPython.core.display.Javascript object>"
            ],
            "application/javascript": [
              "download(\"download_314b0204-b7c8-4be4-8b42-273906365c71\", \"hdf5formetmodel.h5\", 22120)"
            ]
          },
          "metadata": {}
        }
      ]
    },
    {
      "cell_type": "code",
      "source": [
        "!cp /content/hdf5formetmodel.h5 /content/drive/MyDrive/tensorflow-course\n",
        "# copy path destination and source"
      ],
      "metadata": {
        "id": "8Rgw1cYKJLfX"
      },
      "execution_count": 202,
      "outputs": []
    },
    {
      "cell_type": "code",
      "source": [
        "!ls /content/drive/MyDrive/tensorflow-course"
      ],
      "metadata": {
        "colab": {
          "base_uri": "https://localhost:8080/"
        },
        "id": "-iDyr8lvKbZV",
        "outputId": "84c53751-a5fd-45e7-f27c-ae5f4852e469"
      },
      "execution_count": 203,
      "outputs": [
        {
          "output_type": "stream",
          "name": "stdout",
          "text": [
            "hdf5formetmodel.h5\n"
          ]
        }
      ]
    },
    {
      "cell_type": "markdown",
      "source": [
        "A larger example: \n",
        "lets step it up the notch"
      ],
      "metadata": {
        "id": "OxQOvMRrKc-X"
      }
    },
    {
      "cell_type": "code",
      "source": [
        "import tensorflow as tf\n",
        "import pandas as pd\n",
        "import matplotlib.pyplot as plt"
      ],
      "metadata": {
        "id": "4Fe6WCt0MZ7e"
      },
      "execution_count": 204,
      "outputs": []
    },
    {
      "cell_type": "code",
      "source": [
        "# read insurence dataset\n",
        "insurance=pd.read_csv(\"https://raw.githubusercontent.com/stedy/Machine-Learning-with-R-datasets/master/insurance.csv\")"
      ],
      "metadata": {
        "id": "oW0kHOgmVlK_"
      },
      "execution_count": 205,
      "outputs": []
    },
    {
      "cell_type": "code",
      "source": [
        "insurance_one_hot=pd.get_dummies(insurance)"
      ],
      "metadata": {
        "id": "Hh_eJsDIV3e8"
      },
      "execution_count": 206,
      "outputs": []
    },
    {
      "cell_type": "code",
      "source": [
        "insurance_one_hot.head()"
      ],
      "metadata": {
        "colab": {
          "base_uri": "https://localhost:8080/",
          "height": 206
        },
        "id": "ToiYqPC1XUVl",
        "outputId": "86081359-3f62-4b63-8077-5a1726be739a"
      },
      "execution_count": 207,
      "outputs": [
        {
          "output_type": "execute_result",
          "data": {
            "text/plain": [
              "   age     bmi  children      charges  sex_female  sex_male  smoker_no  \\\n",
              "0   19  27.900         0  16884.92400           1         0          0   \n",
              "1   18  33.770         1   1725.55230           0         1          1   \n",
              "2   28  33.000         3   4449.46200           0         1          1   \n",
              "3   33  22.705         0  21984.47061           0         1          1   \n",
              "4   32  28.880         0   3866.85520           0         1          1   \n",
              "\n",
              "   smoker_yes  region_northeast  region_northwest  region_southeast  \\\n",
              "0           1                 0                 0                 0   \n",
              "1           0                 0                 0                 1   \n",
              "2           0                 0                 0                 1   \n",
              "3           0                 0                 1                 0   \n",
              "4           0                 0                 1                 0   \n",
              "\n",
              "   region_southwest  \n",
              "0                 1  \n",
              "1                 0  \n",
              "2                 0  \n",
              "3                 0  \n",
              "4                 0  "
            ],
            "text/html": [
              "\n",
              "  <div id=\"df-075383de-6d63-4cbb-a2ac-6f7122325b86\">\n",
              "    <div class=\"colab-df-container\">\n",
              "      <div>\n",
              "<style scoped>\n",
              "    .dataframe tbody tr th:only-of-type {\n",
              "        vertical-align: middle;\n",
              "    }\n",
              "\n",
              "    .dataframe tbody tr th {\n",
              "        vertical-align: top;\n",
              "    }\n",
              "\n",
              "    .dataframe thead th {\n",
              "        text-align: right;\n",
              "    }\n",
              "</style>\n",
              "<table border=\"1\" class=\"dataframe\">\n",
              "  <thead>\n",
              "    <tr style=\"text-align: right;\">\n",
              "      <th></th>\n",
              "      <th>age</th>\n",
              "      <th>bmi</th>\n",
              "      <th>children</th>\n",
              "      <th>charges</th>\n",
              "      <th>sex_female</th>\n",
              "      <th>sex_male</th>\n",
              "      <th>smoker_no</th>\n",
              "      <th>smoker_yes</th>\n",
              "      <th>region_northeast</th>\n",
              "      <th>region_northwest</th>\n",
              "      <th>region_southeast</th>\n",
              "      <th>region_southwest</th>\n",
              "    </tr>\n",
              "  </thead>\n",
              "  <tbody>\n",
              "    <tr>\n",
              "      <th>0</th>\n",
              "      <td>19</td>\n",
              "      <td>27.900</td>\n",
              "      <td>0</td>\n",
              "      <td>16884.92400</td>\n",
              "      <td>1</td>\n",
              "      <td>0</td>\n",
              "      <td>0</td>\n",
              "      <td>1</td>\n",
              "      <td>0</td>\n",
              "      <td>0</td>\n",
              "      <td>0</td>\n",
              "      <td>1</td>\n",
              "    </tr>\n",
              "    <tr>\n",
              "      <th>1</th>\n",
              "      <td>18</td>\n",
              "      <td>33.770</td>\n",
              "      <td>1</td>\n",
              "      <td>1725.55230</td>\n",
              "      <td>0</td>\n",
              "      <td>1</td>\n",
              "      <td>1</td>\n",
              "      <td>0</td>\n",
              "      <td>0</td>\n",
              "      <td>0</td>\n",
              "      <td>1</td>\n",
              "      <td>0</td>\n",
              "    </tr>\n",
              "    <tr>\n",
              "      <th>2</th>\n",
              "      <td>28</td>\n",
              "      <td>33.000</td>\n",
              "      <td>3</td>\n",
              "      <td>4449.46200</td>\n",
              "      <td>0</td>\n",
              "      <td>1</td>\n",
              "      <td>1</td>\n",
              "      <td>0</td>\n",
              "      <td>0</td>\n",
              "      <td>0</td>\n",
              "      <td>1</td>\n",
              "      <td>0</td>\n",
              "    </tr>\n",
              "    <tr>\n",
              "      <th>3</th>\n",
              "      <td>33</td>\n",
              "      <td>22.705</td>\n",
              "      <td>0</td>\n",
              "      <td>21984.47061</td>\n",
              "      <td>0</td>\n",
              "      <td>1</td>\n",
              "      <td>1</td>\n",
              "      <td>0</td>\n",
              "      <td>0</td>\n",
              "      <td>1</td>\n",
              "      <td>0</td>\n",
              "      <td>0</td>\n",
              "    </tr>\n",
              "    <tr>\n",
              "      <th>4</th>\n",
              "      <td>32</td>\n",
              "      <td>28.880</td>\n",
              "      <td>0</td>\n",
              "      <td>3866.85520</td>\n",
              "      <td>0</td>\n",
              "      <td>1</td>\n",
              "      <td>1</td>\n",
              "      <td>0</td>\n",
              "      <td>0</td>\n",
              "      <td>1</td>\n",
              "      <td>0</td>\n",
              "      <td>0</td>\n",
              "    </tr>\n",
              "  </tbody>\n",
              "</table>\n",
              "</div>\n",
              "      <button class=\"colab-df-convert\" onclick=\"convertToInteractive('df-075383de-6d63-4cbb-a2ac-6f7122325b86')\"\n",
              "              title=\"Convert this dataframe to an interactive table.\"\n",
              "              style=\"display:none;\">\n",
              "        \n",
              "  <svg xmlns=\"http://www.w3.org/2000/svg\" height=\"24px\"viewBox=\"0 0 24 24\"\n",
              "       width=\"24px\">\n",
              "    <path d=\"M0 0h24v24H0V0z\" fill=\"none\"/>\n",
              "    <path d=\"M18.56 5.44l.94 2.06.94-2.06 2.06-.94-2.06-.94-.94-2.06-.94 2.06-2.06.94zm-11 1L8.5 8.5l.94-2.06 2.06-.94-2.06-.94L8.5 2.5l-.94 2.06-2.06.94zm10 10l.94 2.06.94-2.06 2.06-.94-2.06-.94-.94-2.06-.94 2.06-2.06.94z\"/><path d=\"M17.41 7.96l-1.37-1.37c-.4-.4-.92-.59-1.43-.59-.52 0-1.04.2-1.43.59L10.3 9.45l-7.72 7.72c-.78.78-.78 2.05 0 2.83L4 21.41c.39.39.9.59 1.41.59.51 0 1.02-.2 1.41-.59l7.78-7.78 2.81-2.81c.8-.78.8-2.07 0-2.86zM5.41 20L4 18.59l7.72-7.72 1.47 1.35L5.41 20z\"/>\n",
              "  </svg>\n",
              "      </button>\n",
              "      \n",
              "  <style>\n",
              "    .colab-df-container {\n",
              "      display:flex;\n",
              "      flex-wrap:wrap;\n",
              "      gap: 12px;\n",
              "    }\n",
              "\n",
              "    .colab-df-convert {\n",
              "      background-color: #E8F0FE;\n",
              "      border: none;\n",
              "      border-radius: 50%;\n",
              "      cursor: pointer;\n",
              "      display: none;\n",
              "      fill: #1967D2;\n",
              "      height: 32px;\n",
              "      padding: 0 0 0 0;\n",
              "      width: 32px;\n",
              "    }\n",
              "\n",
              "    .colab-df-convert:hover {\n",
              "      background-color: #E2EBFA;\n",
              "      box-shadow: 0px 1px 2px rgba(60, 64, 67, 0.3), 0px 1px 3px 1px rgba(60, 64, 67, 0.15);\n",
              "      fill: #174EA6;\n",
              "    }\n",
              "\n",
              "    [theme=dark] .colab-df-convert {\n",
              "      background-color: #3B4455;\n",
              "      fill: #D2E3FC;\n",
              "    }\n",
              "\n",
              "    [theme=dark] .colab-df-convert:hover {\n",
              "      background-color: #434B5C;\n",
              "      box-shadow: 0px 1px 3px 1px rgba(0, 0, 0, 0.15);\n",
              "      filter: drop-shadow(0px 1px 2px rgba(0, 0, 0, 0.3));\n",
              "      fill: #FFFFFF;\n",
              "    }\n",
              "  </style>\n",
              "\n",
              "      <script>\n",
              "        const buttonEl =\n",
              "          document.querySelector('#df-075383de-6d63-4cbb-a2ac-6f7122325b86 button.colab-df-convert');\n",
              "        buttonEl.style.display =\n",
              "          google.colab.kernel.accessAllowed ? 'block' : 'none';\n",
              "\n",
              "        async function convertToInteractive(key) {\n",
              "          const element = document.querySelector('#df-075383de-6d63-4cbb-a2ac-6f7122325b86');\n",
              "          const dataTable =\n",
              "            await google.colab.kernel.invokeFunction('convertToInteractive',\n",
              "                                                     [key], {});\n",
              "          if (!dataTable) return;\n",
              "\n",
              "          const docLinkHtml = 'Like what you see? Visit the ' +\n",
              "            '<a target=\"_blank\" href=https://colab.research.google.com/notebooks/data_table.ipynb>data table notebook</a>'\n",
              "            + ' to learn more about interactive tables.';\n",
              "          element.innerHTML = '';\n",
              "          dataTable['output_type'] = 'display_data';\n",
              "          await google.colab.output.renderOutput(dataTable, element);\n",
              "          const docLink = document.createElement('div');\n",
              "          docLink.innerHTML = docLinkHtml;\n",
              "          element.appendChild(docLink);\n",
              "        }\n",
              "      </script>\n",
              "    </div>\n",
              "  </div>\n",
              "  "
            ]
          },
          "metadata": {},
          "execution_count": 207
        }
      ]
    },
    {
      "cell_type": "code",
      "source": [
        "X=insurance_one_hot.drop(\"charges\", axis=1)\n",
        "y=insurance_one_hot[\"charges\"]"
      ],
      "metadata": {
        "id": "dAhZ2GvGXX6M"
      },
      "execution_count": 215,
      "outputs": []
    },
    {
      "cell_type": "code",
      "source": [
        "from sklearn.model_selection import train_test_split\n",
        "X_train,X_test, y_train, y_test = train_test_split(X, y, test_size = 0.20, random_state=42)"
      ],
      "metadata": {
        "id": "7wtOtC_CXjJG"
      },
      "execution_count": 217,
      "outputs": []
    },
    {
      "cell_type": "code",
      "source": [
        "tf.random.set_seed(42)\n",
        "\n",
        "insurance_model=tf.keras.Sequential([\n",
        "    tf.keras.layers.Dense(10),\n",
        "    tf.keras.layers.Dense(1)\n",
        "])\n",
        "\n",
        "insurance_model.compile(loss=tf.keras.losses.mae, optimizer=tf.keras.optimizers.SGD(), metrics=[\"mae\"])\n",
        "\n",
        "insurance_model.fit(X_train, y_train, epochs=100)"
      ],
      "metadata": {
        "colab": {
          "base_uri": "https://localhost:8080/"
        },
        "id": "Nbf_zsoBXm2q",
        "outputId": "d7762dea-7cde-40f5-b402-3d2bcded7d39"
      },
      "execution_count": 219,
      "outputs": [
        {
          "output_type": "stream",
          "name": "stdout",
          "text": [
            "Epoch 1/100\n",
            "34/34 [==============================] - 2s 9ms/step - loss: 8631.9912 - mae: 8631.9912\n",
            "Epoch 2/100\n",
            "34/34 [==============================] - 0s 7ms/step - loss: 7885.9478 - mae: 7885.9478\n",
            "Epoch 3/100\n",
            "34/34 [==============================] - 1s 15ms/step - loss: 7603.1758 - mae: 7603.1758\n",
            "Epoch 4/100\n",
            "34/34 [==============================] - 1s 16ms/step - loss: 7791.2632 - mae: 7791.2632\n",
            "Epoch 5/100\n",
            "34/34 [==============================] - 0s 14ms/step - loss: 7652.7456 - mae: 7652.7456\n",
            "Epoch 6/100\n",
            "34/34 [==============================] - 0s 10ms/step - loss: 7569.6841 - mae: 7569.6841\n",
            "Epoch 7/100\n",
            "34/34 [==============================] - 0s 3ms/step - loss: 7550.4307 - mae: 7550.4307\n",
            "Epoch 8/100\n",
            "34/34 [==============================] - 0s 3ms/step - loss: 7797.7563 - mae: 7797.7563\n",
            "Epoch 9/100\n",
            "34/34 [==============================] - 0s 4ms/step - loss: 7614.1011 - mae: 7614.1011\n",
            "Epoch 10/100\n",
            "34/34 [==============================] - 0s 3ms/step - loss: 7712.4683 - mae: 7712.4683\n",
            "Epoch 11/100\n",
            "34/34 [==============================] - 0s 3ms/step - loss: 7523.0815 - mae: 7523.0815\n",
            "Epoch 12/100\n",
            "34/34 [==============================] - 0s 3ms/step - loss: 7622.8423 - mae: 7622.8423\n",
            "Epoch 13/100\n",
            "34/34 [==============================] - 0s 3ms/step - loss: 7637.3813 - mae: 7637.3813\n",
            "Epoch 14/100\n",
            "34/34 [==============================] - 0s 4ms/step - loss: 7810.6201 - mae: 7810.6201\n",
            "Epoch 15/100\n",
            "34/34 [==============================] - 0s 3ms/step - loss: 7549.0376 - mae: 7549.0376\n",
            "Epoch 16/100\n",
            "34/34 [==============================] - 0s 3ms/step - loss: 7674.0503 - mae: 7674.0503\n",
            "Epoch 17/100\n",
            "34/34 [==============================] - 0s 3ms/step - loss: 7573.5586 - mae: 7573.5586\n",
            "Epoch 18/100\n",
            "34/34 [==============================] - 0s 4ms/step - loss: 7819.6133 - mae: 7819.6133\n",
            "Epoch 19/100\n",
            "34/34 [==============================] - 0s 3ms/step - loss: 7564.8774 - mae: 7564.8774\n",
            "Epoch 20/100\n",
            "34/34 [==============================] - 0s 4ms/step - loss: 7964.8750 - mae: 7964.8750\n",
            "Epoch 21/100\n",
            "34/34 [==============================] - 0s 3ms/step - loss: 7542.1387 - mae: 7542.1387\n",
            "Epoch 22/100\n",
            "34/34 [==============================] - 0s 3ms/step - loss: 7945.8643 - mae: 7945.8643\n",
            "Epoch 23/100\n",
            "34/34 [==============================] - 0s 3ms/step - loss: 7670.2124 - mae: 7670.2124\n",
            "Epoch 24/100\n",
            "34/34 [==============================] - 0s 2ms/step - loss: 7581.2744 - mae: 7581.2744\n",
            "Epoch 25/100\n",
            "34/34 [==============================] - 0s 2ms/step - loss: 7631.0864 - mae: 7631.0864\n",
            "Epoch 26/100\n",
            "34/34 [==============================] - 0s 2ms/step - loss: 7681.7266 - mae: 7681.7266\n",
            "Epoch 27/100\n",
            "34/34 [==============================] - 0s 2ms/step - loss: 7539.0635 - mae: 7539.0635\n",
            "Epoch 28/100\n",
            "34/34 [==============================] - 0s 3ms/step - loss: 7459.9277 - mae: 7459.9277\n",
            "Epoch 29/100\n",
            "34/34 [==============================] - 0s 2ms/step - loss: 7684.0718 - mae: 7684.0718\n",
            "Epoch 30/100\n",
            "34/34 [==============================] - 0s 2ms/step - loss: 7527.5688 - mae: 7527.5688\n",
            "Epoch 31/100\n",
            "34/34 [==============================] - 0s 2ms/step - loss: 7471.1675 - mae: 7471.1675\n",
            "Epoch 32/100\n",
            "34/34 [==============================] - 0s 2ms/step - loss: 7492.7002 - mae: 7492.7002\n",
            "Epoch 33/100\n",
            "34/34 [==============================] - 0s 2ms/step - loss: 7425.6973 - mae: 7425.6973\n",
            "Epoch 34/100\n",
            "34/34 [==============================] - 0s 2ms/step - loss: 7485.8271 - mae: 7485.8271\n",
            "Epoch 35/100\n",
            "34/34 [==============================] - 0s 2ms/step - loss: 7587.4453 - mae: 7587.4453\n",
            "Epoch 36/100\n",
            "34/34 [==============================] - 0s 2ms/step - loss: 7550.7144 - mae: 7550.7144\n",
            "Epoch 37/100\n",
            "34/34 [==============================] - 0s 2ms/step - loss: 7606.0298 - mae: 7606.0298\n",
            "Epoch 38/100\n",
            "34/34 [==============================] - 0s 2ms/step - loss: 7308.8486 - mae: 7308.8486\n",
            "Epoch 39/100\n",
            "34/34 [==============================] - 0s 2ms/step - loss: 7549.3276 - mae: 7549.3276\n",
            "Epoch 40/100\n",
            "34/34 [==============================] - 0s 2ms/step - loss: 7409.9980 - mae: 7409.9980\n",
            "Epoch 41/100\n",
            "34/34 [==============================] - 0s 2ms/step - loss: 7749.9722 - mae: 7749.9722\n",
            "Epoch 42/100\n",
            "34/34 [==============================] - 0s 2ms/step - loss: 7361.5630 - mae: 7361.5630\n",
            "Epoch 43/100\n",
            "34/34 [==============================] - 0s 2ms/step - loss: 7597.1235 - mae: 7597.1235\n",
            "Epoch 44/100\n",
            "34/34 [==============================] - 0s 2ms/step - loss: 7279.8794 - mae: 7279.8794\n",
            "Epoch 45/100\n",
            "34/34 [==============================] - 0s 2ms/step - loss: 7300.6924 - mae: 7300.6924\n",
            "Epoch 46/100\n",
            "34/34 [==============================] - 0s 2ms/step - loss: 7467.0254 - mae: 7467.0254\n",
            "Epoch 47/100\n",
            "34/34 [==============================] - 0s 2ms/step - loss: 7573.6650 - mae: 7573.6650\n",
            "Epoch 48/100\n",
            "34/34 [==============================] - 0s 2ms/step - loss: 7254.5479 - mae: 7254.5479\n",
            "Epoch 49/100\n",
            "34/34 [==============================] - 0s 2ms/step - loss: 7536.5254 - mae: 7536.5254\n",
            "Epoch 50/100\n",
            "34/34 [==============================] - 0s 2ms/step - loss: 7498.8145 - mae: 7498.8145\n",
            "Epoch 51/100\n",
            "34/34 [==============================] - 0s 2ms/step - loss: 7418.8110 - mae: 7418.8110\n",
            "Epoch 52/100\n",
            "34/34 [==============================] - 0s 2ms/step - loss: 7386.7661 - mae: 7386.7661\n",
            "Epoch 53/100\n",
            "34/34 [==============================] - 0s 2ms/step - loss: 7469.6470 - mae: 7469.6470\n",
            "Epoch 54/100\n",
            "34/34 [==============================] - 0s 2ms/step - loss: 7354.3047 - mae: 7354.3047\n",
            "Epoch 55/100\n",
            "34/34 [==============================] - 0s 2ms/step - loss: 7297.6089 - mae: 7297.6089\n",
            "Epoch 56/100\n",
            "34/34 [==============================] - 0s 2ms/step - loss: 7281.3936 - mae: 7281.3936\n",
            "Epoch 57/100\n",
            "34/34 [==============================] - 0s 2ms/step - loss: 7435.3984 - mae: 7435.3984\n",
            "Epoch 58/100\n",
            "34/34 [==============================] - 0s 2ms/step - loss: 7546.9819 - mae: 7546.9819\n",
            "Epoch 59/100\n",
            "34/34 [==============================] - 0s 2ms/step - loss: 7641.9487 - mae: 7641.9487\n",
            "Epoch 60/100\n",
            "34/34 [==============================] - 0s 2ms/step - loss: 7414.5918 - mae: 7414.5918\n",
            "Epoch 61/100\n",
            "34/34 [==============================] - 0s 2ms/step - loss: 7371.6226 - mae: 7371.6226\n",
            "Epoch 62/100\n",
            "34/34 [==============================] - 0s 2ms/step - loss: 7583.5020 - mae: 7583.5020\n",
            "Epoch 63/100\n",
            "34/34 [==============================] - 0s 2ms/step - loss: 7411.8081 - mae: 7411.8081\n",
            "Epoch 64/100\n",
            "34/34 [==============================] - 0s 2ms/step - loss: 7292.3750 - mae: 7292.3750\n",
            "Epoch 65/100\n",
            "34/34 [==============================] - 0s 2ms/step - loss: 7285.4243 - mae: 7285.4243\n",
            "Epoch 66/100\n",
            "34/34 [==============================] - 0s 3ms/step - loss: 7252.2119 - mae: 7252.2119\n",
            "Epoch 67/100\n",
            "34/34 [==============================] - 0s 2ms/step - loss: 7238.8691 - mae: 7238.8691\n",
            "Epoch 68/100\n",
            "34/34 [==============================] - 0s 2ms/step - loss: 7604.2026 - mae: 7604.2026\n",
            "Epoch 69/100\n",
            "34/34 [==============================] - 0s 2ms/step - loss: 7544.7251 - mae: 7544.7251\n",
            "Epoch 70/100\n",
            "34/34 [==============================] - 0s 2ms/step - loss: 7645.2495 - mae: 7645.2495\n",
            "Epoch 71/100\n",
            "34/34 [==============================] - 0s 2ms/step - loss: 7431.6782 - mae: 7431.6782\n",
            "Epoch 72/100\n",
            "34/34 [==============================] - 0s 2ms/step - loss: 7246.4082 - mae: 7246.4082\n",
            "Epoch 73/100\n",
            "34/34 [==============================] - 0s 2ms/step - loss: 7343.0869 - mae: 7343.0869\n",
            "Epoch 74/100\n",
            "34/34 [==============================] - 0s 2ms/step - loss: 7375.2754 - mae: 7375.2754\n",
            "Epoch 75/100\n",
            "34/34 [==============================] - 0s 2ms/step - loss: 7317.4995 - mae: 7317.4995\n",
            "Epoch 76/100\n",
            "34/34 [==============================] - 0s 2ms/step - loss: 7116.3071 - mae: 7116.3071\n",
            "Epoch 77/100\n",
            "34/34 [==============================] - 0s 2ms/step - loss: 7399.9863 - mae: 7399.9863\n",
            "Epoch 78/100\n",
            "34/34 [==============================] - 0s 2ms/step - loss: 7030.2183 - mae: 7030.2183\n",
            "Epoch 79/100\n",
            "34/34 [==============================] - 0s 2ms/step - loss: 7445.5107 - mae: 7445.5107\n",
            "Epoch 80/100\n",
            "34/34 [==============================] - 0s 2ms/step - loss: 7169.3237 - mae: 7169.3237\n",
            "Epoch 81/100\n",
            "34/34 [==============================] - 0s 2ms/step - loss: 7284.6421 - mae: 7284.6421\n",
            "Epoch 82/100\n",
            "34/34 [==============================] - 0s 2ms/step - loss: 7171.0186 - mae: 7171.0186\n",
            "Epoch 83/100\n",
            "34/34 [==============================] - 0s 2ms/step - loss: 7465.1025 - mae: 7465.1025\n",
            "Epoch 84/100\n",
            "34/34 [==============================] - 0s 2ms/step - loss: 7375.8657 - mae: 7375.8657\n",
            "Epoch 85/100\n",
            "34/34 [==============================] - 0s 2ms/step - loss: 7478.6577 - mae: 7478.6577\n",
            "Epoch 86/100\n",
            "34/34 [==============================] - 0s 2ms/step - loss: 7583.9404 - mae: 7583.9404\n",
            "Epoch 87/100\n",
            "34/34 [==============================] - 0s 2ms/step - loss: 7184.4741 - mae: 7184.4741\n",
            "Epoch 88/100\n",
            "34/34 [==============================] - 0s 2ms/step - loss: 7126.0859 - mae: 7126.0859\n",
            "Epoch 89/100\n",
            "34/34 [==============================] - 0s 2ms/step - loss: 7412.2344 - mae: 7412.2344\n",
            "Epoch 90/100\n",
            "34/34 [==============================] - 0s 2ms/step - loss: 7302.9683 - mae: 7302.9683\n",
            "Epoch 91/100\n",
            "34/34 [==============================] - 0s 2ms/step - loss: 7317.8452 - mae: 7317.8452\n",
            "Epoch 92/100\n",
            "34/34 [==============================] - 0s 2ms/step - loss: 7320.7393 - mae: 7320.7393\n",
            "Epoch 93/100\n",
            "34/34 [==============================] - 0s 2ms/step - loss: 7336.1777 - mae: 7336.1777\n",
            "Epoch 94/100\n",
            "34/34 [==============================] - 0s 3ms/step - loss: 7275.1450 - mae: 7275.1450\n",
            "Epoch 95/100\n",
            "34/34 [==============================] - 0s 2ms/step - loss: 7460.2568 - mae: 7460.2568\n",
            "Epoch 96/100\n",
            "34/34 [==============================] - 0s 2ms/step - loss: 7150.0479 - mae: 7150.0479\n",
            "Epoch 97/100\n",
            "34/34 [==============================] - 0s 2ms/step - loss: 7198.2578 - mae: 7198.2578\n",
            "Epoch 98/100\n",
            "34/34 [==============================] - 0s 2ms/step - loss: 7467.4775 - mae: 7467.4775\n",
            "Epoch 99/100\n",
            "34/34 [==============================] - 0s 2ms/step - loss: 7378.3369 - mae: 7378.3369\n",
            "Epoch 100/100\n",
            "34/34 [==============================] - 0s 2ms/step - loss: 7090.1309 - mae: 7090.1309\n"
          ]
        },
        {
          "output_type": "execute_result",
          "data": {
            "text/plain": [
              "<keras.callbacks.History at 0x7fe752409070>"
            ]
          },
          "metadata": {},
          "execution_count": 219
        }
      ]
    },
    {
      "cell_type": "code",
      "source": [
        "insurance_model.evaluate(X_test, y_test)"
      ],
      "metadata": {
        "colab": {
          "base_uri": "https://localhost:8080/"
        },
        "id": "6s4x9zKMXtso",
        "outputId": "77dc3cb7-efcc-4bf7-c7a1-45ab6762c292"
      },
      "execution_count": 220,
      "outputs": [
        {
          "output_type": "stream",
          "name": "stdout",
          "text": [
            "9/9 [==============================] - 0s 4ms/step - loss: 7212.8101 - mae: 7212.8101\n"
          ]
        },
        {
          "output_type": "execute_result",
          "data": {
            "text/plain": [
              "[7212.81005859375, 7212.81005859375]"
            ]
          },
          "metadata": {},
          "execution_count": 220
        }
      ]
    },
    {
      "cell_type": "code",
      "source": [
        "y_train.describe()\n",
        "# look median/mean to compare evaluation"
      ],
      "metadata": {
        "colab": {
          "base_uri": "https://localhost:8080/"
        },
        "id": "b2cacky1bhi1",
        "outputId": "123ae1ea-f940-403f-b2e3-2d69b8c4c6cc"
      },
      "execution_count": 223,
      "outputs": [
        {
          "output_type": "execute_result",
          "data": {
            "text/plain": [
              "count     1070.000000\n",
              "mean     13346.089736\n",
              "std      12019.510778\n",
              "min       1121.873900\n",
              "25%       4897.667387\n",
              "50%       9575.442100\n",
              "75%      16746.657400\n",
              "max      62592.873090\n",
              "Name: charges, dtype: float64"
            ]
          },
          "metadata": {},
          "execution_count": 223
        }
      ]
    },
    {
      "cell_type": "code",
      "source": [
        "# experiment\n",
        "tf.random.set_seed(42)\n",
        "\n",
        "insurance_model_2=tf.keras.Sequential([\n",
        "    tf.keras.layers.Dense(100),\n",
        "    tf.keras.layers.Dense(50),\n",
        "    tf.keras.layers.Dense(1)\n",
        "])\n",
        "\n",
        "insurance_model_2.compile(loss=tf.keras.losses.mae, optimizer=tf.keras.optimizers.Adam(), metrics=[\"mae\"])\n",
        "\n",
        "insurance_model_2.fit(X_train, y_train, epochs=200)"
      ],
      "metadata": {
        "colab": {
          "base_uri": "https://localhost:8080/"
        },
        "id": "bcl4qfGQbmla",
        "outputId": "0872ba8d-c61f-4771-c651-9c6eca51c8bd"
      },
      "execution_count": 235,
      "outputs": [
        {
          "output_type": "stream",
          "name": "stdout",
          "text": [
            "Epoch 1/200\n",
            "34/34 [==============================] - 2s 5ms/step - loss: 13240.9893 - mae: 13240.9893\n",
            "Epoch 2/200\n",
            "34/34 [==============================] - 0s 6ms/step - loss: 12814.4893 - mae: 12814.4893\n",
            "Epoch 3/200\n",
            "34/34 [==============================] - 0s 5ms/step - loss: 11659.3203 - mae: 11659.3203\n",
            "Epoch 4/200\n",
            "34/34 [==============================] - 0s 4ms/step - loss: 9465.3223 - mae: 9465.3223\n",
            "Epoch 5/200\n",
            "34/34 [==============================] - 0s 5ms/step - loss: 7660.1177 - mae: 7660.1177\n",
            "Epoch 6/200\n",
            "34/34 [==============================] - 0s 5ms/step - loss: 7401.7529 - mae: 7401.7529\n",
            "Epoch 7/200\n",
            "34/34 [==============================] - 0s 6ms/step - loss: 7368.9004 - mae: 7368.9004\n",
            "Epoch 8/200\n",
            "34/34 [==============================] - 0s 3ms/step - loss: 7336.7935 - mae: 7336.7935\n",
            "Epoch 9/200\n",
            "34/34 [==============================] - 0s 2ms/step - loss: 7303.7837 - mae: 7303.7837\n",
            "Epoch 10/200\n",
            "34/34 [==============================] - 0s 2ms/step - loss: 7272.5005 - mae: 7272.5005\n",
            "Epoch 11/200\n",
            "34/34 [==============================] - 0s 2ms/step - loss: 7242.8320 - mae: 7242.8320\n",
            "Epoch 12/200\n",
            "34/34 [==============================] - 0s 3ms/step - loss: 7203.9551 - mae: 7203.9551\n",
            "Epoch 13/200\n",
            "34/34 [==============================] - 0s 2ms/step - loss: 7166.7710 - mae: 7166.7710\n",
            "Epoch 14/200\n",
            "34/34 [==============================] - 0s 3ms/step - loss: 7126.6611 - mae: 7126.6611\n",
            "Epoch 15/200\n",
            "34/34 [==============================] - 0s 3ms/step - loss: 7091.1738 - mae: 7091.1738\n",
            "Epoch 16/200\n",
            "34/34 [==============================] - 0s 3ms/step - loss: 7048.4570 - mae: 7048.4570\n",
            "Epoch 17/200\n",
            "34/34 [==============================] - 0s 3ms/step - loss: 7010.1133 - mae: 7010.1133\n",
            "Epoch 18/200\n",
            "34/34 [==============================] - 0s 2ms/step - loss: 6961.4214 - mae: 6961.4214\n",
            "Epoch 19/200\n",
            "34/34 [==============================] - 0s 3ms/step - loss: 6916.5469 - mae: 6916.5469\n",
            "Epoch 20/200\n",
            "34/34 [==============================] - 0s 2ms/step - loss: 6868.0645 - mae: 6868.0645\n",
            "Epoch 21/200\n",
            "34/34 [==============================] - 0s 2ms/step - loss: 6822.2285 - mae: 6822.2285\n",
            "Epoch 22/200\n",
            "34/34 [==============================] - 0s 3ms/step - loss: 6774.4336 - mae: 6774.4336\n",
            "Epoch 23/200\n",
            "34/34 [==============================] - 0s 3ms/step - loss: 6717.3760 - mae: 6717.3760\n",
            "Epoch 24/200\n",
            "34/34 [==============================] - 0s 3ms/step - loss: 6662.8535 - mae: 6662.8535\n",
            "Epoch 25/200\n",
            "34/34 [==============================] - 0s 3ms/step - loss: 6616.4697 - mae: 6616.4697\n",
            "Epoch 26/200\n",
            "34/34 [==============================] - 0s 3ms/step - loss: 6570.1631 - mae: 6570.1631\n",
            "Epoch 27/200\n",
            "34/34 [==============================] - 0s 3ms/step - loss: 6535.4380 - mae: 6535.4380\n",
            "Epoch 28/200\n",
            "34/34 [==============================] - 0s 4ms/step - loss: 6503.1636 - mae: 6503.1636\n",
            "Epoch 29/200\n",
            "34/34 [==============================] - 0s 5ms/step - loss: 6479.9189 - mae: 6479.9189\n",
            "Epoch 30/200\n",
            "34/34 [==============================] - 0s 4ms/step - loss: 6466.1855 - mae: 6466.1855\n",
            "Epoch 31/200\n",
            "34/34 [==============================] - 0s 4ms/step - loss: 6440.6030 - mae: 6440.6030\n",
            "Epoch 32/200\n",
            "34/34 [==============================] - 0s 4ms/step - loss: 6422.8345 - mae: 6422.8345\n",
            "Epoch 33/200\n",
            "34/34 [==============================] - 0s 4ms/step - loss: 6403.9658 - mae: 6403.9658\n",
            "Epoch 34/200\n",
            "34/34 [==============================] - 0s 4ms/step - loss: 6387.1377 - mae: 6387.1377\n",
            "Epoch 35/200\n",
            "34/34 [==============================] - 0s 4ms/step - loss: 6362.5806 - mae: 6362.5806\n",
            "Epoch 36/200\n",
            "34/34 [==============================] - 0s 3ms/step - loss: 6344.1406 - mae: 6344.1406\n",
            "Epoch 37/200\n",
            "34/34 [==============================] - 0s 4ms/step - loss: 6316.5146 - mae: 6316.5146\n",
            "Epoch 38/200\n",
            "34/34 [==============================] - 0s 4ms/step - loss: 6301.5884 - mae: 6301.5884\n",
            "Epoch 39/200\n",
            "34/34 [==============================] - 0s 5ms/step - loss: 6275.8750 - mae: 6275.8750\n",
            "Epoch 40/200\n",
            "34/34 [==============================] - 0s 4ms/step - loss: 6252.0703 - mae: 6252.0703\n",
            "Epoch 41/200\n",
            "34/34 [==============================] - 0s 4ms/step - loss: 6232.1768 - mae: 6232.1768\n",
            "Epoch 42/200\n",
            "34/34 [==============================] - 0s 3ms/step - loss: 6201.9653 - mae: 6201.9653\n",
            "Epoch 43/200\n",
            "34/34 [==============================] - 0s 4ms/step - loss: 6180.3354 - mae: 6180.3354\n",
            "Epoch 44/200\n",
            "34/34 [==============================] - 0s 4ms/step - loss: 6144.8530 - mae: 6144.8530\n",
            "Epoch 45/200\n",
            "34/34 [==============================] - 0s 4ms/step - loss: 6121.6250 - mae: 6121.6250\n",
            "Epoch 46/200\n",
            "34/34 [==============================] - 0s 5ms/step - loss: 6103.7222 - mae: 6103.7222\n",
            "Epoch 47/200\n",
            "34/34 [==============================] - 0s 4ms/step - loss: 6063.9702 - mae: 6063.9702\n",
            "Epoch 48/200\n",
            "34/34 [==============================] - 0s 5ms/step - loss: 6020.5879 - mae: 6020.5879\n",
            "Epoch 49/200\n",
            "34/34 [==============================] - 0s 4ms/step - loss: 5987.0679 - mae: 5987.0679\n",
            "Epoch 50/200\n",
            "34/34 [==============================] - 0s 4ms/step - loss: 5951.7720 - mae: 5951.7720\n",
            "Epoch 51/200\n",
            "34/34 [==============================] - 0s 4ms/step - loss: 5909.9956 - mae: 5909.9956\n",
            "Epoch 52/200\n",
            "34/34 [==============================] - 0s 4ms/step - loss: 5865.2246 - mae: 5865.2246\n",
            "Epoch 53/200\n",
            "34/34 [==============================] - 0s 4ms/step - loss: 5821.7578 - mae: 5821.7578\n",
            "Epoch 54/200\n",
            "34/34 [==============================] - 0s 5ms/step - loss: 5772.5381 - mae: 5772.5381\n",
            "Epoch 55/200\n",
            "34/34 [==============================] - 0s 5ms/step - loss: 5720.5591 - mae: 5720.5591\n",
            "Epoch 56/200\n",
            "34/34 [==============================] - 0s 4ms/step - loss: 5667.7988 - mae: 5667.7988\n",
            "Epoch 57/200\n",
            "34/34 [==============================] - 0s 4ms/step - loss: 5601.8672 - mae: 5601.8672\n",
            "Epoch 58/200\n",
            "34/34 [==============================] - 0s 4ms/step - loss: 5541.1182 - mae: 5541.1182\n",
            "Epoch 59/200\n",
            "34/34 [==============================] - 0s 4ms/step - loss: 5468.3232 - mae: 5468.3232\n",
            "Epoch 60/200\n",
            "34/34 [==============================] - 0s 3ms/step - loss: 5399.1895 - mae: 5399.1895\n",
            "Epoch 61/200\n",
            "34/34 [==============================] - 0s 2ms/step - loss: 5308.2363 - mae: 5308.2363\n",
            "Epoch 62/200\n",
            "34/34 [==============================] - 0s 3ms/step - loss: 5217.0093 - mae: 5217.0093\n",
            "Epoch 63/200\n",
            "34/34 [==============================] - 0s 3ms/step - loss: 5119.5996 - mae: 5119.5996\n",
            "Epoch 64/200\n",
            "34/34 [==============================] - 0s 3ms/step - loss: 5009.1196 - mae: 5009.1196\n",
            "Epoch 65/200\n",
            "34/34 [==============================] - 0s 2ms/step - loss: 4901.2451 - mae: 4901.2451\n",
            "Epoch 66/200\n",
            "34/34 [==============================] - 0s 3ms/step - loss: 4770.1982 - mae: 4770.1982\n",
            "Epoch 67/200\n",
            "34/34 [==============================] - 0s 2ms/step - loss: 4657.1724 - mae: 4657.1724\n",
            "Epoch 68/200\n",
            "34/34 [==============================] - 0s 2ms/step - loss: 4485.9507 - mae: 4485.9507\n",
            "Epoch 69/200\n",
            "34/34 [==============================] - 0s 3ms/step - loss: 4359.2471 - mae: 4359.2471\n",
            "Epoch 70/200\n",
            "34/34 [==============================] - 0s 2ms/step - loss: 4208.5806 - mae: 4208.5806\n",
            "Epoch 71/200\n",
            "34/34 [==============================] - 0s 3ms/step - loss: 4082.6870 - mae: 4082.6870\n",
            "Epoch 72/200\n",
            "34/34 [==============================] - 0s 3ms/step - loss: 3991.4321 - mae: 3991.4321\n",
            "Epoch 73/200\n",
            "34/34 [==============================] - 0s 3ms/step - loss: 3942.1682 - mae: 3942.1682\n",
            "Epoch 74/200\n",
            "34/34 [==============================] - 0s 4ms/step - loss: 3885.5598 - mae: 3885.5598\n",
            "Epoch 75/200\n",
            "34/34 [==============================] - 0s 3ms/step - loss: 3858.1982 - mae: 3858.1982\n",
            "Epoch 76/200\n",
            "34/34 [==============================] - 0s 3ms/step - loss: 3835.7729 - mae: 3835.7729\n",
            "Epoch 77/200\n",
            "34/34 [==============================] - 0s 2ms/step - loss: 3833.7659 - mae: 3833.7659\n",
            "Epoch 78/200\n",
            "34/34 [==============================] - 0s 3ms/step - loss: 3811.3892 - mae: 3811.3892\n",
            "Epoch 79/200\n",
            "34/34 [==============================] - 0s 3ms/step - loss: 3823.7434 - mae: 3823.7434\n",
            "Epoch 80/200\n",
            "34/34 [==============================] - 0s 3ms/step - loss: 3801.8882 - mae: 3801.8882\n",
            "Epoch 81/200\n",
            "34/34 [==============================] - 0s 3ms/step - loss: 3787.2202 - mae: 3787.2202\n",
            "Epoch 82/200\n",
            "34/34 [==============================] - 0s 3ms/step - loss: 3787.6873 - mae: 3787.6873\n",
            "Epoch 83/200\n",
            "34/34 [==============================] - 0s 3ms/step - loss: 3785.5920 - mae: 3785.5920\n",
            "Epoch 84/200\n",
            "34/34 [==============================] - 0s 3ms/step - loss: 3779.5298 - mae: 3779.5298\n",
            "Epoch 85/200\n",
            "34/34 [==============================] - 0s 3ms/step - loss: 3776.2065 - mae: 3776.2065\n",
            "Epoch 86/200\n",
            "34/34 [==============================] - 0s 3ms/step - loss: 3774.9487 - mae: 3774.9487\n",
            "Epoch 87/200\n",
            "34/34 [==============================] - 0s 3ms/step - loss: 3765.2664 - mae: 3765.2664\n",
            "Epoch 88/200\n",
            "34/34 [==============================] - 0s 3ms/step - loss: 3764.7908 - mae: 3764.7908\n",
            "Epoch 89/200\n",
            "34/34 [==============================] - 0s 3ms/step - loss: 3766.5193 - mae: 3766.5193\n",
            "Epoch 90/200\n",
            "34/34 [==============================] - 0s 3ms/step - loss: 3766.8723 - mae: 3766.8723\n",
            "Epoch 91/200\n",
            "34/34 [==============================] - 0s 3ms/step - loss: 3758.9260 - mae: 3758.9260\n",
            "Epoch 92/200\n",
            "34/34 [==============================] - 0s 3ms/step - loss: 3757.3730 - mae: 3757.3730\n",
            "Epoch 93/200\n",
            "34/34 [==============================] - 0s 2ms/step - loss: 3750.5408 - mae: 3750.5408\n",
            "Epoch 94/200\n",
            "34/34 [==============================] - 0s 3ms/step - loss: 3753.4717 - mae: 3753.4717\n",
            "Epoch 95/200\n",
            "34/34 [==============================] - 0s 2ms/step - loss: 3746.1899 - mae: 3746.1899\n",
            "Epoch 96/200\n",
            "34/34 [==============================] - 0s 3ms/step - loss: 3745.8706 - mae: 3745.8706\n",
            "Epoch 97/200\n",
            "34/34 [==============================] - 0s 2ms/step - loss: 3738.6353 - mae: 3738.6353\n",
            "Epoch 98/200\n",
            "34/34 [==============================] - 0s 3ms/step - loss: 3737.1492 - mae: 3737.1492\n",
            "Epoch 99/200\n",
            "34/34 [==============================] - 0s 3ms/step - loss: 3760.8923 - mae: 3760.8923\n",
            "Epoch 100/200\n",
            "34/34 [==============================] - 0s 3ms/step - loss: 3753.8293 - mae: 3753.8293\n",
            "Epoch 101/200\n",
            "34/34 [==============================] - 0s 3ms/step - loss: 3747.1006 - mae: 3747.1006\n",
            "Epoch 102/200\n",
            "34/34 [==============================] - 0s 3ms/step - loss: 3728.2146 - mae: 3728.2146\n",
            "Epoch 103/200\n",
            "34/34 [==============================] - 0s 2ms/step - loss: 3732.4316 - mae: 3732.4316\n",
            "Epoch 104/200\n",
            "34/34 [==============================] - 0s 3ms/step - loss: 3724.3083 - mae: 3724.3083\n",
            "Epoch 105/200\n",
            "34/34 [==============================] - 0s 3ms/step - loss: 3732.6794 - mae: 3732.6794\n",
            "Epoch 106/200\n",
            "34/34 [==============================] - 0s 3ms/step - loss: 3725.3831 - mae: 3725.3831\n",
            "Epoch 107/200\n",
            "34/34 [==============================] - 0s 3ms/step - loss: 3718.8596 - mae: 3718.8596\n",
            "Epoch 108/200\n",
            "34/34 [==============================] - 0s 3ms/step - loss: 3715.5950 - mae: 3715.5950\n",
            "Epoch 109/200\n",
            "34/34 [==============================] - 0s 3ms/step - loss: 3710.1553 - mae: 3710.1553\n",
            "Epoch 110/200\n",
            "34/34 [==============================] - 0s 3ms/step - loss: 3711.6902 - mae: 3711.6902\n",
            "Epoch 111/200\n",
            "34/34 [==============================] - 0s 3ms/step - loss: 3722.8567 - mae: 3722.8567\n",
            "Epoch 112/200\n",
            "34/34 [==============================] - 0s 4ms/step - loss: 3704.3281 - mae: 3704.3281\n",
            "Epoch 113/200\n",
            "34/34 [==============================] - 0s 4ms/step - loss: 3710.2241 - mae: 3710.2241\n",
            "Epoch 114/200\n",
            "34/34 [==============================] - 0s 3ms/step - loss: 3722.1296 - mae: 3722.1296\n",
            "Epoch 115/200\n",
            "34/34 [==============================] - 0s 3ms/step - loss: 3708.9805 - mae: 3708.9805\n",
            "Epoch 116/200\n",
            "34/34 [==============================] - 0s 3ms/step - loss: 3697.4724 - mae: 3697.4724\n",
            "Epoch 117/200\n",
            "34/34 [==============================] - 0s 3ms/step - loss: 3699.6357 - mae: 3699.6357\n",
            "Epoch 118/200\n",
            "34/34 [==============================] - 0s 3ms/step - loss: 3695.7295 - mae: 3695.7295\n",
            "Epoch 119/200\n",
            "34/34 [==============================] - 0s 3ms/step - loss: 3693.6326 - mae: 3693.6326\n",
            "Epoch 120/200\n",
            "34/34 [==============================] - 0s 3ms/step - loss: 3693.7368 - mae: 3693.7368\n",
            "Epoch 121/200\n",
            "34/34 [==============================] - 0s 3ms/step - loss: 3686.5588 - mae: 3686.5588\n",
            "Epoch 122/200\n",
            "34/34 [==============================] - 0s 2ms/step - loss: 3690.1313 - mae: 3690.1313\n",
            "Epoch 123/200\n",
            "34/34 [==============================] - 0s 3ms/step - loss: 3687.5322 - mae: 3687.5322\n",
            "Epoch 124/200\n",
            "34/34 [==============================] - 0s 3ms/step - loss: 3678.2039 - mae: 3678.2039\n",
            "Epoch 125/200\n",
            "34/34 [==============================] - 0s 3ms/step - loss: 3682.2366 - mae: 3682.2366\n",
            "Epoch 126/200\n",
            "34/34 [==============================] - 0s 3ms/step - loss: 3688.1394 - mae: 3688.1394\n",
            "Epoch 127/200\n",
            "34/34 [==============================] - 0s 3ms/step - loss: 3682.3892 - mae: 3682.3892\n",
            "Epoch 128/200\n",
            "34/34 [==============================] - 0s 3ms/step - loss: 3681.1343 - mae: 3681.1343\n",
            "Epoch 129/200\n",
            "34/34 [==============================] - 0s 3ms/step - loss: 3680.2036 - mae: 3680.2036\n",
            "Epoch 130/200\n",
            "34/34 [==============================] - 0s 3ms/step - loss: 3689.8511 - mae: 3689.8511\n",
            "Epoch 131/200\n",
            "34/34 [==============================] - 0s 3ms/step - loss: 3663.0132 - mae: 3663.0132\n",
            "Epoch 132/200\n",
            "34/34 [==============================] - 0s 3ms/step - loss: 3662.7000 - mae: 3662.7000\n",
            "Epoch 133/200\n",
            "34/34 [==============================] - 0s 4ms/step - loss: 3662.4827 - mae: 3662.4827\n",
            "Epoch 134/200\n",
            "34/34 [==============================] - 0s 3ms/step - loss: 3654.6853 - mae: 3654.6853\n",
            "Epoch 135/200\n",
            "34/34 [==============================] - 0s 3ms/step - loss: 3651.1392 - mae: 3651.1392\n",
            "Epoch 136/200\n",
            "34/34 [==============================] - 0s 2ms/step - loss: 3649.6650 - mae: 3649.6650\n",
            "Epoch 137/200\n",
            "34/34 [==============================] - 0s 3ms/step - loss: 3653.4863 - mae: 3653.4863\n",
            "Epoch 138/200\n",
            "34/34 [==============================] - 0s 2ms/step - loss: 3656.3916 - mae: 3656.3916\n",
            "Epoch 139/200\n",
            "34/34 [==============================] - 0s 2ms/step - loss: 3655.0464 - mae: 3655.0464\n",
            "Epoch 140/200\n",
            "34/34 [==============================] - 0s 3ms/step - loss: 3649.0215 - mae: 3649.0215\n",
            "Epoch 141/200\n",
            "34/34 [==============================] - 0s 3ms/step - loss: 3647.2639 - mae: 3647.2639\n",
            "Epoch 142/200\n",
            "34/34 [==============================] - 0s 3ms/step - loss: 3646.9194 - mae: 3646.9194\n",
            "Epoch 143/200\n",
            "34/34 [==============================] - 0s 3ms/step - loss: 3633.1853 - mae: 3633.1853\n",
            "Epoch 144/200\n",
            "34/34 [==============================] - 0s 3ms/step - loss: 3629.4648 - mae: 3629.4648\n",
            "Epoch 145/200\n",
            "34/34 [==============================] - 0s 2ms/step - loss: 3636.7959 - mae: 3636.7959\n",
            "Epoch 146/200\n",
            "34/34 [==============================] - 0s 3ms/step - loss: 3647.4619 - mae: 3647.4619\n",
            "Epoch 147/200\n",
            "34/34 [==============================] - 0s 3ms/step - loss: 3656.2468 - mae: 3656.2468\n",
            "Epoch 148/200\n",
            "34/34 [==============================] - 0s 3ms/step - loss: 3637.5063 - mae: 3637.5063\n",
            "Epoch 149/200\n",
            "34/34 [==============================] - 0s 3ms/step - loss: 3625.5388 - mae: 3625.5388\n",
            "Epoch 150/200\n",
            "34/34 [==============================] - 0s 3ms/step - loss: 3619.2029 - mae: 3619.2029\n",
            "Epoch 151/200\n",
            "34/34 [==============================] - 0s 2ms/step - loss: 3618.3074 - mae: 3618.3074\n",
            "Epoch 152/200\n",
            "34/34 [==============================] - 0s 3ms/step - loss: 3612.3806 - mae: 3612.3806\n",
            "Epoch 153/200\n",
            "34/34 [==============================] - 0s 3ms/step - loss: 3622.0627 - mae: 3622.0627\n",
            "Epoch 154/200\n",
            "34/34 [==============================] - 0s 2ms/step - loss: 3608.5955 - mae: 3608.5955\n",
            "Epoch 155/200\n",
            "34/34 [==============================] - 0s 3ms/step - loss: 3611.3889 - mae: 3611.3889\n",
            "Epoch 156/200\n",
            "34/34 [==============================] - 0s 3ms/step - loss: 3601.0662 - mae: 3601.0662\n",
            "Epoch 157/200\n",
            "34/34 [==============================] - 0s 5ms/step - loss: 3604.0918 - mae: 3604.0918\n",
            "Epoch 158/200\n",
            "34/34 [==============================] - 0s 4ms/step - loss: 3597.0593 - mae: 3597.0593\n",
            "Epoch 159/200\n",
            "34/34 [==============================] - 0s 4ms/step - loss: 3585.7527 - mae: 3585.7527\n",
            "Epoch 160/200\n",
            "34/34 [==============================] - 0s 4ms/step - loss: 3596.6978 - mae: 3596.6978\n",
            "Epoch 161/200\n",
            "34/34 [==============================] - 0s 4ms/step - loss: 3590.5330 - mae: 3590.5330\n",
            "Epoch 162/200\n",
            "34/34 [==============================] - 0s 4ms/step - loss: 3577.7463 - mae: 3577.7463\n",
            "Epoch 163/200\n",
            "34/34 [==============================] - 0s 4ms/step - loss: 3575.6045 - mae: 3575.6045\n",
            "Epoch 164/200\n",
            "34/34 [==============================] - 0s 4ms/step - loss: 3586.6965 - mae: 3586.6965\n",
            "Epoch 165/200\n",
            "34/34 [==============================] - 0s 4ms/step - loss: 3571.3455 - mae: 3571.3455\n",
            "Epoch 166/200\n",
            "34/34 [==============================] - 0s 4ms/step - loss: 3571.8303 - mae: 3571.8303\n",
            "Epoch 167/200\n",
            "34/34 [==============================] - 0s 4ms/step - loss: 3577.8479 - mae: 3577.8479\n",
            "Epoch 168/200\n",
            "34/34 [==============================] - 0s 5ms/step - loss: 3565.1887 - mae: 3565.1887\n",
            "Epoch 169/200\n",
            "34/34 [==============================] - 0s 4ms/step - loss: 3565.3547 - mae: 3565.3547\n",
            "Epoch 170/200\n",
            "34/34 [==============================] - 0s 5ms/step - loss: 3557.4834 - mae: 3557.4834\n",
            "Epoch 171/200\n",
            "34/34 [==============================] - 0s 4ms/step - loss: 3559.2266 - mae: 3559.2266\n",
            "Epoch 172/200\n",
            "34/34 [==============================] - 0s 4ms/step - loss: 3570.1985 - mae: 3570.1985\n",
            "Epoch 173/200\n",
            "34/34 [==============================] - 0s 4ms/step - loss: 3573.8975 - mae: 3573.8975\n",
            "Epoch 174/200\n",
            "34/34 [==============================] - 0s 4ms/step - loss: 3559.7014 - mae: 3559.7014\n",
            "Epoch 175/200\n",
            "34/34 [==============================] - 0s 4ms/step - loss: 3551.3137 - mae: 3551.3137\n",
            "Epoch 176/200\n",
            "34/34 [==============================] - 0s 4ms/step - loss: 3556.2864 - mae: 3556.2864\n",
            "Epoch 177/200\n",
            "34/34 [==============================] - 0s 4ms/step - loss: 3555.1133 - mae: 3555.1133\n",
            "Epoch 178/200\n",
            "34/34 [==============================] - 0s 4ms/step - loss: 3537.0225 - mae: 3537.0225\n",
            "Epoch 179/200\n",
            "34/34 [==============================] - 0s 4ms/step - loss: 3548.4426 - mae: 3548.4426\n",
            "Epoch 180/200\n",
            "34/34 [==============================] - 0s 4ms/step - loss: 3570.6538 - mae: 3570.6538\n",
            "Epoch 181/200\n",
            "34/34 [==============================] - 0s 3ms/step - loss: 3541.2034 - mae: 3541.2034\n",
            "Epoch 182/200\n",
            "34/34 [==============================] - 0s 4ms/step - loss: 3549.0791 - mae: 3549.0791\n",
            "Epoch 183/200\n",
            "34/34 [==============================] - 0s 4ms/step - loss: 3534.8662 - mae: 3534.8662\n",
            "Epoch 184/200\n",
            "34/34 [==============================] - 0s 4ms/step - loss: 3553.7358 - mae: 3553.7358\n",
            "Epoch 185/200\n",
            "34/34 [==============================] - 0s 4ms/step - loss: 3545.3667 - mae: 3545.3667\n",
            "Epoch 186/200\n",
            "34/34 [==============================] - 0s 4ms/step - loss: 3558.9189 - mae: 3558.9189\n",
            "Epoch 187/200\n",
            "34/34 [==============================] - 0s 4ms/step - loss: 3528.3938 - mae: 3528.3938\n",
            "Epoch 188/200\n",
            "34/34 [==============================] - 0s 3ms/step - loss: 3529.6428 - mae: 3529.6428\n",
            "Epoch 189/200\n",
            "34/34 [==============================] - 0s 4ms/step - loss: 3520.7148 - mae: 3520.7148\n",
            "Epoch 190/200\n",
            "34/34 [==============================] - 0s 5ms/step - loss: 3534.6384 - mae: 3534.6384\n",
            "Epoch 191/200\n",
            "34/34 [==============================] - 0s 5ms/step - loss: 3523.9324 - mae: 3523.9324\n",
            "Epoch 192/200\n",
            "34/34 [==============================] - 0s 4ms/step - loss: 3533.5581 - mae: 3533.5581\n",
            "Epoch 193/200\n",
            "34/34 [==============================] - 0s 4ms/step - loss: 3516.0999 - mae: 3516.0999\n",
            "Epoch 194/200\n",
            "34/34 [==============================] - 0s 4ms/step - loss: 3515.2012 - mae: 3515.2012\n",
            "Epoch 195/200\n",
            "34/34 [==============================] - 0s 3ms/step - loss: 3510.4666 - mae: 3510.4666\n",
            "Epoch 196/200\n",
            "34/34 [==============================] - 0s 3ms/step - loss: 3530.5957 - mae: 3530.5957\n",
            "Epoch 197/200\n",
            "34/34 [==============================] - 0s 3ms/step - loss: 3506.6052 - mae: 3506.6052\n",
            "Epoch 198/200\n",
            "34/34 [==============================] - 0s 3ms/step - loss: 3505.4016 - mae: 3505.4016\n",
            "Epoch 199/200\n",
            "34/34 [==============================] - 0s 3ms/step - loss: 3507.2263 - mae: 3507.2263\n",
            "Epoch 200/200\n",
            "34/34 [==============================] - 0s 3ms/step - loss: 3496.0076 - mae: 3496.0076\n"
          ]
        },
        {
          "output_type": "execute_result",
          "data": {
            "text/plain": [
              "<keras.callbacks.History at 0x7fe752000460>"
            ]
          },
          "metadata": {},
          "execution_count": 235
        }
      ]
    },
    {
      "cell_type": "code",
      "source": [
        "insurance_model_2.evaluate(X_test, y_test)"
      ],
      "metadata": {
        "colab": {
          "base_uri": "https://localhost:8080/"
        },
        "id": "56aYr4QhcbAd",
        "outputId": "9537f444-d9f3-4e02-e1e0-7b0ac8cb1440"
      },
      "execution_count": 236,
      "outputs": [
        {
          "output_type": "stream",
          "name": "stdout",
          "text": [
            "9/9 [==============================] - 0s 4ms/step - loss: 3193.8223 - mae: 3193.8223\n"
          ]
        },
        {
          "output_type": "execute_result",
          "data": {
            "text/plain": [
              "[3193.822265625, 3193.822265625]"
            ]
          },
          "metadata": {},
          "execution_count": 236
        }
      ]
    },
    {
      "cell_type": "code",
      "source": [
        "# experiment\n",
        "tf.random.set_seed(42)\n",
        "\n",
        "insurance_model_3=tf.keras.Sequential([\n",
        "    tf.keras.layers.Dense(100),\n",
        "    tf.keras.layers.Dense(10),\n",
        "    tf.keras.layers.Dense(1)\n",
        "])\n",
        "\n",
        "insurance_model_3.compile(loss=tf.keras.losses.mae, optimizer=tf.keras.optimizers.Adam(), metrics=[\"mae\"])\n",
        "\n",
        "history=insurance_model_3.fit(X_train, y_train, epochs=200)"
      ],
      "metadata": {
        "colab": {
          "base_uri": "https://localhost:8080/"
        },
        "id": "fiLZ10pIcp-J",
        "outputId": "45cb36bb-7922-4634-84da-03c0b2efe998"
      },
      "execution_count": 237,
      "outputs": [
        {
          "output_type": "stream",
          "name": "stdout",
          "text": [
            "Epoch 1/200\n",
            "34/34 [==============================] - 2s 5ms/step - loss: 13282.9912 - mae: 13282.9912\n",
            "Epoch 2/200\n",
            "34/34 [==============================] - 0s 6ms/step - loss: 13113.0322 - mae: 13113.0322\n",
            "Epoch 3/200\n",
            "34/34 [==============================] - 0s 7ms/step - loss: 12761.0527 - mae: 12761.0527\n",
            "Epoch 4/200\n",
            "34/34 [==============================] - 0s 8ms/step - loss: 12074.2275 - mae: 12074.2275\n",
            "Epoch 5/200\n",
            "34/34 [==============================] - 0s 7ms/step - loss: 10936.0850 - mae: 10936.0850\n",
            "Epoch 6/200\n",
            "34/34 [==============================] - 0s 4ms/step - loss: 9500.3701 - mae: 9500.3701\n",
            "Epoch 7/200\n",
            "34/34 [==============================] - 0s 8ms/step - loss: 8190.0879 - mae: 8190.0879\n",
            "Epoch 8/200\n",
            "34/34 [==============================] - 0s 7ms/step - loss: 7556.0903 - mae: 7556.0903\n",
            "Epoch 9/200\n",
            "34/34 [==============================] - 0s 7ms/step - loss: 7447.2964 - mae: 7447.2964\n",
            "Epoch 10/200\n",
            "34/34 [==============================] - 0s 7ms/step - loss: 7426.3062 - mae: 7426.3062\n",
            "Epoch 11/200\n",
            "34/34 [==============================] - 0s 5ms/step - loss: 7407.4858 - mae: 7407.4858\n",
            "Epoch 12/200\n",
            "34/34 [==============================] - 0s 4ms/step - loss: 7385.6133 - mae: 7385.6133\n",
            "Epoch 13/200\n",
            "34/34 [==============================] - 0s 4ms/step - loss: 7365.3281 - mae: 7365.3281\n",
            "Epoch 14/200\n",
            "34/34 [==============================] - 0s 4ms/step - loss: 7343.3232 - mae: 7343.3232\n",
            "Epoch 15/200\n",
            "34/34 [==============================] - 0s 4ms/step - loss: 7324.2935 - mae: 7324.2935\n",
            "Epoch 16/200\n",
            "34/34 [==============================] - 0s 4ms/step - loss: 7301.9380 - mae: 7301.9380\n",
            "Epoch 17/200\n",
            "34/34 [==============================] - 0s 3ms/step - loss: 7282.1689 - mae: 7282.1689\n",
            "Epoch 18/200\n",
            "34/34 [==============================] - 0s 4ms/step - loss: 7258.8564 - mae: 7258.8564\n",
            "Epoch 19/200\n",
            "34/34 [==============================] - 0s 4ms/step - loss: 7237.0254 - mae: 7237.0254\n",
            "Epoch 20/200\n",
            "34/34 [==============================] - 0s 4ms/step - loss: 7214.0093 - mae: 7214.0093\n",
            "Epoch 21/200\n",
            "34/34 [==============================] - 0s 4ms/step - loss: 7195.1357 - mae: 7195.1357\n",
            "Epoch 22/200\n",
            "34/34 [==============================] - 0s 4ms/step - loss: 7168.4116 - mae: 7168.4116\n",
            "Epoch 23/200\n",
            "34/34 [==============================] - 0s 4ms/step - loss: 7144.0503 - mae: 7144.0503\n",
            "Epoch 24/200\n",
            "34/34 [==============================] - 0s 4ms/step - loss: 7119.8257 - mae: 7119.8257\n",
            "Epoch 25/200\n",
            "34/34 [==============================] - 0s 3ms/step - loss: 7102.5391 - mae: 7102.5391\n",
            "Epoch 26/200\n",
            "34/34 [==============================] - 0s 4ms/step - loss: 7070.7964 - mae: 7070.7964\n",
            "Epoch 27/200\n",
            "34/34 [==============================] - 0s 4ms/step - loss: 7043.0107 - mae: 7043.0107\n",
            "Epoch 28/200\n",
            "34/34 [==============================] - 0s 4ms/step - loss: 7015.7056 - mae: 7015.7056\n",
            "Epoch 29/200\n",
            "34/34 [==============================] - 0s 2ms/step - loss: 6988.2124 - mae: 6988.2124\n",
            "Epoch 30/200\n",
            "34/34 [==============================] - 0s 2ms/step - loss: 6962.0010 - mae: 6962.0010\n",
            "Epoch 31/200\n",
            "34/34 [==============================] - 0s 2ms/step - loss: 6931.3022 - mae: 6931.3022\n",
            "Epoch 32/200\n",
            "34/34 [==============================] - 0s 2ms/step - loss: 6904.4927 - mae: 6904.4927\n",
            "Epoch 33/200\n",
            "34/34 [==============================] - 0s 2ms/step - loss: 6873.6675 - mae: 6873.6675\n",
            "Epoch 34/200\n",
            "34/34 [==============================] - 0s 4ms/step - loss: 6842.3613 - mae: 6842.3613\n",
            "Epoch 35/200\n",
            "34/34 [==============================] - 0s 4ms/step - loss: 6810.1372 - mae: 6810.1372\n",
            "Epoch 36/200\n",
            "34/34 [==============================] - 0s 5ms/step - loss: 6776.8813 - mae: 6776.8813\n",
            "Epoch 37/200\n",
            "34/34 [==============================] - 0s 5ms/step - loss: 6741.9551 - mae: 6741.9551\n",
            "Epoch 38/200\n",
            "34/34 [==============================] - 0s 4ms/step - loss: 6710.8838 - mae: 6710.8838\n",
            "Epoch 39/200\n",
            "34/34 [==============================] - 0s 5ms/step - loss: 6671.8169 - mae: 6671.8169\n",
            "Epoch 40/200\n",
            "34/34 [==============================] - 0s 4ms/step - loss: 6636.9297 - mae: 6636.9297\n",
            "Epoch 41/200\n",
            "34/34 [==============================] - 0s 4ms/step - loss: 6603.3159 - mae: 6603.3159\n",
            "Epoch 42/200\n",
            "34/34 [==============================] - 0s 5ms/step - loss: 6573.2910 - mae: 6573.2910\n",
            "Epoch 43/200\n",
            "34/34 [==============================] - 0s 4ms/step - loss: 6542.2207 - mae: 6542.2207\n",
            "Epoch 44/200\n",
            "34/34 [==============================] - 0s 4ms/step - loss: 6516.2690 - mae: 6516.2690\n",
            "Epoch 45/200\n",
            "34/34 [==============================] - 0s 4ms/step - loss: 6498.0713 - mae: 6498.0713\n",
            "Epoch 46/200\n",
            "34/34 [==============================] - 0s 4ms/step - loss: 6479.1431 - mae: 6479.1431\n",
            "Epoch 47/200\n",
            "34/34 [==============================] - 0s 2ms/step - loss: 6461.6479 - mae: 6461.6479\n",
            "Epoch 48/200\n",
            "34/34 [==============================] - 0s 2ms/step - loss: 6445.9424 - mae: 6445.9424\n",
            "Epoch 49/200\n",
            "34/34 [==============================] - 0s 2ms/step - loss: 6432.4946 - mae: 6432.4946\n",
            "Epoch 50/200\n",
            "34/34 [==============================] - 0s 3ms/step - loss: 6418.2520 - mae: 6418.2520\n",
            "Epoch 51/200\n",
            "34/34 [==============================] - 0s 2ms/step - loss: 6404.7412 - mae: 6404.7412\n",
            "Epoch 52/200\n",
            "34/34 [==============================] - 0s 3ms/step - loss: 6392.8066 - mae: 6392.8066\n",
            "Epoch 53/200\n",
            "34/34 [==============================] - 0s 2ms/step - loss: 6379.4272 - mae: 6379.4272\n",
            "Epoch 54/200\n",
            "34/34 [==============================] - 0s 2ms/step - loss: 6365.5967 - mae: 6365.5967\n",
            "Epoch 55/200\n",
            "34/34 [==============================] - 0s 3ms/step - loss: 6352.1426 - mae: 6352.1426\n",
            "Epoch 56/200\n",
            "34/34 [==============================] - 0s 2ms/step - loss: 6337.1211 - mae: 6337.1211\n",
            "Epoch 57/200\n",
            "34/34 [==============================] - 0s 2ms/step - loss: 6324.7402 - mae: 6324.7402\n",
            "Epoch 58/200\n",
            "34/34 [==============================] - 0s 3ms/step - loss: 6310.5708 - mae: 6310.5708\n",
            "Epoch 59/200\n",
            "34/34 [==============================] - 0s 3ms/step - loss: 6295.7505 - mae: 6295.7505\n",
            "Epoch 60/200\n",
            "34/34 [==============================] - 0s 3ms/step - loss: 6285.0781 - mae: 6285.0781\n",
            "Epoch 61/200\n",
            "34/34 [==============================] - 0s 3ms/step - loss: 6265.7583 - mae: 6265.7583\n",
            "Epoch 62/200\n",
            "34/34 [==============================] - 0s 3ms/step - loss: 6253.5371 - mae: 6253.5371\n",
            "Epoch 63/200\n",
            "34/34 [==============================] - 0s 3ms/step - loss: 6235.2300 - mae: 6235.2300\n",
            "Epoch 64/200\n",
            "34/34 [==============================] - 0s 3ms/step - loss: 6218.7012 - mae: 6218.7012\n",
            "Epoch 65/200\n",
            "34/34 [==============================] - 0s 2ms/step - loss: 6201.5923 - mae: 6201.5923\n",
            "Epoch 66/200\n",
            "34/34 [==============================] - 0s 2ms/step - loss: 6184.5669 - mae: 6184.5669\n",
            "Epoch 67/200\n",
            "34/34 [==============================] - 0s 2ms/step - loss: 6172.0186 - mae: 6172.0186\n",
            "Epoch 68/200\n",
            "34/34 [==============================] - 0s 3ms/step - loss: 6149.1045 - mae: 6149.1045\n",
            "Epoch 69/200\n",
            "34/34 [==============================] - 0s 2ms/step - loss: 6133.1484 - mae: 6133.1484\n",
            "Epoch 70/200\n",
            "34/34 [==============================] - 0s 2ms/step - loss: 6113.1235 - mae: 6113.1235\n",
            "Epoch 71/200\n",
            "34/34 [==============================] - 0s 2ms/step - loss: 6093.9873 - mae: 6093.9873\n",
            "Epoch 72/200\n",
            "34/34 [==============================] - 0s 3ms/step - loss: 6074.6157 - mae: 6074.6157\n",
            "Epoch 73/200\n",
            "34/34 [==============================] - 0s 2ms/step - loss: 6060.3096 - mae: 6060.3096\n",
            "Epoch 74/200\n",
            "34/34 [==============================] - 0s 2ms/step - loss: 6033.1030 - mae: 6033.1030\n",
            "Epoch 75/200\n",
            "34/34 [==============================] - 0s 2ms/step - loss: 6012.1304 - mae: 6012.1304\n",
            "Epoch 76/200\n",
            "34/34 [==============================] - 0s 2ms/step - loss: 5997.0815 - mae: 5997.0815\n",
            "Epoch 77/200\n",
            "34/34 [==============================] - 0s 3ms/step - loss: 5964.1011 - mae: 5964.1011\n",
            "Epoch 78/200\n",
            "34/34 [==============================] - 0s 3ms/step - loss: 5941.7705 - mae: 5941.7705\n",
            "Epoch 79/200\n",
            "34/34 [==============================] - 0s 2ms/step - loss: 5917.2109 - mae: 5917.2109\n",
            "Epoch 80/200\n",
            "34/34 [==============================] - 0s 2ms/step - loss: 5890.3584 - mae: 5890.3584\n",
            "Epoch 81/200\n",
            "34/34 [==============================] - 0s 4ms/step - loss: 5863.8848 - mae: 5863.8848\n",
            "Epoch 82/200\n",
            "34/34 [==============================] - 0s 5ms/step - loss: 5836.6348 - mae: 5836.6348\n",
            "Epoch 83/200\n",
            "34/34 [==============================] - 0s 4ms/step - loss: 5808.1528 - mae: 5808.1528\n",
            "Epoch 84/200\n",
            "34/34 [==============================] - 0s 4ms/step - loss: 5775.3662 - mae: 5775.3662\n",
            "Epoch 85/200\n",
            "34/34 [==============================] - 0s 5ms/step - loss: 5748.0557 - mae: 5748.0557\n",
            "Epoch 86/200\n",
            "34/34 [==============================] - 0s 4ms/step - loss: 5714.0249 - mae: 5714.0249\n",
            "Epoch 87/200\n",
            "34/34 [==============================] - 0s 4ms/step - loss: 5677.7271 - mae: 5677.7271\n",
            "Epoch 88/200\n",
            "34/34 [==============================] - 0s 9ms/step - loss: 5643.1782 - mae: 5643.1782\n",
            "Epoch 89/200\n",
            "34/34 [==============================] - 0s 7ms/step - loss: 5604.4277 - mae: 5604.4277\n",
            "Epoch 90/200\n",
            "34/34 [==============================] - 0s 6ms/step - loss: 5563.4478 - mae: 5563.4478\n",
            "Epoch 91/200\n",
            "34/34 [==============================] - 0s 7ms/step - loss: 5527.5522 - mae: 5527.5522\n",
            "Epoch 92/200\n",
            "34/34 [==============================] - 0s 7ms/step - loss: 5478.8188 - mae: 5478.8188\n",
            "Epoch 93/200\n",
            "34/34 [==============================] - 0s 7ms/step - loss: 5438.4424 - mae: 5438.4424\n",
            "Epoch 94/200\n",
            "34/34 [==============================] - 0s 7ms/step - loss: 5393.5435 - mae: 5393.5435\n",
            "Epoch 95/200\n",
            "34/34 [==============================] - 0s 4ms/step - loss: 5339.9346 - mae: 5339.9346\n",
            "Epoch 96/200\n",
            "34/34 [==============================] - 0s 4ms/step - loss: 5295.1787 - mae: 5295.1787\n",
            "Epoch 97/200\n",
            "34/34 [==============================] - 0s 5ms/step - loss: 5240.8447 - mae: 5240.8447\n",
            "Epoch 98/200\n",
            "34/34 [==============================] - 0s 5ms/step - loss: 5178.5903 - mae: 5178.5903\n",
            "Epoch 99/200\n",
            "34/34 [==============================] - 0s 3ms/step - loss: 5121.4458 - mae: 5121.4458\n",
            "Epoch 100/200\n",
            "34/34 [==============================] - 0s 2ms/step - loss: 5065.7852 - mae: 5065.7852\n",
            "Epoch 101/200\n",
            "34/34 [==============================] - 0s 4ms/step - loss: 4995.5918 - mae: 4995.5918\n",
            "Epoch 102/200\n",
            "34/34 [==============================] - 0s 5ms/step - loss: 4924.0737 - mae: 4924.0737\n",
            "Epoch 103/200\n",
            "34/34 [==============================] - 0s 5ms/step - loss: 4856.7036 - mae: 4856.7036\n",
            "Epoch 104/200\n",
            "34/34 [==============================] - 0s 7ms/step - loss: 4778.2603 - mae: 4778.2603\n",
            "Epoch 105/200\n",
            "34/34 [==============================] - 0s 10ms/step - loss: 4693.6650 - mae: 4693.6650\n",
            "Epoch 106/200\n",
            "34/34 [==============================] - 0s 11ms/step - loss: 4610.8535 - mae: 4610.8535\n",
            "Epoch 107/200\n",
            "34/34 [==============================] - 0s 10ms/step - loss: 4524.9775 - mae: 4524.9775\n",
            "Epoch 108/200\n",
            "34/34 [==============================] - 0s 9ms/step - loss: 4436.1382 - mae: 4436.1382\n",
            "Epoch 109/200\n",
            "34/34 [==============================] - 0s 9ms/step - loss: 4350.8345 - mae: 4350.8345\n",
            "Epoch 110/200\n",
            "34/34 [==============================] - 0s 9ms/step - loss: 4267.5415 - mae: 4267.5415\n",
            "Epoch 111/200\n",
            "34/34 [==============================] - 0s 9ms/step - loss: 4184.1191 - mae: 4184.1191\n",
            "Epoch 112/200\n",
            "34/34 [==============================] - 0s 7ms/step - loss: 4110.7974 - mae: 4110.7974\n",
            "Epoch 113/200\n",
            "34/34 [==============================] - 0s 7ms/step - loss: 4039.2537 - mae: 4039.2537\n",
            "Epoch 114/200\n",
            "34/34 [==============================] - 0s 10ms/step - loss: 3992.4678 - mae: 3992.4678\n",
            "Epoch 115/200\n",
            "34/34 [==============================] - 0s 9ms/step - loss: 3950.2388 - mae: 3950.2388\n",
            "Epoch 116/200\n",
            "34/34 [==============================] - 0s 10ms/step - loss: 3927.6121 - mae: 3927.6121\n",
            "Epoch 117/200\n",
            "34/34 [==============================] - 0s 11ms/step - loss: 3900.8740 - mae: 3900.8740\n",
            "Epoch 118/200\n",
            "34/34 [==============================] - 0s 7ms/step - loss: 3872.6321 - mae: 3872.6321\n",
            "Epoch 119/200\n",
            "34/34 [==============================] - 0s 6ms/step - loss: 3854.0850 - mae: 3854.0850\n",
            "Epoch 120/200\n",
            "34/34 [==============================] - 0s 5ms/step - loss: 3836.1990 - mae: 3836.1990\n",
            "Epoch 121/200\n",
            "34/34 [==============================] - 0s 3ms/step - loss: 3829.3931 - mae: 3829.3931\n",
            "Epoch 122/200\n",
            "34/34 [==============================] - 0s 3ms/step - loss: 3822.9375 - mae: 3822.9375\n",
            "Epoch 123/200\n",
            "34/34 [==============================] - 0s 2ms/step - loss: 3816.9468 - mae: 3816.9468\n",
            "Epoch 124/200\n",
            "34/34 [==============================] - 0s 3ms/step - loss: 3809.7603 - mae: 3809.7603\n",
            "Epoch 125/200\n",
            "34/34 [==============================] - 0s 3ms/step - loss: 3797.7190 - mae: 3797.7190\n",
            "Epoch 126/200\n",
            "34/34 [==============================] - 0s 2ms/step - loss: 3807.4060 - mae: 3807.4060\n",
            "Epoch 127/200\n",
            "34/34 [==============================] - 0s 3ms/step - loss: 3799.5334 - mae: 3799.5334\n",
            "Epoch 128/200\n",
            "34/34 [==============================] - 0s 2ms/step - loss: 3793.0649 - mae: 3793.0649\n",
            "Epoch 129/200\n",
            "34/34 [==============================] - 0s 3ms/step - loss: 3802.1396 - mae: 3802.1396\n",
            "Epoch 130/200\n",
            "34/34 [==============================] - 0s 3ms/step - loss: 3788.7815 - mae: 3788.7815\n",
            "Epoch 131/200\n",
            "34/34 [==============================] - 0s 2ms/step - loss: 3782.2898 - mae: 3782.2898\n",
            "Epoch 132/200\n",
            "34/34 [==============================] - 0s 2ms/step - loss: 3775.6375 - mae: 3775.6375\n",
            "Epoch 133/200\n",
            "34/34 [==============================] - 0s 3ms/step - loss: 3771.7188 - mae: 3771.7188\n",
            "Epoch 134/200\n",
            "34/34 [==============================] - 0s 2ms/step - loss: 3772.8640 - mae: 3772.8640\n",
            "Epoch 135/200\n",
            "34/34 [==============================] - 0s 2ms/step - loss: 3768.6909 - mae: 3768.6909\n",
            "Epoch 136/200\n",
            "34/34 [==============================] - 0s 3ms/step - loss: 3766.4951 - mae: 3766.4951\n",
            "Epoch 137/200\n",
            "34/34 [==============================] - 0s 3ms/step - loss: 3773.9995 - mae: 3773.9995\n",
            "Epoch 138/200\n",
            "34/34 [==============================] - 0s 2ms/step - loss: 3782.7651 - mae: 3782.7651\n",
            "Epoch 139/200\n",
            "34/34 [==============================] - 0s 2ms/step - loss: 3763.2114 - mae: 3763.2114\n",
            "Epoch 140/200\n",
            "34/34 [==============================] - 0s 2ms/step - loss: 3763.4998 - mae: 3763.4998\n",
            "Epoch 141/200\n",
            "34/34 [==============================] - 0s 3ms/step - loss: 3764.6775 - mae: 3764.6775\n",
            "Epoch 142/200\n",
            "34/34 [==============================] - 0s 8ms/step - loss: 3765.6633 - mae: 3765.6633\n",
            "Epoch 143/200\n",
            "34/34 [==============================] - 0s 5ms/step - loss: 3755.1770 - mae: 3755.1770\n",
            "Epoch 144/200\n",
            "34/34 [==============================] - 0s 6ms/step - loss: 3751.8748 - mae: 3751.8748\n",
            "Epoch 145/200\n",
            "34/34 [==============================] - 0s 6ms/step - loss: 3751.7676 - mae: 3751.7676\n",
            "Epoch 146/200\n",
            "34/34 [==============================] - 0s 8ms/step - loss: 3757.9468 - mae: 3757.9468\n",
            "Epoch 147/200\n",
            "34/34 [==============================] - 0s 2ms/step - loss: 3752.1389 - mae: 3752.1389\n",
            "Epoch 148/200\n",
            "34/34 [==============================] - 0s 2ms/step - loss: 3757.8245 - mae: 3757.8245\n",
            "Epoch 149/200\n",
            "34/34 [==============================] - 0s 3ms/step - loss: 3744.7581 - mae: 3744.7581\n",
            "Epoch 150/200\n",
            "34/34 [==============================] - 0s 3ms/step - loss: 3739.3398 - mae: 3739.3398\n",
            "Epoch 151/200\n",
            "34/34 [==============================] - 0s 2ms/step - loss: 3742.0571 - mae: 3742.0571\n",
            "Epoch 152/200\n",
            "34/34 [==============================] - 0s 2ms/step - loss: 3743.1406 - mae: 3743.1406\n",
            "Epoch 153/200\n",
            "34/34 [==============================] - 0s 3ms/step - loss: 3744.8242 - mae: 3744.8242\n",
            "Epoch 154/200\n",
            "34/34 [==============================] - 0s 3ms/step - loss: 3737.9316 - mae: 3737.9316\n",
            "Epoch 155/200\n",
            "34/34 [==============================] - 0s 2ms/step - loss: 3741.0261 - mae: 3741.0261\n",
            "Epoch 156/200\n",
            "34/34 [==============================] - 0s 2ms/step - loss: 3736.3010 - mae: 3736.3010\n",
            "Epoch 157/200\n",
            "34/34 [==============================] - 0s 3ms/step - loss: 3734.1106 - mae: 3734.1106\n",
            "Epoch 158/200\n",
            "34/34 [==============================] - 0s 2ms/step - loss: 3730.0825 - mae: 3730.0825\n",
            "Epoch 159/200\n",
            "34/34 [==============================] - 0s 3ms/step - loss: 3727.1055 - mae: 3727.1055\n",
            "Epoch 160/200\n",
            "34/34 [==============================] - 0s 2ms/step - loss: 3734.0037 - mae: 3734.0037\n",
            "Epoch 161/200\n",
            "34/34 [==============================] - 0s 2ms/step - loss: 3729.4719 - mae: 3729.4719\n",
            "Epoch 162/200\n",
            "34/34 [==============================] - 0s 3ms/step - loss: 3725.6113 - mae: 3725.6113\n",
            "Epoch 163/200\n",
            "34/34 [==============================] - 0s 2ms/step - loss: 3722.9458 - mae: 3722.9458\n",
            "Epoch 164/200\n",
            "34/34 [==============================] - 0s 2ms/step - loss: 3727.7874 - mae: 3727.7874\n",
            "Epoch 165/200\n",
            "34/34 [==============================] - 0s 3ms/step - loss: 3717.5491 - mae: 3717.5491\n",
            "Epoch 166/200\n",
            "34/34 [==============================] - 0s 3ms/step - loss: 3722.3870 - mae: 3722.3870\n",
            "Epoch 167/200\n",
            "34/34 [==============================] - 0s 2ms/step - loss: 3724.0149 - mae: 3724.0149\n",
            "Epoch 168/200\n",
            "34/34 [==============================] - 0s 3ms/step - loss: 3715.4231 - mae: 3715.4231\n",
            "Epoch 169/200\n",
            "34/34 [==============================] - 0s 2ms/step - loss: 3716.8975 - mae: 3716.8975\n",
            "Epoch 170/200\n",
            "34/34 [==============================] - 0s 3ms/step - loss: 3709.1548 - mae: 3709.1548\n",
            "Epoch 171/200\n",
            "34/34 [==============================] - 0s 3ms/step - loss: 3708.5933 - mae: 3708.5933\n",
            "Epoch 172/200\n",
            "34/34 [==============================] - 0s 2ms/step - loss: 3711.5286 - mae: 3711.5286\n",
            "Epoch 173/200\n",
            "34/34 [==============================] - 0s 2ms/step - loss: 3704.2405 - mae: 3704.2405\n",
            "Epoch 174/200\n",
            "34/34 [==============================] - 0s 2ms/step - loss: 3709.8574 - mae: 3709.8574\n",
            "Epoch 175/200\n",
            "34/34 [==============================] - 0s 3ms/step - loss: 3711.9534 - mae: 3711.9534\n",
            "Epoch 176/200\n",
            "34/34 [==============================] - 0s 2ms/step - loss: 3707.6121 - mae: 3707.6121\n",
            "Epoch 177/200\n",
            "34/34 [==============================] - 0s 2ms/step - loss: 3700.1978 - mae: 3700.1978\n",
            "Epoch 178/200\n",
            "34/34 [==============================] - 0s 2ms/step - loss: 3699.2029 - mae: 3699.2029\n",
            "Epoch 179/200\n",
            "34/34 [==============================] - 0s 3ms/step - loss: 3709.4712 - mae: 3709.4712\n",
            "Epoch 180/200\n",
            "34/34 [==============================] - 0s 2ms/step - loss: 3709.8813 - mae: 3709.8813\n",
            "Epoch 181/200\n",
            "34/34 [==============================] - 0s 3ms/step - loss: 3696.9802 - mae: 3696.9802\n",
            "Epoch 182/200\n",
            "34/34 [==============================] - 0s 2ms/step - loss: 3693.5063 - mae: 3693.5063\n",
            "Epoch 183/200\n",
            "34/34 [==============================] - 0s 2ms/step - loss: 3692.2012 - mae: 3692.2012\n",
            "Epoch 184/200\n",
            "34/34 [==============================] - 0s 3ms/step - loss: 3698.6504 - mae: 3698.6504\n",
            "Epoch 185/200\n",
            "34/34 [==============================] - 0s 2ms/step - loss: 3693.4321 - mae: 3693.4321\n",
            "Epoch 186/200\n",
            "34/34 [==============================] - 0s 2ms/step - loss: 3695.3381 - mae: 3695.3381\n",
            "Epoch 187/200\n",
            "34/34 [==============================] - 0s 6ms/step - loss: 3688.9968 - mae: 3688.9968\n",
            "Epoch 188/200\n",
            "34/34 [==============================] - 0s 5ms/step - loss: 3696.2769 - mae: 3696.2769\n",
            "Epoch 189/200\n",
            "34/34 [==============================] - 0s 5ms/step - loss: 3685.2913 - mae: 3685.2913\n",
            "Epoch 190/200\n",
            "34/34 [==============================] - 0s 5ms/step - loss: 3681.9490 - mae: 3681.9490\n",
            "Epoch 191/200\n",
            "34/34 [==============================] - 0s 6ms/step - loss: 3698.2861 - mae: 3698.2861\n",
            "Epoch 192/200\n",
            "34/34 [==============================] - 0s 5ms/step - loss: 3684.2102 - mae: 3684.2102\n",
            "Epoch 193/200\n",
            "34/34 [==============================] - 0s 4ms/step - loss: 3675.1277 - mae: 3675.1277\n",
            "Epoch 194/200\n",
            "34/34 [==============================] - 0s 5ms/step - loss: 3677.1887 - mae: 3677.1887\n",
            "Epoch 195/200\n",
            "34/34 [==============================] - 0s 5ms/step - loss: 3674.4258 - mae: 3674.4258\n",
            "Epoch 196/200\n",
            "34/34 [==============================] - 0s 4ms/step - loss: 3681.3337 - mae: 3681.3337\n",
            "Epoch 197/200\n",
            "34/34 [==============================] - 0s 4ms/step - loss: 3666.9597 - mae: 3666.9597\n",
            "Epoch 198/200\n",
            "34/34 [==============================] - 0s 4ms/step - loss: 3673.8928 - mae: 3673.8928\n",
            "Epoch 199/200\n",
            "34/34 [==============================] - 0s 4ms/step - loss: 3681.4956 - mae: 3681.4956\n",
            "Epoch 200/200\n",
            "34/34 [==============================] - 0s 3ms/step - loss: 3668.3965 - mae: 3668.3965\n"
          ]
        }
      ]
    },
    {
      "cell_type": "code",
      "source": [
        "insurance_model_3.evaluate(X_test, y_test)"
      ],
      "metadata": {
        "colab": {
          "base_uri": "https://localhost:8080/"
        },
        "id": "5msjVkiyfGSC",
        "outputId": "195b8a43-3403-4cd3-ad22-7fc2ff9aa08b"
      },
      "execution_count": 238,
      "outputs": [
        {
          "output_type": "stream",
          "name": "stdout",
          "text": [
            "9/9 [==============================] - 0s 4ms/step - loss: 3495.8650 - mae: 3495.8650\n"
          ]
        },
        {
          "output_type": "execute_result",
          "data": {
            "text/plain": [
              "[3495.864990234375, 3495.864990234375]"
            ]
          },
          "metadata": {},
          "execution_count": 238
        }
      ]
    },
    {
      "cell_type": "code",
      "source": [
        "pd.DataFrame(history.history).plot()\n",
        "plt.ylabel(\"loss\")\n",
        "plt.xlabel(\"epoches\")"
      ],
      "metadata": {
        "colab": {
          "base_uri": "https://localhost:8080/",
          "height": 297
        },
        "id": "qgjdS6PdfNOe",
        "outputId": "d845e3cb-7cd1-4ff7-be1a-b7459dd8e907"
      },
      "execution_count": 247,
      "outputs": [
        {
          "output_type": "execute_result",
          "data": {
            "text/plain": [
              "Text(0.5, 0, 'epoches')"
            ]
          },
          "metadata": {},
          "execution_count": 247
        },
        {
          "output_type": "display_data",
          "data": {
            "text/plain": [
              "<Figure size 432x288 with 1 Axes>"
            ],
            "image/png": "[encoded data removed]"
          },
          "metadata": {
            "needs_background": "light"
          }
        }
      ]
    },
    {
      "cell_type": "code",
      "source": [
        "history.history"
      ],
      "metadata": {
        "colab": {
          "base_uri": "https://localhost:8080/",
          "height": 424
        },
        "id": "K0MOiWOefV1I",
        "outputId": "a1d7b29f-2167-4ef1-a2f9-b814392aa5d5"
      },
      "execution_count": 245,
      "outputs": [
        {
          "output_type": "execute_result",
          "data": {
            "text/plain": [
              "             loss           mae\n",
              "0    13282.991211  13282.991211\n",
              "1    13113.032227  13113.032227\n",
              "2    12761.052734  12761.052734\n",
              "3    12074.227539  12074.227539\n",
              "4    10936.084961  10936.084961\n",
              "..            ...           ...\n",
              "195   3681.333740   3681.333740\n",
              "196   3666.959717   3666.959717\n",
              "197   3673.892822   3673.892822\n",
              "198   3681.495605   3681.495605\n",
              "199   3668.396484   3668.396484\n",
              "\n",
              "[200 rows x 2 columns]"
            ],
            "text/html": [
              "\n",
              "  <div id=\"df-2da6ea0c-bc0e-4ae3-b0f1-bf0c58cdf98a\">\n",
              "    <div class=\"colab-df-container\">\n",
              "      <div>\n",
              "<style scoped>\n",
              "    .dataframe tbody tr th:only-of-type {\n",
              "        vertical-align: middle;\n",
              "    }\n",
              "\n",
              "    .dataframe tbody tr th {\n",
              "        vertical-align: top;\n",
              "    }\n",
              "\n",
              "    .dataframe thead th {\n",
              "        text-align: right;\n",
              "    }\n",
              "</style>\n",
              "<table border=\"1\" class=\"dataframe\">\n",
              "  <thead>\n",
              "    <tr style=\"text-align: right;\">\n",
              "      <th></th>\n",
              "      <th>loss</th>\n",
              "      <th>mae</th>\n",
              "    </tr>\n",
              "  </thead>\n",
              "  <tbody>\n",
              "    <tr>\n",
              "      <th>0</th>\n",
              "      <td>13282.991211</td>\n",
              "      <td>13282.991211</td>\n",
              "    </tr>\n",
              "    <tr>\n",
              "      <th>1</th>\n",
              "      <td>13113.032227</td>\n",
              "      <td>13113.032227</td>\n",
              "    </tr>\n",
              "    <tr>\n",
              "      <th>2</th>\n",
              "      <td>12761.052734</td>\n",
              "      <td>12761.052734</td>\n",
              "    </tr>\n",
              "    <tr>\n",
              "      <th>3</th>\n",
              "      <td>12074.227539</td>\n",
              "      <td>12074.227539</td>\n",
              "    </tr>\n",
              "    <tr>\n",
              "      <th>4</th>\n",
              "      <td>10936.084961</td>\n",
              "      <td>10936.084961</td>\n",
              "    </tr>\n",
              "    <tr>\n",
              "      <th>...</th>\n",
              "      <td>...</td>\n",
              "      <td>...</td>\n",
              "    </tr>\n",
              "    <tr>\n",
              "      <th>195</th>\n",
              "      <td>3681.333740</td>\n",
              "      <td>3681.333740</td>\n",
              "    </tr>\n",
              "    <tr>\n",
              "      <th>196</th>\n",
              "      <td>3666.959717</td>\n",
              "      <td>3666.959717</td>\n",
              "    </tr>\n",
              "    <tr>\n",
              "      <th>197</th>\n",
              "      <td>3673.892822</td>\n",
              "      <td>3673.892822</td>\n",
              "    </tr>\n",
              "    <tr>\n",
              "      <th>198</th>\n",
              "      <td>3681.495605</td>\n",
              "      <td>3681.495605</td>\n",
              "    </tr>\n",
              "    <tr>\n",
              "      <th>199</th>\n",
              "      <td>3668.396484</td>\n",
              "      <td>3668.396484</td>\n",
              "    </tr>\n",
              "  </tbody>\n",
              "</table>\n",
              "<p>200 rows × 2 columns</p>\n",
              "</div>\n",
              "      <button class=\"colab-df-convert\" onclick=\"convertToInteractive('df-2da6ea0c-bc0e-4ae3-b0f1-bf0c58cdf98a')\"\n",
              "              title=\"Convert this dataframe to an interactive table.\"\n",
              "              style=\"display:none;\">\n",
              "        \n",
              "  <svg xmlns=\"http://www.w3.org/2000/svg\" height=\"24px\"viewBox=\"0 0 24 24\"\n",
              "       width=\"24px\">\n",
              "    <path d=\"M0 0h24v24H0V0z\" fill=\"none\"/>\n",
              "    <path d=\"M18.56 5.44l.94 2.06.94-2.06 2.06-.94-2.06-.94-.94-2.06-.94 2.06-2.06.94zm-11 1L8.5 8.5l.94-2.06 2.06-.94-2.06-.94L8.5 2.5l-.94 2.06-2.06.94zm10 10l.94 2.06.94-2.06 2.06-.94-2.06-.94-.94-2.06-.94 2.06-2.06.94z\"/><path d=\"M17.41 7.96l-1.37-1.37c-.4-.4-.92-.59-1.43-.59-.52 0-1.04.2-1.43.59L10.3 9.45l-7.72 7.72c-.78.78-.78 2.05 0 2.83L4 21.41c.39.39.9.59 1.41.59.51 0 1.02-.2 1.41-.59l7.78-7.78 2.81-2.81c.8-.78.8-2.07 0-2.86zM5.41 20L4 18.59l7.72-7.72 1.47 1.35L5.41 20z\"/>\n",
              "  </svg>\n",
              "      </button>\n",
              "      \n",
              "  <style>\n",
              "    .colab-df-container {\n",
              "      display:flex;\n",
              "      flex-wrap:wrap;\n",
              "      gap: 12px;\n",
              "    }\n",
              "\n",
              "    .colab-df-convert {\n",
              "      background-color: #E8F0FE;\n",
              "      border: none;\n",
              "      border-radius: 50%;\n",
              "      cursor: pointer;\n",
              "      display: none;\n",
              "      fill: #1967D2;\n",
              "      height: 32px;\n",
              "      padding: 0 0 0 0;\n",
              "      width: 32px;\n",
              "    }\n",
              "\n",
              "    .colab-df-convert:hover {\n",
              "      background-color: #E2EBFA;\n",
              "      box-shadow: 0px 1px 2px rgba(60, 64, 67, 0.3), 0px 1px 3px 1px rgba(60, 64, 67, 0.15);\n",
              "      fill: #174EA6;\n",
              "    }\n",
              "\n",
              "    [theme=dark] .colab-df-convert {\n",
              "      background-color: #3B4455;\n",
              "      fill: #D2E3FC;\n",
              "    }\n",
              "\n",
              "    [theme=dark] .colab-df-convert:hover {\n",
              "      background-color: #434B5C;\n",
              "      box-shadow: 0px 1px 3px 1px rgba(0, 0, 0, 0.15);\n",
              "      filter: drop-shadow(0px 1px 2px rgba(0, 0, 0, 0.3));\n",
              "      fill: #FFFFFF;\n",
              "    }\n",
              "  </style>\n",
              "\n",
              "      <script>\n",
              "        const buttonEl =\n",
              "          document.querySelector('#df-2da6ea0c-bc0e-4ae3-b0f1-bf0c58cdf98a button.colab-df-convert');\n",
              "        buttonEl.style.display =\n",
              "          google.colab.kernel.accessAllowed ? 'block' : 'none';\n",
              "\n",
              "        async function convertToInteractive(key) {\n",
              "          const element = document.querySelector('#df-2da6ea0c-bc0e-4ae3-b0f1-bf0c58cdf98a');\n",
              "          const dataTable =\n",
              "            await google.colab.kernel.invokeFunction('convertToInteractive',\n",
              "                                                     [key], {});\n",
              "          if (!dataTable) return;\n",
              "\n",
              "          const docLinkHtml = 'Like what you see? Visit the ' +\n",
              "            '<a target=\"_blank\" href=https://colab.research.google.com/notebooks/data_table.ipynb>data table notebook</a>'\n",
              "            + ' to learn more about interactive tables.';\n",
              "          element.innerHTML = '';\n",
              "          dataTable['output_type'] = 'display_data';\n",
              "          await google.colab.output.renderOutput(dataTable, element);\n",
              "          const docLink = document.createElement('div');\n",
              "          docLink.innerHTML = docLinkHtml;\n",
              "          element.appendChild(docLink);\n",
              "        }\n",
              "      </script>\n",
              "    </div>\n",
              "  </div>\n",
              "  "
            ]
          },
          "metadata": {},
          "execution_count": 245
        }
      ]
    },
    {
      "cell_type": "markdown",
      "source": [
        "🤔 Question: How long should you train for?\n",
        "\n",
        "It depends on what problem you're working on. Sometimes training won't take very long, other times it'll take longer than you expect. A common method is to set your model training for a very long time (e.g. 1000's of epochs) but set it up with an EarlyStopping callback so it stops automatically when it stops improving. We'll see this in another module."
      ],
      "metadata": {
        "id": "DAyQDCZTfygn"
      }
    },
    {
      "cell_type": "markdown",
      "source": [
        "# normalization and standardization(preprocessing)\n",
        "feature scaling\n"
      ],
      "metadata": {
        "id": "uPuzdFZihKQt"
      }
    },
    {
      "cell_type": "code",
      "source": [
        "from sklearn.compose import  make_column_transformer\n",
        "from sklearn.preprocessing import MinMaxScaler, OneHotEncoder"
      ],
      "metadata": {
        "id": "c4KsgxsyiIof"
      },
      "execution_count": 248,
      "outputs": []
    },
    {
      "cell_type": "code",
      "source": [
        "ct=make_column_transformer((MinMaxScaler(),[\"age\",\"bmi\",\"children\"]), #turn all given column between 0 an 1 \n",
        "                           (OneHotEncoder(handle_unknown='ignore'),[\"sex\",\"smoker\",\"region\"])) #turn all column into one hot encoded"
      ],
      "metadata": {
        "id": "niZBH67YnX20"
      },
      "execution_count": 252,
      "outputs": []
    },
    {
      "cell_type": "code",
      "source": [
        "ct"
      ],
      "metadata": {
        "colab": {
          "base_uri": "https://localhost:8080/"
        },
        "id": "r3tPFea0n-ff",
        "outputId": "0577ff12-7070-4c3e-cd2d-ead8b11082b8"
      },
      "execution_count": 253,
      "outputs": [
        {
          "output_type": "execute_result",
          "data": {
            "text/plain": [
              "ColumnTransformer(transformers=[('minmaxscaler', MinMaxScaler(),\n",
              "                                 ['age', 'bmi', 'children']),\n",
              "                                ('onehotencoder', OneHotEncoder(),\n",
              "                                 ['sex', 'smoker', 'region'])])"
            ]
          },
          "metadata": {},
          "execution_count": 253
        }
      ]
    },
    {
      "cell_type": "code",
      "source": [
        "X=insurance.drop(\"charges\", axis=1)\n",
        "y=insurance[\"charges\"]\n",
        "from sklearn.model_selection import train_test_split\n",
        "X_train,X_test, y_train, y_test = train_test_split(X, y, test_size = 0.20, random_state=42)\n",
        "\n",
        "# now fit column transformer to our training data and later on use that fit column transformer to transform your test data otherwise if you do that separately, \n",
        "# test data model never seen data from future. if we transform training dataset with info from test dataset, its like taking knowledge from future and altering data that we have now\n",
        "# so fit with only train data\n",
        "ct.fit(X_train)\n",
        "\n",
        "# lets normalize and one hot encode both\n",
        "X_train_normal=ct.transform(X_train)\n",
        "X_test_normal=ct.transform(X_test)"
      ],
      "metadata": {
        "id": "AmtdAWnvn_jf"
      },
      "execution_count": 257,
      "outputs": []
    },
    {
      "cell_type": "code",
      "source": [
        "X_train_normal[0]\n",
        "# data encoded"
      ],
      "metadata": {
        "colab": {
          "base_uri": "https://localhost:8080/"
        },
        "id": "ifddPnDDshyG",
        "outputId": "a1b9e656-8aef-4cb9-ca1d-0ffc88bac3a3"
      },
      "execution_count": 260,
      "outputs": [
        {
          "output_type": "execute_result",
          "data": {
            "text/plain": [
              "array([0.60869565, 0.10734463, 0.4       , 1.        , 0.        ,\n",
              "       1.        , 0.        , 0.        , 1.        , 0.        ,\n",
              "       0.        ])"
            ]
          },
          "metadata": {},
          "execution_count": 260
        }
      ]
    },
    {
      "cell_type": "code",
      "source": [
        "# experiment\n",
        "tf.random.set_seed(42)\n",
        "insurance_model_4=tf.keras.Sequential([\n",
        "    tf.keras.layers.Dense(100),\n",
        "    tf.keras.layers.Dense(10),\n",
        "    tf.keras.layers.Dense(1)\n",
        "])\n",
        "\n",
        "insurance_model_4.compile(loss=tf.keras.losses.mae, optimizer=tf.keras.optimizers.Adam(), metrics=[\"mae\"])\n",
        "\n",
        "history=insurance_model_4.fit(X_train_normal, y_train, epochs=200)"
      ],
      "metadata": {
        "colab": {
          "base_uri": "https://localhost:8080/"
        },
        "id": "My0Zac85usuV",
        "outputId": "5d6dcdd5-357a-4d27-c2c3-91c9a14dd13d"
      },
      "execution_count": 262,
      "outputs": [
        {
          "output_type": "stream",
          "name": "stdout",
          "text": [
            "Epoch 1/200\n",
            "34/34 [==============================] - 1s 3ms/step - loss: 13343.5605 - mae: 13343.5605\n",
            "Epoch 2/200\n",
            "34/34 [==============================] - 0s 2ms/step - loss: 13334.3311 - mae: 13334.3311\n",
            "Epoch 3/200\n",
            "34/34 [==============================] - 0s 2ms/step - loss: 13311.9688 - mae: 13311.9688\n",
            "Epoch 4/200\n",
            "34/34 [==============================] - 0s 3ms/step - loss: 13265.7070 - mae: 13265.7070\n",
            "Epoch 5/200\n",
            "34/34 [==============================] - 0s 2ms/step - loss: 13184.3457 - mae: 13184.3457\n",
            "Epoch 6/200\n",
            "34/34 [==============================] - 0s 2ms/step - loss: 13056.6445 - mae: 13056.6445\n",
            "Epoch 7/200\n",
            "34/34 [==============================] - 0s 3ms/step - loss: 12872.3809 - mae: 12872.3809\n",
            "Epoch 8/200\n",
            "34/34 [==============================] - 0s 3ms/step - loss: 12621.5430 - mae: 12621.5430\n",
            "Epoch 9/200\n",
            "34/34 [==============================] - 0s 3ms/step - loss: 12294.0195 - mae: 12294.0195\n",
            "Epoch 10/200\n",
            "34/34 [==============================] - 0s 2ms/step - loss: 11886.6338 - mae: 11886.6338\n",
            "Epoch 11/200\n",
            "34/34 [==============================] - 0s 3ms/step - loss: 11410.3545 - mae: 11410.3545\n",
            "Epoch 12/200\n",
            "34/34 [==============================] - 0s 3ms/step - loss: 10903.0020 - mae: 10903.0020\n",
            "Epoch 13/200\n",
            "34/34 [==============================] - 0s 2ms/step - loss: 10401.1494 - mae: 10401.1494\n",
            "Epoch 14/200\n",
            "34/34 [==============================] - 0s 2ms/step - loss: 9907.6416 - mae: 9907.6416\n",
            "Epoch 15/200\n",
            "34/34 [==============================] - 0s 2ms/step - loss: 9442.2217 - mae: 9442.2217\n",
            "Epoch 16/200\n",
            "34/34 [==============================] - 0s 2ms/step - loss: 9029.0928 - mae: 9029.0928\n",
            "Epoch 17/200\n",
            "34/34 [==============================] - 0s 2ms/step - loss: 8690.2666 - mae: 8690.2666\n",
            "Epoch 18/200\n",
            "34/34 [==============================] - 0s 2ms/step - loss: 8413.3945 - mae: 8413.3945\n",
            "Epoch 19/200\n",
            "34/34 [==============================] - 0s 2ms/step - loss: 8207.0088 - mae: 8207.0088\n",
            "Epoch 20/200\n",
            "34/34 [==============================] - 0s 3ms/step - loss: 8063.4795 - mae: 8063.4795\n",
            "Epoch 21/200\n",
            "34/34 [==============================] - 0s 2ms/step - loss: 7957.1851 - mae: 7957.1851\n",
            "Epoch 22/200\n",
            "34/34 [==============================] - 0s 2ms/step - loss: 7883.8301 - mae: 7883.8301\n",
            "Epoch 23/200\n",
            "34/34 [==============================] - 0s 3ms/step - loss: 7825.5205 - mae: 7825.5205\n",
            "Epoch 24/200\n",
            "34/34 [==============================] - 0s 2ms/step - loss: 7773.1196 - mae: 7773.1196\n",
            "Epoch 25/200\n",
            "34/34 [==============================] - 0s 3ms/step - loss: 7733.8154 - mae: 7733.8154\n",
            "Epoch 26/200\n",
            "34/34 [==============================] - 0s 2ms/step - loss: 7681.6685 - mae: 7681.6685\n",
            "Epoch 27/200\n",
            "34/34 [==============================] - 0s 2ms/step - loss: 7638.7998 - mae: 7638.7998\n",
            "Epoch 28/200\n",
            "34/34 [==============================] - 0s 3ms/step - loss: 7595.4336 - mae: 7595.4336\n",
            "Epoch 29/200\n",
            "34/34 [==============================] - 0s 3ms/step - loss: 7551.7451 - mae: 7551.7451\n",
            "Epoch 30/200\n",
            "34/34 [==============================] - 0s 2ms/step - loss: 7507.3037 - mae: 7507.3037\n",
            "Epoch 31/200\n",
            "34/34 [==============================] - 0s 3ms/step - loss: 7462.3911 - mae: 7462.3911\n",
            "Epoch 32/200\n",
            "34/34 [==============================] - 0s 2ms/step - loss: 7417.1226 - mae: 7417.1226\n",
            "Epoch 33/200\n",
            "34/34 [==============================] - 0s 2ms/step - loss: 7371.5806 - mae: 7371.5806\n",
            "Epoch 34/200\n",
            "34/34 [==============================] - 0s 2ms/step - loss: 7322.0771 - mae: 7322.0771\n",
            "Epoch 35/200\n",
            "34/34 [==============================] - 0s 2ms/step - loss: 7273.9082 - mae: 7273.9082\n",
            "Epoch 36/200\n",
            "34/34 [==============================] - 0s 2ms/step - loss: 7222.4443 - mae: 7222.4443\n",
            "Epoch 37/200\n",
            "34/34 [==============================] - 0s 3ms/step - loss: 7170.6089 - mae: 7170.6089\n",
            "Epoch 38/200\n",
            "34/34 [==============================] - 0s 2ms/step - loss: 7117.9722 - mae: 7117.9722\n",
            "Epoch 39/200\n",
            "34/34 [==============================] - 0s 2ms/step - loss: 7061.6421 - mae: 7061.6421\n",
            "Epoch 40/200\n",
            "34/34 [==============================] - 0s 2ms/step - loss: 7004.5522 - mae: 7004.5522\n",
            "Epoch 41/200\n",
            "34/34 [==============================] - 0s 2ms/step - loss: 6946.2515 - mae: 6946.2515\n",
            "Epoch 42/200\n",
            "34/34 [==============================] - 0s 2ms/step - loss: 6884.9551 - mae: 6884.9551\n",
            "Epoch 43/200\n",
            "34/34 [==============================] - 0s 3ms/step - loss: 6820.1948 - mae: 6820.1948\n",
            "Epoch 44/200\n",
            "34/34 [==============================] - 0s 2ms/step - loss: 6751.3989 - mae: 6751.3989\n",
            "Epoch 45/200\n",
            "34/34 [==============================] - 0s 2ms/step - loss: 6681.7109 - mae: 6681.7109\n",
            "Epoch 46/200\n",
            "34/34 [==============================] - 0s 2ms/step - loss: 6609.9585 - mae: 6609.9585\n",
            "Epoch 47/200\n",
            "34/34 [==============================] - 0s 2ms/step - loss: 6535.5347 - mae: 6535.5347\n",
            "Epoch 48/200\n",
            "34/34 [==============================] - 0s 2ms/step - loss: 6453.8843 - mae: 6453.8843\n",
            "Epoch 49/200\n",
            "34/34 [==============================] - 0s 2ms/step - loss: 6371.8350 - mae: 6371.8350\n",
            "Epoch 50/200\n",
            "34/34 [==============================] - 0s 3ms/step - loss: 6282.4727 - mae: 6282.4727\n",
            "Epoch 51/200\n",
            "34/34 [==============================] - 0s 2ms/step - loss: 6194.2695 - mae: 6194.2695\n",
            "Epoch 52/200\n",
            "34/34 [==============================] - 0s 2ms/step - loss: 6096.7749 - mae: 6096.7749\n",
            "Epoch 53/200\n",
            "34/34 [==============================] - 0s 2ms/step - loss: 5996.4292 - mae: 5996.4292\n",
            "Epoch 54/200\n",
            "34/34 [==============================] - 0s 3ms/step - loss: 5893.1621 - mae: 5893.1621\n",
            "Epoch 55/200\n",
            "34/34 [==============================] - 0s 2ms/step - loss: 5781.2402 - mae: 5781.2402\n",
            "Epoch 56/200\n",
            "34/34 [==============================] - 0s 4ms/step - loss: 5668.2207 - mae: 5668.2207\n",
            "Epoch 57/200\n",
            "34/34 [==============================] - 0s 5ms/step - loss: 5549.8169 - mae: 5549.8169\n",
            "Epoch 58/200\n",
            "34/34 [==============================] - 0s 4ms/step - loss: 5431.2715 - mae: 5431.2715\n",
            "Epoch 59/200\n",
            "34/34 [==============================] - 0s 4ms/step - loss: 5306.9292 - mae: 5306.9292\n",
            "Epoch 60/200\n",
            "34/34 [==============================] - 0s 5ms/step - loss: 5181.8359 - mae: 5181.8359\n",
            "Epoch 61/200\n",
            "34/34 [==============================] - 0s 5ms/step - loss: 5053.6182 - mae: 5053.6182\n",
            "Epoch 62/200\n",
            "34/34 [==============================] - 0s 4ms/step - loss: 4920.1758 - mae: 4920.1758\n",
            "Epoch 63/200\n",
            "34/34 [==============================] - 0s 4ms/step - loss: 4791.5581 - mae: 4791.5581\n",
            "Epoch 64/200\n",
            "34/34 [==============================] - 0s 3ms/step - loss: 4659.9604 - mae: 4659.9604\n",
            "Epoch 65/200\n",
            "34/34 [==============================] - 0s 4ms/step - loss: 4536.8394 - mae: 4536.8394\n",
            "Epoch 66/200\n",
            "34/34 [==============================] - 0s 4ms/step - loss: 4421.9902 - mae: 4421.9902\n",
            "Epoch 67/200\n",
            "34/34 [==============================] - 0s 4ms/step - loss: 4317.9136 - mae: 4317.9136\n",
            "Epoch 68/200\n",
            "34/34 [==============================] - 0s 4ms/step - loss: 4213.8853 - mae: 4213.8853\n",
            "Epoch 69/200\n",
            "34/34 [==============================] - 0s 4ms/step - loss: 4119.0249 - mae: 4119.0249\n",
            "Epoch 70/200\n",
            "34/34 [==============================] - 0s 4ms/step - loss: 4032.0518 - mae: 4032.0518\n",
            "Epoch 71/200\n",
            "34/34 [==============================] - 0s 4ms/step - loss: 3953.5742 - mae: 3953.5742\n",
            "Epoch 72/200\n",
            "34/34 [==============================] - 0s 4ms/step - loss: 3886.0564 - mae: 3886.0564\n",
            "Epoch 73/200\n",
            "34/34 [==============================] - 0s 4ms/step - loss: 3831.9827 - mae: 3831.9827\n",
            "Epoch 74/200\n",
            "34/34 [==============================] - 0s 4ms/step - loss: 3784.9119 - mae: 3784.9119\n",
            "Epoch 75/200\n",
            "34/34 [==============================] - 0s 4ms/step - loss: 3751.7556 - mae: 3751.7556\n",
            "Epoch 76/200\n",
            "34/34 [==============================] - 0s 4ms/step - loss: 3727.7305 - mae: 3727.7305\n",
            "Epoch 77/200\n",
            "34/34 [==============================] - 0s 4ms/step - loss: 3707.5757 - mae: 3707.5757\n",
            "Epoch 78/200\n",
            "34/34 [==============================] - 0s 4ms/step - loss: 3694.8962 - mae: 3694.8962\n",
            "Epoch 79/200\n",
            "34/34 [==============================] - 0s 4ms/step - loss: 3685.4963 - mae: 3685.4963\n",
            "Epoch 80/200\n",
            "34/34 [==============================] - 0s 4ms/step - loss: 3677.8411 - mae: 3677.8411\n",
            "Epoch 81/200\n",
            "34/34 [==============================] - 0s 4ms/step - loss: 3672.9658 - mae: 3672.9658\n",
            "Epoch 82/200\n",
            "34/34 [==============================] - 0s 4ms/step - loss: 3670.3015 - mae: 3670.3015\n",
            "Epoch 83/200\n",
            "34/34 [==============================] - 0s 4ms/step - loss: 3664.7458 - mae: 3664.7458\n",
            "Epoch 84/200\n",
            "34/34 [==============================] - 0s 4ms/step - loss: 3662.4812 - mae: 3662.4812\n",
            "Epoch 85/200\n",
            "34/34 [==============================] - 0s 4ms/step - loss: 3660.2788 - mae: 3660.2788\n",
            "Epoch 86/200\n",
            "34/34 [==============================] - 0s 4ms/step - loss: 3658.7581 - mae: 3658.7581\n",
            "Epoch 87/200\n",
            "34/34 [==============================] - 0s 4ms/step - loss: 3655.9741 - mae: 3655.9741\n",
            "Epoch 88/200\n",
            "34/34 [==============================] - 0s 4ms/step - loss: 3653.3865 - mae: 3653.3865\n",
            "Epoch 89/200\n",
            "34/34 [==============================] - 0s 4ms/step - loss: 3652.4663 - mae: 3652.4663\n",
            "Epoch 90/200\n",
            "34/34 [==============================] - 0s 4ms/step - loss: 3650.5535 - mae: 3650.5535\n",
            "Epoch 91/200\n",
            "34/34 [==============================] - 0s 4ms/step - loss: 3647.4709 - mae: 3647.4709\n",
            "Epoch 92/200\n",
            "34/34 [==============================] - 0s 4ms/step - loss: 3646.8821 - mae: 3646.8821\n",
            "Epoch 93/200\n",
            "34/34 [==============================] - 0s 4ms/step - loss: 3644.4976 - mae: 3644.4976\n",
            "Epoch 94/200\n",
            "34/34 [==============================] - 0s 5ms/step - loss: 3642.8354 - mae: 3642.8354\n",
            "Epoch 95/200\n",
            "34/34 [==============================] - 0s 5ms/step - loss: 3643.6658 - mae: 3643.6658\n",
            "Epoch 96/200\n",
            "34/34 [==============================] - 0s 4ms/step - loss: 3640.9326 - mae: 3640.9326\n",
            "Epoch 97/200\n",
            "34/34 [==============================] - 0s 4ms/step - loss: 3638.2568 - mae: 3638.2568\n",
            "Epoch 98/200\n",
            "34/34 [==============================] - 0s 4ms/step - loss: 3636.3386 - mae: 3636.3386\n",
            "Epoch 99/200\n",
            "34/34 [==============================] - 0s 4ms/step - loss: 3635.4370 - mae: 3635.4370\n",
            "Epoch 100/200\n",
            "34/34 [==============================] - 0s 4ms/step - loss: 3634.3005 - mae: 3634.3005\n",
            "Epoch 101/200\n",
            "34/34 [==============================] - 0s 5ms/step - loss: 3631.2356 - mae: 3631.2356\n",
            "Epoch 102/200\n",
            "34/34 [==============================] - 0s 5ms/step - loss: 3628.6821 - mae: 3628.6821\n",
            "Epoch 103/200\n",
            "34/34 [==============================] - 0s 5ms/step - loss: 3627.5046 - mae: 3627.5046\n",
            "Epoch 104/200\n",
            "34/34 [==============================] - 0s 5ms/step - loss: 3625.2007 - mae: 3625.2007\n",
            "Epoch 105/200\n",
            "34/34 [==============================] - 0s 4ms/step - loss: 3623.4758 - mae: 3623.4758\n",
            "Epoch 106/200\n",
            "34/34 [==============================] - 0s 4ms/step - loss: 3622.1851 - mae: 3622.1851\n",
            "Epoch 107/200\n",
            "34/34 [==============================] - 0s 4ms/step - loss: 3621.4668 - mae: 3621.4668\n",
            "Epoch 108/200\n",
            "34/34 [==============================] - 0s 4ms/step - loss: 3619.0100 - mae: 3619.0100\n",
            "Epoch 109/200\n",
            "34/34 [==============================] - 0s 4ms/step - loss: 3619.1145 - mae: 3619.1145\n",
            "Epoch 110/200\n",
            "34/34 [==============================] - 0s 4ms/step - loss: 3616.0151 - mae: 3616.0151\n",
            "Epoch 111/200\n",
            "34/34 [==============================] - 0s 4ms/step - loss: 3613.1953 - mae: 3613.1953\n",
            "Epoch 112/200\n",
            "34/34 [==============================] - 0s 4ms/step - loss: 3611.2468 - mae: 3611.2471\n",
            "Epoch 113/200\n",
            "34/34 [==============================] - 0s 5ms/step - loss: 3609.5945 - mae: 3609.5945\n",
            "Epoch 114/200\n",
            "34/34 [==============================] - 0s 4ms/step - loss: 3608.7522 - mae: 3608.7522\n",
            "Epoch 115/200\n",
            "34/34 [==============================] - 0s 5ms/step - loss: 3607.0552 - mae: 3607.0552\n",
            "Epoch 116/200\n",
            "34/34 [==============================] - 0s 4ms/step - loss: 3605.4932 - mae: 3605.4932\n",
            "Epoch 117/200\n",
            "34/34 [==============================] - 0s 4ms/step - loss: 3602.5032 - mae: 3602.5032\n",
            "Epoch 118/200\n",
            "34/34 [==============================] - 0s 4ms/step - loss: 3598.6562 - mae: 3598.6562\n",
            "Epoch 119/200\n",
            "34/34 [==============================] - 0s 4ms/step - loss: 3600.3152 - mae: 3600.3152\n",
            "Epoch 120/200\n",
            "34/34 [==============================] - 0s 3ms/step - loss: 3598.0962 - mae: 3598.0962\n",
            "Epoch 121/200\n",
            "34/34 [==============================] - 0s 2ms/step - loss: 3592.8962 - mae: 3592.8962\n",
            "Epoch 122/200\n",
            "34/34 [==============================] - 0s 2ms/step - loss: 3592.2556 - mae: 3592.2556\n",
            "Epoch 123/200\n",
            "34/34 [==============================] - 0s 3ms/step - loss: 3590.1880 - mae: 3590.1880\n",
            "Epoch 124/200\n",
            "34/34 [==============================] - 0s 2ms/step - loss: 3587.8611 - mae: 3587.8611\n",
            "Epoch 125/200\n",
            "34/34 [==============================] - 0s 2ms/step - loss: 3585.7974 - mae: 3585.7974\n",
            "Epoch 126/200\n",
            "34/34 [==============================] - 0s 2ms/step - loss: 3584.6978 - mae: 3584.6978\n",
            "Epoch 127/200\n",
            "34/34 [==============================] - 0s 2ms/step - loss: 3585.0752 - mae: 3585.0752\n",
            "Epoch 128/200\n",
            "34/34 [==============================] - 0s 2ms/step - loss: 3581.7107 - mae: 3581.7107\n",
            "Epoch 129/200\n",
            "34/34 [==============================] - 0s 2ms/step - loss: 3580.1660 - mae: 3580.1660\n",
            "Epoch 130/200\n",
            "34/34 [==============================] - 0s 2ms/step - loss: 3576.5137 - mae: 3576.5137\n",
            "Epoch 131/200\n",
            "34/34 [==============================] - 0s 2ms/step - loss: 3575.2329 - mae: 3575.2329\n",
            "Epoch 132/200\n",
            "34/34 [==============================] - 0s 3ms/step - loss: 3572.1958 - mae: 3572.1958\n",
            "Epoch 133/200\n",
            "34/34 [==============================] - 0s 2ms/step - loss: 3570.6069 - mae: 3570.6069\n",
            "Epoch 134/200\n",
            "34/34 [==============================] - 0s 2ms/step - loss: 3568.6277 - mae: 3568.6277\n",
            "Epoch 135/200\n",
            "34/34 [==============================] - 0s 2ms/step - loss: 3566.5300 - mae: 3566.5300\n",
            "Epoch 136/200\n",
            "34/34 [==============================] - 0s 2ms/step - loss: 3565.1968 - mae: 3565.1968\n",
            "Epoch 137/200\n",
            "34/34 [==============================] - 0s 2ms/step - loss: 3563.5366 - mae: 3563.5366\n",
            "Epoch 138/200\n",
            "34/34 [==============================] - 0s 2ms/step - loss: 3561.4055 - mae: 3561.4055\n",
            "Epoch 139/200\n",
            "34/34 [==============================] - 0s 2ms/step - loss: 3560.5454 - mae: 3560.5454\n",
            "Epoch 140/200\n",
            "34/34 [==============================] - 0s 2ms/step - loss: 3558.6592 - mae: 3558.6592\n",
            "Epoch 141/200\n",
            "34/34 [==============================] - 0s 2ms/step - loss: 3558.5662 - mae: 3558.5662\n",
            "Epoch 142/200\n",
            "34/34 [==============================] - 0s 2ms/step - loss: 3555.4856 - mae: 3555.4856\n",
            "Epoch 143/200\n",
            "34/34 [==============================] - 0s 2ms/step - loss: 3555.8396 - mae: 3555.8396\n",
            "Epoch 144/200\n",
            "34/34 [==============================] - 0s 3ms/step - loss: 3552.7422 - mae: 3552.7422\n",
            "Epoch 145/200\n",
            "34/34 [==============================] - 0s 2ms/step - loss: 3551.0481 - mae: 3551.0481\n",
            "Epoch 146/200\n",
            "34/34 [==============================] - 0s 3ms/step - loss: 3551.0417 - mae: 3551.0417\n",
            "Epoch 147/200\n",
            "34/34 [==============================] - 0s 2ms/step - loss: 3548.6543 - mae: 3548.6543\n",
            "Epoch 148/200\n",
            "34/34 [==============================] - 0s 2ms/step - loss: 3547.3706 - mae: 3547.3706\n",
            "Epoch 149/200\n",
            "34/34 [==============================] - 0s 2ms/step - loss: 3544.5488 - mae: 3544.5488\n",
            "Epoch 150/200\n",
            "34/34 [==============================] - 0s 2ms/step - loss: 3544.3469 - mae: 3544.3469\n",
            "Epoch 151/200\n",
            "34/34 [==============================] - 0s 3ms/step - loss: 3542.4395 - mae: 3542.4395\n",
            "Epoch 152/200\n",
            "34/34 [==============================] - 0s 2ms/step - loss: 3541.0007 - mae: 3541.0007\n",
            "Epoch 153/200\n",
            "34/34 [==============================] - 0s 2ms/step - loss: 3539.3411 - mae: 3539.3411\n",
            "Epoch 154/200\n",
            "34/34 [==============================] - 0s 2ms/step - loss: 3540.8428 - mae: 3540.8428\n",
            "Epoch 155/200\n",
            "34/34 [==============================] - 0s 3ms/step - loss: 3538.2847 - mae: 3538.2847\n",
            "Epoch 156/200\n",
            "34/34 [==============================] - 0s 2ms/step - loss: 3536.4954 - mae: 3536.4954\n",
            "Epoch 157/200\n",
            "34/34 [==============================] - 0s 2ms/step - loss: 3535.0349 - mae: 3535.0349\n",
            "Epoch 158/200\n",
            "34/34 [==============================] - 0s 2ms/step - loss: 3531.9712 - mae: 3531.9712\n",
            "Epoch 159/200\n",
            "34/34 [==============================] - 0s 2ms/step - loss: 3530.3440 - mae: 3530.3440\n",
            "Epoch 160/200\n",
            "34/34 [==============================] - 0s 3ms/step - loss: 3530.0845 - mae: 3530.0845\n",
            "Epoch 161/200\n",
            "34/34 [==============================] - 0s 2ms/step - loss: 3526.9846 - mae: 3526.9846\n",
            "Epoch 162/200\n",
            "34/34 [==============================] - 0s 3ms/step - loss: 3526.5342 - mae: 3526.5342\n",
            "Epoch 163/200\n",
            "34/34 [==============================] - 0s 2ms/step - loss: 3524.6843 - mae: 3524.6843\n",
            "Epoch 164/200\n",
            "34/34 [==============================] - 0s 2ms/step - loss: 3524.1660 - mae: 3524.1660\n",
            "Epoch 165/200\n",
            "34/34 [==============================] - 0s 2ms/step - loss: 3521.8904 - mae: 3521.8904\n",
            "Epoch 166/200\n",
            "34/34 [==============================] - 0s 3ms/step - loss: 3520.3765 - mae: 3520.3765\n",
            "Epoch 167/200\n",
            "34/34 [==============================] - 0s 2ms/step - loss: 3519.4373 - mae: 3519.4373\n",
            "Epoch 168/200\n",
            "34/34 [==============================] - 0s 2ms/step - loss: 3518.1746 - mae: 3518.1746\n",
            "Epoch 169/200\n",
            "34/34 [==============================] - 0s 3ms/step - loss: 3516.9875 - mae: 3516.9875\n",
            "Epoch 170/200\n",
            "34/34 [==============================] - 0s 3ms/step - loss: 3515.6387 - mae: 3515.6387\n",
            "Epoch 171/200\n",
            "34/34 [==============================] - 0s 2ms/step - loss: 3515.2705 - mae: 3515.2705\n",
            "Epoch 172/200\n",
            "34/34 [==============================] - 0s 2ms/step - loss: 3513.8096 - mae: 3513.8096\n",
            "Epoch 173/200\n",
            "34/34 [==============================] - 0s 2ms/step - loss: 3512.0312 - mae: 3512.0312\n",
            "Epoch 174/200\n",
            "34/34 [==============================] - 0s 2ms/step - loss: 3511.0234 - mae: 3511.0234\n",
            "Epoch 175/200\n",
            "34/34 [==============================] - 0s 3ms/step - loss: 3509.6597 - mae: 3509.6597\n",
            "Epoch 176/200\n",
            "34/34 [==============================] - 0s 2ms/step - loss: 3509.8010 - mae: 3509.8010\n",
            "Epoch 177/200\n",
            "34/34 [==============================] - 0s 3ms/step - loss: 3509.9788 - mae: 3509.9788\n",
            "Epoch 178/200\n",
            "34/34 [==============================] - 0s 3ms/step - loss: 3507.5027 - mae: 3507.5027\n",
            "Epoch 179/200\n",
            "34/34 [==============================] - 0s 3ms/step - loss: 3509.6606 - mae: 3509.6606\n",
            "Epoch 180/200\n",
            "34/34 [==============================] - 0s 2ms/step - loss: 3504.4534 - mae: 3504.4534\n",
            "Epoch 181/200\n",
            "34/34 [==============================] - 0s 2ms/step - loss: 3502.3716 - mae: 3502.3716\n",
            "Epoch 182/200\n",
            "34/34 [==============================] - 0s 2ms/step - loss: 3501.7671 - mae: 3501.7671\n",
            "Epoch 183/200\n",
            "34/34 [==============================] - 0s 2ms/step - loss: 3499.9006 - mae: 3499.9006\n",
            "Epoch 184/200\n",
            "34/34 [==============================] - 0s 2ms/step - loss: 3499.1099 - mae: 3499.1099\n",
            "Epoch 185/200\n",
            "34/34 [==============================] - 0s 2ms/step - loss: 3498.5957 - mae: 3498.5957\n",
            "Epoch 186/200\n",
            "34/34 [==============================] - 0s 2ms/step - loss: 3496.5515 - mae: 3496.5515\n",
            "Epoch 187/200\n",
            "34/34 [==============================] - 0s 2ms/step - loss: 3496.4004 - mae: 3496.4004\n",
            "Epoch 188/200\n",
            "34/34 [==============================] - 0s 3ms/step - loss: 3493.8274 - mae: 3493.8274\n",
            "Epoch 189/200\n",
            "34/34 [==============================] - 0s 2ms/step - loss: 3492.1213 - mae: 3492.1213\n",
            "Epoch 190/200\n",
            "34/34 [==============================] - 0s 2ms/step - loss: 3493.9597 - mae: 3493.9597\n",
            "Epoch 191/200\n",
            "34/34 [==============================] - 0s 3ms/step - loss: 3498.7168 - mae: 3498.7168\n",
            "Epoch 192/200\n",
            "34/34 [==============================] - 0s 3ms/step - loss: 3489.0425 - mae: 3489.0425\n",
            "Epoch 193/200\n",
            "34/34 [==============================] - 0s 2ms/step - loss: 3489.0757 - mae: 3489.0757\n",
            "Epoch 194/200\n",
            "34/34 [==============================] - 0s 2ms/step - loss: 3485.9150 - mae: 3485.9150\n",
            "Epoch 195/200\n",
            "34/34 [==============================] - 0s 2ms/step - loss: 3485.2764 - mae: 3485.2764\n",
            "Epoch 196/200\n",
            "34/34 [==============================] - 0s 3ms/step - loss: 3486.2930 - mae: 3486.2930\n",
            "Epoch 197/200\n",
            "34/34 [==============================] - 0s 2ms/step - loss: 3483.1409 - mae: 3483.1409\n",
            "Epoch 198/200\n",
            "34/34 [==============================] - 0s 2ms/step - loss: 3481.6934 - mae: 3481.6934\n",
            "Epoch 199/200\n",
            "34/34 [==============================] - 0s 3ms/step - loss: 3480.5562 - mae: 3480.5562\n",
            "Epoch 200/200\n",
            "34/34 [==============================] - 0s 3ms/step - loss: 3481.3096 - mae: 3481.3096\n"
          ]
        }
      ]
    },
    {
      "cell_type": "code",
      "source": [
        "insurance_model_4.evaluate(X_test_normal, y_test)"
      ],
      "metadata": {
        "colab": {
          "base_uri": "https://localhost:8080/"
        },
        "id": "FXJyAIvrvnTS",
        "outputId": "0cb03c1a-36ea-4982-9caf-cf7163a6c147"
      },
      "execution_count": 263,
      "outputs": [
        {
          "output_type": "stream",
          "name": "stdout",
          "text": [
            "9/9 [==============================] - 0s 4ms/step - loss: 3167.4758 - mae: 3167.4758\n"
          ]
        },
        {
          "output_type": "execute_result",
          "data": {
            "text/plain": [
              "[3167.475830078125, 3167.475830078125]"
            ]
          },
          "metadata": {},
          "execution_count": 263
        }
      ]
    },
    {
      "cell_type": "code",
      "source": [
        "# when we normalize, model converges faster so, no need large epochs"
      ],
      "metadata": {
        "id": "a5joPwGXwMzL"
      },
      "execution_count": 264,
      "outputs": []
    },
    {
      "cell_type": "code",
      "source": [],
      "metadata": {
        "id": "mO_xH081xAYa"
      },
      "execution_count": null,
      "outputs": []
    }
  ]
}