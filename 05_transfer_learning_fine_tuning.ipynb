{
  "nbformat": 4,
  "nbformat_minor": 0,
  "metadata": {
    "colab": {
      "provenance": []
    },
    "kernelspec": {
      "name": "python3",
      "display_name": "Python 3"
    },
    "language_info": {
      "name": "python"
    },
    "gpuClass": "standard",
    "accelerator": "GPU"
  },
  "cells": [
    {
      "cell_type": "code",
      "execution_count": 2,
      "metadata": {
        "colab": {
          "base_uri": "https://localhost:8080/"
        },
        "id": "U-sthIHDmRdX",
        "outputId": "b1d5725d-f460-418c-9acc-a79ffc9b00fe"
      },
      "outputs": [
        {
          "output_type": "stream",
          "name": "stdout",
          "text": [
            "--2023-02-22 06:11:54--  https://raw.githubusercontent.com/mrdbourke/tensorflow-deep-learning/main/extras/helper_functions.py\n",
            "Resolving raw.githubusercontent.com (raw.githubusercontent.com)... 185.199.109.133, 185.199.111.133, 185.199.108.133, ...\n",
            "Connecting to raw.githubusercontent.com (raw.githubusercontent.com)|185.199.109.133|:443... connected.\n",
            "HTTP request sent, awaiting response... 200 OK\n",
            "Length: 10246 (10K) [text/plain]\n",
            "Saving to: ‘helper_functions.py’\n",
            "\n",
            "\rhelper_functions.py   0%[                    ]       0  --.-KB/s               \rhelper_functions.py 100%[===================>]  10.01K  --.-KB/s    in 0s      \n",
            "\n",
            "2023-02-22 06:11:54 (64.2 MB/s) - ‘helper_functions.py’ saved [10246/10246]\n",
            "\n"
          ]
        }
      ],
      "source": [
        "# Creating helper functions\n",
        "# Get helper_functions.py script from course GitHub\n",
        "!wget https://raw.githubusercontent.com/mrdbourke/tensorflow-deep-learning/main/extras/helper_functions.py \n",
        "\n",
        "# Import helper functions we're going to use\n",
        "from helper_functions import create_tensorboard_callback, plot_loss_curves, unzip_data, walk_through_dir"
      ]
    },
    {
      "cell_type": "markdown",
      "source": [
        "## In this notebook, we're going to continue to work with smaller subsets of the data, except this time we'll have a look at how we can use: \n",
        "* the in-built pretrained models(not in hub but in tensorflow keras itself) within the `tf.keras.applications` module as well as how to fine-tune them to our own custom dataset.\n",
        "* We'll also practice using a new but similar dataloader function to what we've used before, `image_dataset_from_directory()` which is part of the tf.keras.preprocessing module. (not `image data generator`)\n",
        "\n",
        "* Finally, we'll also be practicing using the `Keras Functional API` for building deep learning models. The `Functional API` is a more flexible way to create models than the `tf.keras.Sequential API`.\n",
        "\n"
      ],
      "metadata": {
        "id": "mR_ffQy1nlEH"
      }
    },
    {
      "cell_type": "code",
      "source": [
        "# Get 10% of the data of the 10 classes\n",
        "!wget https://storage.googleapis.com/ztm_tf_course/food_vision/10_food_classes_10_percent.zip \n",
        "\n",
        "unzip_data(\"10_food_classes_10_percent.zip\")"
      ],
      "metadata": {
        "colab": {
          "base_uri": "https://localhost:8080/"
        },
        "id": "ZT1BM2Pkmp9t",
        "outputId": "64aabfeb-7ac5-472a-fe49-64281f2de6a2"
      },
      "execution_count": 3,
      "outputs": [
        {
          "output_type": "stream",
          "name": "stdout",
          "text": [
            "--2023-02-22 06:12:03--  https://storage.googleapis.com/ztm_tf_course/food_vision/10_food_classes_10_percent.zip\n",
            "Resolving storage.googleapis.com (storage.googleapis.com)... 142.250.141.128, 142.251.2.128, 2607:f8b0:4023:c0b::80, ...\n",
            "Connecting to storage.googleapis.com (storage.googleapis.com)|142.250.141.128|:443... connected.\n",
            "HTTP request sent, awaiting response... 200 OK\n",
            "Length: 168546183 (161M) [application/zip]\n",
            "Saving to: ‘10_food_classes_10_percent.zip’\n",
            "\n",
            "10_food_classes_10_ 100%[===================>] 160.74M   144MB/s    in 1.1s    \n",
            "\n",
            "2023-02-22 06:12:05 (144 MB/s) - ‘10_food_classes_10_percent.zip’ saved [168546183/168546183]\n",
            "\n"
          ]
        }
      ]
    },
    {
      "cell_type": "code",
      "source": [
        "# Walk through 10 percent data directory and list number of files\n",
        "walk_through_dir(\"10_food_classes_10_percent\")"
      ],
      "metadata": {
        "colab": {
          "base_uri": "https://localhost:8080/"
        },
        "id": "ZKWl_-6omuLL",
        "outputId": "952d6d6a-0275-40d5-880e-1ac32288bc0e"
      },
      "execution_count": 4,
      "outputs": [
        {
          "output_type": "stream",
          "name": "stdout",
          "text": [
            "There are 2 directories and 0 images in '10_food_classes_10_percent'.\n",
            "There are 10 directories and 0 images in '10_food_classes_10_percent/test'.\n",
            "There are 0 directories and 250 images in '10_food_classes_10_percent/test/grilled_salmon'.\n",
            "There are 0 directories and 250 images in '10_food_classes_10_percent/test/ice_cream'.\n",
            "There are 0 directories and 250 images in '10_food_classes_10_percent/test/chicken_wings'.\n",
            "There are 0 directories and 250 images in '10_food_classes_10_percent/test/hamburger'.\n",
            "There are 0 directories and 250 images in '10_food_classes_10_percent/test/steak'.\n",
            "There are 0 directories and 250 images in '10_food_classes_10_percent/test/sushi'.\n",
            "There are 0 directories and 250 images in '10_food_classes_10_percent/test/fried_rice'.\n",
            "There are 0 directories and 250 images in '10_food_classes_10_percent/test/chicken_curry'.\n",
            "There are 0 directories and 250 images in '10_food_classes_10_percent/test/pizza'.\n",
            "There are 0 directories and 250 images in '10_food_classes_10_percent/test/ramen'.\n",
            "There are 10 directories and 0 images in '10_food_classes_10_percent/train'.\n",
            "There are 0 directories and 75 images in '10_food_classes_10_percent/train/grilled_salmon'.\n",
            "There are 0 directories and 75 images in '10_food_classes_10_percent/train/ice_cream'.\n",
            "There are 0 directories and 75 images in '10_food_classes_10_percent/train/chicken_wings'.\n",
            "There are 0 directories and 75 images in '10_food_classes_10_percent/train/hamburger'.\n",
            "There are 0 directories and 75 images in '10_food_classes_10_percent/train/steak'.\n",
            "There are 0 directories and 75 images in '10_food_classes_10_percent/train/sushi'.\n",
            "There are 0 directories and 75 images in '10_food_classes_10_percent/train/fried_rice'.\n",
            "There are 0 directories and 75 images in '10_food_classes_10_percent/train/chicken_curry'.\n",
            "There are 0 directories and 75 images in '10_food_classes_10_percent/train/pizza'.\n",
            "There are 0 directories and 75 images in '10_food_classes_10_percent/train/ramen'.\n"
          ]
        }
      ]
    },
    {
      "cell_type": "code",
      "source": [
        "# Create training and test directories\n",
        "train_dir = \"10_food_classes_10_percent/train/\"\n",
        "test_dir = \"10_food_classes_10_percent/test/\""
      ],
      "metadata": {
        "id": "Fi9cZ8X7mxaA"
      },
      "execution_count": 5,
      "outputs": []
    },
    {
      "cell_type": "code",
      "source": [
        "# Create data inputs\n",
        "import tensorflow as tf\n",
        "IMG_SIZE = (224, 224) # define image size\n",
        "train_data_10_percent = tf.keras.preprocessing.image_dataset_from_directory(directory=train_dir,\n",
        "                                                                            image_size=IMG_SIZE,\n",
        "                                                                            label_mode=\"categorical\", # what type are the labels?\n",
        "                                                                            batch_size=32) # batch_size is 32 by default, this is generally a good number\n",
        "test_data_10_percent = tf.keras.preprocessing.image_dataset_from_directory(directory=test_dir,\n",
        "                                                                           image_size=IMG_SIZE,\n",
        "                                                                           label_mode=\"categorical\")\n",
        "# we use categorical not sparse in image loading, labels class are one hot encoded"
      ],
      "metadata": {
        "colab": {
          "base_uri": "https://localhost:8080/"
        },
        "id": "I6VHdRTkm3HB",
        "outputId": "602d81bc-3529-4c9f-fce2-2dbda9f0698d"
      },
      "execution_count": 6,
      "outputs": [
        {
          "output_type": "stream",
          "name": "stdout",
          "text": [
            "Found 750 files belonging to 10 classes.\n",
            "Found 2500 files belonging to 10 classes.\n"
          ]
        }
      ]
    },
    {
      "cell_type": "code",
      "source": [
        "train_data_10_percent.class_names"
      ],
      "metadata": {
        "colab": {
          "base_uri": "https://localhost:8080/"
        },
        "id": "EM_M3gULnWDO",
        "outputId": "6987033e-e53f-4974-c9dc-01444fbd9f6b"
      },
      "execution_count": 7,
      "outputs": [
        {
          "output_type": "execute_result",
          "data": {
            "text/plain": [
              "['chicken_curry',\n",
              " 'chicken_wings',\n",
              " 'fried_rice',\n",
              " 'grilled_salmon',\n",
              " 'hamburger',\n",
              " 'ice_cream',\n",
              " 'pizza',\n",
              " 'ramen',\n",
              " 'steak',\n",
              " 'sushi']"
            ]
          },
          "metadata": {},
          "execution_count": 7
        }
      ]
    },
    {
      "cell_type": "code",
      "source": [
        "train_data_10_percent"
      ],
      "metadata": {
        "colab": {
          "base_uri": "https://localhost:8080/"
        },
        "id": "WnFLEMdg1wrL",
        "outputId": "bfa5469c-b6af-46df-d302-3d2dd0ea2aed"
      },
      "execution_count": 8,
      "outputs": [
        {
          "output_type": "execute_result",
          "data": {
            "text/plain": [
              "<BatchDataset element_spec=(TensorSpec(shape=(None, 224, 224, 3), dtype=tf.float32, name=None), TensorSpec(shape=(None, 10), dtype=tf.float32, name=None))>"
            ]
          },
          "metadata": {},
          "execution_count": 8
        }
      ]
    },
    {
      "cell_type": "code",
      "source": [
        "# See an example batch of data\n",
        "for images, labels in train_data_10_percent.take(1):\n",
        "  print(images, labels)\n",
        "# Or if we wanted to see an example batch of data, we could use the take() method.\n",
        "\n"
      ],
      "metadata": {
        "colab": {
          "base_uri": "https://localhost:8080/"
        },
        "id": "vhOg_CoX2Ih9",
        "outputId": "32afa3b8-d928-43e8-ee5d-7dd997d44ef6"
      },
      "execution_count": 9,
      "outputs": [
        {
          "output_type": "stream",
          "name": "stdout",
          "text": [
            "tf.Tensor(\n",
            "[[[[0.00000000e+00 0.00000000e+00 0.00000000e+00]\n",
            "   [0.00000000e+00 0.00000000e+00 0.00000000e+00]\n",
            "   [0.00000000e+00 0.00000000e+00 0.00000000e+00]\n",
            "   ...\n",
            "   [6.49897842e+01 7.09897842e+01 6.09897804e+01]\n",
            "   [6.39081688e+01 6.99081650e+01 5.99081688e+01]\n",
            "   [6.11734810e+01 6.71734772e+01 5.71734810e+01]]\n",
            "\n",
            "  [[0.00000000e+00 0.00000000e+00 0.00000000e+00]\n",
            "   [0.00000000e+00 0.00000000e+00 0.00000000e+00]\n",
            "   [0.00000000e+00 0.00000000e+00 0.00000000e+00]\n",
            "   ...\n",
            "   [6.39591866e+01 6.99591827e+01 5.79591866e+01]\n",
            "   [6.59286041e+01 7.19286041e+01 5.99286041e+01]\n",
            "   [6.23826714e+01 6.83826675e+01 5.63826714e+01]]\n",
            "\n",
            "  [[0.00000000e+00 0.00000000e+00 0.00000000e+00]\n",
            "   [0.00000000e+00 0.00000000e+00 0.00000000e+00]\n",
            "   [0.00000000e+00 0.00000000e+00 0.00000000e+00]\n",
            "   ...\n",
            "   [6.88520050e+01 7.28520050e+01 5.76836472e+01]\n",
            "   [6.56275558e+01 6.96275558e+01 5.42856979e+01]\n",
            "   [6.70102005e+01 7.10102005e+01 5.60153084e+01]]\n",
            "\n",
            "  ...\n",
            "\n",
            "  [[8.95969849e+01 8.10918732e+01 4.65306969e+01]\n",
            "   [7.87141571e+01 6.87141571e+01 3.34998894e+01]\n",
            "   [9.24233856e+01 8.24233856e+01 4.72091255e+01]\n",
            "   ...\n",
            "   [1.62142334e+01 1.30458546e+01 0.00000000e+00]\n",
            "   [1.58264542e+01 1.34999695e+01 1.98963106e-01]\n",
            "   [1.45713501e+01 1.23570862e+01 7.65237510e-02]]\n",
            "\n",
            "  [[8.67806396e+01 7.77806396e+01 4.67806358e+01]\n",
            "   [8.79999771e+01 7.69999771e+01 4.68673210e+01]\n",
            "   [9.00255127e+01 7.90255127e+01 4.86275597e+01]\n",
            "   ...\n",
            "   [1.27550869e+01 1.08010149e+01 0.00000000e+00]\n",
            "   [1.09948673e+01 1.17959394e+01 0.00000000e+00]\n",
            "   [8.66836834e+00 9.66836834e+00 0.00000000e+00]]\n",
            "\n",
            "  [[9.06069870e+01 8.16069870e+01 5.26069870e+01]\n",
            "   [8.99032364e+01 7.89032364e+01 5.09032326e+01]\n",
            "   [9.21582184e+01 8.11582184e+01 5.31582184e+01]\n",
            "   ...\n",
            "   [1.37908354e+01 1.24337187e+01 0.00000000e+00]\n",
            "   [1.26429443e+01 1.36429443e+01 3.31671268e-01]\n",
            "   [9.78582764e+00 1.17858276e+01 1.27565026e-01]]]\n",
            "\n",
            "\n",
            " [[[2.07000000e+02 1.98000000e+02 1.83000000e+02]\n",
            "   [2.06642853e+02 1.97642853e+02 1.82642853e+02]\n",
            "   [2.08076523e+02 1.98862244e+02 1.84505096e+02]\n",
            "   ...\n",
            "   [1.86719421e+02 1.75147949e+02 1.61576477e+02]\n",
            "   [1.82571396e+02 1.70571396e+02 1.56571396e+02]\n",
            "   [1.80943893e+02 1.68943893e+02 1.54943893e+02]]\n",
            "\n",
            "  [[2.08928574e+02 1.99928574e+02 1.84928574e+02]\n",
            "   [2.09857147e+02 2.00857147e+02 1.85857147e+02]\n",
            "   [2.07785721e+02 1.98571426e+02 1.84214279e+02]\n",
            "   ...\n",
            "   [1.91372467e+02 1.82372467e+02 1.67372467e+02]\n",
            "   [1.91566330e+02 1.79566330e+02 1.63566330e+02]\n",
            "   [1.91831665e+02 1.79831665e+02 1.63831665e+02]]\n",
            "\n",
            "  [[2.10214279e+02 2.01000000e+02 1.86642853e+02]\n",
            "   [2.10000000e+02 2.00785721e+02 1.86428574e+02]\n",
            "   [2.08831635e+02 1.98831635e+02 1.86831635e+02]\n",
            "   ...\n",
            "   [1.66739822e+02 1.57831650e+02 1.40785736e+02]\n",
            "   [1.67000000e+02 1.58214279e+02 1.40785706e+02]\n",
            "   [1.69928604e+02 1.58785751e+02 1.42142883e+02]]\n",
            "\n",
            "  ...\n",
            "\n",
            "  [[2.06561234e+02 2.01561234e+02 1.98561234e+02]\n",
            "   [2.04744919e+02 1.99744919e+02 1.96744919e+02]\n",
            "   [2.06112274e+02 2.01112274e+02 1.98112274e+02]\n",
            "   ...\n",
            "   [1.88428528e+02 1.74428528e+02 1.61428528e+02]\n",
            "   [1.88413223e+02 1.74413223e+02 1.61413223e+02]\n",
            "   [1.89000000e+02 1.75000000e+02 1.62000000e+02]]\n",
            "\n",
            "  [[2.03260208e+02 1.98260208e+02 1.95260208e+02]\n",
            "   [2.07928574e+02 2.02928574e+02 1.99928574e+02]\n",
            "   [2.04943863e+02 1.99943863e+02 1.96943863e+02]\n",
            "   ...\n",
            "   [1.92928497e+02 1.78928497e+02 1.65928497e+02]\n",
            "   [1.89857117e+02 1.75857117e+02 1.62857117e+02]\n",
            "   [1.88000000e+02 1.74000000e+02 1.61000000e+02]]\n",
            "\n",
            "  [[2.05382721e+02 2.00382721e+02 1.97382721e+02]\n",
            "   [2.05617310e+02 2.00617310e+02 1.97617310e+02]\n",
            "   [2.05561279e+02 2.00561279e+02 1.97561279e+02]\n",
            "   ...\n",
            "   [1.88428711e+02 1.74428711e+02 1.61428711e+02]\n",
            "   [1.88071533e+02 1.74071533e+02 1.61071533e+02]\n",
            "   [1.88714355e+02 1.74714355e+02 1.61714355e+02]]]\n",
            "\n",
            "\n",
            " [[[1.36397964e+02 1.77397964e+02 2.33397964e+02]\n",
            "   [1.37428558e+02 1.78428558e+02 2.32428558e+02]\n",
            "   [1.40270401e+02 1.79698975e+02 2.34484695e+02]\n",
            "   ...\n",
            "   [7.01581573e+01 8.31530457e+01 1.21091789e+02]\n",
            "   [6.64438248e+01 7.62499084e+01 1.10612129e+02]\n",
            "   [7.26071167e+01 8.05356903e+01 1.13433655e+02]]\n",
            "\n",
            "  [[1.27658157e+02 1.68658157e+02 2.24658157e+02]\n",
            "   [1.29510208e+02 1.70510208e+02 2.24510208e+02]\n",
            "   [1.31045914e+02 1.70474487e+02 2.25260208e+02]\n",
            "   ...\n",
            "   [6.98979797e+01 8.76683884e+01 1.27198990e+02]\n",
            "   [7.26071548e+01 8.77346573e+01 1.26535690e+02]\n",
            "   [7.20969391e+01 8.78826523e+01 1.23765305e+02]]\n",
            "\n",
            "  [[1.29479599e+02 1.70479599e+02 2.24479599e+02]\n",
            "   [1.29933670e+02 1.70505096e+02 2.24719391e+02]\n",
            "   [1.30040802e+02 1.69377548e+02 2.24209183e+02]\n",
            "   ...\n",
            "   [6.80969315e+01 8.32653198e+01 1.20979599e+02]\n",
            "   [6.64132538e+01 8.37703934e+01 1.20698967e+02]\n",
            "   [6.33469467e+01 8.09183731e+01 1.18061234e+02]]\n",
            "\n",
            "  ...\n",
            "\n",
            "  [[2.25785736e+02 1.85647995e+02 1.50780594e+02]\n",
            "   [2.25673462e+02 1.82673462e+02 1.49015259e+02]\n",
            "   [2.21877548e+02 1.78260178e+02 1.43474442e+02]\n",
            "   ...\n",
            "   [9.74237595e+01 8.46380234e+01 6.49952316e+01]\n",
            "   [9.98113403e+01 8.70256042e+01 6.73828125e+01]\n",
            "   [9.98979416e+01 8.73264694e+01 6.81122055e+01]]\n",
            "\n",
            "  [[2.25882629e+02 1.86882629e+02 1.47076492e+02]\n",
            "   [2.24857162e+02 1.82857162e+02 1.44571411e+02]\n",
            "   [2.22071442e+02 1.78556152e+02 1.39142838e+02]\n",
            "   ...\n",
            "   [1.03397942e+02 8.80408249e+01 7.18265305e+01]\n",
            "   [9.94694214e+01 8.64694214e+01 6.94694214e+01]\n",
            "   [9.56839218e+01 8.26839218e+01 6.56839218e+01]]\n",
            "\n",
            "  [[2.24357147e+02 1.85357147e+02 1.42357147e+02]\n",
            "   [2.25857147e+02 1.84260239e+02 1.41454056e+02]\n",
            "   [2.24000000e+02 1.80867294e+02 1.37933640e+02]\n",
            "   ...\n",
            "   [1.07199272e+02 9.18421555e+01 7.66278610e+01]\n",
            "   [1.05765610e+02 9.27656097e+01 7.67656097e+01]\n",
            "   [1.17612335e+02 1.04612335e+02 8.76123352e+01]]]\n",
            "\n",
            "\n",
            " ...\n",
            "\n",
            "\n",
            " [[[1.00000000e+01 7.00000000e+00 2.00000000e+00]\n",
            "   [1.00000000e+01 7.00000000e+00 2.00000000e+00]\n",
            "   [1.00000000e+01 7.00000000e+00 2.00000000e+00]\n",
            "   ...\n",
            "   [1.00000000e+00 1.00000000e+00 3.00000000e+00]\n",
            "   [1.00000000e+00 1.00000000e+00 3.00000000e+00]\n",
            "   [1.00000000e+00 1.00000000e+00 3.00000000e+00]]\n",
            "\n",
            "  [[1.00000000e+01 7.00000000e+00 2.00000000e+00]\n",
            "   [1.00000000e+01 7.00000000e+00 2.00000000e+00]\n",
            "   [1.00000000e+01 7.00000000e+00 2.00000000e+00]\n",
            "   ...\n",
            "   [1.00000000e+00 1.00000000e+00 3.00000000e+00]\n",
            "   [1.00000000e+00 1.00000000e+00 3.00000000e+00]\n",
            "   [1.00000000e+00 1.00000000e+00 3.00000000e+00]]\n",
            "\n",
            "  [[1.00000000e+01 7.00000000e+00 2.00000000e+00]\n",
            "   [1.00000000e+01 7.00000000e+00 2.00000000e+00]\n",
            "   [1.00000000e+01 7.00000000e+00 2.00000000e+00]\n",
            "   ...\n",
            "   [1.00000000e+00 1.00000000e+00 3.00000000e+00]\n",
            "   [1.00000000e+00 1.00000000e+00 3.00000000e+00]\n",
            "   [1.00000000e+00 1.00000000e+00 3.00000000e+00]]\n",
            "\n",
            "  ...\n",
            "\n",
            "  [[1.79785736e+02 1.70785736e+02 1.63785736e+02]\n",
            "   [1.80198959e+02 1.71198959e+02 1.64198959e+02]\n",
            "   [1.81168365e+02 1.72168365e+02 1.65168365e+02]\n",
            "   ...\n",
            "   [1.56811142e+02 1.51045914e+02 1.45045914e+02]\n",
            "   [1.56642792e+02 1.51214264e+02 1.45214264e+02]\n",
            "   [1.57428528e+02 1.52000000e+02 1.46000000e+02]]\n",
            "\n",
            "  [[1.80260193e+02 1.71260193e+02 1.64260193e+02]\n",
            "   [1.79066330e+02 1.70066330e+02 1.63066330e+02]\n",
            "   [1.81142838e+02 1.72142838e+02 1.65142838e+02]\n",
            "   ...\n",
            "   [1.57642792e+02 1.52214264e+02 1.46214264e+02]\n",
            "   [1.55857117e+02 1.50857117e+02 1.44857117e+02]\n",
            "   [1.53928558e+02 1.48928558e+02 1.42928558e+02]]\n",
            "\n",
            "  [[1.77642822e+02 1.68642822e+02 1.61642822e+02]\n",
            "   [1.79928574e+02 1.70928574e+02 1.63928574e+02]\n",
            "   [1.79923462e+02 1.70923462e+02 1.63923462e+02]\n",
            "   ...\n",
            "   [1.55928436e+02 1.50499908e+02 1.44499908e+02]\n",
            "   [1.53974487e+02 1.48974487e+02 1.42974487e+02]\n",
            "   [1.52000000e+02 1.49000000e+02 1.42000000e+02]]]\n",
            "\n",
            "\n",
            " [[[2.81020412e+01 9.22959137e+00 6.63265228e+00]\n",
            "   [2.94744911e+01 9.28061199e+00 4.68367290e+00]\n",
            "   [3.13826542e+01 8.95918465e+00 3.59183741e+00]\n",
            "   ...\n",
            "   [2.73774548e+01 6.59171820e+00 1.66830635e+00]\n",
            "   [2.94490757e+01 9.44907475e+00 2.44907498e+00]\n",
            "   [4.81277390e+01 2.51277390e+01 1.91277390e+01]]\n",
            "\n",
            "  [[3.86989822e+01 1.58418388e+01 9.96428776e+00]\n",
            "   [3.77908173e+01 1.29438782e+01 6.02040815e+00]\n",
            "   [3.87959213e+01 1.15408182e+01 3.19387794e+00]\n",
            "   ...\n",
            "   [2.60714073e+01 5.28567123e+00 0.00000000e+00]\n",
            "   [3.22194405e+01 1.22194414e+01 5.21944141e+00]\n",
            "   [4.05969772e+01 1.75969753e+01 1.15969753e+01]]\n",
            "\n",
            "  [[5.27704163e+01 1.96989841e+01 6.84694195e+00]\n",
            "   [5.92602081e+01 2.52602100e+01 9.53061676e+00]\n",
            "   [6.63214340e+01 2.92500038e+01 1.23928604e+01]\n",
            "   ...\n",
            "   [2.42142868e+01 3.21428585e+00 0.00000000e+00]\n",
            "   [3.94847832e+01 1.64847832e+01 1.04847822e+01]\n",
            "   [4.90663185e+01 2.60663185e+01 1.96377468e+01]]\n",
            "\n",
            "  ...\n",
            "\n",
            "  [[1.79852097e+02 1.21494888e+02 6.12806206e+01]\n",
            "   [1.96754929e+02 1.41586563e+02 7.76426849e+01]\n",
            "   [1.96642944e+02 1.43428680e+02 7.78572083e+01]\n",
            "   ...\n",
            "   [1.50025406e+02 4.20254097e+01 4.15968819e+01]\n",
            "   [1.49744781e+02 4.57447853e+01 4.43162575e+01]\n",
            "   [1.36622498e+02 3.46224976e+01 3.21939697e+01]]\n",
            "\n",
            "  [[1.91668411e+02 1.31668411e+02 7.16684113e+01]\n",
            "   [2.03234634e+02 1.44959091e+02 8.20305176e+01]\n",
            "   [1.98015305e+02 1.42872421e+02 7.58724289e+01]\n",
            "   ...\n",
            "   [1.46826385e+02 3.67804565e+01 3.77957649e+01]\n",
            "   [1.41153091e+02 3.51530914e+01 3.50867538e+01]\n",
            "   [1.41990082e+02 3.98982353e+01 3.79441605e+01]]\n",
            "\n",
            "  [[1.79173172e+02 1.19173164e+02 5.91731644e+01]\n",
            "   [1.89535980e+02 1.29535980e+02 6.66074066e+01]\n",
            "   [1.87923050e+02 1.30361771e+02 6.36424026e+01]\n",
            "   ...\n",
            "   [1.52423508e+02 4.09387665e+01 4.44336777e+01]\n",
            "   [1.45122391e+02 3.63367081e+01 3.92652664e+01]\n",
            "   [1.43316132e+02 3.93161354e+01 4.03161354e+01]]]\n",
            "\n",
            "\n",
            " [[[2.49489807e+02 1.88102051e+02 1.05357140e+02]\n",
            "   [2.37173462e+02 1.73979599e+02 8.71734695e+01]\n",
            "   [2.39505096e+02 1.72637756e+02 8.26530609e+01]\n",
            "   ...\n",
            "   [1.36147781e+02 1.00933510e+02 1.04504982e+02]\n",
            "   [1.45275543e+02 1.14418434e+02 1.19346992e+02]\n",
            "   [1.41147125e+02 1.13320641e+02 1.18320641e+02]]\n",
            "\n",
            "  [[2.43056122e+02 1.77173462e+02 9.05816269e+01]\n",
            "   [2.45020416e+02 1.78168365e+02 8.94438782e+01]\n",
            "   [2.42061234e+02 1.70775513e+02 7.84336700e+01]\n",
            "   ...\n",
            "   [1.56719177e+02 1.19877434e+02 1.20203941e+02]\n",
            "   [1.29352051e+02 9.76326904e+01 9.87704544e+01]\n",
            "   [1.43193665e+02 1.13265099e+02 1.15407959e+02]]\n",
            "\n",
            "  [[2.53653061e+02 1.87081635e+02 9.80969391e+01]\n",
            "   [2.48984695e+02 1.82015305e+02 9.11428528e+01]\n",
            "   [2.37739792e+02 1.67336731e+02 7.46173477e+01]\n",
            "   ...\n",
            "   [1.25872444e+02 8.37245407e+01 8.16786041e+01]\n",
            "   [1.61219421e+02 1.22933723e+02 1.21790878e+02]\n",
            "   [1.34117096e+02 9.76885300e+01 9.74742432e+01]]\n",
            "\n",
            "  ...\n",
            "\n",
            "  [[1.48280624e+02 1.33280624e+02 1.28280624e+02]\n",
            "   [1.48413223e+02 1.33413223e+02 1.28413223e+02]\n",
            "   [1.51596924e+02 1.36596924e+02 1.31596924e+02]\n",
            "   ...\n",
            "   [3.56173820e+01 3.28316460e+01 4.38316460e+01]\n",
            "   [3.69846916e+01 3.39846916e+01 4.49846916e+01]\n",
            "   [3.67857361e+01 3.37857361e+01 4.47857361e+01]]\n",
            "\n",
            "  [[1.43403015e+02 1.28403015e+02 1.23403023e+02]\n",
            "   [1.46852051e+02 1.31852051e+02 1.26852043e+02]\n",
            "   [1.49928558e+02 1.34928558e+02 1.29928558e+02]\n",
            "   ...\n",
            "   [3.66429138e+01 3.38571777e+01 4.48571777e+01]\n",
            "   [3.81377792e+01 3.51377792e+01 4.61377792e+01]\n",
            "   [3.86428223e+01 3.56428223e+01 4.66428223e+01]]\n",
            "\n",
            "  [[1.39183670e+02 1.24183662e+02 1.19183662e+02]\n",
            "   [1.43142792e+02 1.28142792e+02 1.23142792e+02]\n",
            "   [1.49010178e+02 1.34010178e+02 1.29010178e+02]\n",
            "   ...\n",
            "   [3.86480026e+01 3.58622665e+01 4.68622665e+01]\n",
            "   [3.90000000e+01 3.60000000e+01 4.70000000e+01]\n",
            "   [3.80000000e+01 3.50000000e+01 4.60000000e+01]]]], shape=(32, 224, 224, 3), dtype=float32) tf.Tensor(\n",
            "[[0. 0. 0. 0. 0. 0. 0. 1. 0. 0.]\n",
            " [0. 0. 1. 0. 0. 0. 0. 0. 0. 0.]\n",
            " [0. 0. 1. 0. 0. 0. 0. 0. 0. 0.]\n",
            " [0. 0. 0. 0. 0. 0. 0. 0. 0. 1.]\n",
            " [0. 0. 1. 0. 0. 0. 0. 0. 0. 0.]\n",
            " [1. 0. 0. 0. 0. 0. 0. 0. 0. 0.]\n",
            " [0. 0. 0. 0. 1. 0. 0. 0. 0. 0.]\n",
            " [0. 0. 0. 0. 0. 0. 1. 0. 0. 0.]\n",
            " [0. 0. 0. 0. 0. 0. 0. 0. 0. 1.]\n",
            " [0. 0. 1. 0. 0. 0. 0. 0. 0. 0.]\n",
            " [1. 0. 0. 0. 0. 0. 0. 0. 0. 0.]\n",
            " [0. 0. 0. 0. 0. 0. 0. 1. 0. 0.]\n",
            " [0. 0. 0. 0. 0. 0. 1. 0. 0. 0.]\n",
            " [0. 0. 0. 0. 0. 0. 0. 0. 0. 1.]\n",
            " [0. 0. 0. 0. 1. 0. 0. 0. 0. 0.]\n",
            " [1. 0. 0. 0. 0. 0. 0. 0. 0. 0.]\n",
            " [0. 0. 0. 0. 0. 0. 0. 1. 0. 0.]\n",
            " [0. 0. 1. 0. 0. 0. 0. 0. 0. 0.]\n",
            " [0. 0. 0. 0. 1. 0. 0. 0. 0. 0.]\n",
            " [0. 0. 0. 0. 0. 0. 0. 1. 0. 0.]\n",
            " [0. 0. 0. 0. 0. 0. 0. 1. 0. 0.]\n",
            " [0. 0. 0. 0. 1. 0. 0. 0. 0. 0.]\n",
            " [0. 0. 0. 0. 0. 1. 0. 0. 0. 0.]\n",
            " [0. 0. 1. 0. 0. 0. 0. 0. 0. 0.]\n",
            " [0. 0. 0. 0. 0. 1. 0. 0. 0. 0.]\n",
            " [0. 0. 0. 1. 0. 0. 0. 0. 0. 0.]\n",
            " [0. 0. 0. 0. 0. 0. 0. 1. 0. 0.]\n",
            " [0. 0. 0. 0. 0. 0. 0. 0. 0. 1.]\n",
            " [1. 0. 0. 0. 0. 0. 0. 0. 0. 0.]\n",
            " [0. 0. 0. 0. 1. 0. 0. 0. 0. 0.]\n",
            " [0. 0. 0. 0. 0. 0. 1. 0. 0. 0.]\n",
            " [0. 0. 0. 0. 1. 0. 0. 0. 0. 0.]], shape=(32, 10), dtype=float32)\n"
          ]
        }
      ]
    },
    {
      "cell_type": "markdown",
      "source": [
        "## Model 0: Building a transfer learning feature extraction model using the Keras Functional API\n",
        "fnctional API gives our model more flexiblity than sequential model"
      ],
      "metadata": {
        "id": "Xu1iu6vX2UZh"
      }
    },
    {
      "cell_type": "code",
      "source": [
        "# # 1. create a base model with tf.keras.application\n",
        "# base_model=tf.keras.applications.EfficientNetB0(include_top=False)\n",
        "\n",
        "# # 2. freeze the base model so, prelearned patterns remained\n",
        "# base_model.trainable=False\n",
        "\n",
        "# #3. create the input onto the base model\n",
        "# inputs=tf.keras.layers.Input(shape=(224,224,3), name=\"input_layer\")\n",
        "\n",
        "# #4. if using resnet50v2(trained on scailed data), add this to speed up convergence, no need for efficient net(trained on unscailed data)...how you know when fiting dont converge\n",
        "# # x=tf.keras.layers.experimental.preprocessing.Rescaling(1/255.)\n",
        "\n",
        "# #5. pass inputs to the base model(note using tf.keras.applications, efficient net input dont need normalized)\n",
        "# x=base_model(inputs)\n",
        "\n",
        "# # check data shape after passing in the base model\n",
        "# # passing input features through the base model\n",
        "# print(f\"shape after base model: {x.shape}\")\n",
        "\n",
        "# # 6. average pool the outputs of base model, (aggregate the most important info)\n",
        "# x=tf.keras.layers.GlobalAveragePooling2D()(x)\n",
        "# print(f\"after global avg pooling 2d: {x.shape}\")\n",
        "\n",
        "# # 7. create the output activation layer\n",
        "# outputs=tf.keras.layers.Dense(10, activation=\"softmax\", name=\"output_layer\")(x)\n",
        "\n",
        "# # 8. combine the inputs with the outputs in the model\n",
        "# model_0=tf.keras.Model(inputs, outputs)\n",
        "\n",
        "# #9. compile the model\n",
        "# model_0.compile(loss=tf.keras.losses.categorical_crossentropy, optimizer=tf.keras.optimizers.Adam(), metrics=[\"accuracy\"])\n",
        "\n",
        "# # 10. fit the model(we use less step for valdation so, it is faster)\n",
        "# model_0.fit(train_data_10_percent, \n",
        "#             epochs=5, \n",
        "#             steps_per_epoch=len(train_data_10_percent), \n",
        "#             validation_data=test_data_10_percent,  \n",
        "#             validation_split=int(0.25*len(test_data_10_percent)), \n",
        "#             callbacks=[create_tensorboard_callback(\"transfer_learning\", \"10_percent_feature_extract\")]\n",
        "#             )"
      ],
      "metadata": {
        "id": "K9-LOZP_6LQv"
      },
      "execution_count": 10,
      "outputs": []
    },
    {
      "cell_type": "code",
      "source": [
        "# 1. Create base model with tf.keras.applications\n",
        "base_model = tf.keras.applications.EfficientNetB0(include_top=False)\n",
        "\n",
        "# 2. Freeze the base model (so the pre-learned patterns remain)\n",
        "base_model.trainable = False\n",
        "\n",
        "# 3. Create inputs into the base model\n",
        "inputs = tf.keras.layers.Input(shape=(224, 224, 3), name=\"input_layer\")\n",
        "\n",
        "# 4. If using ResNet50V2, add this to speed up convergence, remove for EfficientNet\n",
        "# x = tf.keras.layers.experimental.preprocessing.Rescaling(1./255)(inputs)\n",
        "\n",
        "# 5. Pass the inputs to the base_model (note: using tf.keras.applications, EfficientNet inputs don't have to be normalized)\n",
        "x = base_model(inputs)\n",
        "# Check data shape after passing it to base_model\n",
        "print(f\"Shape after base_model: {x.shape}\")\n",
        "\n",
        "# 6. Average pool the outputs of the base model (aggregate all the most important information, reduce number of computations)\n",
        "x = tf.keras.layers.GlobalAveragePooling2D(name=\"global_average_pooling_layer\")(x)\n",
        "print(f\"After GlobalAveragePooling2D(): {x.shape}\")\n",
        "\n",
        "# 7. Create the output activation layer\n",
        "outputs = tf.keras.layers.Dense(10, activation=\"softmax\", name=\"output_layer\")(x)\n",
        "\n",
        "# 8. Combine the inputs with the outputs into a model\n",
        "model_0 = tf.keras.Model(inputs, outputs)\n",
        "\n",
        "# 9. Compile the model\n",
        "model_0.compile(loss='categorical_crossentropy',\n",
        "              optimizer=tf.keras.optimizers.Adam(),\n",
        "              metrics=[\"accuracy\"])\n",
        "\n",
        "# 10. Fit the model (we use less steps for validation so it's faster)\n",
        "history_10_percent = model_0.fit(train_data_10_percent,\n",
        "                                 epochs=5,\n",
        "                                 steps_per_epoch=len(train_data_10_percent),\n",
        "                                 validation_data=test_data_10_percent,\n",
        "                                 # Go through less of the validation data so epochs are faster (we want faster experiments!)\n",
        "                                 validation_steps=int(0.25 * len(test_data_10_percent)), \n",
        "                                 # Track our model's training logs for visualization later\n",
        "                                 callbacks=[create_tensorboard_callback(\"transfer_learning\", \"10_percent_feature_extract\")])"
      ],
      "metadata": {
        "colab": {
          "base_uri": "https://localhost:8080/"
        },
        "id": "kOHqyUlkBfv7",
        "outputId": "909168b9-983c-4029-9dec-d82be2d6a365"
      },
      "execution_count": 11,
      "outputs": [
        {
          "output_type": "stream",
          "name": "stdout",
          "text": [
            "Downloading data from https://storage.googleapis.com/keras-applications/efficientnetb0_notop.h5\n",
            "16705208/16705208 [==============================] - 0s 0us/step\n"
          ]
        },
        {
          "output_type": "stream",
          "name": "stderr",
          "text": [
            "WARNING:tensorflow:Model failed to serialize as JSON. Ignoring... Unable to serialize [2.0896919 2.1128857 2.1081853] to JSON. Unrecognized type <class 'tensorflow.python.framework.ops.EagerTensor'>.\n"
          ]
        },
        {
          "output_type": "stream",
          "name": "stdout",
          "text": [
            "Shape after base_model: (None, 7, 7, 1280)\n",
            "After GlobalAveragePooling2D(): (None, 1280)\n",
            "Saving TensorBoard log files to: transfer_learning/10_percent_feature_extract/20230222-061221\n",
            "Epoch 1/5\n",
            "24/24 [==============================] - 109s 4s/step - loss: 1.9481 - accuracy: 0.3987 - val_loss: 1.3323 - val_accuracy: 0.7253\n",
            "Epoch 2/5\n",
            "24/24 [==============================] - 140s 6s/step - loss: 1.1161 - accuracy: 0.7747 - val_loss: 0.8740 - val_accuracy: 0.8207\n",
            "Epoch 3/5\n",
            "24/24 [==============================] - 138s 6s/step - loss: 0.7871 - accuracy: 0.8360 - val_loss: 0.6681 - val_accuracy: 0.8602\n",
            "Epoch 4/5\n",
            "24/24 [==============================] - 137s 6s/step - loss: 0.6350 - accuracy: 0.8787 - val_loss: 0.5849 - val_accuracy: 0.8651\n",
            "Epoch 5/5\n",
            "24/24 [==============================] - 98s 4s/step - loss: 0.5528 - accuracy: 0.8827 - val_loss: 0.5575 - val_accuracy: 0.8668\n"
          ]
        }
      ]
    },
    {
      "cell_type": "code",
      "source": [
        "# evaluate in full test dataset\n",
        "model_0.evaluate(test_data_10_percent)"
      ],
      "metadata": {
        "colab": {
          "base_uri": "https://localhost:8080/"
        },
        "id": "spn0ncOyIb8-",
        "outputId": "26db0b84-22a5-4952-c70d-e731f0a2cb51"
      },
      "execution_count": 12,
      "outputs": [
        {
          "output_type": "stream",
          "name": "stdout",
          "text": [
            "79/79 [==============================] - 184s 2s/step - loss: 0.5577 - accuracy: 0.8656\n"
          ]
        },
        {
          "output_type": "execute_result",
          "data": {
            "text/plain": [
              "[0.5576916933059692, 0.8655999898910522]"
            ]
          },
          "metadata": {},
          "execution_count": 12
        }
      ]
    },
    {
      "cell_type": "code",
      "source": [
        "# Check layers in our base model\n",
        "for layer_number, layer in enumerate(base_model.layers):\n",
        "  print(layer_number, layer.name)\n",
        "# look output has rescaling layer so, dont need rescaling for efficient net. look all total layers"
      ],
      "metadata": {
        "colab": {
          "base_uri": "https://localhost:8080/"
        },
        "id": "cojrTpzWL3Tw",
        "outputId": "b1290e53-ae22-41c9-a72e-841934226b31"
      },
      "execution_count": 13,
      "outputs": [
        {
          "output_type": "stream",
          "name": "stdout",
          "text": [
            "0 input_1\n",
            "1 rescaling\n",
            "2 normalization\n",
            "3 rescaling_1\n",
            "4 stem_conv_pad\n",
            "5 stem_conv\n",
            "6 stem_bn\n",
            "7 stem_activation\n",
            "8 block1a_dwconv\n",
            "9 block1a_bn\n",
            "10 block1a_activation\n",
            "11 block1a_se_squeeze\n",
            "12 block1a_se_reshape\n",
            "13 block1a_se_reduce\n",
            "14 block1a_se_expand\n",
            "15 block1a_se_excite\n",
            "16 block1a_project_conv\n",
            "17 block1a_project_bn\n",
            "18 block2a_expand_conv\n",
            "19 block2a_expand_bn\n",
            "20 block2a_expand_activation\n",
            "21 block2a_dwconv_pad\n",
            "22 block2a_dwconv\n",
            "23 block2a_bn\n",
            "24 block2a_activation\n",
            "25 block2a_se_squeeze\n",
            "26 block2a_se_reshape\n",
            "27 block2a_se_reduce\n",
            "28 block2a_se_expand\n",
            "29 block2a_se_excite\n",
            "30 block2a_project_conv\n",
            "31 block2a_project_bn\n",
            "32 block2b_expand_conv\n",
            "33 block2b_expand_bn\n",
            "34 block2b_expand_activation\n",
            "35 block2b_dwconv\n",
            "36 block2b_bn\n",
            "37 block2b_activation\n",
            "38 block2b_se_squeeze\n",
            "39 block2b_se_reshape\n",
            "40 block2b_se_reduce\n",
            "41 block2b_se_expand\n",
            "42 block2b_se_excite\n",
            "43 block2b_project_conv\n",
            "44 block2b_project_bn\n",
            "45 block2b_drop\n",
            "46 block2b_add\n",
            "47 block3a_expand_conv\n",
            "48 block3a_expand_bn\n",
            "49 block3a_expand_activation\n",
            "50 block3a_dwconv_pad\n",
            "51 block3a_dwconv\n",
            "52 block3a_bn\n",
            "53 block3a_activation\n",
            "54 block3a_se_squeeze\n",
            "55 block3a_se_reshape\n",
            "56 block3a_se_reduce\n",
            "57 block3a_se_expand\n",
            "58 block3a_se_excite\n",
            "59 block3a_project_conv\n",
            "60 block3a_project_bn\n",
            "61 block3b_expand_conv\n",
            "62 block3b_expand_bn\n",
            "63 block3b_expand_activation\n",
            "64 block3b_dwconv\n",
            "65 block3b_bn\n",
            "66 block3b_activation\n",
            "67 block3b_se_squeeze\n",
            "68 block3b_se_reshape\n",
            "69 block3b_se_reduce\n",
            "70 block3b_se_expand\n",
            "71 block3b_se_excite\n",
            "72 block3b_project_conv\n",
            "73 block3b_project_bn\n",
            "74 block3b_drop\n",
            "75 block3b_add\n",
            "76 block4a_expand_conv\n",
            "77 block4a_expand_bn\n",
            "78 block4a_expand_activation\n",
            "79 block4a_dwconv_pad\n",
            "80 block4a_dwconv\n",
            "81 block4a_bn\n",
            "82 block4a_activation\n",
            "83 block4a_se_squeeze\n",
            "84 block4a_se_reshape\n",
            "85 block4a_se_reduce\n",
            "86 block4a_se_expand\n",
            "87 block4a_se_excite\n",
            "88 block4a_project_conv\n",
            "89 block4a_project_bn\n",
            "90 block4b_expand_conv\n",
            "91 block4b_expand_bn\n",
            "92 block4b_expand_activation\n",
            "93 block4b_dwconv\n",
            "94 block4b_bn\n",
            "95 block4b_activation\n",
            "96 block4b_se_squeeze\n",
            "97 block4b_se_reshape\n",
            "98 block4b_se_reduce\n",
            "99 block4b_se_expand\n",
            "100 block4b_se_excite\n",
            "101 block4b_project_conv\n",
            "102 block4b_project_bn\n",
            "103 block4b_drop\n",
            "104 block4b_add\n",
            "105 block4c_expand_conv\n",
            "106 block4c_expand_bn\n",
            "107 block4c_expand_activation\n",
            "108 block4c_dwconv\n",
            "109 block4c_bn\n",
            "110 block4c_activation\n",
            "111 block4c_se_squeeze\n",
            "112 block4c_se_reshape\n",
            "113 block4c_se_reduce\n",
            "114 block4c_se_expand\n",
            "115 block4c_se_excite\n",
            "116 block4c_project_conv\n",
            "117 block4c_project_bn\n",
            "118 block4c_drop\n",
            "119 block4c_add\n",
            "120 block5a_expand_conv\n",
            "121 block5a_expand_bn\n",
            "122 block5a_expand_activation\n",
            "123 block5a_dwconv\n",
            "124 block5a_bn\n",
            "125 block5a_activation\n",
            "126 block5a_se_squeeze\n",
            "127 block5a_se_reshape\n",
            "128 block5a_se_reduce\n",
            "129 block5a_se_expand\n",
            "130 block5a_se_excite\n",
            "131 block5a_project_conv\n",
            "132 block5a_project_bn\n",
            "133 block5b_expand_conv\n",
            "134 block5b_expand_bn\n",
            "135 block5b_expand_activation\n",
            "136 block5b_dwconv\n",
            "137 block5b_bn\n",
            "138 block5b_activation\n",
            "139 block5b_se_squeeze\n",
            "140 block5b_se_reshape\n",
            "141 block5b_se_reduce\n",
            "142 block5b_se_expand\n",
            "143 block5b_se_excite\n",
            "144 block5b_project_conv\n",
            "145 block5b_project_bn\n",
            "146 block5b_drop\n",
            "147 block5b_add\n",
            "148 block5c_expand_conv\n",
            "149 block5c_expand_bn\n",
            "150 block5c_expand_activation\n",
            "151 block5c_dwconv\n",
            "152 block5c_bn\n",
            "153 block5c_activation\n",
            "154 block5c_se_squeeze\n",
            "155 block5c_se_reshape\n",
            "156 block5c_se_reduce\n",
            "157 block5c_se_expand\n",
            "158 block5c_se_excite\n",
            "159 block5c_project_conv\n",
            "160 block5c_project_bn\n",
            "161 block5c_drop\n",
            "162 block5c_add\n",
            "163 block6a_expand_conv\n",
            "164 block6a_expand_bn\n",
            "165 block6a_expand_activation\n",
            "166 block6a_dwconv_pad\n",
            "167 block6a_dwconv\n",
            "168 block6a_bn\n",
            "169 block6a_activation\n",
            "170 block6a_se_squeeze\n",
            "171 block6a_se_reshape\n",
            "172 block6a_se_reduce\n",
            "173 block6a_se_expand\n",
            "174 block6a_se_excite\n",
            "175 block6a_project_conv\n",
            "176 block6a_project_bn\n",
            "177 block6b_expand_conv\n",
            "178 block6b_expand_bn\n",
            "179 block6b_expand_activation\n",
            "180 block6b_dwconv\n",
            "181 block6b_bn\n",
            "182 block6b_activation\n",
            "183 block6b_se_squeeze\n",
            "184 block6b_se_reshape\n",
            "185 block6b_se_reduce\n",
            "186 block6b_se_expand\n",
            "187 block6b_se_excite\n",
            "188 block6b_project_conv\n",
            "189 block6b_project_bn\n",
            "190 block6b_drop\n",
            "191 block6b_add\n",
            "192 block6c_expand_conv\n",
            "193 block6c_expand_bn\n",
            "194 block6c_expand_activation\n",
            "195 block6c_dwconv\n",
            "196 block6c_bn\n",
            "197 block6c_activation\n",
            "198 block6c_se_squeeze\n",
            "199 block6c_se_reshape\n",
            "200 block6c_se_reduce\n",
            "201 block6c_se_expand\n",
            "202 block6c_se_excite\n",
            "203 block6c_project_conv\n",
            "204 block6c_project_bn\n",
            "205 block6c_drop\n",
            "206 block6c_add\n",
            "207 block6d_expand_conv\n",
            "208 block6d_expand_bn\n",
            "209 block6d_expand_activation\n",
            "210 block6d_dwconv\n",
            "211 block6d_bn\n",
            "212 block6d_activation\n",
            "213 block6d_se_squeeze\n",
            "214 block6d_se_reshape\n",
            "215 block6d_se_reduce\n",
            "216 block6d_se_expand\n",
            "217 block6d_se_excite\n",
            "218 block6d_project_conv\n",
            "219 block6d_project_bn\n",
            "220 block6d_drop\n",
            "221 block6d_add\n",
            "222 block7a_expand_conv\n",
            "223 block7a_expand_bn\n",
            "224 block7a_expand_activation\n",
            "225 block7a_dwconv\n",
            "226 block7a_bn\n",
            "227 block7a_activation\n",
            "228 block7a_se_squeeze\n",
            "229 block7a_se_reshape\n",
            "230 block7a_se_reduce\n",
            "231 block7a_se_expand\n",
            "232 block7a_se_excite\n",
            "233 block7a_project_conv\n",
            "234 block7a_project_bn\n",
            "235 top_conv\n",
            "236 top_bn\n",
            "237 top_activation\n"
          ]
        }
      ]
    },
    {
      "cell_type": "code",
      "source": [
        "base_model.layers"
      ],
      "metadata": {
        "colab": {
          "base_uri": "https://localhost:8080/"
        },
        "id": "dp3ydyk7L_5t",
        "outputId": "36252415-e984-48ad-9824-a77d61ffe03b"
      },
      "execution_count": 14,
      "outputs": [
        {
          "output_type": "execute_result",
          "data": {
            "text/plain": [
              "[<keras.engine.input_layer.InputLayer at 0x7f8c70ecb5e0>,\n",
              " <keras.layers.preprocessing.image_preprocessing.Rescaling at 0x7f8c70ecbd00>,\n",
              " <keras.layers.preprocessing.normalization.Normalization at 0x7f8c70e2dcd0>,\n",
              " <keras.layers.preprocessing.image_preprocessing.Rescaling at 0x7f8c70e8f8b0>,\n",
              " <keras.layers.reshaping.zero_padding2d.ZeroPadding2D at 0x7f8c70ea7460>,\n",
              " <keras.layers.convolutional.conv2d.Conv2D at 0x7f8c70f22a60>,\n",
              " <keras.layers.normalization.batch_normalization.BatchNormalization at 0x7f8c70f221f0>,\n",
              " <keras.layers.core.activation.Activation at 0x7f8c6cfd28e0>,\n",
              " <keras.layers.convolutional.depthwise_conv2d.DepthwiseConv2D at 0x7f8c6cff37c0>,\n",
              " <keras.layers.normalization.batch_normalization.BatchNormalization at 0x7f8c6cffe880>,\n",
              " <keras.layers.core.activation.Activation at 0x7f8c70ea57f0>,\n",
              " <keras.layers.pooling.global_average_pooling2d.GlobalAveragePooling2D at 0x7f8c6cffea60>,\n",
              " <keras.layers.reshaping.reshape.Reshape at 0x7f8c70e8ffd0>,\n",
              " <keras.layers.convolutional.conv2d.Conv2D at 0x7f8c6cfa2be0>,\n",
              " <keras.layers.convolutional.conv2d.Conv2D at 0x7f8c70e8f310>,\n",
              " <keras.layers.merging.multiply.Multiply at 0x7f8c6cfa5e80>,\n",
              " <keras.layers.convolutional.conv2d.Conv2D at 0x7f8c6cfbbbb0>,\n",
              " <keras.layers.normalization.batch_normalization.BatchNormalization at 0x7f8c6cfc0250>,\n",
              " <keras.layers.convolutional.conv2d.Conv2D at 0x7f8c6cff3790>,\n",
              " <keras.layers.normalization.batch_normalization.BatchNormalization at 0x7f8c6cfc0670>,\n",
              " <keras.layers.core.activation.Activation at 0x7f8c6cf54100>,\n",
              " <keras.layers.reshaping.zero_padding2d.ZeroPadding2D at 0x7f8c6cf54970>,\n",
              " <keras.layers.convolutional.depthwise_conv2d.DepthwiseConv2D at 0x7f8c6cf5dbe0>,\n",
              " <keras.layers.normalization.batch_normalization.BatchNormalization at 0x7f8c6cf65e20>,\n",
              " <keras.layers.core.activation.Activation at 0x7f8c6cf6a2e0>,\n",
              " <keras.layers.pooling.global_average_pooling2d.GlobalAveragePooling2D at 0x7f8c6cf65910>,\n",
              " <keras.layers.reshaping.reshape.Reshape at 0x7f8c6cf75220>,\n",
              " <keras.layers.convolutional.conv2d.Conv2D at 0x7f8c6cf75c70>,\n",
              " <keras.layers.convolutional.conv2d.Conv2D at 0x7f8c6cf7d220>,\n",
              " <keras.layers.merging.multiply.Multiply at 0x7f8c6cf7dee0>,\n",
              " <keras.layers.convolutional.conv2d.Conv2D at 0x7f8c6cf0dc10>,\n",
              " <keras.layers.normalization.batch_normalization.BatchNormalization at 0x7f8c6cf122b0>,\n",
              " <keras.layers.convolutional.conv2d.Conv2D at 0x7f8c6cf1b5e0>,\n",
              " <keras.layers.normalization.batch_normalization.BatchNormalization at 0x7f8c6cf1b520>,\n",
              " <keras.layers.core.activation.Activation at 0x7f8c6cf332b0>,\n",
              " <keras.layers.convolutional.depthwise_conv2d.DepthwiseConv2D at 0x7f8c6cf33670>,\n",
              " <keras.layers.normalization.batch_normalization.BatchNormalization at 0x7f8c6cf3d4c0>,\n",
              " <keras.layers.core.activation.Activation at 0x7f8c6cf44400>,\n",
              " <keras.layers.pooling.global_average_pooling2d.GlobalAveragePooling2D at 0x7f8c6cf44a90>,\n",
              " <keras.layers.reshaping.reshape.Reshape at 0x7f8c6cecbbb0>,\n",
              " <keras.layers.convolutional.conv2d.Conv2D at 0x7f8c6ced47c0>,\n",
              " <keras.layers.convolutional.conv2d.Conv2D at 0x7f8c6ced4e80>,\n",
              " <keras.layers.merging.multiply.Multiply at 0x7f8c6ced8a30>,\n",
              " <keras.layers.convolutional.conv2d.Conv2D at 0x7f8c6cee7760>,\n",
              " <keras.layers.normalization.batch_normalization.BatchNormalization at 0x7f8c6cee0ee0>,\n",
              " <keras.layers.regularization.dropout.Dropout at 0x7f8c6cf30460>,\n",
              " <keras.layers.merging.add.Add at 0x7f8c6cf339d0>,\n",
              " <keras.layers.convolutional.conv2d.Conv2D at 0x7f8c6cf2a9a0>,\n",
              " <keras.layers.normalization.batch_normalization.BatchNormalization at 0x7f8c6cf0d8e0>,\n",
              " <keras.layers.core.activation.Activation at 0x7f8c6ced8220>,\n",
              " <keras.layers.reshaping.zero_padding2d.ZeroPadding2D at 0x7f8c6cf6adc0>,\n",
              " <keras.layers.convolutional.depthwise_conv2d.DepthwiseConv2D at 0x7f8c6cf70670>,\n",
              " <keras.layers.normalization.batch_normalization.BatchNormalization at 0x7f8c70e8f340>,\n",
              " <keras.layers.core.activation.Activation at 0x7f8c6cfa2fd0>,\n",
              " <keras.layers.pooling.global_average_pooling2d.GlobalAveragePooling2D at 0x7f8c6cfa5070>,\n",
              " <keras.layers.reshaping.reshape.Reshape at 0x7f8c6cef0c10>,\n",
              " <keras.layers.convolutional.conv2d.Conv2D at 0x7f8c6cf246a0>,\n",
              " <keras.layers.convolutional.conv2d.Conv2D at 0x7f8c6cf24d60>,\n",
              " <keras.layers.merging.multiply.Multiply at 0x7f8c6cef5940>,\n",
              " <keras.layers.convolutional.conv2d.Conv2D at 0x7f8c6cef8e50>,\n",
              " <keras.layers.normalization.batch_normalization.BatchNormalization at 0x7f8c6cef94f0>,\n",
              " <keras.layers.convolutional.conv2d.Conv2D at 0x7f8c6cef9340>,\n",
              " <keras.layers.normalization.batch_normalization.BatchNormalization at 0x7f8c6cef8340>,\n",
              " <keras.layers.core.activation.Activation at 0x7f8c6cf06220>,\n",
              " <keras.layers.convolutional.depthwise_conv2d.DepthwiseConv2D at 0x7f8c6cf06a90>,\n",
              " <keras.layers.normalization.batch_normalization.BatchNormalization at 0x7f8c6ce8bc40>,\n",
              " <keras.layers.core.activation.Activation at 0x7f8c6ce8bca0>,\n",
              " <keras.layers.pooling.global_average_pooling2d.GlobalAveragePooling2D at 0x7f8c6ce91f40>,\n",
              " <keras.layers.reshaping.reshape.Reshape at 0x7f8c6ce9b520>,\n",
              " <keras.layers.convolutional.conv2d.Conv2D at 0x7f8c6cea25e0>,\n",
              " <keras.layers.convolutional.conv2d.Conv2D at 0x7f8c6ce9ba60>,\n",
              " <keras.layers.merging.multiply.Multiply at 0x7f8c6ceab220>,\n",
              " <keras.layers.convolutional.conv2d.Conv2D at 0x7f8c6ceb1f10>,\n",
              " <keras.layers.normalization.batch_normalization.BatchNormalization at 0x7f8c6ceb14f0>,\n",
              " <keras.layers.regularization.dropout.Dropout at 0x7f8c6cebd2b0>,\n",
              " <keras.layers.merging.add.Add at 0x7f8c6cec77c0>,\n",
              " <keras.layers.convolutional.conv2d.Conv2D at 0x7f8c6cf2a4f0>,\n",
              " <keras.layers.normalization.batch_normalization.BatchNormalization at 0x7f8c6cebd490>,\n",
              " <keras.layers.core.activation.Activation at 0x7f8c6ce4f160>,\n",
              " <keras.layers.reshaping.zero_padding2d.ZeroPadding2D at 0x7f8c6ce4f550>,\n",
              " <keras.layers.convolutional.depthwise_conv2d.DepthwiseConv2D at 0x7f8c6ce57040>,\n",
              " <keras.layers.normalization.batch_normalization.BatchNormalization at 0x7f8c6ce60550>,\n",
              " <keras.layers.core.activation.Activation at 0x7f8c6ce609d0>,\n",
              " <keras.layers.pooling.global_average_pooling2d.GlobalAveragePooling2D at 0x7f8c6ce4be80>,\n",
              " <keras.layers.reshaping.reshape.Reshape at 0x7f8c6cea2f70>,\n",
              " <keras.layers.convolutional.conv2d.Conv2D at 0x7f8c6ce8b0a0>,\n",
              " <keras.layers.convolutional.conv2d.Conv2D at 0x7f8c6cf06370>,\n",
              " <keras.layers.merging.multiply.Multiply at 0x7f8c6cef9e20>,\n",
              " <keras.layers.convolutional.conv2d.Conv2D at 0x7f8c6ce66eb0>,\n",
              " <keras.layers.normalization.batch_normalization.BatchNormalization at 0x7f8c6ce6fa00>,\n",
              " <keras.layers.convolutional.conv2d.Conv2D at 0x7f8c6ce792b0>,\n",
              " <keras.layers.normalization.batch_normalization.BatchNormalization at 0x7f8c6ce797c0>,\n",
              " <keras.layers.core.activation.Activation at 0x7f8c6ce80040>,\n",
              " <keras.layers.convolutional.depthwise_conv2d.DepthwiseConv2D at 0x7f8c6ce86280>,\n",
              " <keras.layers.normalization.batch_normalization.BatchNormalization at 0x7f8c6ce80190>,\n",
              " <keras.layers.core.activation.Activation at 0x7f8c6ce097f0>,\n",
              " <keras.layers.pooling.global_average_pooling2d.GlobalAveragePooling2D at 0x7f8c6ce173d0>,\n",
              " <keras.layers.reshaping.reshape.Reshape at 0x7f8c6ce17eb0>,\n",
              " <keras.layers.convolutional.conv2d.Conv2D at 0x7f8c6ce099a0>,\n",
              " <keras.layers.convolutional.conv2d.Conv2D at 0x7f8c6ce1a3d0>,\n",
              " <keras.layers.merging.multiply.Multiply at 0x7f8c6ce24430>,\n",
              " <keras.layers.convolutional.conv2d.Conv2D at 0x7f8c6ce0e220>,\n",
              " <keras.layers.normalization.batch_normalization.BatchNormalization at 0x7f8c6ce28b20>,\n",
              " <keras.layers.regularization.dropout.Dropout at 0x7f8c6ce33f10>,\n",
              " <keras.layers.merging.add.Add at 0x7f8c6ce0e340>,\n",
              " <keras.layers.convolutional.conv2d.Conv2D at 0x7f8c6ce38d00>,\n",
              " <keras.layers.normalization.batch_normalization.BatchNormalization at 0x7f8c6ce6c2b0>,\n",
              " <keras.layers.core.activation.Activation at 0x7f8c6ce3f6d0>,\n",
              " <keras.layers.convolutional.depthwise_conv2d.DepthwiseConv2D at 0x7f8c6ce3fd00>,\n",
              " <keras.layers.normalization.batch_normalization.BatchNormalization at 0x7f8c6ce41df0>,\n",
              " <keras.layers.core.activation.Activation at 0x7f8c6cdc9580>,\n",
              " <keras.layers.pooling.global_average_pooling2d.GlobalAveragePooling2D at 0x7f8c6cdcf670>,\n",
              " <keras.layers.reshaping.reshape.Reshape at 0x7f8c6cdd3970>,\n",
              " <keras.layers.convolutional.conv2d.Conv2D at 0x7f8c6cddc400>,\n",
              " <keras.layers.convolutional.conv2d.Conv2D at 0x7f8c6cddcac0>,\n",
              " <keras.layers.merging.multiply.Multiply at 0x7f8c6cde3670>,\n",
              " <keras.layers.convolutional.conv2d.Conv2D at 0x7f8c6cdeae50>,\n",
              " <keras.layers.normalization.batch_normalization.BatchNormalization at 0x7f8c6cdea7f0>,\n",
              " <keras.layers.regularization.dropout.Dropout at 0x7f8c6cdf7700>,\n",
              " <keras.layers.merging.add.Add at 0x7f8c6cdfd7f0>,\n",
              " <keras.layers.convolutional.conv2d.Conv2D at 0x7f8c6cec7d30>,\n",
              " <keras.layers.normalization.batch_normalization.BatchNormalization at 0x7f8c6cdf7490>,\n",
              " <keras.layers.core.activation.Activation at 0x7f8c6ce3f880>,\n",
              " <keras.layers.convolutional.depthwise_conv2d.DepthwiseConv2D at 0x7f8c6cdc9e20>,\n",
              " <keras.layers.normalization.batch_normalization.BatchNormalization at 0x7f8c6ce6f7c0>,\n",
              " <keras.layers.core.activation.Activation at 0x7f8c6ce03190>,\n",
              " <keras.layers.pooling.global_average_pooling2d.GlobalAveragePooling2D at 0x7f8c6cf06760>,\n",
              " <keras.layers.reshaping.reshape.Reshape at 0x7f8c6cd8d850>,\n",
              " <keras.layers.convolutional.conv2d.Conv2D at 0x7f8c6cd89310>,\n",
              " <keras.layers.convolutional.conv2d.Conv2D at 0x7f8c6cd899d0>,\n",
              " <keras.layers.merging.multiply.Multiply at 0x7f8c6cd894f0>,\n",
              " <keras.layers.convolutional.conv2d.Conv2D at 0x7f8c6cd9eac0>,\n",
              " <keras.layers.normalization.batch_normalization.BatchNormalization at 0x7f8c6cd98f70>,\n",
              " <keras.layers.convolutional.conv2d.Conv2D at 0x7f8c6cd9ec70>,\n",
              " <keras.layers.normalization.batch_normalization.BatchNormalization at 0x7f8c6cda2f70>,\n",
              " <keras.layers.core.activation.Activation at 0x7f8c6cd8f5b0>,\n",
              " <keras.layers.convolutional.depthwise_conv2d.DepthwiseConv2D at 0x7f8c6cda2070>,\n",
              " <keras.layers.normalization.batch_normalization.BatchNormalization at 0x7f8c6cdb3850>,\n",
              " <keras.layers.core.activation.Activation at 0x7f8c6cdb9790>,\n",
              " <keras.layers.pooling.global_average_pooling2d.GlobalAveragePooling2D at 0x7f8c6cdb9d60>,\n",
              " <keras.layers.reshaping.reshape.Reshape at 0x7f8c6cdc53d0>,\n",
              " <keras.layers.convolutional.conv2d.Conv2D at 0x7f8c6cdc5b50>,\n",
              " <keras.layers.convolutional.conv2d.Conv2D at 0x7f8c6cdc5610>,\n",
              " <keras.layers.merging.multiply.Multiply at 0x7f8c6cd4edc0>,\n",
              " <keras.layers.convolutional.conv2d.Conv2D at 0x7f8c6cd5db20>,\n",
              " <keras.layers.normalization.batch_normalization.BatchNormalization at 0x7f8c6cd5d310>,\n",
              " <keras.layers.regularization.dropout.Dropout at 0x7f8c6cd60ee0>,\n",
              " <keras.layers.merging.add.Add at 0x7f8c6cd679a0>,\n",
              " <keras.layers.convolutional.conv2d.Conv2D at 0x7f8c6cd603d0>,\n",
              " <keras.layers.normalization.batch_normalization.BatchNormalization at 0x7f8c6cd70370>,\n",
              " <keras.layers.core.activation.Activation at 0x7f8c6cd7c1f0>,\n",
              " <keras.layers.convolutional.depthwise_conv2d.DepthwiseConv2D at 0x7f8c6cd9e1f0>,\n",
              " <keras.layers.normalization.batch_normalization.BatchNormalization at 0x7f8c6cd74280>,\n",
              " <keras.layers.core.activation.Activation at 0x7f8c6cdfdb50>,\n",
              " <keras.layers.pooling.global_average_pooling2d.GlobalAveragePooling2D at 0x7f8c6cd7ff10>,\n",
              " <keras.layers.reshaping.reshape.Reshape at 0x7f8c6cdc0400>,\n",
              " <keras.layers.convolutional.conv2d.Conv2D at 0x7f8c6cd09a00>,\n",
              " <keras.layers.convolutional.conv2d.Conv2D at 0x7f8c6cd1b0a0>,\n",
              " <keras.layers.merging.multiply.Multiply at 0x7f8c6cd1b7c0>,\n",
              " <keras.layers.convolutional.conv2d.Conv2D at 0x7f8c6cd7c310>,\n",
              " <keras.layers.normalization.batch_normalization.BatchNormalization at 0x7f8c6cd10e20>,\n",
              " <keras.layers.regularization.dropout.Dropout at 0x7f8c6cd5dee0>,\n",
              " <keras.layers.merging.add.Add at 0x7f8c6cdc5550>,\n",
              " <keras.layers.convolutional.conv2d.Conv2D at 0x7f8c6cdfdd60>,\n",
              " <keras.layers.normalization.batch_normalization.BatchNormalization at 0x7f8c6cd67340>,\n",
              " <keras.layers.core.activation.Activation at 0x7f8c6cd4e670>,\n",
              " <keras.layers.reshaping.zero_padding2d.ZeroPadding2D at 0x7f8c6ce91d60>,\n",
              " <keras.layers.convolutional.depthwise_conv2d.DepthwiseConv2D at 0x7f8c6cdc08b0>,\n",
              " <keras.layers.normalization.batch_normalization.BatchNormalization at 0x7f8c6cdb98b0>,\n",
              " <keras.layers.core.activation.Activation at 0x7f8c6ce030a0>,\n",
              " <keras.layers.pooling.global_average_pooling2d.GlobalAveragePooling2D at 0x7f8c6cd23880>,\n",
              " <keras.layers.reshaping.reshape.Reshape at 0x7f8c6cd09940>,\n",
              " <keras.layers.convolutional.conv2d.Conv2D at 0x7f8c6cd2bb20>,\n",
              " <keras.layers.convolutional.conv2d.Conv2D at 0x7f8c6cda2e20>,\n",
              " <keras.layers.merging.multiply.Multiply at 0x7f8c6cd1bbe0>,\n",
              " <keras.layers.convolutional.conv2d.Conv2D at 0x7f8c6cdc0790>,\n",
              " <keras.layers.normalization.batch_normalization.BatchNormalization at 0x7f8c6cd2b190>,\n",
              " <keras.layers.convolutional.conv2d.Conv2D at 0x7f8c6cddcdc0>,\n",
              " <keras.layers.normalization.batch_normalization.BatchNormalization at 0x7f8c6cd2e9a0>,\n",
              " <keras.layers.core.activation.Activation at 0x7f8c6cccc340>,\n",
              " <keras.layers.convolutional.depthwise_conv2d.DepthwiseConv2D at 0x7f8c6ccd9b80>,\n",
              " <keras.layers.normalization.batch_normalization.BatchNormalization at 0x7f8c6cd442e0>,\n",
              " <keras.layers.core.activation.Activation at 0x7f8c6cccc1f0>,\n",
              " <keras.layers.pooling.global_average_pooling2d.GlobalAveragePooling2D at 0x7f8c6ccd9d60>,\n",
              " <keras.layers.reshaping.reshape.Reshape at 0x7f8c6cd2b130>,\n",
              " <keras.layers.convolutional.conv2d.Conv2D at 0x7f8c6cce5c40>,\n",
              " <keras.layers.convolutional.conv2d.Conv2D at 0x7f8c6ccd3820>,\n",
              " <keras.layers.merging.multiply.Multiply at 0x7f8c6cccccd0>,\n",
              " <keras.layers.convolutional.conv2d.Conv2D at 0x7f8c6ccf0730>,\n",
              " <keras.layers.normalization.batch_normalization.BatchNormalization at 0x7f8c6ccde9a0>,\n",
              " <keras.layers.regularization.dropout.Dropout at 0x7f8c6cc92460>,\n",
              " <keras.layers.merging.add.Add at 0x7f8c6cd01df0>,\n",
              " <keras.layers.convolutional.conv2d.Conv2D at 0x7f8c6cc92e20>,\n",
              " <keras.layers.normalization.batch_normalization.BatchNormalization at 0x7f8c6cd01850>,\n",
              " <keras.layers.core.activation.Activation at 0x7f8c6cc922b0>,\n",
              " <keras.layers.convolutional.depthwise_conv2d.DepthwiseConv2D at 0x7f8c6cc98940>,\n",
              " <keras.layers.normalization.batch_normalization.BatchNormalization at 0x7f8c6ccf0880>,\n",
              " <keras.layers.core.activation.Activation at 0x7f8c6ccb31f0>,\n",
              " <keras.layers.pooling.global_average_pooling2d.GlobalAveragePooling2D at 0x7f8c6cca8be0>,\n",
              " <keras.layers.reshaping.reshape.Reshape at 0x7f8c6cca0580>,\n",
              " <keras.layers.convolutional.conv2d.Conv2D at 0x7f8c6ccf0fa0>,\n",
              " <keras.layers.convolutional.conv2d.Conv2D at 0x7f8c6cd44880>,\n",
              " <keras.layers.merging.multiply.Multiply at 0x7f8c6cccca90>,\n",
              " <keras.layers.convolutional.conv2d.Conv2D at 0x7f8c6cd8d100>,\n",
              " <keras.layers.normalization.batch_normalization.BatchNormalization at 0x7f8c6ccd3f70>,\n",
              " <keras.layers.regularization.dropout.Dropout at 0x7f8c6ccb7a60>,\n",
              " <keras.layers.merging.add.Add at 0x7f8c6ccb7c10>,\n",
              " <keras.layers.convolutional.conv2d.Conv2D at 0x7f8c6cd74040>,\n",
              " <keras.layers.normalization.batch_normalization.BatchNormalization at 0x7f8c6cd5da00>,\n",
              " <keras.layers.core.activation.Activation at 0x7f8c6ccb7b20>,\n",
              " <keras.layers.convolutional.depthwise_conv2d.DepthwiseConv2D at 0x7f8c6ccc1fa0>,\n",
              " <keras.layers.normalization.batch_normalization.BatchNormalization at 0x7f8c6cca86d0>,\n",
              " <keras.layers.core.activation.Activation at 0x7f8c6ccc1e80>,\n",
              " <keras.layers.pooling.global_average_pooling2d.GlobalAveragePooling2D at 0x7f8c6cc4adc0>,\n",
              " <keras.layers.reshaping.reshape.Reshape at 0x7f8c6cca86a0>,\n",
              " <keras.layers.convolutional.conv2d.Conv2D at 0x7f8c6ccf07c0>,\n",
              " <keras.layers.convolutional.conv2d.Conv2D at 0x7f8c6ccc14f0>,\n",
              " <keras.layers.merging.multiply.Multiply at 0x7f8c6cc89d90>,\n",
              " <keras.layers.convolutional.conv2d.Conv2D at 0x7f8c6cc69100>,\n",
              " <keras.layers.normalization.batch_normalization.BatchNormalization at 0x7f8c6cc89c10>,\n",
              " <keras.layers.regularization.dropout.Dropout at 0x7f8c6cc7fb50>,\n",
              " <keras.layers.merging.add.Add at 0x7f8c6cc7f490>,\n",
              " <keras.layers.convolutional.conv2d.Conv2D at 0x7f8c6cd7f880>,\n",
              " <keras.layers.normalization.batch_normalization.BatchNormalization at 0x7f8c6cc6ed90>,\n",
              " <keras.layers.core.activation.Activation at 0x7f8c6cc0f130>,\n",
              " <keras.layers.convolutional.depthwise_conv2d.DepthwiseConv2D at 0x7f8c6cc0fac0>,\n",
              " <keras.layers.normalization.batch_normalization.BatchNormalization at 0x7f8c6cc4aa00>,\n",
              " <keras.layers.core.activation.Activation at 0x7f8c6cc08d30>,\n",
              " <keras.layers.pooling.global_average_pooling2d.GlobalAveragePooling2D at 0x7f8c6cc20970>,\n",
              " <keras.layers.reshaping.reshape.Reshape at 0x7f8c6cc19880>,\n",
              " <keras.layers.convolutional.conv2d.Conv2D at 0x7f8c6cc20040>,\n",
              " <keras.layers.convolutional.conv2d.Conv2D at 0x7f8c6cc080a0>,\n",
              " <keras.layers.merging.multiply.Multiply at 0x7f8c6cc69c70>,\n",
              " <keras.layers.convolutional.conv2d.Conv2D at 0x7f8c6cc3bf10>,\n",
              " <keras.layers.normalization.batch_normalization.BatchNormalization at 0x7f8c6cc27dc0>,\n",
              " <keras.layers.convolutional.conv2d.Conv2D at 0x7f8c6cff3850>,\n",
              " <keras.layers.normalization.batch_normalization.BatchNormalization at 0x7f8c6cc41610>,\n",
              " <keras.layers.core.activation.Activation at 0x7f8c6cbd0370>]"
            ]
          },
          "metadata": {},
          "execution_count": 14
        }
      ]
    },
    {
      "cell_type": "code",
      "source": [
        "base_model.summary()"
      ],
      "metadata": {
        "colab": {
          "base_uri": "https://localhost:8080/"
        },
        "id": "VK1wqfxRNGZa",
        "outputId": "82408520-2567-40a0-aa4a-524e265fc050"
      },
      "execution_count": 15,
      "outputs": [
        {
          "output_type": "stream",
          "name": "stdout",
          "text": [
            "Model: \"efficientnetb0\"\n",
            "__________________________________________________________________________________________________\n",
            " Layer (type)                   Output Shape         Param #     Connected to                     \n",
            "==================================================================================================\n",
            " input_1 (InputLayer)           [(None, None, None,  0           []                               \n",
            "                                 3)]                                                              \n",
            "                                                                                                  \n",
            " rescaling (Rescaling)          (None, None, None,   0           ['input_1[0][0]']                \n",
            "                                3)                                                                \n",
            "                                                                                                  \n",
            " normalization (Normalization)  (None, None, None,   7           ['rescaling[0][0]']              \n",
            "                                3)                                                                \n",
            "                                                                                                  \n",
            " rescaling_1 (Rescaling)        (None, None, None,   0           ['normalization[0][0]']          \n",
            "                                3)                                                                \n",
            "                                                                                                  \n",
            " stem_conv_pad (ZeroPadding2D)  (None, None, None,   0           ['rescaling_1[0][0]']            \n",
            "                                3)                                                                \n",
            "                                                                                                  \n",
            " stem_conv (Conv2D)             (None, None, None,   864         ['stem_conv_pad[0][0]']          \n",
            "                                32)                                                               \n",
            "                                                                                                  \n",
            " stem_bn (BatchNormalization)   (None, None, None,   128         ['stem_conv[0][0]']              \n",
            "                                32)                                                               \n",
            "                                                                                                  \n",
            " stem_activation (Activation)   (None, None, None,   0           ['stem_bn[0][0]']                \n",
            "                                32)                                                               \n",
            "                                                                                                  \n",
            " block1a_dwconv (DepthwiseConv2  (None, None, None,   288        ['stem_activation[0][0]']        \n",
            " D)                             32)                                                               \n",
            "                                                                                                  \n",
            " block1a_bn (BatchNormalization  (None, None, None,   128        ['block1a_dwconv[0][0]']         \n",
            " )                              32)                                                               \n",
            "                                                                                                  \n",
            " block1a_activation (Activation  (None, None, None,   0          ['block1a_bn[0][0]']             \n",
            " )                              32)                                                               \n",
            "                                                                                                  \n",
            " block1a_se_squeeze (GlobalAver  (None, 32)          0           ['block1a_activation[0][0]']     \n",
            " agePooling2D)                                                                                    \n",
            "                                                                                                  \n",
            " block1a_se_reshape (Reshape)   (None, 1, 1, 32)     0           ['block1a_se_squeeze[0][0]']     \n",
            "                                                                                                  \n",
            " block1a_se_reduce (Conv2D)     (None, 1, 1, 8)      264         ['block1a_se_reshape[0][0]']     \n",
            "                                                                                                  \n",
            " block1a_se_expand (Conv2D)     (None, 1, 1, 32)     288         ['block1a_se_reduce[0][0]']      \n",
            "                                                                                                  \n",
            " block1a_se_excite (Multiply)   (None, None, None,   0           ['block1a_activation[0][0]',     \n",
            "                                32)                               'block1a_se_expand[0][0]']      \n",
            "                                                                                                  \n",
            " block1a_project_conv (Conv2D)  (None, None, None,   512         ['block1a_se_excite[0][0]']      \n",
            "                                16)                                                               \n",
            "                                                                                                  \n",
            " block1a_project_bn (BatchNorma  (None, None, None,   64         ['block1a_project_conv[0][0]']   \n",
            " lization)                      16)                                                               \n",
            "                                                                                                  \n",
            " block2a_expand_conv (Conv2D)   (None, None, None,   1536        ['block1a_project_bn[0][0]']     \n",
            "                                96)                                                               \n",
            "                                                                                                  \n",
            " block2a_expand_bn (BatchNormal  (None, None, None,   384        ['block2a_expand_conv[0][0]']    \n",
            " ization)                       96)                                                               \n",
            "                                                                                                  \n",
            " block2a_expand_activation (Act  (None, None, None,   0          ['block2a_expand_bn[0][0]']      \n",
            " ivation)                       96)                                                               \n",
            "                                                                                                  \n",
            " block2a_dwconv_pad (ZeroPaddin  (None, None, None,   0          ['block2a_expand_activation[0][0]\n",
            " g2D)                           96)                              ']                               \n",
            "                                                                                                  \n",
            " block2a_dwconv (DepthwiseConv2  (None, None, None,   864        ['block2a_dwconv_pad[0][0]']     \n",
            " D)                             96)                                                               \n",
            "                                                                                                  \n",
            " block2a_bn (BatchNormalization  (None, None, None,   384        ['block2a_dwconv[0][0]']         \n",
            " )                              96)                                                               \n",
            "                                                                                                  \n",
            " block2a_activation (Activation  (None, None, None,   0          ['block2a_bn[0][0]']             \n",
            " )                              96)                                                               \n",
            "                                                                                                  \n",
            " block2a_se_squeeze (GlobalAver  (None, 96)          0           ['block2a_activation[0][0]']     \n",
            " agePooling2D)                                                                                    \n",
            "                                                                                                  \n",
            " block2a_se_reshape (Reshape)   (None, 1, 1, 96)     0           ['block2a_se_squeeze[0][0]']     \n",
            "                                                                                                  \n",
            " block2a_se_reduce (Conv2D)     (None, 1, 1, 4)      388         ['block2a_se_reshape[0][0]']     \n",
            "                                                                                                  \n",
            " block2a_se_expand (Conv2D)     (None, 1, 1, 96)     480         ['block2a_se_reduce[0][0]']      \n",
            "                                                                                                  \n",
            " block2a_se_excite (Multiply)   (None, None, None,   0           ['block2a_activation[0][0]',     \n",
            "                                96)                               'block2a_se_expand[0][0]']      \n",
            "                                                                                                  \n",
            " block2a_project_conv (Conv2D)  (None, None, None,   2304        ['block2a_se_excite[0][0]']      \n",
            "                                24)                                                               \n",
            "                                                                                                  \n",
            " block2a_project_bn (BatchNorma  (None, None, None,   96         ['block2a_project_conv[0][0]']   \n",
            " lization)                      24)                                                               \n",
            "                                                                                                  \n",
            " block2b_expand_conv (Conv2D)   (None, None, None,   3456        ['block2a_project_bn[0][0]']     \n",
            "                                144)                                                              \n",
            "                                                                                                  \n",
            " block2b_expand_bn (BatchNormal  (None, None, None,   576        ['block2b_expand_conv[0][0]']    \n",
            " ization)                       144)                                                              \n",
            "                                                                                                  \n",
            " block2b_expand_activation (Act  (None, None, None,   0          ['block2b_expand_bn[0][0]']      \n",
            " ivation)                       144)                                                              \n",
            "                                                                                                  \n",
            " block2b_dwconv (DepthwiseConv2  (None, None, None,   1296       ['block2b_expand_activation[0][0]\n",
            " D)                             144)                             ']                               \n",
            "                                                                                                  \n",
            " block2b_bn (BatchNormalization  (None, None, None,   576        ['block2b_dwconv[0][0]']         \n",
            " )                              144)                                                              \n",
            "                                                                                                  \n",
            " block2b_activation (Activation  (None, None, None,   0          ['block2b_bn[0][0]']             \n",
            " )                              144)                                                              \n",
            "                                                                                                  \n",
            " block2b_se_squeeze (GlobalAver  (None, 144)         0           ['block2b_activation[0][0]']     \n",
            " agePooling2D)                                                                                    \n",
            "                                                                                                  \n",
            " block2b_se_reshape (Reshape)   (None, 1, 1, 144)    0           ['block2b_se_squeeze[0][0]']     \n",
            "                                                                                                  \n",
            " block2b_se_reduce (Conv2D)     (None, 1, 1, 6)      870         ['block2b_se_reshape[0][0]']     \n",
            "                                                                                                  \n",
            " block2b_se_expand (Conv2D)     (None, 1, 1, 144)    1008        ['block2b_se_reduce[0][0]']      \n",
            "                                                                                                  \n",
            " block2b_se_excite (Multiply)   (None, None, None,   0           ['block2b_activation[0][0]',     \n",
            "                                144)                              'block2b_se_expand[0][0]']      \n",
            "                                                                                                  \n",
            " block2b_project_conv (Conv2D)  (None, None, None,   3456        ['block2b_se_excite[0][0]']      \n",
            "                                24)                                                               \n",
            "                                                                                                  \n",
            " block2b_project_bn (BatchNorma  (None, None, None,   96         ['block2b_project_conv[0][0]']   \n",
            " lization)                      24)                                                               \n",
            "                                                                                                  \n",
            " block2b_drop (Dropout)         (None, None, None,   0           ['block2b_project_bn[0][0]']     \n",
            "                                24)                                                               \n",
            "                                                                                                  \n",
            " block2b_add (Add)              (None, None, None,   0           ['block2b_drop[0][0]',           \n",
            "                                24)                               'block2a_project_bn[0][0]']     \n",
            "                                                                                                  \n",
            " block3a_expand_conv (Conv2D)   (None, None, None,   3456        ['block2b_add[0][0]']            \n",
            "                                144)                                                              \n",
            "                                                                                                  \n",
            " block3a_expand_bn (BatchNormal  (None, None, None,   576        ['block3a_expand_conv[0][0]']    \n",
            " ization)                       144)                                                              \n",
            "                                                                                                  \n",
            " block3a_expand_activation (Act  (None, None, None,   0          ['block3a_expand_bn[0][0]']      \n",
            " ivation)                       144)                                                              \n",
            "                                                                                                  \n",
            " block3a_dwconv_pad (ZeroPaddin  (None, None, None,   0          ['block3a_expand_activation[0][0]\n",
            " g2D)                           144)                             ']                               \n",
            "                                                                                                  \n",
            " block3a_dwconv (DepthwiseConv2  (None, None, None,   3600       ['block3a_dwconv_pad[0][0]']     \n",
            " D)                             144)                                                              \n",
            "                                                                                                  \n",
            " block3a_bn (BatchNormalization  (None, None, None,   576        ['block3a_dwconv[0][0]']         \n",
            " )                              144)                                                              \n",
            "                                                                                                  \n",
            " block3a_activation (Activation  (None, None, None,   0          ['block3a_bn[0][0]']             \n",
            " )                              144)                                                              \n",
            "                                                                                                  \n",
            " block3a_se_squeeze (GlobalAver  (None, 144)         0           ['block3a_activation[0][0]']     \n",
            " agePooling2D)                                                                                    \n",
            "                                                                                                  \n",
            " block3a_se_reshape (Reshape)   (None, 1, 1, 144)    0           ['block3a_se_squeeze[0][0]']     \n",
            "                                                                                                  \n",
            " block3a_se_reduce (Conv2D)     (None, 1, 1, 6)      870         ['block3a_se_reshape[0][0]']     \n",
            "                                                                                                  \n",
            " block3a_se_expand (Conv2D)     (None, 1, 1, 144)    1008        ['block3a_se_reduce[0][0]']      \n",
            "                                                                                                  \n",
            " block3a_se_excite (Multiply)   (None, None, None,   0           ['block3a_activation[0][0]',     \n",
            "                                144)                              'block3a_se_expand[0][0]']      \n",
            "                                                                                                  \n",
            " block3a_project_conv (Conv2D)  (None, None, None,   5760        ['block3a_se_excite[0][0]']      \n",
            "                                40)                                                               \n",
            "                                                                                                  \n",
            " block3a_project_bn (BatchNorma  (None, None, None,   160        ['block3a_project_conv[0][0]']   \n",
            " lization)                      40)                                                               \n",
            "                                                                                                  \n",
            " block3b_expand_conv (Conv2D)   (None, None, None,   9600        ['block3a_project_bn[0][0]']     \n",
            "                                240)                                                              \n",
            "                                                                                                  \n",
            " block3b_expand_bn (BatchNormal  (None, None, None,   960        ['block3b_expand_conv[0][0]']    \n",
            " ization)                       240)                                                              \n",
            "                                                                                                  \n",
            " block3b_expand_activation (Act  (None, None, None,   0          ['block3b_expand_bn[0][0]']      \n",
            " ivation)                       240)                                                              \n",
            "                                                                                                  \n",
            " block3b_dwconv (DepthwiseConv2  (None, None, None,   6000       ['block3b_expand_activation[0][0]\n",
            " D)                             240)                             ']                               \n",
            "                                                                                                  \n",
            " block3b_bn (BatchNormalization  (None, None, None,   960        ['block3b_dwconv[0][0]']         \n",
            " )                              240)                                                              \n",
            "                                                                                                  \n",
            " block3b_activation (Activation  (None, None, None,   0          ['block3b_bn[0][0]']             \n",
            " )                              240)                                                              \n",
            "                                                                                                  \n",
            " block3b_se_squeeze (GlobalAver  (None, 240)         0           ['block3b_activation[0][0]']     \n",
            " agePooling2D)                                                                                    \n",
            "                                                                                                  \n",
            " block3b_se_reshape (Reshape)   (None, 1, 1, 240)    0           ['block3b_se_squeeze[0][0]']     \n",
            "                                                                                                  \n",
            " block3b_se_reduce (Conv2D)     (None, 1, 1, 10)     2410        ['block3b_se_reshape[0][0]']     \n",
            "                                                                                                  \n",
            " block3b_se_expand (Conv2D)     (None, 1, 1, 240)    2640        ['block3b_se_reduce[0][0]']      \n",
            "                                                                                                  \n",
            " block3b_se_excite (Multiply)   (None, None, None,   0           ['block3b_activation[0][0]',     \n",
            "                                240)                              'block3b_se_expand[0][0]']      \n",
            "                                                                                                  \n",
            " block3b_project_conv (Conv2D)  (None, None, None,   9600        ['block3b_se_excite[0][0]']      \n",
            "                                40)                                                               \n",
            "                                                                                                  \n",
            " block3b_project_bn (BatchNorma  (None, None, None,   160        ['block3b_project_conv[0][0]']   \n",
            " lization)                      40)                                                               \n",
            "                                                                                                  \n",
            " block3b_drop (Dropout)         (None, None, None,   0           ['block3b_project_bn[0][0]']     \n",
            "                                40)                                                               \n",
            "                                                                                                  \n",
            " block3b_add (Add)              (None, None, None,   0           ['block3b_drop[0][0]',           \n",
            "                                40)                               'block3a_project_bn[0][0]']     \n",
            "                                                                                                  \n",
            " block4a_expand_conv (Conv2D)   (None, None, None,   9600        ['block3b_add[0][0]']            \n",
            "                                240)                                                              \n",
            "                                                                                                  \n",
            " block4a_expand_bn (BatchNormal  (None, None, None,   960        ['block4a_expand_conv[0][0]']    \n",
            " ization)                       240)                                                              \n",
            "                                                                                                  \n",
            " block4a_expand_activation (Act  (None, None, None,   0          ['block4a_expand_bn[0][0]']      \n",
            " ivation)                       240)                                                              \n",
            "                                                                                                  \n",
            " block4a_dwconv_pad (ZeroPaddin  (None, None, None,   0          ['block4a_expand_activation[0][0]\n",
            " g2D)                           240)                             ']                               \n",
            "                                                                                                  \n",
            " block4a_dwconv (DepthwiseConv2  (None, None, None,   2160       ['block4a_dwconv_pad[0][0]']     \n",
            " D)                             240)                                                              \n",
            "                                                                                                  \n",
            " block4a_bn (BatchNormalization  (None, None, None,   960        ['block4a_dwconv[0][0]']         \n",
            " )                              240)                                                              \n",
            "                                                                                                  \n",
            " block4a_activation (Activation  (None, None, None,   0          ['block4a_bn[0][0]']             \n",
            " )                              240)                                                              \n",
            "                                                                                                  \n",
            " block4a_se_squeeze (GlobalAver  (None, 240)         0           ['block4a_activation[0][0]']     \n",
            " agePooling2D)                                                                                    \n",
            "                                                                                                  \n",
            " block4a_se_reshape (Reshape)   (None, 1, 1, 240)    0           ['block4a_se_squeeze[0][0]']     \n",
            "                                                                                                  \n",
            " block4a_se_reduce (Conv2D)     (None, 1, 1, 10)     2410        ['block4a_se_reshape[0][0]']     \n",
            "                                                                                                  \n",
            " block4a_se_expand (Conv2D)     (None, 1, 1, 240)    2640        ['block4a_se_reduce[0][0]']      \n",
            "                                                                                                  \n",
            " block4a_se_excite (Multiply)   (None, None, None,   0           ['block4a_activation[0][0]',     \n",
            "                                240)                              'block4a_se_expand[0][0]']      \n",
            "                                                                                                  \n",
            " block4a_project_conv (Conv2D)  (None, None, None,   19200       ['block4a_se_excite[0][0]']      \n",
            "                                80)                                                               \n",
            "                                                                                                  \n",
            " block4a_project_bn (BatchNorma  (None, None, None,   320        ['block4a_project_conv[0][0]']   \n",
            " lization)                      80)                                                               \n",
            "                                                                                                  \n",
            " block4b_expand_conv (Conv2D)   (None, None, None,   38400       ['block4a_project_bn[0][0]']     \n",
            "                                480)                                                              \n",
            "                                                                                                  \n",
            " block4b_expand_bn (BatchNormal  (None, None, None,   1920       ['block4b_expand_conv[0][0]']    \n",
            " ization)                       480)                                                              \n",
            "                                                                                                  \n",
            " block4b_expand_activation (Act  (None, None, None,   0          ['block4b_expand_bn[0][0]']      \n",
            " ivation)                       480)                                                              \n",
            "                                                                                                  \n",
            " block4b_dwconv (DepthwiseConv2  (None, None, None,   4320       ['block4b_expand_activation[0][0]\n",
            " D)                             480)                             ']                               \n",
            "                                                                                                  \n",
            " block4b_bn (BatchNormalization  (None, None, None,   1920       ['block4b_dwconv[0][0]']         \n",
            " )                              480)                                                              \n",
            "                                                                                                  \n",
            " block4b_activation (Activation  (None, None, None,   0          ['block4b_bn[0][0]']             \n",
            " )                              480)                                                              \n",
            "                                                                                                  \n",
            " block4b_se_squeeze (GlobalAver  (None, 480)         0           ['block4b_activation[0][0]']     \n",
            " agePooling2D)                                                                                    \n",
            "                                                                                                  \n",
            " block4b_se_reshape (Reshape)   (None, 1, 1, 480)    0           ['block4b_se_squeeze[0][0]']     \n",
            "                                                                                                  \n",
            " block4b_se_reduce (Conv2D)     (None, 1, 1, 20)     9620        ['block4b_se_reshape[0][0]']     \n",
            "                                                                                                  \n",
            " block4b_se_expand (Conv2D)     (None, 1, 1, 480)    10080       ['block4b_se_reduce[0][0]']      \n",
            "                                                                                                  \n",
            " block4b_se_excite (Multiply)   (None, None, None,   0           ['block4b_activation[0][0]',     \n",
            "                                480)                              'block4b_se_expand[0][0]']      \n",
            "                                                                                                  \n",
            " block4b_project_conv (Conv2D)  (None, None, None,   38400       ['block4b_se_excite[0][0]']      \n",
            "                                80)                                                               \n",
            "                                                                                                  \n",
            " block4b_project_bn (BatchNorma  (None, None, None,   320        ['block4b_project_conv[0][0]']   \n",
            " lization)                      80)                                                               \n",
            "                                                                                                  \n",
            " block4b_drop (Dropout)         (None, None, None,   0           ['block4b_project_bn[0][0]']     \n",
            "                                80)                                                               \n",
            "                                                                                                  \n",
            " block4b_add (Add)              (None, None, None,   0           ['block4b_drop[0][0]',           \n",
            "                                80)                               'block4a_project_bn[0][0]']     \n",
            "                                                                                                  \n",
            " block4c_expand_conv (Conv2D)   (None, None, None,   38400       ['block4b_add[0][0]']            \n",
            "                                480)                                                              \n",
            "                                                                                                  \n",
            " block4c_expand_bn (BatchNormal  (None, None, None,   1920       ['block4c_expand_conv[0][0]']    \n",
            " ization)                       480)                                                              \n",
            "                                                                                                  \n",
            " block4c_expand_activation (Act  (None, None, None,   0          ['block4c_expand_bn[0][0]']      \n",
            " ivation)                       480)                                                              \n",
            "                                                                                                  \n",
            " block4c_dwconv (DepthwiseConv2  (None, None, None,   4320       ['block4c_expand_activation[0][0]\n",
            " D)                             480)                             ']                               \n",
            "                                                                                                  \n",
            " block4c_bn (BatchNormalization  (None, None, None,   1920       ['block4c_dwconv[0][0]']         \n",
            " )                              480)                                                              \n",
            "                                                                                                  \n",
            " block4c_activation (Activation  (None, None, None,   0          ['block4c_bn[0][0]']             \n",
            " )                              480)                                                              \n",
            "                                                                                                  \n",
            " block4c_se_squeeze (GlobalAver  (None, 480)         0           ['block4c_activation[0][0]']     \n",
            " agePooling2D)                                                                                    \n",
            "                                                                                                  \n",
            " block4c_se_reshape (Reshape)   (None, 1, 1, 480)    0           ['block4c_se_squeeze[0][0]']     \n",
            "                                                                                                  \n",
            " block4c_se_reduce (Conv2D)     (None, 1, 1, 20)     9620        ['block4c_se_reshape[0][0]']     \n",
            "                                                                                                  \n",
            " block4c_se_expand (Conv2D)     (None, 1, 1, 480)    10080       ['block4c_se_reduce[0][0]']      \n",
            "                                                                                                  \n",
            " block4c_se_excite (Multiply)   (None, None, None,   0           ['block4c_activation[0][0]',     \n",
            "                                480)                              'block4c_se_expand[0][0]']      \n",
            "                                                                                                  \n",
            " block4c_project_conv (Conv2D)  (None, None, None,   38400       ['block4c_se_excite[0][0]']      \n",
            "                                80)                                                               \n",
            "                                                                                                  \n",
            " block4c_project_bn (BatchNorma  (None, None, None,   320        ['block4c_project_conv[0][0]']   \n",
            " lization)                      80)                                                               \n",
            "                                                                                                  \n",
            " block4c_drop (Dropout)         (None, None, None,   0           ['block4c_project_bn[0][0]']     \n",
            "                                80)                                                               \n",
            "                                                                                                  \n",
            " block4c_add (Add)              (None, None, None,   0           ['block4c_drop[0][0]',           \n",
            "                                80)                               'block4b_add[0][0]']            \n",
            "                                                                                                  \n",
            " block5a_expand_conv (Conv2D)   (None, None, None,   38400       ['block4c_add[0][0]']            \n",
            "                                480)                                                              \n",
            "                                                                                                  \n",
            " block5a_expand_bn (BatchNormal  (None, None, None,   1920       ['block5a_expand_conv[0][0]']    \n",
            " ization)                       480)                                                              \n",
            "                                                                                                  \n",
            " block5a_expand_activation (Act  (None, None, None,   0          ['block5a_expand_bn[0][0]']      \n",
            " ivation)                       480)                                                              \n",
            "                                                                                                  \n",
            " block5a_dwconv (DepthwiseConv2  (None, None, None,   12000      ['block5a_expand_activation[0][0]\n",
            " D)                             480)                             ']                               \n",
            "                                                                                                  \n",
            " block5a_bn (BatchNormalization  (None, None, None,   1920       ['block5a_dwconv[0][0]']         \n",
            " )                              480)                                                              \n",
            "                                                                                                  \n",
            " block5a_activation (Activation  (None, None, None,   0          ['block5a_bn[0][0]']             \n",
            " )                              480)                                                              \n",
            "                                                                                                  \n",
            " block5a_se_squeeze (GlobalAver  (None, 480)         0           ['block5a_activation[0][0]']     \n",
            " agePooling2D)                                                                                    \n",
            "                                                                                                  \n",
            " block5a_se_reshape (Reshape)   (None, 1, 1, 480)    0           ['block5a_se_squeeze[0][0]']     \n",
            "                                                                                                  \n",
            " block5a_se_reduce (Conv2D)     (None, 1, 1, 20)     9620        ['block5a_se_reshape[0][0]']     \n",
            "                                                                                                  \n",
            " block5a_se_expand (Conv2D)     (None, 1, 1, 480)    10080       ['block5a_se_reduce[0][0]']      \n",
            "                                                                                                  \n",
            " block5a_se_excite (Multiply)   (None, None, None,   0           ['block5a_activation[0][0]',     \n",
            "                                480)                              'block5a_se_expand[0][0]']      \n",
            "                                                                                                  \n",
            " block5a_project_conv (Conv2D)  (None, None, None,   53760       ['block5a_se_excite[0][0]']      \n",
            "                                112)                                                              \n",
            "                                                                                                  \n",
            " block5a_project_bn (BatchNorma  (None, None, None,   448        ['block5a_project_conv[0][0]']   \n",
            " lization)                      112)                                                              \n",
            "                                                                                                  \n",
            " block5b_expand_conv (Conv2D)   (None, None, None,   75264       ['block5a_project_bn[0][0]']     \n",
            "                                672)                                                              \n",
            "                                                                                                  \n",
            " block5b_expand_bn (BatchNormal  (None, None, None,   2688       ['block5b_expand_conv[0][0]']    \n",
            " ization)                       672)                                                              \n",
            "                                                                                                  \n",
            " block5b_expand_activation (Act  (None, None, None,   0          ['block5b_expand_bn[0][0]']      \n",
            " ivation)                       672)                                                              \n",
            "                                                                                                  \n",
            " block5b_dwconv (DepthwiseConv2  (None, None, None,   16800      ['block5b_expand_activation[0][0]\n",
            " D)                             672)                             ']                               \n",
            "                                                                                                  \n",
            " block5b_bn (BatchNormalization  (None, None, None,   2688       ['block5b_dwconv[0][0]']         \n",
            " )                              672)                                                              \n",
            "                                                                                                  \n",
            " block5b_activation (Activation  (None, None, None,   0          ['block5b_bn[0][0]']             \n",
            " )                              672)                                                              \n",
            "                                                                                                  \n",
            " block5b_se_squeeze (GlobalAver  (None, 672)         0           ['block5b_activation[0][0]']     \n",
            " agePooling2D)                                                                                    \n",
            "                                                                                                  \n",
            " block5b_se_reshape (Reshape)   (None, 1, 1, 672)    0           ['block5b_se_squeeze[0][0]']     \n",
            "                                                                                                  \n",
            " block5b_se_reduce (Conv2D)     (None, 1, 1, 28)     18844       ['block5b_se_reshape[0][0]']     \n",
            "                                                                                                  \n",
            " block5b_se_expand (Conv2D)     (None, 1, 1, 672)    19488       ['block5b_se_reduce[0][0]']      \n",
            "                                                                                                  \n",
            " block5b_se_excite (Multiply)   (None, None, None,   0           ['block5b_activation[0][0]',     \n",
            "                                672)                              'block5b_se_expand[0][0]']      \n",
            "                                                                                                  \n",
            " block5b_project_conv (Conv2D)  (None, None, None,   75264       ['block5b_se_excite[0][0]']      \n",
            "                                112)                                                              \n",
            "                                                                                                  \n",
            " block5b_project_bn (BatchNorma  (None, None, None,   448        ['block5b_project_conv[0][0]']   \n",
            " lization)                      112)                                                              \n",
            "                                                                                                  \n",
            " block5b_drop (Dropout)         (None, None, None,   0           ['block5b_project_bn[0][0]']     \n",
            "                                112)                                                              \n",
            "                                                                                                  \n",
            " block5b_add (Add)              (None, None, None,   0           ['block5b_drop[0][0]',           \n",
            "                                112)                              'block5a_project_bn[0][0]']     \n",
            "                                                                                                  \n",
            " block5c_expand_conv (Conv2D)   (None, None, None,   75264       ['block5b_add[0][0]']            \n",
            "                                672)                                                              \n",
            "                                                                                                  \n",
            " block5c_expand_bn (BatchNormal  (None, None, None,   2688       ['block5c_expand_conv[0][0]']    \n",
            " ization)                       672)                                                              \n",
            "                                                                                                  \n",
            " block5c_expand_activation (Act  (None, None, None,   0          ['block5c_expand_bn[0][0]']      \n",
            " ivation)                       672)                                                              \n",
            "                                                                                                  \n",
            " block5c_dwconv (DepthwiseConv2  (None, None, None,   16800      ['block5c_expand_activation[0][0]\n",
            " D)                             672)                             ']                               \n",
            "                                                                                                  \n",
            " block5c_bn (BatchNormalization  (None, None, None,   2688       ['block5c_dwconv[0][0]']         \n",
            " )                              672)                                                              \n",
            "                                                                                                  \n",
            " block5c_activation (Activation  (None, None, None,   0          ['block5c_bn[0][0]']             \n",
            " )                              672)                                                              \n",
            "                                                                                                  \n",
            " block5c_se_squeeze (GlobalAver  (None, 672)         0           ['block5c_activation[0][0]']     \n",
            " agePooling2D)                                                                                    \n",
            "                                                                                                  \n",
            " block5c_se_reshape (Reshape)   (None, 1, 1, 672)    0           ['block5c_se_squeeze[0][0]']     \n",
            "                                                                                                  \n",
            " block5c_se_reduce (Conv2D)     (None, 1, 1, 28)     18844       ['block5c_se_reshape[0][0]']     \n",
            "                                                                                                  \n",
            " block5c_se_expand (Conv2D)     (None, 1, 1, 672)    19488       ['block5c_se_reduce[0][0]']      \n",
            "                                                                                                  \n",
            " block5c_se_excite (Multiply)   (None, None, None,   0           ['block5c_activation[0][0]',     \n",
            "                                672)                              'block5c_se_expand[0][0]']      \n",
            "                                                                                                  \n",
            " block5c_project_conv (Conv2D)  (None, None, None,   75264       ['block5c_se_excite[0][0]']      \n",
            "                                112)                                                              \n",
            "                                                                                                  \n",
            " block5c_project_bn (BatchNorma  (None, None, None,   448        ['block5c_project_conv[0][0]']   \n",
            " lization)                      112)                                                              \n",
            "                                                                                                  \n",
            " block5c_drop (Dropout)         (None, None, None,   0           ['block5c_project_bn[0][0]']     \n",
            "                                112)                                                              \n",
            "                                                                                                  \n",
            " block5c_add (Add)              (None, None, None,   0           ['block5c_drop[0][0]',           \n",
            "                                112)                              'block5b_add[0][0]']            \n",
            "                                                                                                  \n",
            " block6a_expand_conv (Conv2D)   (None, None, None,   75264       ['block5c_add[0][0]']            \n",
            "                                672)                                                              \n",
            "                                                                                                  \n",
            " block6a_expand_bn (BatchNormal  (None, None, None,   2688       ['block6a_expand_conv[0][0]']    \n",
            " ization)                       672)                                                              \n",
            "                                                                                                  \n",
            " block6a_expand_activation (Act  (None, None, None,   0          ['block6a_expand_bn[0][0]']      \n",
            " ivation)                       672)                                                              \n",
            "                                                                                                  \n",
            " block6a_dwconv_pad (ZeroPaddin  (None, None, None,   0          ['block6a_expand_activation[0][0]\n",
            " g2D)                           672)                             ']                               \n",
            "                                                                                                  \n",
            " block6a_dwconv (DepthwiseConv2  (None, None, None,   16800      ['block6a_dwconv_pad[0][0]']     \n",
            " D)                             672)                                                              \n",
            "                                                                                                  \n",
            " block6a_bn (BatchNormalization  (None, None, None,   2688       ['block6a_dwconv[0][0]']         \n",
            " )                              672)                                                              \n",
            "                                                                                                  \n",
            " block6a_activation (Activation  (None, None, None,   0          ['block6a_bn[0][0]']             \n",
            " )                              672)                                                              \n",
            "                                                                                                  \n",
            " block6a_se_squeeze (GlobalAver  (None, 672)         0           ['block6a_activation[0][0]']     \n",
            " agePooling2D)                                                                                    \n",
            "                                                                                                  \n",
            " block6a_se_reshape (Reshape)   (None, 1, 1, 672)    0           ['block6a_se_squeeze[0][0]']     \n",
            "                                                                                                  \n",
            " block6a_se_reduce (Conv2D)     (None, 1, 1, 28)     18844       ['block6a_se_reshape[0][0]']     \n",
            "                                                                                                  \n",
            " block6a_se_expand (Conv2D)     (None, 1, 1, 672)    19488       ['block6a_se_reduce[0][0]']      \n",
            "                                                                                                  \n",
            " block6a_se_excite (Multiply)   (None, None, None,   0           ['block6a_activation[0][0]',     \n",
            "                                672)                              'block6a_se_expand[0][0]']      \n",
            "                                                                                                  \n",
            " block6a_project_conv (Conv2D)  (None, None, None,   129024      ['block6a_se_excite[0][0]']      \n",
            "                                192)                                                              \n",
            "                                                                                                  \n",
            " block6a_project_bn (BatchNorma  (None, None, None,   768        ['block6a_project_conv[0][0]']   \n",
            " lization)                      192)                                                              \n",
            "                                                                                                  \n",
            " block6b_expand_conv (Conv2D)   (None, None, None,   221184      ['block6a_project_bn[0][0]']     \n",
            "                                1152)                                                             \n",
            "                                                                                                  \n",
            " block6b_expand_bn (BatchNormal  (None, None, None,   4608       ['block6b_expand_conv[0][0]']    \n",
            " ization)                       1152)                                                             \n",
            "                                                                                                  \n",
            " block6b_expand_activation (Act  (None, None, None,   0          ['block6b_expand_bn[0][0]']      \n",
            " ivation)                       1152)                                                             \n",
            "                                                                                                  \n",
            " block6b_dwconv (DepthwiseConv2  (None, None, None,   28800      ['block6b_expand_activation[0][0]\n",
            " D)                             1152)                            ']                               \n",
            "                                                                                                  \n",
            " block6b_bn (BatchNormalization  (None, None, None,   4608       ['block6b_dwconv[0][0]']         \n",
            " )                              1152)                                                             \n",
            "                                                                                                  \n",
            " block6b_activation (Activation  (None, None, None,   0          ['block6b_bn[0][0]']             \n",
            " )                              1152)                                                             \n",
            "                                                                                                  \n",
            " block6b_se_squeeze (GlobalAver  (None, 1152)        0           ['block6b_activation[0][0]']     \n",
            " agePooling2D)                                                                                    \n",
            "                                                                                                  \n",
            " block6b_se_reshape (Reshape)   (None, 1, 1, 1152)   0           ['block6b_se_squeeze[0][0]']     \n",
            "                                                                                                  \n",
            " block6b_se_reduce (Conv2D)     (None, 1, 1, 48)     55344       ['block6b_se_reshape[0][0]']     \n",
            "                                                                                                  \n",
            " block6b_se_expand (Conv2D)     (None, 1, 1, 1152)   56448       ['block6b_se_reduce[0][0]']      \n",
            "                                                                                                  \n",
            " block6b_se_excite (Multiply)   (None, None, None,   0           ['block6b_activation[0][0]',     \n",
            "                                1152)                             'block6b_se_expand[0][0]']      \n",
            "                                                                                                  \n",
            " block6b_project_conv (Conv2D)  (None, None, None,   221184      ['block6b_se_excite[0][0]']      \n",
            "                                192)                                                              \n",
            "                                                                                                  \n",
            " block6b_project_bn (BatchNorma  (None, None, None,   768        ['block6b_project_conv[0][0]']   \n",
            " lization)                      192)                                                              \n",
            "                                                                                                  \n",
            " block6b_drop (Dropout)         (None, None, None,   0           ['block6b_project_bn[0][0]']     \n",
            "                                192)                                                              \n",
            "                                                                                                  \n",
            " block6b_add (Add)              (None, None, None,   0           ['block6b_drop[0][0]',           \n",
            "                                192)                              'block6a_project_bn[0][0]']     \n",
            "                                                                                                  \n",
            " block6c_expand_conv (Conv2D)   (None, None, None,   221184      ['block6b_add[0][0]']            \n",
            "                                1152)                                                             \n",
            "                                                                                                  \n",
            " block6c_expand_bn (BatchNormal  (None, None, None,   4608       ['block6c_expand_conv[0][0]']    \n",
            " ization)                       1152)                                                             \n",
            "                                                                                                  \n",
            " block6c_expand_activation (Act  (None, None, None,   0          ['block6c_expand_bn[0][0]']      \n",
            " ivation)                       1152)                                                             \n",
            "                                                                                                  \n",
            " block6c_dwconv (DepthwiseConv2  (None, None, None,   28800      ['block6c_expand_activation[0][0]\n",
            " D)                             1152)                            ']                               \n",
            "                                                                                                  \n",
            " block6c_bn (BatchNormalization  (None, None, None,   4608       ['block6c_dwconv[0][0]']         \n",
            " )                              1152)                                                             \n",
            "                                                                                                  \n",
            " block6c_activation (Activation  (None, None, None,   0          ['block6c_bn[0][0]']             \n",
            " )                              1152)                                                             \n",
            "                                                                                                  \n",
            " block6c_se_squeeze (GlobalAver  (None, 1152)        0           ['block6c_activation[0][0]']     \n",
            " agePooling2D)                                                                                    \n",
            "                                                                                                  \n",
            " block6c_se_reshape (Reshape)   (None, 1, 1, 1152)   0           ['block6c_se_squeeze[0][0]']     \n",
            "                                                                                                  \n",
            " block6c_se_reduce (Conv2D)     (None, 1, 1, 48)     55344       ['block6c_se_reshape[0][0]']     \n",
            "                                                                                                  \n",
            " block6c_se_expand (Conv2D)     (None, 1, 1, 1152)   56448       ['block6c_se_reduce[0][0]']      \n",
            "                                                                                                  \n",
            " block6c_se_excite (Multiply)   (None, None, None,   0           ['block6c_activation[0][0]',     \n",
            "                                1152)                             'block6c_se_expand[0][0]']      \n",
            "                                                                                                  \n",
            " block6c_project_conv (Conv2D)  (None, None, None,   221184      ['block6c_se_excite[0][0]']      \n",
            "                                192)                                                              \n",
            "                                                                                                  \n",
            " block6c_project_bn (BatchNorma  (None, None, None,   768        ['block6c_project_conv[0][0]']   \n",
            " lization)                      192)                                                              \n",
            "                                                                                                  \n",
            " block6c_drop (Dropout)         (None, None, None,   0           ['block6c_project_bn[0][0]']     \n",
            "                                192)                                                              \n",
            "                                                                                                  \n",
            " block6c_add (Add)              (None, None, None,   0           ['block6c_drop[0][0]',           \n",
            "                                192)                              'block6b_add[0][0]']            \n",
            "                                                                                                  \n",
            " block6d_expand_conv (Conv2D)   (None, None, None,   221184      ['block6c_add[0][0]']            \n",
            "                                1152)                                                             \n",
            "                                                                                                  \n",
            " block6d_expand_bn (BatchNormal  (None, None, None,   4608       ['block6d_expand_conv[0][0]']    \n",
            " ization)                       1152)                                                             \n",
            "                                                                                                  \n",
            " block6d_expand_activation (Act  (None, None, None,   0          ['block6d_expand_bn[0][0]']      \n",
            " ivation)                       1152)                                                             \n",
            "                                                                                                  \n",
            " block6d_dwconv (DepthwiseConv2  (None, None, None,   28800      ['block6d_expand_activation[0][0]\n",
            " D)                             1152)                            ']                               \n",
            "                                                                                                  \n",
            " block6d_bn (BatchNormalization  (None, None, None,   4608       ['block6d_dwconv[0][0]']         \n",
            " )                              1152)                                                             \n",
            "                                                                                                  \n",
            " block6d_activation (Activation  (None, None, None,   0          ['block6d_bn[0][0]']             \n",
            " )                              1152)                                                             \n",
            "                                                                                                  \n",
            " block6d_se_squeeze (GlobalAver  (None, 1152)        0           ['block6d_activation[0][0]']     \n",
            " agePooling2D)                                                                                    \n",
            "                                                                                                  \n",
            " block6d_se_reshape (Reshape)   (None, 1, 1, 1152)   0           ['block6d_se_squeeze[0][0]']     \n",
            "                                                                                                  \n",
            " block6d_se_reduce (Conv2D)     (None, 1, 1, 48)     55344       ['block6d_se_reshape[0][0]']     \n",
            "                                                                                                  \n",
            " block6d_se_expand (Conv2D)     (None, 1, 1, 1152)   56448       ['block6d_se_reduce[0][0]']      \n",
            "                                                                                                  \n",
            " block6d_se_excite (Multiply)   (None, None, None,   0           ['block6d_activation[0][0]',     \n",
            "                                1152)                             'block6d_se_expand[0][0]']      \n",
            "                                                                                                  \n",
            " block6d_project_conv (Conv2D)  (None, None, None,   221184      ['block6d_se_excite[0][0]']      \n",
            "                                192)                                                              \n",
            "                                                                                                  \n",
            " block6d_project_bn (BatchNorma  (None, None, None,   768        ['block6d_project_conv[0][0]']   \n",
            " lization)                      192)                                                              \n",
            "                                                                                                  \n",
            " block6d_drop (Dropout)         (None, None, None,   0           ['block6d_project_bn[0][0]']     \n",
            "                                192)                                                              \n",
            "                                                                                                  \n",
            " block6d_add (Add)              (None, None, None,   0           ['block6d_drop[0][0]',           \n",
            "                                192)                              'block6c_add[0][0]']            \n",
            "                                                                                                  \n",
            " block7a_expand_conv (Conv2D)   (None, None, None,   221184      ['block6d_add[0][0]']            \n",
            "                                1152)                                                             \n",
            "                                                                                                  \n",
            " block7a_expand_bn (BatchNormal  (None, None, None,   4608       ['block7a_expand_conv[0][0]']    \n",
            " ization)                       1152)                                                             \n",
            "                                                                                                  \n",
            " block7a_expand_activation (Act  (None, None, None,   0          ['block7a_expand_bn[0][0]']      \n",
            " ivation)                       1152)                                                             \n",
            "                                                                                                  \n",
            " block7a_dwconv (DepthwiseConv2  (None, None, None,   10368      ['block7a_expand_activation[0][0]\n",
            " D)                             1152)                            ']                               \n",
            "                                                                                                  \n",
            " block7a_bn (BatchNormalization  (None, None, None,   4608       ['block7a_dwconv[0][0]']         \n",
            " )                              1152)                                                             \n",
            "                                                                                                  \n",
            " block7a_activation (Activation  (None, None, None,   0          ['block7a_bn[0][0]']             \n",
            " )                              1152)                                                             \n",
            "                                                                                                  \n",
            " block7a_se_squeeze (GlobalAver  (None, 1152)        0           ['block7a_activation[0][0]']     \n",
            " agePooling2D)                                                                                    \n",
            "                                                                                                  \n",
            " block7a_se_reshape (Reshape)   (None, 1, 1, 1152)   0           ['block7a_se_squeeze[0][0]']     \n",
            "                                                                                                  \n",
            " block7a_se_reduce (Conv2D)     (None, 1, 1, 48)     55344       ['block7a_se_reshape[0][0]']     \n",
            "                                                                                                  \n",
            " block7a_se_expand (Conv2D)     (None, 1, 1, 1152)   56448       ['block7a_se_reduce[0][0]']      \n",
            "                                                                                                  \n",
            " block7a_se_excite (Multiply)   (None, None, None,   0           ['block7a_activation[0][0]',     \n",
            "                                1152)                             'block7a_se_expand[0][0]']      \n",
            "                                                                                                  \n",
            " block7a_project_conv (Conv2D)  (None, None, None,   368640      ['block7a_se_excite[0][0]']      \n",
            "                                320)                                                              \n",
            "                                                                                                  \n",
            " block7a_project_bn (BatchNorma  (None, None, None,   1280       ['block7a_project_conv[0][0]']   \n",
            " lization)                      320)                                                              \n",
            "                                                                                                  \n",
            " top_conv (Conv2D)              (None, None, None,   409600      ['block7a_project_bn[0][0]']     \n",
            "                                1280)                                                             \n",
            "                                                                                                  \n",
            " top_bn (BatchNormalization)    (None, None, None,   5120        ['top_conv[0][0]']               \n",
            "                                1280)                                                             \n",
            "                                                                                                  \n",
            " top_activation (Activation)    (None, None, None,   0           ['top_bn[0][0]']                 \n",
            "                                1280)                                                             \n",
            "                                                                                                  \n",
            "==================================================================================================\n",
            "Total params: 4,049,571\n",
            "Trainable params: 0\n",
            "Non-trainable params: 4,049,571\n",
            "__________________________________________________________________________________________________\n"
          ]
        }
      ]
    },
    {
      "cell_type": "code",
      "source": [
        "model_0.summary()"
      ],
      "metadata": {
        "colab": {
          "base_uri": "https://localhost:8080/"
        },
        "id": "lxW1m12YNPzV",
        "outputId": "fffae2d2-864b-417f-8a1e-d817c2b9597d"
      },
      "execution_count": 16,
      "outputs": [
        {
          "output_type": "stream",
          "name": "stdout",
          "text": [
            "Model: \"model\"\n",
            "_________________________________________________________________\n",
            " Layer (type)                Output Shape              Param #   \n",
            "=================================================================\n",
            " input_layer (InputLayer)    [(None, 224, 224, 3)]     0         \n",
            "                                                                 \n",
            " efficientnetb0 (Functional)  (None, None, None, 1280)  4049571  \n",
            "                                                                 \n",
            " global_average_pooling_laye  (None, 1280)             0         \n",
            " r (GlobalAveragePooling2D)                                      \n",
            "                                                                 \n",
            " output_layer (Dense)        (None, 10)                12810     \n",
            "                                                                 \n",
            "=================================================================\n",
            "Total params: 4,062,381\n",
            "Trainable params: 12,810\n",
            "Non-trainable params: 4,049,571\n",
            "_________________________________________________________________\n"
          ]
        }
      ]
    },
    {
      "cell_type": "code",
      "source": [
        "# Check out our model's training curves\n",
        "plot_loss_curves(history_10_percent)"
      ],
      "metadata": {
        "colab": {
          "base_uri": "https://localhost:8080/",
          "height": 573
        },
        "id": "6xsxeWobNlP8",
        "outputId": "3c31f0f5-ea53-4096-b14d-fbd5ad42a3fa"
      },
      "execution_count": 17,
      "outputs": [
        {
          "output_type": "display_data",
          "data": {
            "text/plain": [
              "<Figure size 432x288 with 1 Axes>"
            ],
            "image/png": "[encoded data removed]"
          },
          "metadata": {
            "needs_background": "light"
          }
        },
        {
          "output_type": "display_data",
          "data": {
            "text/plain": [
              "<Figure size 432x288 with 1 Axes>"
            ],
            "image/png": "[encoded data removed]"
          },
          "metadata": {
            "needs_background": "light"
          }
        }
      ]
    },
    {
      "cell_type": "markdown",
      "source": [
        "## Getting a feature vector from a trained model\n",
        "🤔 Question: What happens with the tf.keras.layers.GlobalAveragePooling2D() layer? I haven't seen it before.\n",
        "\n",
        "The tf.keras.layers.GlobalAveragePooling2D() layer transforms a 4D tensor into a 2D tensor by averaging the values across the inner-axes."
      ],
      "metadata": {
        "id": "-9Hu2i5dN_kj"
      }
    },
    {
      "cell_type": "code",
      "source": [
        "tf.random.set_seed(42)\n",
        "a=tf.random.normal([1,4,4,7])\n",
        "tf.keras.layers.GlobalAveragePooling2D()(a)\n",
        "# gives vector with dimension(1,7) is called our feature vector and this is feed to last dense layer which is only layer that gets trained and classify. converts tensor to vector. it may be 2D shape but it gives just a vector."
      ],
      "metadata": {
        "colab": {
          "base_uri": "https://localhost:8080/"
        },
        "id": "K0NNwiGIRfuW",
        "outputId": "c3d5f58f-087a-450f-f137-e7dd27376f0e"
      },
      "execution_count": 18,
      "outputs": [
        {
          "output_type": "execute_result",
          "data": {
            "text/plain": [
              "<tf.Tensor: shape=(1, 7), dtype=float32, numpy=\n",
              "array([[ 0.10615583, -0.07545105,  0.1375745 , -0.47763708, -0.21507592,\n",
              "        -0.28576303, -0.0380312 ]], dtype=float32)>"
            ]
          },
          "metadata": {},
          "execution_count": 18
        }
      ]
    },
    {
      "cell_type": "code",
      "source": [
        "tf.reduce_mean(a, [1,2])\n",
        "# replicating avg pool 2D\n"
      ],
      "metadata": {
        "colab": {
          "base_uri": "https://localhost:8080/"
        },
        "id": "KSYevmBmSAB_",
        "outputId": "4e55a372-2691-4bcd-ef40-b0413d788b4e"
      },
      "execution_count": 19,
      "outputs": [
        {
          "output_type": "execute_result",
          "data": {
            "text/plain": [
              "<tf.Tensor: shape=(1, 7), dtype=float32, numpy=\n",
              "array([[ 0.10615583, -0.07545105,  0.1375745 , -0.47763708, -0.21507592,\n",
              "        -0.28576303, -0.0380312 ]], dtype=float32)>"
            ]
          },
          "metadata": {},
          "execution_count": 19
        }
      ]
    },
    {
      "cell_type": "code",
      "source": [
        "# feature extraction gives feature vector\n",
        "# feature extraction to extract the feature base model has learned and use it to classify"
      ],
      "metadata": {
        "id": "DdV69HYdSFnY"
      },
      "execution_count": 20,
      "outputs": []
    },
    {
      "cell_type": "markdown",
      "source": [
        "# getting feature vector/extract feature using max pool 2D"
      ],
      "metadata": {
        "id": "3c-dfuHXTSv0"
      }
    },
    {
      "cell_type": "code",
      "source": [
        "tf.random.set_seed(42)\n",
        "a=tf.random.normal([1,4,4,7])\n",
        "tf.keras.layers.GlobalMaxPooling2D()(a)\n",
        "# gives vector with dimension(1,7) is called our feature vector and this is feed to last dense layer which is only layer that gets trained and classify. converts tensor to vector. it may be 2D shape but it gives just a vector."
      ],
      "metadata": {
        "colab": {
          "base_uri": "https://localhost:8080/"
        },
        "id": "yIAHVM01U_Ug",
        "outputId": "0ff1ec98-4ff5-43a8-d7ac-c04efea5ffbd"
      },
      "execution_count": 21,
      "outputs": [
        {
          "output_type": "execute_result",
          "data": {
            "text/plain": [
              "<tf.Tensor: shape=(1, 7), dtype=float32, numpy=\n",
              "array([[1.5063847 , 1.6994323 , 1.3617845 , 2.132039  , 1.4612    ,\n",
              "        0.97772694, 1.8619503 ]], dtype=float32)>"
            ]
          },
          "metadata": {},
          "execution_count": 21
        }
      ]
    },
    {
      "cell_type": "code",
      "source": [
        "tf.reduce_max(a, [1,2])\n",
        "# replicating max pool 2D"
      ],
      "metadata": {
        "colab": {
          "base_uri": "https://localhost:8080/"
        },
        "id": "foqtJ7ESVGWd",
        "outputId": "b61db094-acb8-4878-f97d-58015d1a7fd5"
      },
      "execution_count": 22,
      "outputs": [
        {
          "output_type": "execute_result",
          "data": {
            "text/plain": [
              "<tf.Tensor: shape=(1, 7), dtype=float32, numpy=\n",
              "array([[1.5063847 , 1.6994323 , 1.3617845 , 2.132039  , 1.4612    ,\n",
              "        0.97772694, 1.8619503 ]], dtype=float32)>"
            ]
          },
          "metadata": {},
          "execution_count": 22
        }
      ]
    },
    {
      "cell_type": "markdown",
      "source": [
        "Doing this not only makes the output of the base model compatible with the input shape requirement of our output layer (tf.keras.layers.Dense()), it also condenses the information found by the base model into a lower dimension feature vector.\n",
        "Note: One of the reasons feature extraction transfer learning is named how it is is because what often happens is a pretrained model outputs a feature vector (a long tensor of numbers, in our case, this is the output of the tf.keras.layers.GlobalAveragePooling2D() layer) which can then be used to extract patterns out of."
      ],
      "metadata": {
        "id": "TGfTe5ZvVKjr"
      }
    },
    {
      "cell_type": "markdown",
      "source": [
        "## Running a series of transfer learning experiments\n",
        "* model_1: Use feature extraction transfer learning on 1% of the training data with data augmentation.\n",
        "* model_2: Use feature extraction transfer learning on 10% of the training data with data augmentation.\n",
        "* model_3: Use fine-tuning transfer learning on 10% of the training data with data augmentation.\n",
        "* model_4: Use fine-tuning transfer learning on 100% of the training data with data augmentation.\n",
        "All experiments will be done using the EfficientNetB0 model within the tf.keras.applications module.\n",
        "To make sure we're keeping track of our experiments, we'll use our create_tensorboard_callback() function to log all of the model training logs.\n",
        "We'll construct each model using the Keras Functional API and instead of implementing data augmentation in the ImageDataGenerator class as we have previously, we're going to build it right into the model using the tf.keras.layers.experimental.preprocessing module."
      ],
      "metadata": {
        "id": "QUlDnvPiW5vd"
      }
    },
    {
      "cell_type": "code",
      "source": [
        "# Download and unzip data\n",
        "!wget https://storage.googleapis.com/ztm_tf_course/food_vision/10_food_classes_1_percent.zip\n",
        "unzip_data(\"10_food_classes_1_percent.zip\")\n",
        "\n",
        "# Create training and test dirs\n",
        "train_dir_1_percent = \"10_food_classes_1_percent/train/\"\n",
        "test_dir = \"10_food_classes_1_percent/test/\""
      ],
      "metadata": {
        "id": "WXkNRmGpgkk_",
        "colab": {
          "base_uri": "https://localhost:8080/"
        },
        "outputId": "33e196f7-7454-4a0e-f452-e33490b23d53"
      },
      "execution_count": 23,
      "outputs": [
        {
          "output_type": "stream",
          "name": "stdout",
          "text": [
            "--2023-02-22 06:26:43--  https://storage.googleapis.com/ztm_tf_course/food_vision/10_food_classes_1_percent.zip\n",
            "Resolving storage.googleapis.com (storage.googleapis.com)... 142.250.141.128, 142.251.2.128, 2607:f8b0:4023:c0b::80, ...\n",
            "Connecting to storage.googleapis.com (storage.googleapis.com)|142.250.141.128|:443... connected.\n",
            "HTTP request sent, awaiting response... 200 OK\n",
            "Length: 133612354 (127M) [application/zip]\n",
            "Saving to: ‘10_food_classes_1_percent.zip’\n",
            "\n",
            "10_food_classes_1_p 100%[===================>] 127.42M  79.0MB/s    in 1.6s    \n",
            "\n",
            "2023-02-22 06:26:45 (79.0 MB/s) - ‘10_food_classes_1_percent.zip’ saved [133612354/133612354]\n",
            "\n"
          ]
        }
      ]
    },
    {
      "cell_type": "code",
      "source": [
        "# Walk through 1 percent data directory and list number of files\n",
        "walk_through_dir(\"10_food_classes_1_percent\")"
      ],
      "metadata": {
        "colab": {
          "base_uri": "https://localhost:8080/"
        },
        "id": "83A6Vbw5Cjyb",
        "outputId": "910f3e0a-553f-4990-d9b5-9ab397526397"
      },
      "execution_count": 24,
      "outputs": [
        {
          "output_type": "stream",
          "name": "stdout",
          "text": [
            "There are 2 directories and 0 images in '10_food_classes_1_percent'.\n",
            "There are 10 directories and 0 images in '10_food_classes_1_percent/test'.\n",
            "There are 0 directories and 250 images in '10_food_classes_1_percent/test/grilled_salmon'.\n",
            "There are 0 directories and 250 images in '10_food_classes_1_percent/test/ice_cream'.\n",
            "There are 0 directories and 250 images in '10_food_classes_1_percent/test/chicken_wings'.\n",
            "There are 0 directories and 250 images in '10_food_classes_1_percent/test/hamburger'.\n",
            "There are 0 directories and 250 images in '10_food_classes_1_percent/test/steak'.\n",
            "There are 0 directories and 250 images in '10_food_classes_1_percent/test/sushi'.\n",
            "There are 0 directories and 250 images in '10_food_classes_1_percent/test/fried_rice'.\n",
            "There are 0 directories and 250 images in '10_food_classes_1_percent/test/chicken_curry'.\n",
            "There are 0 directories and 250 images in '10_food_classes_1_percent/test/pizza'.\n",
            "There are 0 directories and 250 images in '10_food_classes_1_percent/test/ramen'.\n",
            "There are 10 directories and 0 images in '10_food_classes_1_percent/train'.\n",
            "There are 0 directories and 7 images in '10_food_classes_1_percent/train/grilled_salmon'.\n",
            "There are 0 directories and 7 images in '10_food_classes_1_percent/train/ice_cream'.\n",
            "There are 0 directories and 7 images in '10_food_classes_1_percent/train/chicken_wings'.\n",
            "There are 0 directories and 7 images in '10_food_classes_1_percent/train/hamburger'.\n",
            "There are 0 directories and 7 images in '10_food_classes_1_percent/train/steak'.\n",
            "There are 0 directories and 7 images in '10_food_classes_1_percent/train/sushi'.\n",
            "There are 0 directories and 7 images in '10_food_classes_1_percent/train/fried_rice'.\n",
            "There are 0 directories and 7 images in '10_food_classes_1_percent/train/chicken_curry'.\n",
            "There are 0 directories and 7 images in '10_food_classes_1_percent/train/pizza'.\n",
            "There are 0 directories and 7 images in '10_food_classes_1_percent/train/ramen'.\n"
          ]
        }
      ]
    },
    {
      "cell_type": "code",
      "source": [
        "import tensorflow as tf\n",
        "IMG_SIZE = (224, 224)\n",
        "train_data_1_percent = tf.keras.preprocessing.image_dataset_from_directory(train_dir_1_percent,\n",
        "                                                                           label_mode=\"categorical\",\n",
        "                                                                           batch_size=32, # default\n",
        "                                                                           image_size=IMG_SIZE)\n",
        "test_data = tf.keras.preprocessing.image_dataset_from_directory(test_dir,\n",
        "                                                                label_mode=\"categorical\",\n",
        "                                                                image_size=IMG_SIZE)"
      ],
      "metadata": {
        "colab": {
          "base_uri": "https://localhost:8080/"
        },
        "id": "bZRP9AU9Cld0",
        "outputId": "a4966ecc-9295-4994-fd19-9519ae107f0f"
      },
      "execution_count": 25,
      "outputs": [
        {
          "output_type": "stream",
          "name": "stdout",
          "text": [
            "Found 70 files belonging to 10 classes.\n",
            "Found 2500 files belonging to 10 classes.\n"
          ]
        }
      ]
    },
    {
      "cell_type": "markdown",
      "source": [
        "## Adding data augmentation right into the model\n",
        "Previously we've used the different parameters of the ImageDataGenerator class to augment our training images, this time we're going to build data augmentation right into the model.\n",
        "\n",
        "How?\n",
        "\n",
        "Using the `tf.keras.layers.experimental.preprocessing` module and creating a dedicated data augmentation layer.\n",
        "\n",
        "To use data augmentation right within our model we'll create a Keras Sequential model consisting of only data preprocessing layers, we can then use this Sequential model within another Functional model.\n",
        "\n",
        "> This a relatively new feature added to TensorFlow 2.2+ but it's very powerful. Adding a data augmentation layer to the model has the following benefits:\n",
        "\n",
        "* Preprocessing of the images (augmenting them) happens on the GPU rather than on the CPU (much faster).\n",
        "Images are best preprocessed on the GPU where as text and structured data are more suited to be preprocessed on the CPU.\n",
        "* Image data augmentation only happens during training so we can still export our whole model and use it elsewhere. And if someone else wanted to train the same model as us, including the same kind of data augmentation, they could."
      ],
      "metadata": {
        "id": "r_C3QdQhDmYD"
      }
    },
    {
      "cell_type": "code",
      "source": [
        "import tensorflow as tf\n",
        "from tensorflow import keras\n",
        "from tensorflow.keras import layers\n",
        "from tensorflow.keras.layers.experimental import preprocessing\n",
        "\n",
        "# Create a data augmentation stage with horizontal flipping, rotations, zooms\n",
        "# dont confuse we are still using functional API model but one layers created using one sequential API in it.\n",
        "data_augmentation = keras.Sequential([\n",
        "  preprocessing.RandomFlip(\"horizontal\"),\n",
        "  preprocessing.RandomRotation(0.2),\n",
        "  preprocessing.RandomZoom(0.2),\n",
        "  preprocessing.RandomHeight(0.2),\n",
        "  preprocessing.RandomWidth(0.2),\n",
        "  # preprocessing.Rescaling(1./255) # keep for ResNet50V2, remove for EfficientNetB0\n",
        "], name =\"data_augmentation\")"
      ],
      "metadata": {
        "id": "nqJAVfmPu3aP"
      },
      "execution_count": 26,
      "outputs": []
    },
    {
      "cell_type": "code",
      "source": [
        "\n",
        "# View a random image\n",
        "import matplotlib.pyplot as plt\n",
        "import matplotlib.image as mpimg\n",
        "import os\n",
        "import random\n",
        "target_class = random.choice(train_data_1_percent.class_names) # choose a random class\n",
        "target_dir = \"10_food_classes_1_percent/train/\" + target_class # create the target directory\n",
        "random_image = random.choice(os.listdir(target_dir)) # choose a random image from target directory\n",
        "random_image_path = target_dir + \"/\" + random_image # create the choosen random image path\n",
        "img = mpimg.imread(random_image_path) # read in the chosen target image\n",
        "plt.imshow(img) # plot the target image\n",
        "plt.title(f\"Original random image from class: {target_class}\")\n",
        "plt.axis(False); # turn off the axes\n",
        "\n",
        "# Augment the image\n",
        "augmented_img = data_augmentation(tf.expand_dims(img, axis=0)) # data augmentation model requires shape (None, height, width, 3)\n",
        "plt.figure()\n",
        "plt.imshow(tf.squeeze(augmented_img)/255.) # requires normalization after augmentation\n",
        "# if its float, it need normalized 0 to 1 to show image else if it is int 0 to 255 range works.\n",
        "plt.title(f\"Augmented random image from class: {target_class}\")\n",
        "plt.axis(False);"
      ],
      "metadata": {
        "colab": {
          "base_uri": "https://localhost:8080/",
          "height": 878
        },
        "id": "V95Gl0SmKNKb",
        "outputId": "cdff189a-8cc6-47e7-af46-3245051e6598"
      },
      "execution_count": 27,
      "outputs": [
        {
          "output_type": "stream",
          "name": "stderr",
          "text": [
            "WARNING:tensorflow:Using a while_loop for converting RngReadAndSkip cause there is no registered converter for this op.\n",
            "WARNING:tensorflow:Using a while_loop for converting Bitcast cause there is no registered converter for this op.\n",
            "WARNING:tensorflow:Using a while_loop for converting Bitcast cause there is no registered converter for this op.\n",
            "WARNING:tensorflow:Using a while_loop for converting StatelessRandomUniformV2 cause there is no registered converter for this op.\n",
            "WARNING:tensorflow:Using a while_loop for converting ImageProjectiveTransformV3 cause there is no registered converter for this op.\n",
            "WARNING:tensorflow:Using a while_loop for converting RngReadAndSkip cause there is no registered converter for this op.\n",
            "WARNING:tensorflow:Using a while_loop for converting Bitcast cause there is no registered converter for this op.\n",
            "WARNING:tensorflow:Using a while_loop for converting Bitcast cause there is no registered converter for this op.\n",
            "WARNING:tensorflow:Using a while_loop for converting StatelessRandomUniformV2 cause there is no registered converter for this op.\n",
            "WARNING:tensorflow:Using a while_loop for converting ImageProjectiveTransformV3 cause there is no registered converter for this op.\n",
            "WARNING:tensorflow:Using a while_loop for converting RngReadAndSkip cause there is no registered converter for this op.\n",
            "WARNING:tensorflow:Using a while_loop for converting Bitcast cause there is no registered converter for this op.\n",
            "WARNING:tensorflow:Using a while_loop for converting Bitcast cause there is no registered converter for this op.\n",
            "WARNING:tensorflow:Using a while_loop for converting StatelessRandomUniformV2 cause there is no registered converter for this op.\n",
            "WARNING:tensorflow:Using a while_loop for converting ImageProjectiveTransformV3 cause there is no registered converter for this op.\n",
            "WARNING:tensorflow:Using a while_loop for converting RngReadAndSkip cause there is no registered converter for this op.\n",
            "WARNING:tensorflow:Using a while_loop for converting Bitcast cause there is no registered converter for this op.\n",
            "WARNING:tensorflow:Using a while_loop for converting Bitcast cause there is no registered converter for this op.\n",
            "WARNING:tensorflow:Using a while_loop for converting StatelessRandomUniformV2 cause there is no registered converter for this op.\n",
            "WARNING:tensorflow:Using a while_loop for converting ImageProjectiveTransformV3 cause there is no registered converter for this op.\n"
          ]
        },
        {
          "output_type": "display_data",
          "data": {
            "text/plain": [
              "<Figure size 432x288 with 1 Axes>"
            ],
            "image/png": "[encoded data removed]"
          },
          "metadata": {
            "needs_background": "light"
          }
        },
        {
          "output_type": "display_data",
          "data": {
            "text/plain": [
              "<Figure size 432x288 with 1 Axes>"
            ],
            "image/png": "[encoded data removed]"
          },
          "metadata": {
            "needs_background": "light"
          }
        }
      ]
    },
    {
      "cell_type": "markdown",
      "source": [
        "## Model 1: Feature extraction transfer learning on 1% of the data with data augmentation"
      ],
      "metadata": {
        "id": "DijX-2HXKaZ0"
      }
    },
    {
      "cell_type": "code",
      "source": [
        "# Setup input shape and base model, freezing the base model layers\n",
        "input_shape = (224, 224, 3)\n",
        "base_model = tf.keras.applications.EfficientNetB0(include_top=False)\n",
        "base_model.trainable = False\n",
        "\n",
        "# Create input layer\n",
        "inputs = layers.Input(shape=input_shape, name=\"input_layer\")\n",
        "\n",
        "# Add in data augmentation Sequential model as a layer/ gos to data augmentation layer only on training data\n",
        "x = data_augmentation(inputs)\n",
        "\n",
        "# Give base_model inputs (after augmentation) and don't train it\n",
        "x = base_model(x, training=False)\n",
        "\n",
        "# Pool output features of base model\n",
        "x = layers.GlobalAveragePooling2D(name=\"global_average_pooling_layer\")(x)\n",
        "\n",
        "# Put a dense layer on as the output\n",
        "outputs = layers.Dense(10, activation=\"softmax\", name=\"output_layer\")(x)\n",
        "\n",
        "# Make a model with inputs and outputs\n",
        "model_1 = keras.Model(inputs, outputs )\n",
        "\n",
        "# Compile the model\n",
        "model_1.compile(loss=\"categorical_crossentropy\",\n",
        "              optimizer=tf.keras.optimizers.Adam(),\n",
        "              metrics=[\"accuracy\"])\n",
        "\n",
        "# Fit the model\n",
        "history_1_percent = model_1.fit(train_data_1_percent,\n",
        "                    epochs=5,\n",
        "                    steps_per_epoch=len(train_data_1_percent),\n",
        "                    validation_data=test_data,\n",
        "                    validation_steps=int(0.25* len(test_data)), # validate for less steps\n",
        "                    # Track model training logs\n",
        "                    callbacks=[create_tensorboard_callback(\"transfer_learning\", \"1_percent_data_aug\")])\n",
        "# if it is model you do (x) and if its layer, you do (layer param)(x) "
      ],
      "metadata": {
        "colab": {
          "base_uri": "https://localhost:8080/"
        },
        "id": "BBXy-BIGR5Bj",
        "outputId": "7e8b7595-32ff-4b49-a97d-2134e9e75436"
      },
      "execution_count": 28,
      "outputs": [
        {
          "output_type": "stream",
          "name": "stderr",
          "text": [
            "WARNING:tensorflow:Using a while_loop for converting RngReadAndSkip cause there is no registered converter for this op.\n",
            "WARNING:tensorflow:Using a while_loop for converting Bitcast cause there is no registered converter for this op.\n",
            "WARNING:tensorflow:Using a while_loop for converting Bitcast cause there is no registered converter for this op.\n",
            "WARNING:tensorflow:Using a while_loop for converting StatelessRandomUniformV2 cause there is no registered converter for this op.\n",
            "WARNING:tensorflow:Using a while_loop for converting ImageProjectiveTransformV3 cause there is no registered converter for this op.\n",
            "WARNING:tensorflow:Using a while_loop for converting RngReadAndSkip cause there is no registered converter for this op.\n",
            "WARNING:tensorflow:Using a while_loop for converting Bitcast cause there is no registered converter for this op.\n",
            "WARNING:tensorflow:Using a while_loop for converting Bitcast cause there is no registered converter for this op.\n",
            "WARNING:tensorflow:Using a while_loop for converting StatelessRandomUniformV2 cause there is no registered converter for this op.\n",
            "WARNING:tensorflow:Using a while_loop for converting ImageProjectiveTransformV3 cause there is no registered converter for this op.\n",
            "WARNING:tensorflow:Using a while_loop for converting RngReadAndSkip cause there is no registered converter for this op.\n",
            "WARNING:tensorflow:Using a while_loop for converting Bitcast cause there is no registered converter for this op.\n",
            "WARNING:tensorflow:Using a while_loop for converting Bitcast cause there is no registered converter for this op.\n",
            "WARNING:tensorflow:Using a while_loop for converting StatelessRandomUniformV2 cause there is no registered converter for this op.\n",
            "WARNING:tensorflow:Using a while_loop for converting ImageProjectiveTransformV3 cause there is no registered converter for this op.\n",
            "WARNING:tensorflow:Using a while_loop for converting RngReadAndSkip cause there is no registered converter for this op.\n",
            "WARNING:tensorflow:Using a while_loop for converting Bitcast cause there is no registered converter for this op.\n",
            "WARNING:tensorflow:Using a while_loop for converting Bitcast cause there is no registered converter for this op.\n",
            "WARNING:tensorflow:Using a while_loop for converting StatelessRandomUniformV2 cause there is no registered converter for this op.\n",
            "WARNING:tensorflow:Using a while_loop for converting ImageProjectiveTransformV3 cause there is no registered converter for this op.\n",
            "WARNING:tensorflow:Model failed to serialize as JSON. Ignoring... Unable to serialize [2.0896919 2.1128857 2.1081853] to JSON. Unrecognized type <class 'tensorflow.python.framework.ops.EagerTensor'>.\n"
          ]
        },
        {
          "output_type": "stream",
          "name": "stdout",
          "text": [
            "Saving TensorBoard log files to: transfer_learning/1_percent_data_aug/20230222-062704\n",
            "Epoch 1/5\n"
          ]
        },
        {
          "output_type": "stream",
          "name": "stderr",
          "text": [
            "WARNING:tensorflow:Using a while_loop for converting RngReadAndSkip cause there is no registered converter for this op.\n",
            "WARNING:tensorflow:Using a while_loop for converting Bitcast cause there is no registered converter for this op.\n",
            "WARNING:tensorflow:Using a while_loop for converting Bitcast cause there is no registered converter for this op.\n",
            "WARNING:tensorflow:Using a while_loop for converting StatelessRandomUniformV2 cause there is no registered converter for this op.\n",
            "WARNING:tensorflow:Using a while_loop for converting ImageProjectiveTransformV3 cause there is no registered converter for this op.\n",
            "WARNING:tensorflow:Using a while_loop for converting RngReadAndSkip cause there is no registered converter for this op.\n",
            "WARNING:tensorflow:Using a while_loop for converting Bitcast cause there is no registered converter for this op.\n",
            "WARNING:tensorflow:Using a while_loop for converting Bitcast cause there is no registered converter for this op.\n",
            "WARNING:tensorflow:Using a while_loop for converting StatelessRandomUniformV2 cause there is no registered converter for this op.\n",
            "WARNING:tensorflow:Using a while_loop for converting ImageProjectiveTransformV3 cause there is no registered converter for this op.\n",
            "WARNING:tensorflow:Using a while_loop for converting RngReadAndSkip cause there is no registered converter for this op.\n",
            "WARNING:tensorflow:Using a while_loop for converting Bitcast cause there is no registered converter for this op.\n",
            "WARNING:tensorflow:Using a while_loop for converting Bitcast cause there is no registered converter for this op.\n",
            "WARNING:tensorflow:Using a while_loop for converting StatelessRandomUniformV2 cause there is no registered converter for this op.\n",
            "WARNING:tensorflow:Using a while_loop for converting ImageProjectiveTransformV3 cause there is no registered converter for this op.\n",
            "WARNING:tensorflow:Using a while_loop for converting RngReadAndSkip cause there is no registered converter for this op.\n",
            "WARNING:tensorflow:Using a while_loop for converting Bitcast cause there is no registered converter for this op.\n",
            "WARNING:tensorflow:Using a while_loop for converting Bitcast cause there is no registered converter for this op.\n",
            "WARNING:tensorflow:Using a while_loop for converting StatelessRandomUniformV2 cause there is no registered converter for this op.\n",
            "WARNING:tensorflow:Using a while_loop for converting ImageProjectiveTransformV3 cause there is no registered converter for this op.\n"
          ]
        },
        {
          "output_type": "stream",
          "name": "stdout",
          "text": [
            "3/3 [==============================] - 104s 43s/step - loss: 2.4523 - accuracy: 0.1143 - val_loss: 2.3102 - val_accuracy: 0.1447\n",
            "Epoch 2/5\n",
            "3/3 [==============================] - 47s 22s/step - loss: 2.2213 - accuracy: 0.1857 - val_loss: 2.1832 - val_accuracy: 0.2105\n",
            "Epoch 3/5\n",
            "3/3 [==============================] - 86s 42s/step - loss: 2.0390 - accuracy: 0.3143 - val_loss: 2.0394 - val_accuracy: 0.2648\n",
            "Epoch 4/5\n",
            "3/3 [==============================] - 88s 42s/step - loss: 1.7918 - accuracy: 0.5000 - val_loss: 1.9348 - val_accuracy: 0.3470\n",
            "Epoch 5/5\n",
            "3/3 [==============================] - 87s 42s/step - loss: 1.6318 - accuracy: 0.6286 - val_loss: 1.8538 - val_accuracy: 0.3980\n"
          ]
        }
      ]
    },
    {
      "cell_type": "code",
      "source": [
        "# Check out model summary\n",
        "model_1.summary()"
      ],
      "metadata": {
        "colab": {
          "base_uri": "https://localhost:8080/"
        },
        "id": "cYLPlfJTSfqb",
        "outputId": "b59351ee-e9ef-4de7-adcc-bd6a29c1b0c0"
      },
      "execution_count": 29,
      "outputs": [
        {
          "output_type": "stream",
          "name": "stdout",
          "text": [
            "Model: \"model_1\"\n",
            "_________________________________________________________________\n",
            " Layer (type)                Output Shape              Param #   \n",
            "=================================================================\n",
            " input_layer (InputLayer)    [(None, 224, 224, 3)]     0         \n",
            "                                                                 \n",
            " data_augmentation (Sequenti  (None, None, None, 3)    0         \n",
            " al)                                                             \n",
            "                                                                 \n",
            " efficientnetb0 (Functional)  (None, None, None, 1280)  4049571  \n",
            "                                                                 \n",
            " global_average_pooling_laye  (None, 1280)             0         \n",
            " r (GlobalAveragePooling2D)                                      \n",
            "                                                                 \n",
            " output_layer (Dense)        (None, 10)                12810     \n",
            "                                                                 \n",
            "=================================================================\n",
            "Total params: 4,062,381\n",
            "Trainable params: 12,810\n",
            "Non-trainable params: 4,049,571\n",
            "_________________________________________________________________\n"
          ]
        }
      ]
    },
    {
      "cell_type": "markdown",
      "source": [
        "There it is. We've now got data augmentation built right into the our model. This means if we saved it and reloaded it somewhere else, the data augmentation layers would come with it.\n",
        "\n",
        "The important thing to remember is data augmentation only runs during training. So if we were to evaluate or use our model for inference (predicting the class of an image) the data augmentation layers will be automatically turned off.\n",
        "\n",
        "To see this in action, let's evaluate our model on the test data."
      ],
      "metadata": {
        "id": "zQFuEnu7V8ll"
      }
    },
    {
      "cell_type": "code",
      "source": [
        "\n",
        "# Evaluate on the test data\n",
        "results_1_percent_data_aug = model_1.evaluate(test_data)\n",
        "results_1_percent_data_aug\n",
        "     "
      ],
      "metadata": {
        "colab": {
          "base_uri": "https://localhost:8080/"
        },
        "id": "1BOlTJU2Vh7a",
        "outputId": "d7fb0506-6680-4727-f290-e7f59245356f"
      },
      "execution_count": 30,
      "outputs": [
        {
          "output_type": "stream",
          "name": "stdout",
          "text": [
            "79/79 [==============================] - 167s 2s/step - loss: 1.8521 - accuracy: 0.4184\n"
          ]
        },
        {
          "output_type": "execute_result",
          "data": {
            "text/plain": [
              "[1.852146863937378, 0.41839998960494995]"
            ]
          },
          "metadata": {},
          "execution_count": 30
        }
      ]
    },
    {
      "cell_type": "code",
      "source": [
        "\n",
        "# How does the model go with a data augmentation layer with 1% of data\n",
        "plot_loss_curves(history_1_percent)"
      ],
      "metadata": {
        "colab": {
          "base_uri": "https://localhost:8080/",
          "height": 573
        },
        "id": "xCXR4ZpiVkx2",
        "outputId": "0a3c6c8d-b8c7-4fde-9a46-4846ce8b6b88"
      },
      "execution_count": 31,
      "outputs": [
        {
          "output_type": "display_data",
          "data": {
            "text/plain": [
              "<Figure size 432x288 with 1 Axes>"
            ],
            "image/png": "[encoded data removed]"
          },
          "metadata": {
            "needs_background": "light"
          }
        },
        {
          "output_type": "display_data",
          "data": {
            "text/plain": [
              "<Figure size 432x288 with 1 Axes>"
            ],
            "image/png": "[encoded data removed]"
          },
          "metadata": {
            "needs_background": "light"
          }
        }
      ]
    },
    {
      "cell_type": "markdown",
      "source": [
        "## Model 2: Feature extraction transfer learning with 10% of data and data augmentation"
      ],
      "metadata": {
        "id": "4ir24OxwWJdW"
      }
    },
    {
      "cell_type": "code",
      "source": [
        "# Get 10% of the data of the 10 classes (uncomment if you haven't gotten \"10_food_classes_10_percent.zip\" already)\n",
        "# !wget https://storage.googleapis.com/ztm_tf_course/food_vision/10_food_classes_10_percent.zip\n",
        "# unzip_data(\"10_food_classes_10_percent.zip\")\n",
        "\n",
        "train_dir_10_percent = \"10_food_classes_10_percent/train/\"\n",
        "test_dir = \"10_food_classes_10_percent/test/\""
      ],
      "metadata": {
        "id": "1608fHUOgPQy"
      },
      "execution_count": 32,
      "outputs": []
    },
    {
      "cell_type": "code",
      "source": [
        "# Setup data inputs\n",
        "import tensorflow as tf\n",
        "IMG_SIZE = (224, 224)\n",
        "train_data_10_percent = tf.keras.preprocessing.image_dataset_from_directory(train_dir_10_percent,\n",
        "                                                                            label_mode=\"categorical\",\n",
        "                                                                            image_size=IMG_SIZE)\n",
        "# Note: the test data is the same as the previous experiment, we could\n",
        "# skip creating this, but we'll leave this here to practice.\n",
        "test_data = tf.keras.preprocessing.image_dataset_from_directory(test_dir,\n",
        "                                                                label_mode=\"categorical\",\n",
        "                                                                image_size=IMG_SIZE)"
      ],
      "metadata": {
        "colab": {
          "base_uri": "https://localhost:8080/"
        },
        "id": "IAnpJsshgTQQ",
        "outputId": "3609f5c1-6ea4-4667-e3c4-eef7465c62ed"
      },
      "execution_count": 33,
      "outputs": [
        {
          "output_type": "stream",
          "name": "stdout",
          "text": [
            "Found 750 files belonging to 10 classes.\n",
            "Found 2500 files belonging to 10 classes.\n"
          ]
        }
      ]
    },
    {
      "cell_type": "code",
      "source": [
        "# Create a functional model with data augmentation\n",
        "import tensorflow as tf\n",
        "from tensorflow.keras import layers\n",
        "from tensorflow.keras.layers.experimental import preprocessing\n",
        "from tensorflow.keras.models import Sequential\n",
        "\n",
        "# Build data augmentation layer\n",
        "data_augmentation = Sequential([\n",
        "  preprocessing.RandomFlip('horizontal'),\n",
        "  preprocessing.RandomHeight(0.2),\n",
        "  preprocessing.RandomWidth(0.2),\n",
        "  preprocessing.RandomZoom(0.2),\n",
        "  preprocessing.RandomRotation(0.2),\n",
        "  # preprocessing.Rescaling(1./255) # keep for ResNet50V2, remove for EfficientNet                 \n",
        "], name=\"data_augmentation\")\n",
        "\n",
        "# Setup the input shape to our model\n",
        "input_shape = (224, 224, 3)\n",
        "\n",
        "# Create a frozen base model\n",
        "base_model = tf.keras.applications.EfficientNetB0(include_top=False)\n",
        "base_model.trainable = False\n",
        "\n",
        "# Create input and output layers\n",
        "# base model outputs multyi dimensional tensor and we compress it to feature vector using global avg pool2D()\n",
        "inputs = layers.Input(shape=input_shape, name=\"input_layer\") # create input layer\n",
        "x = data_augmentation(inputs) # augment our training images\n",
        "x = base_model(x, training=False) # pass augmented images to base model but keep it in inference mode, so batchnorm layers don't get updated: https://keras.io/guides/transfer_learning/#build-a-model \n",
        "# inference mode means all the layers of base model will be in inference model and training gets turned off for them. there weights dont gets updated and this insures batch norm layers dont get updated\n",
        "x = layers.GlobalAveragePooling2D(name=\"global_average_pooling_layer\")(x)\n",
        "outputs = layers.Dense(10, activation=\"softmax\", name=\"output_layer\")(x)\n",
        "model_2 = tf.keras.Model(inputs, outputs)\n",
        "\n",
        "# Compile\n",
        "model_2.compile(loss=\"categorical_crossentropy\",\n",
        "              optimizer=tf.keras.optimizers.Adam(lr=0.001), # use Adam optimizer with base learning rate\n",
        "              metrics=[\"accuracy\"])"
      ],
      "metadata": {
        "colab": {
          "base_uri": "https://localhost:8080/"
        },
        "id": "AV-JZO-_gZWy",
        "outputId": "504a80c6-2137-4545-fb16-005cb5aac296"
      },
      "execution_count": 34,
      "outputs": [
        {
          "output_type": "stream",
          "name": "stderr",
          "text": [
            "WARNING:tensorflow:Using a while_loop for converting RngReadAndSkip cause there is no registered converter for this op.\n",
            "WARNING:tensorflow:Using a while_loop for converting Bitcast cause there is no registered converter for this op.\n",
            "WARNING:tensorflow:Using a while_loop for converting Bitcast cause there is no registered converter for this op.\n",
            "WARNING:tensorflow:Using a while_loop for converting StatelessRandomUniformV2 cause there is no registered converter for this op.\n",
            "WARNING:tensorflow:Using a while_loop for converting ImageProjectiveTransformV3 cause there is no registered converter for this op.\n",
            "WARNING:tensorflow:Using a while_loop for converting RngReadAndSkip cause there is no registered converter for this op.\n",
            "WARNING:tensorflow:Using a while_loop for converting Bitcast cause there is no registered converter for this op.\n",
            "WARNING:tensorflow:Using a while_loop for converting Bitcast cause there is no registered converter for this op.\n",
            "WARNING:tensorflow:Using a while_loop for converting StatelessRandomUniformV2 cause there is no registered converter for this op.\n",
            "WARNING:tensorflow:Using a while_loop for converting ImageProjectiveTransformV3 cause there is no registered converter for this op.\n",
            "WARNING:tensorflow:Using a while_loop for converting RngReadAndSkip cause there is no registered converter for this op.\n",
            "WARNING:tensorflow:Using a while_loop for converting Bitcast cause there is no registered converter for this op.\n",
            "WARNING:tensorflow:Using a while_loop for converting Bitcast cause there is no registered converter for this op.\n",
            "WARNING:tensorflow:Using a while_loop for converting StatelessRandomUniformV2 cause there is no registered converter for this op.\n",
            "WARNING:tensorflow:Using a while_loop for converting ImageProjectiveTransformV3 cause there is no registered converter for this op.\n",
            "WARNING:tensorflow:Using a while_loop for converting RngReadAndSkip cause there is no registered converter for this op.\n",
            "WARNING:tensorflow:Using a while_loop for converting Bitcast cause there is no registered converter for this op.\n",
            "WARNING:tensorflow:Using a while_loop for converting Bitcast cause there is no registered converter for this op.\n",
            "WARNING:tensorflow:Using a while_loop for converting StatelessRandomUniformV2 cause there is no registered converter for this op.\n",
            "WARNING:tensorflow:Using a while_loop for converting ImageProjectiveTransformV3 cause there is no registered converter for this op.\n",
            "WARNING:absl:`lr` is deprecated, please use `learning_rate` instead, or use the legacy optimizer, e.g.,tf.keras.optimizers.legacy.Adam.\n"
          ]
        }
      ]
    },
    {
      "cell_type": "markdown",
      "source": [
        "* When you set `layer.trainable = False`, the BatchNormalization layer will run in inference mode, and will not update its mean and variance statistics.\n",
        "* When you unfreeze a model that contains `BatchNormalization` layers in order to do fine-tuning, you should keep the `BatchNormalization` layers in inference mode by passing `training = False` when calling the base model. Otherwise, the updates applied to the non-trainable weights will destroy what the model has learned.\n",
        "\n",
        "Importantly, batch normalization works differently during training and during inference. our bach norm layers should be always frozen weven if it is part of fine turned layer. In inference model, ayers training gets turned off so,  weights dont gets updated"
      ],
      "metadata": {
        "id": "C67XZsajeKYn"
      }
    },
    {
      "cell_type": "code",
      "source": [
        "base_model.summary()\n",
        "# look for batchnorm layer"
      ],
      "metadata": {
        "colab": {
          "base_uri": "https://localhost:8080/"
        },
        "id": "DqykyyYbjKMl",
        "outputId": "2623a672-f5d2-48b9-ca87-01f3e5a9c7cd"
      },
      "execution_count": 35,
      "outputs": [
        {
          "output_type": "stream",
          "name": "stdout",
          "text": [
            "Model: \"efficientnetb0\"\n",
            "__________________________________________________________________________________________________\n",
            " Layer (type)                   Output Shape         Param #     Connected to                     \n",
            "==================================================================================================\n",
            " input_3 (InputLayer)           [(None, None, None,  0           []                               \n",
            "                                 3)]                                                              \n",
            "                                                                                                  \n",
            " rescaling_4 (Rescaling)        (None, None, None,   0           ['input_3[0][0]']                \n",
            "                                3)                                                                \n",
            "                                                                                                  \n",
            " normalization_2 (Normalization  (None, None, None,   7          ['rescaling_4[0][0]']            \n",
            " )                              3)                                                                \n",
            "                                                                                                  \n",
            " rescaling_5 (Rescaling)        (None, None, None,   0           ['normalization_2[0][0]']        \n",
            "                                3)                                                                \n",
            "                                                                                                  \n",
            " stem_conv_pad (ZeroPadding2D)  (None, None, None,   0           ['rescaling_5[0][0]']            \n",
            "                                3)                                                                \n",
            "                                                                                                  \n",
            " stem_conv (Conv2D)             (None, None, None,   864         ['stem_conv_pad[0][0]']          \n",
            "                                32)                                                               \n",
            "                                                                                                  \n",
            " stem_bn (BatchNormalization)   (None, None, None,   128         ['stem_conv[0][0]']              \n",
            "                                32)                                                               \n",
            "                                                                                                  \n",
            " stem_activation (Activation)   (None, None, None,   0           ['stem_bn[0][0]']                \n",
            "                                32)                                                               \n",
            "                                                                                                  \n",
            " block1a_dwconv (DepthwiseConv2  (None, None, None,   288        ['stem_activation[0][0]']        \n",
            " D)                             32)                                                               \n",
            "                                                                                                  \n",
            " block1a_bn (BatchNormalization  (None, None, None,   128        ['block1a_dwconv[0][0]']         \n",
            " )                              32)                                                               \n",
            "                                                                                                  \n",
            " block1a_activation (Activation  (None, None, None,   0          ['block1a_bn[0][0]']             \n",
            " )                              32)                                                               \n",
            "                                                                                                  \n",
            " block1a_se_squeeze (GlobalAver  (None, 32)          0           ['block1a_activation[0][0]']     \n",
            " agePooling2D)                                                                                    \n",
            "                                                                                                  \n",
            " block1a_se_reshape (Reshape)   (None, 1, 1, 32)     0           ['block1a_se_squeeze[0][0]']     \n",
            "                                                                                                  \n",
            " block1a_se_reduce (Conv2D)     (None, 1, 1, 8)      264         ['block1a_se_reshape[0][0]']     \n",
            "                                                                                                  \n",
            " block1a_se_expand (Conv2D)     (None, 1, 1, 32)     288         ['block1a_se_reduce[0][0]']      \n",
            "                                                                                                  \n",
            " block1a_se_excite (Multiply)   (None, None, None,   0           ['block1a_activation[0][0]',     \n",
            "                                32)                               'block1a_se_expand[0][0]']      \n",
            "                                                                                                  \n",
            " block1a_project_conv (Conv2D)  (None, None, None,   512         ['block1a_se_excite[0][0]']      \n",
            "                                16)                                                               \n",
            "                                                                                                  \n",
            " block1a_project_bn (BatchNorma  (None, None, None,   64         ['block1a_project_conv[0][0]']   \n",
            " lization)                      16)                                                               \n",
            "                                                                                                  \n",
            " block2a_expand_conv (Conv2D)   (None, None, None,   1536        ['block1a_project_bn[0][0]']     \n",
            "                                96)                                                               \n",
            "                                                                                                  \n",
            " block2a_expand_bn (BatchNormal  (None, None, None,   384        ['block2a_expand_conv[0][0]']    \n",
            " ization)                       96)                                                               \n",
            "                                                                                                  \n",
            " block2a_expand_activation (Act  (None, None, None,   0          ['block2a_expand_bn[0][0]']      \n",
            " ivation)                       96)                                                               \n",
            "                                                                                                  \n",
            " block2a_dwconv_pad (ZeroPaddin  (None, None, None,   0          ['block2a_expand_activation[0][0]\n",
            " g2D)                           96)                              ']                               \n",
            "                                                                                                  \n",
            " block2a_dwconv (DepthwiseConv2  (None, None, None,   864        ['block2a_dwconv_pad[0][0]']     \n",
            " D)                             96)                                                               \n",
            "                                                                                                  \n",
            " block2a_bn (BatchNormalization  (None, None, None,   384        ['block2a_dwconv[0][0]']         \n",
            " )                              96)                                                               \n",
            "                                                                                                  \n",
            " block2a_activation (Activation  (None, None, None,   0          ['block2a_bn[0][0]']             \n",
            " )                              96)                                                               \n",
            "                                                                                                  \n",
            " block2a_se_squeeze (GlobalAver  (None, 96)          0           ['block2a_activation[0][0]']     \n",
            " agePooling2D)                                                                                    \n",
            "                                                                                                  \n",
            " block2a_se_reshape (Reshape)   (None, 1, 1, 96)     0           ['block2a_se_squeeze[0][0]']     \n",
            "                                                                                                  \n",
            " block2a_se_reduce (Conv2D)     (None, 1, 1, 4)      388         ['block2a_se_reshape[0][0]']     \n",
            "                                                                                                  \n",
            " block2a_se_expand (Conv2D)     (None, 1, 1, 96)     480         ['block2a_se_reduce[0][0]']      \n",
            "                                                                                                  \n",
            " block2a_se_excite (Multiply)   (None, None, None,   0           ['block2a_activation[0][0]',     \n",
            "                                96)                               'block2a_se_expand[0][0]']      \n",
            "                                                                                                  \n",
            " block2a_project_conv (Conv2D)  (None, None, None,   2304        ['block2a_se_excite[0][0]']      \n",
            "                                24)                                                               \n",
            "                                                                                                  \n",
            " block2a_project_bn (BatchNorma  (None, None, None,   96         ['block2a_project_conv[0][0]']   \n",
            " lization)                      24)                                                               \n",
            "                                                                                                  \n",
            " block2b_expand_conv (Conv2D)   (None, None, None,   3456        ['block2a_project_bn[0][0]']     \n",
            "                                144)                                                              \n",
            "                                                                                                  \n",
            " block2b_expand_bn (BatchNormal  (None, None, None,   576        ['block2b_expand_conv[0][0]']    \n",
            " ization)                       144)                                                              \n",
            "                                                                                                  \n",
            " block2b_expand_activation (Act  (None, None, None,   0          ['block2b_expand_bn[0][0]']      \n",
            " ivation)                       144)                                                              \n",
            "                                                                                                  \n",
            " block2b_dwconv (DepthwiseConv2  (None, None, None,   1296       ['block2b_expand_activation[0][0]\n",
            " D)                             144)                             ']                               \n",
            "                                                                                                  \n",
            " block2b_bn (BatchNormalization  (None, None, None,   576        ['block2b_dwconv[0][0]']         \n",
            " )                              144)                                                              \n",
            "                                                                                                  \n",
            " block2b_activation (Activation  (None, None, None,   0          ['block2b_bn[0][0]']             \n",
            " )                              144)                                                              \n",
            "                                                                                                  \n",
            " block2b_se_squeeze (GlobalAver  (None, 144)         0           ['block2b_activation[0][0]']     \n",
            " agePooling2D)                                                                                    \n",
            "                                                                                                  \n",
            " block2b_se_reshape (Reshape)   (None, 1, 1, 144)    0           ['block2b_se_squeeze[0][0]']     \n",
            "                                                                                                  \n",
            " block2b_se_reduce (Conv2D)     (None, 1, 1, 6)      870         ['block2b_se_reshape[0][0]']     \n",
            "                                                                                                  \n",
            " block2b_se_expand (Conv2D)     (None, 1, 1, 144)    1008        ['block2b_se_reduce[0][0]']      \n",
            "                                                                                                  \n",
            " block2b_se_excite (Multiply)   (None, None, None,   0           ['block2b_activation[0][0]',     \n",
            "                                144)                              'block2b_se_expand[0][0]']      \n",
            "                                                                                                  \n",
            " block2b_project_conv (Conv2D)  (None, None, None,   3456        ['block2b_se_excite[0][0]']      \n",
            "                                24)                                                               \n",
            "                                                                                                  \n",
            " block2b_project_bn (BatchNorma  (None, None, None,   96         ['block2b_project_conv[0][0]']   \n",
            " lization)                      24)                                                               \n",
            "                                                                                                  \n",
            " block2b_drop (Dropout)         (None, None, None,   0           ['block2b_project_bn[0][0]']     \n",
            "                                24)                                                               \n",
            "                                                                                                  \n",
            " block2b_add (Add)              (None, None, None,   0           ['block2b_drop[0][0]',           \n",
            "                                24)                               'block2a_project_bn[0][0]']     \n",
            "                                                                                                  \n",
            " block3a_expand_conv (Conv2D)   (None, None, None,   3456        ['block2b_add[0][0]']            \n",
            "                                144)                                                              \n",
            "                                                                                                  \n",
            " block3a_expand_bn (BatchNormal  (None, None, None,   576        ['block3a_expand_conv[0][0]']    \n",
            " ization)                       144)                                                              \n",
            "                                                                                                  \n",
            " block3a_expand_activation (Act  (None, None, None,   0          ['block3a_expand_bn[0][0]']      \n",
            " ivation)                       144)                                                              \n",
            "                                                                                                  \n",
            " block3a_dwconv_pad (ZeroPaddin  (None, None, None,   0          ['block3a_expand_activation[0][0]\n",
            " g2D)                           144)                             ']                               \n",
            "                                                                                                  \n",
            " block3a_dwconv (DepthwiseConv2  (None, None, None,   3600       ['block3a_dwconv_pad[0][0]']     \n",
            " D)                             144)                                                              \n",
            "                                                                                                  \n",
            " block3a_bn (BatchNormalization  (None, None, None,   576        ['block3a_dwconv[0][0]']         \n",
            " )                              144)                                                              \n",
            "                                                                                                  \n",
            " block3a_activation (Activation  (None, None, None,   0          ['block3a_bn[0][0]']             \n",
            " )                              144)                                                              \n",
            "                                                                                                  \n",
            " block3a_se_squeeze (GlobalAver  (None, 144)         0           ['block3a_activation[0][0]']     \n",
            " agePooling2D)                                                                                    \n",
            "                                                                                                  \n",
            " block3a_se_reshape (Reshape)   (None, 1, 1, 144)    0           ['block3a_se_squeeze[0][0]']     \n",
            "                                                                                                  \n",
            " block3a_se_reduce (Conv2D)     (None, 1, 1, 6)      870         ['block3a_se_reshape[0][0]']     \n",
            "                                                                                                  \n",
            " block3a_se_expand (Conv2D)     (None, 1, 1, 144)    1008        ['block3a_se_reduce[0][0]']      \n",
            "                                                                                                  \n",
            " block3a_se_excite (Multiply)   (None, None, None,   0           ['block3a_activation[0][0]',     \n",
            "                                144)                              'block3a_se_expand[0][0]']      \n",
            "                                                                                                  \n",
            " block3a_project_conv (Conv2D)  (None, None, None,   5760        ['block3a_se_excite[0][0]']      \n",
            "                                40)                                                               \n",
            "                                                                                                  \n",
            " block3a_project_bn (BatchNorma  (None, None, None,   160        ['block3a_project_conv[0][0]']   \n",
            " lization)                      40)                                                               \n",
            "                                                                                                  \n",
            " block3b_expand_conv (Conv2D)   (None, None, None,   9600        ['block3a_project_bn[0][0]']     \n",
            "                                240)                                                              \n",
            "                                                                                                  \n",
            " block3b_expand_bn (BatchNormal  (None, None, None,   960        ['block3b_expand_conv[0][0]']    \n",
            " ization)                       240)                                                              \n",
            "                                                                                                  \n",
            " block3b_expand_activation (Act  (None, None, None,   0          ['block3b_expand_bn[0][0]']      \n",
            " ivation)                       240)                                                              \n",
            "                                                                                                  \n",
            " block3b_dwconv (DepthwiseConv2  (None, None, None,   6000       ['block3b_expand_activation[0][0]\n",
            " D)                             240)                             ']                               \n",
            "                                                                                                  \n",
            " block3b_bn (BatchNormalization  (None, None, None,   960        ['block3b_dwconv[0][0]']         \n",
            " )                              240)                                                              \n",
            "                                                                                                  \n",
            " block3b_activation (Activation  (None, None, None,   0          ['block3b_bn[0][0]']             \n",
            " )                              240)                                                              \n",
            "                                                                                                  \n",
            " block3b_se_squeeze (GlobalAver  (None, 240)         0           ['block3b_activation[0][0]']     \n",
            " agePooling2D)                                                                                    \n",
            "                                                                                                  \n",
            " block3b_se_reshape (Reshape)   (None, 1, 1, 240)    0           ['block3b_se_squeeze[0][0]']     \n",
            "                                                                                                  \n",
            " block3b_se_reduce (Conv2D)     (None, 1, 1, 10)     2410        ['block3b_se_reshape[0][0]']     \n",
            "                                                                                                  \n",
            " block3b_se_expand (Conv2D)     (None, 1, 1, 240)    2640        ['block3b_se_reduce[0][0]']      \n",
            "                                                                                                  \n",
            " block3b_se_excite (Multiply)   (None, None, None,   0           ['block3b_activation[0][0]',     \n",
            "                                240)                              'block3b_se_expand[0][0]']      \n",
            "                                                                                                  \n",
            " block3b_project_conv (Conv2D)  (None, None, None,   9600        ['block3b_se_excite[0][0]']      \n",
            "                                40)                                                               \n",
            "                                                                                                  \n",
            " block3b_project_bn (BatchNorma  (None, None, None,   160        ['block3b_project_conv[0][0]']   \n",
            " lization)                      40)                                                               \n",
            "                                                                                                  \n",
            " block3b_drop (Dropout)         (None, None, None,   0           ['block3b_project_bn[0][0]']     \n",
            "                                40)                                                               \n",
            "                                                                                                  \n",
            " block3b_add (Add)              (None, None, None,   0           ['block3b_drop[0][0]',           \n",
            "                                40)                               'block3a_project_bn[0][0]']     \n",
            "                                                                                                  \n",
            " block4a_expand_conv (Conv2D)   (None, None, None,   9600        ['block3b_add[0][0]']            \n",
            "                                240)                                                              \n",
            "                                                                                                  \n",
            " block4a_expand_bn (BatchNormal  (None, None, None,   960        ['block4a_expand_conv[0][0]']    \n",
            " ization)                       240)                                                              \n",
            "                                                                                                  \n",
            " block4a_expand_activation (Act  (None, None, None,   0          ['block4a_expand_bn[0][0]']      \n",
            " ivation)                       240)                                                              \n",
            "                                                                                                  \n",
            " block4a_dwconv_pad (ZeroPaddin  (None, None, None,   0          ['block4a_expand_activation[0][0]\n",
            " g2D)                           240)                             ']                               \n",
            "                                                                                                  \n",
            " block4a_dwconv (DepthwiseConv2  (None, None, None,   2160       ['block4a_dwconv_pad[0][0]']     \n",
            " D)                             240)                                                              \n",
            "                                                                                                  \n",
            " block4a_bn (BatchNormalization  (None, None, None,   960        ['block4a_dwconv[0][0]']         \n",
            " )                              240)                                                              \n",
            "                                                                                                  \n",
            " block4a_activation (Activation  (None, None, None,   0          ['block4a_bn[0][0]']             \n",
            " )                              240)                                                              \n",
            "                                                                                                  \n",
            " block4a_se_squeeze (GlobalAver  (None, 240)         0           ['block4a_activation[0][0]']     \n",
            " agePooling2D)                                                                                    \n",
            "                                                                                                  \n",
            " block4a_se_reshape (Reshape)   (None, 1, 1, 240)    0           ['block4a_se_squeeze[0][0]']     \n",
            "                                                                                                  \n",
            " block4a_se_reduce (Conv2D)     (None, 1, 1, 10)     2410        ['block4a_se_reshape[0][0]']     \n",
            "                                                                                                  \n",
            " block4a_se_expand (Conv2D)     (None, 1, 1, 240)    2640        ['block4a_se_reduce[0][0]']      \n",
            "                                                                                                  \n",
            " block4a_se_excite (Multiply)   (None, None, None,   0           ['block4a_activation[0][0]',     \n",
            "                                240)                              'block4a_se_expand[0][0]']      \n",
            "                                                                                                  \n",
            " block4a_project_conv (Conv2D)  (None, None, None,   19200       ['block4a_se_excite[0][0]']      \n",
            "                                80)                                                               \n",
            "                                                                                                  \n",
            " block4a_project_bn (BatchNorma  (None, None, None,   320        ['block4a_project_conv[0][0]']   \n",
            " lization)                      80)                                                               \n",
            "                                                                                                  \n",
            " block4b_expand_conv (Conv2D)   (None, None, None,   38400       ['block4a_project_bn[0][0]']     \n",
            "                                480)                                                              \n",
            "                                                                                                  \n",
            " block4b_expand_bn (BatchNormal  (None, None, None,   1920       ['block4b_expand_conv[0][0]']    \n",
            " ization)                       480)                                                              \n",
            "                                                                                                  \n",
            " block4b_expand_activation (Act  (None, None, None,   0          ['block4b_expand_bn[0][0]']      \n",
            " ivation)                       480)                                                              \n",
            "                                                                                                  \n",
            " block4b_dwconv (DepthwiseConv2  (None, None, None,   4320       ['block4b_expand_activation[0][0]\n",
            " D)                             480)                             ']                               \n",
            "                                                                                                  \n",
            " block4b_bn (BatchNormalization  (None, None, None,   1920       ['block4b_dwconv[0][0]']         \n",
            " )                              480)                                                              \n",
            "                                                                                                  \n",
            " block4b_activation (Activation  (None, None, None,   0          ['block4b_bn[0][0]']             \n",
            " )                              480)                                                              \n",
            "                                                                                                  \n",
            " block4b_se_squeeze (GlobalAver  (None, 480)         0           ['block4b_activation[0][0]']     \n",
            " agePooling2D)                                                                                    \n",
            "                                                                                                  \n",
            " block4b_se_reshape (Reshape)   (None, 1, 1, 480)    0           ['block4b_se_squeeze[0][0]']     \n",
            "                                                                                                  \n",
            " block4b_se_reduce (Conv2D)     (None, 1, 1, 20)     9620        ['block4b_se_reshape[0][0]']     \n",
            "                                                                                                  \n",
            " block4b_se_expand (Conv2D)     (None, 1, 1, 480)    10080       ['block4b_se_reduce[0][0]']      \n",
            "                                                                                                  \n",
            " block4b_se_excite (Multiply)   (None, None, None,   0           ['block4b_activation[0][0]',     \n",
            "                                480)                              'block4b_se_expand[0][0]']      \n",
            "                                                                                                  \n",
            " block4b_project_conv (Conv2D)  (None, None, None,   38400       ['block4b_se_excite[0][0]']      \n",
            "                                80)                                                               \n",
            "                                                                                                  \n",
            " block4b_project_bn (BatchNorma  (None, None, None,   320        ['block4b_project_conv[0][0]']   \n",
            " lization)                      80)                                                               \n",
            "                                                                                                  \n",
            " block4b_drop (Dropout)         (None, None, None,   0           ['block4b_project_bn[0][0]']     \n",
            "                                80)                                                               \n",
            "                                                                                                  \n",
            " block4b_add (Add)              (None, None, None,   0           ['block4b_drop[0][0]',           \n",
            "                                80)                               'block4a_project_bn[0][0]']     \n",
            "                                                                                                  \n",
            " block4c_expand_conv (Conv2D)   (None, None, None,   38400       ['block4b_add[0][0]']            \n",
            "                                480)                                                              \n",
            "                                                                                                  \n",
            " block4c_expand_bn (BatchNormal  (None, None, None,   1920       ['block4c_expand_conv[0][0]']    \n",
            " ization)                       480)                                                              \n",
            "                                                                                                  \n",
            " block4c_expand_activation (Act  (None, None, None,   0          ['block4c_expand_bn[0][0]']      \n",
            " ivation)                       480)                                                              \n",
            "                                                                                                  \n",
            " block4c_dwconv (DepthwiseConv2  (None, None, None,   4320       ['block4c_expand_activation[0][0]\n",
            " D)                             480)                             ']                               \n",
            "                                                                                                  \n",
            " block4c_bn (BatchNormalization  (None, None, None,   1920       ['block4c_dwconv[0][0]']         \n",
            " )                              480)                                                              \n",
            "                                                                                                  \n",
            " block4c_activation (Activation  (None, None, None,   0          ['block4c_bn[0][0]']             \n",
            " )                              480)                                                              \n",
            "                                                                                                  \n",
            " block4c_se_squeeze (GlobalAver  (None, 480)         0           ['block4c_activation[0][0]']     \n",
            " agePooling2D)                                                                                    \n",
            "                                                                                                  \n",
            " block4c_se_reshape (Reshape)   (None, 1, 1, 480)    0           ['block4c_se_squeeze[0][0]']     \n",
            "                                                                                                  \n",
            " block4c_se_reduce (Conv2D)     (None, 1, 1, 20)     9620        ['block4c_se_reshape[0][0]']     \n",
            "                                                                                                  \n",
            " block4c_se_expand (Conv2D)     (None, 1, 1, 480)    10080       ['block4c_se_reduce[0][0]']      \n",
            "                                                                                                  \n",
            " block4c_se_excite (Multiply)   (None, None, None,   0           ['block4c_activation[0][0]',     \n",
            "                                480)                              'block4c_se_expand[0][0]']      \n",
            "                                                                                                  \n",
            " block4c_project_conv (Conv2D)  (None, None, None,   38400       ['block4c_se_excite[0][0]']      \n",
            "                                80)                                                               \n",
            "                                                                                                  \n",
            " block4c_project_bn (BatchNorma  (None, None, None,   320        ['block4c_project_conv[0][0]']   \n",
            " lization)                      80)                                                               \n",
            "                                                                                                  \n",
            " block4c_drop (Dropout)         (None, None, None,   0           ['block4c_project_bn[0][0]']     \n",
            "                                80)                                                               \n",
            "                                                                                                  \n",
            " block4c_add (Add)              (None, None, None,   0           ['block4c_drop[0][0]',           \n",
            "                                80)                               'block4b_add[0][0]']            \n",
            "                                                                                                  \n",
            " block5a_expand_conv (Conv2D)   (None, None, None,   38400       ['block4c_add[0][0]']            \n",
            "                                480)                                                              \n",
            "                                                                                                  \n",
            " block5a_expand_bn (BatchNormal  (None, None, None,   1920       ['block5a_expand_conv[0][0]']    \n",
            " ization)                       480)                                                              \n",
            "                                                                                                  \n",
            " block5a_expand_activation (Act  (None, None, None,   0          ['block5a_expand_bn[0][0]']      \n",
            " ivation)                       480)                                                              \n",
            "                                                                                                  \n",
            " block5a_dwconv (DepthwiseConv2  (None, None, None,   12000      ['block5a_expand_activation[0][0]\n",
            " D)                             480)                             ']                               \n",
            "                                                                                                  \n",
            " block5a_bn (BatchNormalization  (None, None, None,   1920       ['block5a_dwconv[0][0]']         \n",
            " )                              480)                                                              \n",
            "                                                                                                  \n",
            " block5a_activation (Activation  (None, None, None,   0          ['block5a_bn[0][0]']             \n",
            " )                              480)                                                              \n",
            "                                                                                                  \n",
            " block5a_se_squeeze (GlobalAver  (None, 480)         0           ['block5a_activation[0][0]']     \n",
            " agePooling2D)                                                                                    \n",
            "                                                                                                  \n",
            " block5a_se_reshape (Reshape)   (None, 1, 1, 480)    0           ['block5a_se_squeeze[0][0]']     \n",
            "                                                                                                  \n",
            " block5a_se_reduce (Conv2D)     (None, 1, 1, 20)     9620        ['block5a_se_reshape[0][0]']     \n",
            "                                                                                                  \n",
            " block5a_se_expand (Conv2D)     (None, 1, 1, 480)    10080       ['block5a_se_reduce[0][0]']      \n",
            "                                                                                                  \n",
            " block5a_se_excite (Multiply)   (None, None, None,   0           ['block5a_activation[0][0]',     \n",
            "                                480)                              'block5a_se_expand[0][0]']      \n",
            "                                                                                                  \n",
            " block5a_project_conv (Conv2D)  (None, None, None,   53760       ['block5a_se_excite[0][0]']      \n",
            "                                112)                                                              \n",
            "                                                                                                  \n",
            " block5a_project_bn (BatchNorma  (None, None, None,   448        ['block5a_project_conv[0][0]']   \n",
            " lization)                      112)                                                              \n",
            "                                                                                                  \n",
            " block5b_expand_conv (Conv2D)   (None, None, None,   75264       ['block5a_project_bn[0][0]']     \n",
            "                                672)                                                              \n",
            "                                                                                                  \n",
            " block5b_expand_bn (BatchNormal  (None, None, None,   2688       ['block5b_expand_conv[0][0]']    \n",
            " ization)                       672)                                                              \n",
            "                                                                                                  \n",
            " block5b_expand_activation (Act  (None, None, None,   0          ['block5b_expand_bn[0][0]']      \n",
            " ivation)                       672)                                                              \n",
            "                                                                                                  \n",
            " block5b_dwconv (DepthwiseConv2  (None, None, None,   16800      ['block5b_expand_activation[0][0]\n",
            " D)                             672)                             ']                               \n",
            "                                                                                                  \n",
            " block5b_bn (BatchNormalization  (None, None, None,   2688       ['block5b_dwconv[0][0]']         \n",
            " )                              672)                                                              \n",
            "                                                                                                  \n",
            " block5b_activation (Activation  (None, None, None,   0          ['block5b_bn[0][0]']             \n",
            " )                              672)                                                              \n",
            "                                                                                                  \n",
            " block5b_se_squeeze (GlobalAver  (None, 672)         0           ['block5b_activation[0][0]']     \n",
            " agePooling2D)                                                                                    \n",
            "                                                                                                  \n",
            " block5b_se_reshape (Reshape)   (None, 1, 1, 672)    0           ['block5b_se_squeeze[0][0]']     \n",
            "                                                                                                  \n",
            " block5b_se_reduce (Conv2D)     (None, 1, 1, 28)     18844       ['block5b_se_reshape[0][0]']     \n",
            "                                                                                                  \n",
            " block5b_se_expand (Conv2D)     (None, 1, 1, 672)    19488       ['block5b_se_reduce[0][0]']      \n",
            "                                                                                                  \n",
            " block5b_se_excite (Multiply)   (None, None, None,   0           ['block5b_activation[0][0]',     \n",
            "                                672)                              'block5b_se_expand[0][0]']      \n",
            "                                                                                                  \n",
            " block5b_project_conv (Conv2D)  (None, None, None,   75264       ['block5b_se_excite[0][0]']      \n",
            "                                112)                                                              \n",
            "                                                                                                  \n",
            " block5b_project_bn (BatchNorma  (None, None, None,   448        ['block5b_project_conv[0][0]']   \n",
            " lization)                      112)                                                              \n",
            "                                                                                                  \n",
            " block5b_drop (Dropout)         (None, None, None,   0           ['block5b_project_bn[0][0]']     \n",
            "                                112)                                                              \n",
            "                                                                                                  \n",
            " block5b_add (Add)              (None, None, None,   0           ['block5b_drop[0][0]',           \n",
            "                                112)                              'block5a_project_bn[0][0]']     \n",
            "                                                                                                  \n",
            " block5c_expand_conv (Conv2D)   (None, None, None,   75264       ['block5b_add[0][0]']            \n",
            "                                672)                                                              \n",
            "                                                                                                  \n",
            " block5c_expand_bn (BatchNormal  (None, None, None,   2688       ['block5c_expand_conv[0][0]']    \n",
            " ization)                       672)                                                              \n",
            "                                                                                                  \n",
            " block5c_expand_activation (Act  (None, None, None,   0          ['block5c_expand_bn[0][0]']      \n",
            " ivation)                       672)                                                              \n",
            "                                                                                                  \n",
            " block5c_dwconv (DepthwiseConv2  (None, None, None,   16800      ['block5c_expand_activation[0][0]\n",
            " D)                             672)                             ']                               \n",
            "                                                                                                  \n",
            " block5c_bn (BatchNormalization  (None, None, None,   2688       ['block5c_dwconv[0][0]']         \n",
            " )                              672)                                                              \n",
            "                                                                                                  \n",
            " block5c_activation (Activation  (None, None, None,   0          ['block5c_bn[0][0]']             \n",
            " )                              672)                                                              \n",
            "                                                                                                  \n",
            " block5c_se_squeeze (GlobalAver  (None, 672)         0           ['block5c_activation[0][0]']     \n",
            " agePooling2D)                                                                                    \n",
            "                                                                                                  \n",
            " block5c_se_reshape (Reshape)   (None, 1, 1, 672)    0           ['block5c_se_squeeze[0][0]']     \n",
            "                                                                                                  \n",
            " block5c_se_reduce (Conv2D)     (None, 1, 1, 28)     18844       ['block5c_se_reshape[0][0]']     \n",
            "                                                                                                  \n",
            " block5c_se_expand (Conv2D)     (None, 1, 1, 672)    19488       ['block5c_se_reduce[0][0]']      \n",
            "                                                                                                  \n",
            " block5c_se_excite (Multiply)   (None, None, None,   0           ['block5c_activation[0][0]',     \n",
            "                                672)                              'block5c_se_expand[0][0]']      \n",
            "                                                                                                  \n",
            " block5c_project_conv (Conv2D)  (None, None, None,   75264       ['block5c_se_excite[0][0]']      \n",
            "                                112)                                                              \n",
            "                                                                                                  \n",
            " block5c_project_bn (BatchNorma  (None, None, None,   448        ['block5c_project_conv[0][0]']   \n",
            " lization)                      112)                                                              \n",
            "                                                                                                  \n",
            " block5c_drop (Dropout)         (None, None, None,   0           ['block5c_project_bn[0][0]']     \n",
            "                                112)                                                              \n",
            "                                                                                                  \n",
            " block5c_add (Add)              (None, None, None,   0           ['block5c_drop[0][0]',           \n",
            "                                112)                              'block5b_add[0][0]']            \n",
            "                                                                                                  \n",
            " block6a_expand_conv (Conv2D)   (None, None, None,   75264       ['block5c_add[0][0]']            \n",
            "                                672)                                                              \n",
            "                                                                                                  \n",
            " block6a_expand_bn (BatchNormal  (None, None, None,   2688       ['block6a_expand_conv[0][0]']    \n",
            " ization)                       672)                                                              \n",
            "                                                                                                  \n",
            " block6a_expand_activation (Act  (None, None, None,   0          ['block6a_expand_bn[0][0]']      \n",
            " ivation)                       672)                                                              \n",
            "                                                                                                  \n",
            " block6a_dwconv_pad (ZeroPaddin  (None, None, None,   0          ['block6a_expand_activation[0][0]\n",
            " g2D)                           672)                             ']                               \n",
            "                                                                                                  \n",
            " block6a_dwconv (DepthwiseConv2  (None, None, None,   16800      ['block6a_dwconv_pad[0][0]']     \n",
            " D)                             672)                                                              \n",
            "                                                                                                  \n",
            " block6a_bn (BatchNormalization  (None, None, None,   2688       ['block6a_dwconv[0][0]']         \n",
            " )                              672)                                                              \n",
            "                                                                                                  \n",
            " block6a_activation (Activation  (None, None, None,   0          ['block6a_bn[0][0]']             \n",
            " )                              672)                                                              \n",
            "                                                                                                  \n",
            " block6a_se_squeeze (GlobalAver  (None, 672)         0           ['block6a_activation[0][0]']     \n",
            " agePooling2D)                                                                                    \n",
            "                                                                                                  \n",
            " block6a_se_reshape (Reshape)   (None, 1, 1, 672)    0           ['block6a_se_squeeze[0][0]']     \n",
            "                                                                                                  \n",
            " block6a_se_reduce (Conv2D)     (None, 1, 1, 28)     18844       ['block6a_se_reshape[0][0]']     \n",
            "                                                                                                  \n",
            " block6a_se_expand (Conv2D)     (None, 1, 1, 672)    19488       ['block6a_se_reduce[0][0]']      \n",
            "                                                                                                  \n",
            " block6a_se_excite (Multiply)   (None, None, None,   0           ['block6a_activation[0][0]',     \n",
            "                                672)                              'block6a_se_expand[0][0]']      \n",
            "                                                                                                  \n",
            " block6a_project_conv (Conv2D)  (None, None, None,   129024      ['block6a_se_excite[0][0]']      \n",
            "                                192)                                                              \n",
            "                                                                                                  \n",
            " block6a_project_bn (BatchNorma  (None, None, None,   768        ['block6a_project_conv[0][0]']   \n",
            " lization)                      192)                                                              \n",
            "                                                                                                  \n",
            " block6b_expand_conv (Conv2D)   (None, None, None,   221184      ['block6a_project_bn[0][0]']     \n",
            "                                1152)                                                             \n",
            "                                                                                                  \n",
            " block6b_expand_bn (BatchNormal  (None, None, None,   4608       ['block6b_expand_conv[0][0]']    \n",
            " ization)                       1152)                                                             \n",
            "                                                                                                  \n",
            " block6b_expand_activation (Act  (None, None, None,   0          ['block6b_expand_bn[0][0]']      \n",
            " ivation)                       1152)                                                             \n",
            "                                                                                                  \n",
            " block6b_dwconv (DepthwiseConv2  (None, None, None,   28800      ['block6b_expand_activation[0][0]\n",
            " D)                             1152)                            ']                               \n",
            "                                                                                                  \n",
            " block6b_bn (BatchNormalization  (None, None, None,   4608       ['block6b_dwconv[0][0]']         \n",
            " )                              1152)                                                             \n",
            "                                                                                                  \n",
            " block6b_activation (Activation  (None, None, None,   0          ['block6b_bn[0][0]']             \n",
            " )                              1152)                                                             \n",
            "                                                                                                  \n",
            " block6b_se_squeeze (GlobalAver  (None, 1152)        0           ['block6b_activation[0][0]']     \n",
            " agePooling2D)                                                                                    \n",
            "                                                                                                  \n",
            " block6b_se_reshape (Reshape)   (None, 1, 1, 1152)   0           ['block6b_se_squeeze[0][0]']     \n",
            "                                                                                                  \n",
            " block6b_se_reduce (Conv2D)     (None, 1, 1, 48)     55344       ['block6b_se_reshape[0][0]']     \n",
            "                                                                                                  \n",
            " block6b_se_expand (Conv2D)     (None, 1, 1, 1152)   56448       ['block6b_se_reduce[0][0]']      \n",
            "                                                                                                  \n",
            " block6b_se_excite (Multiply)   (None, None, None,   0           ['block6b_activation[0][0]',     \n",
            "                                1152)                             'block6b_se_expand[0][0]']      \n",
            "                                                                                                  \n",
            " block6b_project_conv (Conv2D)  (None, None, None,   221184      ['block6b_se_excite[0][0]']      \n",
            "                                192)                                                              \n",
            "                                                                                                  \n",
            " block6b_project_bn (BatchNorma  (None, None, None,   768        ['block6b_project_conv[0][0]']   \n",
            " lization)                      192)                                                              \n",
            "                                                                                                  \n",
            " block6b_drop (Dropout)         (None, None, None,   0           ['block6b_project_bn[0][0]']     \n",
            "                                192)                                                              \n",
            "                                                                                                  \n",
            " block6b_add (Add)              (None, None, None,   0           ['block6b_drop[0][0]',           \n",
            "                                192)                              'block6a_project_bn[0][0]']     \n",
            "                                                                                                  \n",
            " block6c_expand_conv (Conv2D)   (None, None, None,   221184      ['block6b_add[0][0]']            \n",
            "                                1152)                                                             \n",
            "                                                                                                  \n",
            " block6c_expand_bn (BatchNormal  (None, None, None,   4608       ['block6c_expand_conv[0][0]']    \n",
            " ization)                       1152)                                                             \n",
            "                                                                                                  \n",
            " block6c_expand_activation (Act  (None, None, None,   0          ['block6c_expand_bn[0][0]']      \n",
            " ivation)                       1152)                                                             \n",
            "                                                                                                  \n",
            " block6c_dwconv (DepthwiseConv2  (None, None, None,   28800      ['block6c_expand_activation[0][0]\n",
            " D)                             1152)                            ']                               \n",
            "                                                                                                  \n",
            " block6c_bn (BatchNormalization  (None, None, None,   4608       ['block6c_dwconv[0][0]']         \n",
            " )                              1152)                                                             \n",
            "                                                                                                  \n",
            " block6c_activation (Activation  (None, None, None,   0          ['block6c_bn[0][0]']             \n",
            " )                              1152)                                                             \n",
            "                                                                                                  \n",
            " block6c_se_squeeze (GlobalAver  (None, 1152)        0           ['block6c_activation[0][0]']     \n",
            " agePooling2D)                                                                                    \n",
            "                                                                                                  \n",
            " block6c_se_reshape (Reshape)   (None, 1, 1, 1152)   0           ['block6c_se_squeeze[0][0]']     \n",
            "                                                                                                  \n",
            " block6c_se_reduce (Conv2D)     (None, 1, 1, 48)     55344       ['block6c_se_reshape[0][0]']     \n",
            "                                                                                                  \n",
            " block6c_se_expand (Conv2D)     (None, 1, 1, 1152)   56448       ['block6c_se_reduce[0][0]']      \n",
            "                                                                                                  \n",
            " block6c_se_excite (Multiply)   (None, None, None,   0           ['block6c_activation[0][0]',     \n",
            "                                1152)                             'block6c_se_expand[0][0]']      \n",
            "                                                                                                  \n",
            " block6c_project_conv (Conv2D)  (None, None, None,   221184      ['block6c_se_excite[0][0]']      \n",
            "                                192)                                                              \n",
            "                                                                                                  \n",
            " block6c_project_bn (BatchNorma  (None, None, None,   768        ['block6c_project_conv[0][0]']   \n",
            " lization)                      192)                                                              \n",
            "                                                                                                  \n",
            " block6c_drop (Dropout)         (None, None, None,   0           ['block6c_project_bn[0][0]']     \n",
            "                                192)                                                              \n",
            "                                                                                                  \n",
            " block6c_add (Add)              (None, None, None,   0           ['block6c_drop[0][0]',           \n",
            "                                192)                              'block6b_add[0][0]']            \n",
            "                                                                                                  \n",
            " block6d_expand_conv (Conv2D)   (None, None, None,   221184      ['block6c_add[0][0]']            \n",
            "                                1152)                                                             \n",
            "                                                                                                  \n",
            " block6d_expand_bn (BatchNormal  (None, None, None,   4608       ['block6d_expand_conv[0][0]']    \n",
            " ization)                       1152)                                                             \n",
            "                                                                                                  \n",
            " block6d_expand_activation (Act  (None, None, None,   0          ['block6d_expand_bn[0][0]']      \n",
            " ivation)                       1152)                                                             \n",
            "                                                                                                  \n",
            " block6d_dwconv (DepthwiseConv2  (None, None, None,   28800      ['block6d_expand_activation[0][0]\n",
            " D)                             1152)                            ']                               \n",
            "                                                                                                  \n",
            " block6d_bn (BatchNormalization  (None, None, None,   4608       ['block6d_dwconv[0][0]']         \n",
            " )                              1152)                                                             \n",
            "                                                                                                  \n",
            " block6d_activation (Activation  (None, None, None,   0          ['block6d_bn[0][0]']             \n",
            " )                              1152)                                                             \n",
            "                                                                                                  \n",
            " block6d_se_squeeze (GlobalAver  (None, 1152)        0           ['block6d_activation[0][0]']     \n",
            " agePooling2D)                                                                                    \n",
            "                                                                                                  \n",
            " block6d_se_reshape (Reshape)   (None, 1, 1, 1152)   0           ['block6d_se_squeeze[0][0]']     \n",
            "                                                                                                  \n",
            " block6d_se_reduce (Conv2D)     (None, 1, 1, 48)     55344       ['block6d_se_reshape[0][0]']     \n",
            "                                                                                                  \n",
            " block6d_se_expand (Conv2D)     (None, 1, 1, 1152)   56448       ['block6d_se_reduce[0][0]']      \n",
            "                                                                                                  \n",
            " block6d_se_excite (Multiply)   (None, None, None,   0           ['block6d_activation[0][0]',     \n",
            "                                1152)                             'block6d_se_expand[0][0]']      \n",
            "                                                                                                  \n",
            " block6d_project_conv (Conv2D)  (None, None, None,   221184      ['block6d_se_excite[0][0]']      \n",
            "                                192)                                                              \n",
            "                                                                                                  \n",
            " block6d_project_bn (BatchNorma  (None, None, None,   768        ['block6d_project_conv[0][0]']   \n",
            " lization)                      192)                                                              \n",
            "                                                                                                  \n",
            " block6d_drop (Dropout)         (None, None, None,   0           ['block6d_project_bn[0][0]']     \n",
            "                                192)                                                              \n",
            "                                                                                                  \n",
            " block6d_add (Add)              (None, None, None,   0           ['block6d_drop[0][0]',           \n",
            "                                192)                              'block6c_add[0][0]']            \n",
            "                                                                                                  \n",
            " block7a_expand_conv (Conv2D)   (None, None, None,   221184      ['block6d_add[0][0]']            \n",
            "                                1152)                                                             \n",
            "                                                                                                  \n",
            " block7a_expand_bn (BatchNormal  (None, None, None,   4608       ['block7a_expand_conv[0][0]']    \n",
            " ization)                       1152)                                                             \n",
            "                                                                                                  \n",
            " block7a_expand_activation (Act  (None, None, None,   0          ['block7a_expand_bn[0][0]']      \n",
            " ivation)                       1152)                                                             \n",
            "                                                                                                  \n",
            " block7a_dwconv (DepthwiseConv2  (None, None, None,   10368      ['block7a_expand_activation[0][0]\n",
            " D)                             1152)                            ']                               \n",
            "                                                                                                  \n",
            " block7a_bn (BatchNormalization  (None, None, None,   4608       ['block7a_dwconv[0][0]']         \n",
            " )                              1152)                                                             \n",
            "                                                                                                  \n",
            " block7a_activation (Activation  (None, None, None,   0          ['block7a_bn[0][0]']             \n",
            " )                              1152)                                                             \n",
            "                                                                                                  \n",
            " block7a_se_squeeze (GlobalAver  (None, 1152)        0           ['block7a_activation[0][0]']     \n",
            " agePooling2D)                                                                                    \n",
            "                                                                                                  \n",
            " block7a_se_reshape (Reshape)   (None, 1, 1, 1152)   0           ['block7a_se_squeeze[0][0]']     \n",
            "                                                                                                  \n",
            " block7a_se_reduce (Conv2D)     (None, 1, 1, 48)     55344       ['block7a_se_reshape[0][0]']     \n",
            "                                                                                                  \n",
            " block7a_se_expand (Conv2D)     (None, 1, 1, 1152)   56448       ['block7a_se_reduce[0][0]']      \n",
            "                                                                                                  \n",
            " block7a_se_excite (Multiply)   (None, None, None,   0           ['block7a_activation[0][0]',     \n",
            "                                1152)                             'block7a_se_expand[0][0]']      \n",
            "                                                                                                  \n",
            " block7a_project_conv (Conv2D)  (None, None, None,   368640      ['block7a_se_excite[0][0]']      \n",
            "                                320)                                                              \n",
            "                                                                                                  \n",
            " block7a_project_bn (BatchNorma  (None, None, None,   1280       ['block7a_project_conv[0][0]']   \n",
            " lization)                      320)                                                              \n",
            "                                                                                                  \n",
            " top_conv (Conv2D)              (None, None, None,   409600      ['block7a_project_bn[0][0]']     \n",
            "                                1280)                                                             \n",
            "                                                                                                  \n",
            " top_bn (BatchNormalization)    (None, None, None,   5120        ['top_conv[0][0]']               \n",
            "                                1280)                                                             \n",
            "                                                                                                  \n",
            " top_activation (Activation)    (None, None, None,   0           ['top_bn[0][0]']                 \n",
            "                                1280)                                                             \n",
            "                                                                                                  \n",
            "==================================================================================================\n",
            "Total params: 4,049,571\n",
            "Trainable params: 0\n",
            "Non-trainable params: 4,049,571\n",
            "__________________________________________________________________________________________________\n"
          ]
        }
      ]
    },
    {
      "cell_type": "code",
      "source": [
        "model_2.summary()\n",
        "# we havent fit it just yet because we wat to create checkpoint callback"
      ],
      "metadata": {
        "colab": {
          "base_uri": "https://localhost:8080/"
        },
        "id": "dQsSdYimmoSP",
        "outputId": "9117e0da-524a-4c6d-fa3b-f9524273340a"
      },
      "execution_count": 36,
      "outputs": [
        {
          "output_type": "stream",
          "name": "stdout",
          "text": [
            "Model: \"model_2\"\n",
            "_________________________________________________________________\n",
            " Layer (type)                Output Shape              Param #   \n",
            "=================================================================\n",
            " input_layer (InputLayer)    [(None, 224, 224, 3)]     0         \n",
            "                                                                 \n",
            " data_augmentation (Sequenti  (None, None, None, 3)    0         \n",
            " al)                                                             \n",
            "                                                                 \n",
            " efficientnetb0 (Functional)  (None, None, None, 1280)  4049571  \n",
            "                                                                 \n",
            " global_average_pooling_laye  (None, 1280)             0         \n",
            " r (GlobalAveragePooling2D)                                      \n",
            "                                                                 \n",
            " output_layer (Dense)        (None, 10)                12810     \n",
            "                                                                 \n",
            "=================================================================\n",
            "Total params: 4,062,381\n",
            "Trainable params: 12,810\n",
            "Non-trainable params: 4,049,571\n",
            "_________________________________________________________________\n"
          ]
        }
      ]
    },
    {
      "cell_type": "markdown",
      "source": [
        "### Creating a ModelCheckpoint callback\n",
        "save your model, as a whole in the SavedModel format or the weights (patterns) only to a specified directory as it trains.\n",
        "* This is helpful if you think your model is going to be training for a long time and you want to make backups of it as it trains. It also means if you think your model could benefit from being trained for longer, you can reload it from a specific checkpoint and continue training from there.\n",
        "* For example, say you fit a feature extraction transfer learning model for 5 epochs and you check the training curves and see it was still improving and you want to see if fine-tuning for another 5 epochs could help, you can load the checkpoint, unfreeze some (or all) of the base model layers and then continue training."
      ],
      "metadata": {
        "id": "whgznClynagm"
      }
    },
    {
      "cell_type": "code",
      "source": [
        "# Setup checkpoint path\n",
        "checkpoint_path = \"ten_percent_model_checkpoints_weights/checkpoint.ckpt\" # note: remember saving directly to Colab is temporary\n",
        "\n",
        "# Create a ModelCheckpoint callback that saves the model's weights only\n",
        "checkpoint_callback = tf.keras.callbacks.ModelCheckpoint(filepath=checkpoint_path,\n",
        "                                                         save_weights_only=True, # set to False to save the entire model\n",
        "                                                         save_best_only=False, # set to True to save only the best model instead of a model every epoch \n",
        "                                                         save_freq=\"epoch\", # save every epoch\n",
        "                                                         verbose=1)"
      ],
      "metadata": {
        "id": "iOVKBy97rkcl"
      },
      "execution_count": 37,
      "outputs": []
    },
    {
      "cell_type": "markdown",
      "source": [
        "The SavedModel format saves a model's architecture, weights and training configuration all in one folder. It makes it very easy to reload your model exactly how it is elsewhere. However, if you do not want to share all of these details with others, you may want to save and share the weights only (these will just be large tensors of non-human interpretable numbers). If disk space is an issue, saving the weights only is faster and takes up less space than saving the whole model.\n",
        "\n",
        "Time to fit the model.\n",
        "\n",
        "Because we're going to be fine-tuning it later, we'll create a variable initial_epochs and set it to 5 to use later.\n",
        "\n"
      ],
      "metadata": {
        "id": "ekH9RI9-rp-_"
      }
    },
    {
      "cell_type": "code",
      "source": [
        "# Fit the model saving checkpoints every epoch\n",
        "initial_epochs = 5\n",
        "history_10_percent_data_aug = model_2.fit(train_data_10_percent,\n",
        "                                          epochs=initial_epochs,\n",
        "                                          validation_data=test_data,\n",
        "                                          validation_steps=int(0.25 * len(test_data)), # do less steps per validation (quicker)\n",
        "                                          callbacks=[create_tensorboard_callback(\"transfer_learning\", \"10_percent_data_aug\"), \n",
        "                                                     checkpoint_callback])\n",
        "# here new epoch override checkpoint of previous epoch so checkpoint of only last 5th epoch saved"
      ],
      "metadata": {
        "colab": {
          "base_uri": "https://localhost:8080/"
        },
        "id": "SXWWbMmssbs2",
        "outputId": "4a7dd811-f88a-4cf6-da0e-71f68a183503"
      },
      "execution_count": 38,
      "outputs": [
        {
          "output_type": "stream",
          "name": "stdout",
          "text": [
            "Saving TensorBoard log files to: transfer_learning/10_percent_data_aug/20230222-063822\n"
          ]
        },
        {
          "output_type": "stream",
          "name": "stderr",
          "text": [
            "WARNING:tensorflow:Model failed to serialize as JSON. Ignoring... Unable to serialize [2.0896919 2.1128857 2.1081853] to JSON. Unrecognized type <class 'tensorflow.python.framework.ops.EagerTensor'>.\n"
          ]
        },
        {
          "output_type": "stream",
          "name": "stdout",
          "text": [
            "Epoch 1/5\n"
          ]
        },
        {
          "output_type": "stream",
          "name": "stderr",
          "text": [
            "WARNING:tensorflow:Using a while_loop for converting RngReadAndSkip cause there is no registered converter for this op.\n",
            "WARNING:tensorflow:Using a while_loop for converting Bitcast cause there is no registered converter for this op.\n",
            "WARNING:tensorflow:Using a while_loop for converting Bitcast cause there is no registered converter for this op.\n",
            "WARNING:tensorflow:Using a while_loop for converting StatelessRandomUniformV2 cause there is no registered converter for this op.\n",
            "WARNING:tensorflow:Using a while_loop for converting ImageProjectiveTransformV3 cause there is no registered converter for this op.\n",
            "WARNING:tensorflow:Using a while_loop for converting RngReadAndSkip cause there is no registered converter for this op.\n",
            "WARNING:tensorflow:Using a while_loop for converting Bitcast cause there is no registered converter for this op.\n",
            "WARNING:tensorflow:Using a while_loop for converting Bitcast cause there is no registered converter for this op.\n",
            "WARNING:tensorflow:Using a while_loop for converting StatelessRandomUniformV2 cause there is no registered converter for this op.\n",
            "WARNING:tensorflow:Using a while_loop for converting ImageProjectiveTransformV3 cause there is no registered converter for this op.\n",
            "WARNING:tensorflow:Using a while_loop for converting RngReadAndSkip cause there is no registered converter for this op.\n",
            "WARNING:tensorflow:Using a while_loop for converting Bitcast cause there is no registered converter for this op.\n",
            "WARNING:tensorflow:Using a while_loop for converting Bitcast cause there is no registered converter for this op.\n",
            "WARNING:tensorflow:Using a while_loop for converting StatelessRandomUniformV2 cause there is no registered converter for this op.\n",
            "WARNING:tensorflow:Using a while_loop for converting ImageProjectiveTransformV3 cause there is no registered converter for this op.\n",
            "WARNING:tensorflow:Using a while_loop for converting RngReadAndSkip cause there is no registered converter for this op.\n",
            "WARNING:tensorflow:Using a while_loop for converting Bitcast cause there is no registered converter for this op.\n",
            "WARNING:tensorflow:Using a while_loop for converting Bitcast cause there is no registered converter for this op.\n",
            "WARNING:tensorflow:Using a while_loop for converting StatelessRandomUniformV2 cause there is no registered converter for this op.\n",
            "WARNING:tensorflow:Using a while_loop for converting ImageProjectiveTransformV3 cause there is no registered converter for this op.\n"
          ]
        },
        {
          "output_type": "stream",
          "name": "stdout",
          "text": [
            "24/24 [==============================] - ETA: 0s - loss: 1.9767 - accuracy: 0.3640\n",
            "Epoch 1: saving model to ten_percent_model_checkpoints_weights/checkpoint.ckpt\n",
            "24/24 [==============================] - 111s 4s/step - loss: 1.9767 - accuracy: 0.3640 - val_loss: 1.4316 - val_accuracy: 0.7007\n",
            "Epoch 2/5\n",
            "24/24 [==============================] - ETA: 0s - loss: 1.2969 - accuracy: 0.6920\n",
            "Epoch 2: saving model to ten_percent_model_checkpoints_weights/checkpoint.ckpt\n",
            "24/24 [==============================] - 146s 6s/step - loss: 1.2969 - accuracy: 0.6920 - val_loss: 0.9903 - val_accuracy: 0.8109\n",
            "Epoch 3/5\n",
            "24/24 [==============================] - ETA: 0s - loss: 1.0052 - accuracy: 0.7573\n",
            "Epoch 3: saving model to ten_percent_model_checkpoints_weights/checkpoint.ckpt\n",
            "24/24 [==============================] - 146s 6s/step - loss: 1.0052 - accuracy: 0.7573 - val_loss: 0.7918 - val_accuracy: 0.8158\n",
            "Epoch 4/5\n",
            "24/24 [==============================] - ETA: 0s - loss: 0.8517 - accuracy: 0.7853\n",
            "Epoch 4: saving model to ten_percent_model_checkpoints_weights/checkpoint.ckpt\n",
            "24/24 [==============================] - 150s 6s/step - loss: 0.8517 - accuracy: 0.7853 - val_loss: 0.6888 - val_accuracy: 0.8355\n",
            "Epoch 5/5\n",
            "24/24 [==============================] - ETA: 0s - loss: 0.7346 - accuracy: 0.8120\n",
            "Epoch 5: saving model to ten_percent_model_checkpoints_weights/checkpoint.ckpt\n",
            "24/24 [==============================] - 137s 6s/step - loss: 0.7346 - accuracy: 0.8120 - val_loss: 0.6085 - val_accuracy: 0.8470\n"
          ]
        }
      ]
    },
    {
      "cell_type": "code",
      "source": [
        "model_0.evaluate(test_data)"
      ],
      "metadata": {
        "colab": {
          "base_uri": "https://localhost:8080/"
        },
        "id": "EKfdh4GIslL2",
        "outputId": "054f5c26-85e8-48c8-a826-8ce2e0d98c7f"
      },
      "execution_count": 39,
      "outputs": [
        {
          "output_type": "stream",
          "name": "stdout",
          "text": [
            "79/79 [==============================] - 168s 2s/step - loss: 0.5577 - accuracy: 0.8656\n"
          ]
        },
        {
          "output_type": "execute_result",
          "data": {
            "text/plain": [
              "[0.5576916933059692, 0.8655999898910522]"
            ]
          },
          "metadata": {},
          "execution_count": 39
        }
      ]
    },
    {
      "cell_type": "code",
      "source": [
        "# Evaluate on the test data\n",
        "results_10_percent_data_aug = model_2.evaluate(test_data)\n",
        "results_10_percent_data_aug"
      ],
      "metadata": {
        "colab": {
          "base_uri": "https://localhost:8080/"
        },
        "id": "OoZ__z9Ou1Cf",
        "outputId": "b603adf1-0b5b-4eb5-be47-adb58c225d61"
      },
      "execution_count": 40,
      "outputs": [
        {
          "output_type": "stream",
          "name": "stdout",
          "text": [
            "79/79 [==============================] - 182s 2s/step - loss: 0.6239 - accuracy: 0.8400\n"
          ]
        },
        {
          "output_type": "execute_result",
          "data": {
            "text/plain": [
              "[0.6239118576049805, 0.8399999737739563]"
            ]
          },
          "metadata": {},
          "execution_count": 40
        }
      ]
    },
    {
      "cell_type": "code",
      "source": [
        "# Plot model loss curves\n",
        "plot_loss_curves(history_10_percent_data_aug)"
      ],
      "metadata": {
        "id": "yxH-963Ju2D1"
      },
      "execution_count": 40,
      "outputs": []
    },
    {
      "cell_type": "markdown",
      "source": [
        "To load saved model weights you can use the the `load_weights()` method, passing it the path where your saved weights are stored. We'll be able to test if it saved correctly by evaluting it on the test data. Returns a model to specific check point.\n"
      ],
      "metadata": {
        "id": "ErcDpjagw1Sk"
      }
    },
    {
      "cell_type": "code",
      "source": [
        "# Load in saved model weights and evaluate model. previous weight in model_2 will be overwrighted by checkpointed weight.\n",
        "model_2.load_weights(checkpoint_path)\n",
        "loaded_weights_model_results = model_2.evaluate(test_data)"
      ],
      "metadata": {
        "colab": {
          "base_uri": "https://localhost:8080/"
        },
        "id": "cK32Y2HjxLEC",
        "outputId": "708336e7-bbce-43d6-b583-51b0c2488928"
      },
      "execution_count": 41,
      "outputs": [
        {
          "output_type": "stream",
          "name": "stdout",
          "text": [
            "79/79 [==============================] - 214s 3s/step - loss: 0.6239 - accuracy: 0.8400\n"
          ]
        }
      ]
    },
    {
      "cell_type": "markdown",
      "source": [
        "Now let's compare the results of our previously trained model and the loaded model. These results should very close if not exactly the same. The reason for minor differences comes down to the precision level of numbers calculated."
      ],
      "metadata": {
        "id": "5ycjB5WlyqXY"
      }
    },
    {
      "cell_type": "code",
      "source": [
        "# If the results from our native model and the loaded weights are the same, this should output True\n",
        "results_10_percent_data_aug == loaded_weights_model_results"
      ],
      "metadata": {
        "colab": {
          "base_uri": "https://localhost:8080/"
        },
        "id": "i6Sx5fkbyrhw",
        "outputId": "ea807087-0a5b-4801-90fa-6a61ae9b76bc"
      },
      "execution_count": 42,
      "outputs": [
        {
          "output_type": "execute_result",
          "data": {
            "text/plain": [
              "False"
            ]
          },
          "metadata": {},
          "execution_count": 42
        }
      ]
    },
    {
      "cell_type": "markdown",
      "source": [
        "If the above cell doesn't output True, it's because the numbers are close but not the exact same (due to how computers store numbers with degrees of precision).\n",
        "\n",
        "However, they should be very close..."
      ],
      "metadata": {
        "id": "592xRgKSy67R"
      }
    },
    {
      "cell_type": "code",
      "source": [
        "import numpy as np\n",
        "# Check to see if loaded model results are very close to native model results (should output True)\n",
        "np.isclose(np.array(results_10_percent_data_aug), np.array(loaded_weights_model_results))"
      ],
      "metadata": {
        "colab": {
          "base_uri": "https://localhost:8080/"
        },
        "id": "Ld9qtqMCy7pj",
        "outputId": "192c3e28-0888-4abf-b710-700c2d7880ee"
      },
      "execution_count": 43,
      "outputs": [
        {
          "output_type": "execute_result",
          "data": {
            "text/plain": [
              "array([ True,  True])"
            ]
          },
          "metadata": {},
          "execution_count": 43
        }
      ]
    },
    {
      "cell_type": "code",
      "source": [
        "# Check the difference between the two results\n",
        "print(np.array(results_10_percent_data_aug) - np.array(loaded_weights_model_results))"
      ],
      "metadata": {
        "colab": {
          "base_uri": "https://localhost:8080/"
        },
        "id": "g1vIjhSa2jLG",
        "outputId": "0b550ff9-cf4e-4f6e-e470-e5e2990e7bfd"
      },
      "execution_count": 44,
      "outputs": [
        {
          "output_type": "stream",
          "name": "stdout",
          "text": [
            "[-5.96046448e-08  0.00000000e+00]\n"
          ]
        }
      ]
    },
    {
      "cell_type": "markdown",
      "source": [
        "## 🔑 Note: Fine-tuning usually works best after training a feature extraction model for a few epochs and with large amounts of data. \n",
        "* Bottom layers (layers closer to the input data) stay frozen where as top layers (layers closer to the output data) are updated during training in fine tuning.\n",
        "* So far our saved model has been trained using feature extraction transfer learning.\n",
        "* fine-tuning transfer learning: using the same base model except we'll be unfreezing some of its layers and running the model for a few more epochs.\n"
      ],
      "metadata": {
        "id": "fn8UhxMq21bR"
      }
    },
    {
      "cell_type": "markdown",
      "source": [
        "## model_3 fine tuning feature extracted model"
      ],
      "metadata": {
        "id": "O4uT24hZAF87"
      }
    },
    {
      "cell_type": "code",
      "source": [
        "# Layers in loaded model\n",
        "model_2.layers"
      ],
      "metadata": {
        "colab": {
          "base_uri": "https://localhost:8080/"
        },
        "id": "sO_xNACy4K0h",
        "outputId": "8ffe2f85-f8d5-495f-9206-132621a2f505"
      },
      "execution_count": 45,
      "outputs": [
        {
          "output_type": "execute_result",
          "data": {
            "text/plain": [
              "[<keras.engine.input_layer.InputLayer at 0x7f8c648504c0>,\n",
              " <keras.engine.sequential.Sequential at 0x7f8c67569b50>,\n",
              " <keras.engine.functional.Functional at 0x7f8c67319670>,\n",
              " <keras.layers.pooling.global_average_pooling2d.GlobalAveragePooling2D at 0x7f8c6757da00>,\n",
              " <keras.layers.core.dense.Dense at 0x7f8c6722fca0>]"
            ]
          },
          "metadata": {},
          "execution_count": 45
        }
      ]
    },
    {
      "cell_type": "code",
      "source": [
        "for layer in model_2.layers:\n",
        "  print(layer, layer.trainable)"
      ],
      "metadata": {
        "colab": {
          "base_uri": "https://localhost:8080/"
        },
        "id": "9-SRG3uhARaz",
        "outputId": "99a95a32-334b-4007-8dce-e5389af24d9c"
      },
      "execution_count": 47,
      "outputs": [
        {
          "output_type": "stream",
          "name": "stdout",
          "text": [
            "<keras.engine.input_layer.InputLayer object at 0x7f8c648504c0> True\n",
            "<keras.engine.sequential.Sequential object at 0x7f8c67569b50> True\n",
            "<keras.engine.functional.Functional object at 0x7f8c67319670> False\n",
            "<keras.layers.pooling.global_average_pooling2d.GlobalAveragePooling2D object at 0x7f8c6757da00> True\n",
            "<keras.layers.core.dense.Dense object at 0x7f8c6722fca0> True\n"
          ]
        }
      ]
    },
    {
      "cell_type": "code",
      "source": [
        "# How many layers are trainable in our base model?\n",
        "# trainable variable is weight/pattern that can be updated\n",
        "print(len(model_2.layers[2].trainable_variables)) # layer at index 2 is the EfficientNetB0 layer (the base model)\n",
        "     "
      ],
      "metadata": {
        "colab": {
          "base_uri": "https://localhost:8080/"
        },
        "id": "XVAPWJASBVL3",
        "outputId": "0c2a4500-bb49-4acb-ba99-cf87823a676e"
      },
      "execution_count": 58,
      "outputs": [
        {
          "output_type": "stream",
          "name": "stdout",
          "text": [
            "0\n"
          ]
        }
      ]
    },
    {
      "cell_type": "code",
      "source": [
        "#  Above is the same as our base model.\n",
        "print(len(base_model.trainable_variables))"
      ],
      "metadata": {
        "colab": {
          "base_uri": "https://localhost:8080/"
        },
        "id": "QwB1ptRYBzFh",
        "outputId": "7bac1a3c-a3bd-41fd-aa23-c708db12b663"
      },
      "execution_count": 59,
      "outputs": [
        {
          "output_type": "stream",
          "name": "stdout",
          "text": [
            "0\n"
          ]
        }
      ]
    },
    {
      "cell_type": "code",
      "source": [
        "# Check which layers are tuneable (trainable)\n",
        "for layer_number, layer in enumerate(base_model.layers):\n",
        "  print(layer_number, layer.name, layer.trainable)"
      ],
      "metadata": {
        "colab": {
          "base_uri": "https://localhost:8080/"
        },
        "id": "_rJbsYMUB5N1",
        "outputId": "aac8d6f4-e5f0-4089-c80d-c8e14a1e630d"
      },
      "execution_count": 60,
      "outputs": [
        {
          "output_type": "stream",
          "name": "stdout",
          "text": [
            "0 input_3 False\n",
            "1 rescaling_4 False\n",
            "2 normalization_2 False\n",
            "3 rescaling_5 False\n",
            "4 stem_conv_pad False\n",
            "5 stem_conv False\n",
            "6 stem_bn False\n",
            "7 stem_activation False\n",
            "8 block1a_dwconv False\n",
            "9 block1a_bn False\n",
            "10 block1a_activation False\n",
            "11 block1a_se_squeeze False\n",
            "12 block1a_se_reshape False\n",
            "13 block1a_se_reduce False\n",
            "14 block1a_se_expand False\n",
            "15 block1a_se_excite False\n",
            "16 block1a_project_conv False\n",
            "17 block1a_project_bn False\n",
            "18 block2a_expand_conv False\n",
            "19 block2a_expand_bn False\n",
            "20 block2a_expand_activation False\n",
            "21 block2a_dwconv_pad False\n",
            "22 block2a_dwconv False\n",
            "23 block2a_bn False\n",
            "24 block2a_activation False\n",
            "25 block2a_se_squeeze False\n",
            "26 block2a_se_reshape False\n",
            "27 block2a_se_reduce False\n",
            "28 block2a_se_expand False\n",
            "29 block2a_se_excite False\n",
            "30 block2a_project_conv False\n",
            "31 block2a_project_bn False\n",
            "32 block2b_expand_conv False\n",
            "33 block2b_expand_bn False\n",
            "34 block2b_expand_activation False\n",
            "35 block2b_dwconv False\n",
            "36 block2b_bn False\n",
            "37 block2b_activation False\n",
            "38 block2b_se_squeeze False\n",
            "39 block2b_se_reshape False\n",
            "40 block2b_se_reduce False\n",
            "41 block2b_se_expand False\n",
            "42 block2b_se_excite False\n",
            "43 block2b_project_conv False\n",
            "44 block2b_project_bn False\n",
            "45 block2b_drop False\n",
            "46 block2b_add False\n",
            "47 block3a_expand_conv False\n",
            "48 block3a_expand_bn False\n",
            "49 block3a_expand_activation False\n",
            "50 block3a_dwconv_pad False\n",
            "51 block3a_dwconv False\n",
            "52 block3a_bn False\n",
            "53 block3a_activation False\n",
            "54 block3a_se_squeeze False\n",
            "55 block3a_se_reshape False\n",
            "56 block3a_se_reduce False\n",
            "57 block3a_se_expand False\n",
            "58 block3a_se_excite False\n",
            "59 block3a_project_conv False\n",
            "60 block3a_project_bn False\n",
            "61 block3b_expand_conv False\n",
            "62 block3b_expand_bn False\n",
            "63 block3b_expand_activation False\n",
            "64 block3b_dwconv False\n",
            "65 block3b_bn False\n",
            "66 block3b_activation False\n",
            "67 block3b_se_squeeze False\n",
            "68 block3b_se_reshape False\n",
            "69 block3b_se_reduce False\n",
            "70 block3b_se_expand False\n",
            "71 block3b_se_excite False\n",
            "72 block3b_project_conv False\n",
            "73 block3b_project_bn False\n",
            "74 block3b_drop False\n",
            "75 block3b_add False\n",
            "76 block4a_expand_conv False\n",
            "77 block4a_expand_bn False\n",
            "78 block4a_expand_activation False\n",
            "79 block4a_dwconv_pad False\n",
            "80 block4a_dwconv False\n",
            "81 block4a_bn False\n",
            "82 block4a_activation False\n",
            "83 block4a_se_squeeze False\n",
            "84 block4a_se_reshape False\n",
            "85 block4a_se_reduce False\n",
            "86 block4a_se_expand False\n",
            "87 block4a_se_excite False\n",
            "88 block4a_project_conv False\n",
            "89 block4a_project_bn False\n",
            "90 block4b_expand_conv False\n",
            "91 block4b_expand_bn False\n",
            "92 block4b_expand_activation False\n",
            "93 block4b_dwconv False\n",
            "94 block4b_bn False\n",
            "95 block4b_activation False\n",
            "96 block4b_se_squeeze False\n",
            "97 block4b_se_reshape False\n",
            "98 block4b_se_reduce False\n",
            "99 block4b_se_expand False\n",
            "100 block4b_se_excite False\n",
            "101 block4b_project_conv False\n",
            "102 block4b_project_bn False\n",
            "103 block4b_drop False\n",
            "104 block4b_add False\n",
            "105 block4c_expand_conv False\n",
            "106 block4c_expand_bn False\n",
            "107 block4c_expand_activation False\n",
            "108 block4c_dwconv False\n",
            "109 block4c_bn False\n",
            "110 block4c_activation False\n",
            "111 block4c_se_squeeze False\n",
            "112 block4c_se_reshape False\n",
            "113 block4c_se_reduce False\n",
            "114 block4c_se_expand False\n",
            "115 block4c_se_excite False\n",
            "116 block4c_project_conv False\n",
            "117 block4c_project_bn False\n",
            "118 block4c_drop False\n",
            "119 block4c_add False\n",
            "120 block5a_expand_conv False\n",
            "121 block5a_expand_bn False\n",
            "122 block5a_expand_activation False\n",
            "123 block5a_dwconv False\n",
            "124 block5a_bn False\n",
            "125 block5a_activation False\n",
            "126 block5a_se_squeeze False\n",
            "127 block5a_se_reshape False\n",
            "128 block5a_se_reduce False\n",
            "129 block5a_se_expand False\n",
            "130 block5a_se_excite False\n",
            "131 block5a_project_conv False\n",
            "132 block5a_project_bn False\n",
            "133 block5b_expand_conv False\n",
            "134 block5b_expand_bn False\n",
            "135 block5b_expand_activation False\n",
            "136 block5b_dwconv False\n",
            "137 block5b_bn False\n",
            "138 block5b_activation False\n",
            "139 block5b_se_squeeze False\n",
            "140 block5b_se_reshape False\n",
            "141 block5b_se_reduce False\n",
            "142 block5b_se_expand False\n",
            "143 block5b_se_excite False\n",
            "144 block5b_project_conv False\n",
            "145 block5b_project_bn False\n",
            "146 block5b_drop False\n",
            "147 block5b_add False\n",
            "148 block5c_expand_conv False\n",
            "149 block5c_expand_bn False\n",
            "150 block5c_expand_activation False\n",
            "151 block5c_dwconv False\n",
            "152 block5c_bn False\n",
            "153 block5c_activation False\n",
            "154 block5c_se_squeeze False\n",
            "155 block5c_se_reshape False\n",
            "156 block5c_se_reduce False\n",
            "157 block5c_se_expand False\n",
            "158 block5c_se_excite False\n",
            "159 block5c_project_conv False\n",
            "160 block5c_project_bn False\n",
            "161 block5c_drop False\n",
            "162 block5c_add False\n",
            "163 block6a_expand_conv False\n",
            "164 block6a_expand_bn False\n",
            "165 block6a_expand_activation False\n",
            "166 block6a_dwconv_pad False\n",
            "167 block6a_dwconv False\n",
            "168 block6a_bn False\n",
            "169 block6a_activation False\n",
            "170 block6a_se_squeeze False\n",
            "171 block6a_se_reshape False\n",
            "172 block6a_se_reduce False\n",
            "173 block6a_se_expand False\n",
            "174 block6a_se_excite False\n",
            "175 block6a_project_conv False\n",
            "176 block6a_project_bn False\n",
            "177 block6b_expand_conv False\n",
            "178 block6b_expand_bn False\n",
            "179 block6b_expand_activation False\n",
            "180 block6b_dwconv False\n",
            "181 block6b_bn False\n",
            "182 block6b_activation False\n",
            "183 block6b_se_squeeze False\n",
            "184 block6b_se_reshape False\n",
            "185 block6b_se_reduce False\n",
            "186 block6b_se_expand False\n",
            "187 block6b_se_excite False\n",
            "188 block6b_project_conv False\n",
            "189 block6b_project_bn False\n",
            "190 block6b_drop False\n",
            "191 block6b_add False\n",
            "192 block6c_expand_conv False\n",
            "193 block6c_expand_bn False\n",
            "194 block6c_expand_activation False\n",
            "195 block6c_dwconv False\n",
            "196 block6c_bn False\n",
            "197 block6c_activation False\n",
            "198 block6c_se_squeeze False\n",
            "199 block6c_se_reshape False\n",
            "200 block6c_se_reduce False\n",
            "201 block6c_se_expand False\n",
            "202 block6c_se_excite False\n",
            "203 block6c_project_conv False\n",
            "204 block6c_project_bn False\n",
            "205 block6c_drop False\n",
            "206 block6c_add False\n",
            "207 block6d_expand_conv False\n",
            "208 block6d_expand_bn False\n",
            "209 block6d_expand_activation False\n",
            "210 block6d_dwconv False\n",
            "211 block6d_bn False\n",
            "212 block6d_activation False\n",
            "213 block6d_se_squeeze False\n",
            "214 block6d_se_reshape False\n",
            "215 block6d_se_reduce False\n",
            "216 block6d_se_expand False\n",
            "217 block6d_se_excite False\n",
            "218 block6d_project_conv False\n",
            "219 block6d_project_bn False\n",
            "220 block6d_drop False\n",
            "221 block6d_add False\n",
            "222 block7a_expand_conv False\n",
            "223 block7a_expand_bn False\n",
            "224 block7a_expand_activation False\n",
            "225 block7a_dwconv False\n",
            "226 block7a_bn False\n",
            "227 block7a_activation False\n",
            "228 block7a_se_squeeze False\n",
            "229 block7a_se_reshape False\n",
            "230 block7a_se_reduce False\n",
            "231 block7a_se_expand False\n",
            "232 block7a_se_excite False\n",
            "233 block7a_project_conv False\n",
            "234 block7a_project_bn False\n",
            "235 top_conv False\n",
            "236 top_bn False\n",
            "237 top_activation False\n"
          ]
        }
      ]
    },
    {
      "cell_type": "code",
      "source": [
        "# Check which layers are tuneable (trainable)\n",
        "for layer_number, layer in enumerate(model_2.layers[2].layers):\n",
        "  print(layer_number, layer.name, layer.trainable)"
      ],
      "metadata": {
        "colab": {
          "base_uri": "https://localhost:8080/"
        },
        "id": "OXuB8k2VCF0O",
        "outputId": "26779959-da77-421c-cec3-1eabb13c5da8"
      },
      "execution_count": 61,
      "outputs": [
        {
          "output_type": "stream",
          "name": "stdout",
          "text": [
            "0 input_3 False\n",
            "1 rescaling_4 False\n",
            "2 normalization_2 False\n",
            "3 rescaling_5 False\n",
            "4 stem_conv_pad False\n",
            "5 stem_conv False\n",
            "6 stem_bn False\n",
            "7 stem_activation False\n",
            "8 block1a_dwconv False\n",
            "9 block1a_bn False\n",
            "10 block1a_activation False\n",
            "11 block1a_se_squeeze False\n",
            "12 block1a_se_reshape False\n",
            "13 block1a_se_reduce False\n",
            "14 block1a_se_expand False\n",
            "15 block1a_se_excite False\n",
            "16 block1a_project_conv False\n",
            "17 block1a_project_bn False\n",
            "18 block2a_expand_conv False\n",
            "19 block2a_expand_bn False\n",
            "20 block2a_expand_activation False\n",
            "21 block2a_dwconv_pad False\n",
            "22 block2a_dwconv False\n",
            "23 block2a_bn False\n",
            "24 block2a_activation False\n",
            "25 block2a_se_squeeze False\n",
            "26 block2a_se_reshape False\n",
            "27 block2a_se_reduce False\n",
            "28 block2a_se_expand False\n",
            "29 block2a_se_excite False\n",
            "30 block2a_project_conv False\n",
            "31 block2a_project_bn False\n",
            "32 block2b_expand_conv False\n",
            "33 block2b_expand_bn False\n",
            "34 block2b_expand_activation False\n",
            "35 block2b_dwconv False\n",
            "36 block2b_bn False\n",
            "37 block2b_activation False\n",
            "38 block2b_se_squeeze False\n",
            "39 block2b_se_reshape False\n",
            "40 block2b_se_reduce False\n",
            "41 block2b_se_expand False\n",
            "42 block2b_se_excite False\n",
            "43 block2b_project_conv False\n",
            "44 block2b_project_bn False\n",
            "45 block2b_drop False\n",
            "46 block2b_add False\n",
            "47 block3a_expand_conv False\n",
            "48 block3a_expand_bn False\n",
            "49 block3a_expand_activation False\n",
            "50 block3a_dwconv_pad False\n",
            "51 block3a_dwconv False\n",
            "52 block3a_bn False\n",
            "53 block3a_activation False\n",
            "54 block3a_se_squeeze False\n",
            "55 block3a_se_reshape False\n",
            "56 block3a_se_reduce False\n",
            "57 block3a_se_expand False\n",
            "58 block3a_se_excite False\n",
            "59 block3a_project_conv False\n",
            "60 block3a_project_bn False\n",
            "61 block3b_expand_conv False\n",
            "62 block3b_expand_bn False\n",
            "63 block3b_expand_activation False\n",
            "64 block3b_dwconv False\n",
            "65 block3b_bn False\n",
            "66 block3b_activation False\n",
            "67 block3b_se_squeeze False\n",
            "68 block3b_se_reshape False\n",
            "69 block3b_se_reduce False\n",
            "70 block3b_se_expand False\n",
            "71 block3b_se_excite False\n",
            "72 block3b_project_conv False\n",
            "73 block3b_project_bn False\n",
            "74 block3b_drop False\n",
            "75 block3b_add False\n",
            "76 block4a_expand_conv False\n",
            "77 block4a_expand_bn False\n",
            "78 block4a_expand_activation False\n",
            "79 block4a_dwconv_pad False\n",
            "80 block4a_dwconv False\n",
            "81 block4a_bn False\n",
            "82 block4a_activation False\n",
            "83 block4a_se_squeeze False\n",
            "84 block4a_se_reshape False\n",
            "85 block4a_se_reduce False\n",
            "86 block4a_se_expand False\n",
            "87 block4a_se_excite False\n",
            "88 block4a_project_conv False\n",
            "89 block4a_project_bn False\n",
            "90 block4b_expand_conv False\n",
            "91 block4b_expand_bn False\n",
            "92 block4b_expand_activation False\n",
            "93 block4b_dwconv False\n",
            "94 block4b_bn False\n",
            "95 block4b_activation False\n",
            "96 block4b_se_squeeze False\n",
            "97 block4b_se_reshape False\n",
            "98 block4b_se_reduce False\n",
            "99 block4b_se_expand False\n",
            "100 block4b_se_excite False\n",
            "101 block4b_project_conv False\n",
            "102 block4b_project_bn False\n",
            "103 block4b_drop False\n",
            "104 block4b_add False\n",
            "105 block4c_expand_conv False\n",
            "106 block4c_expand_bn False\n",
            "107 block4c_expand_activation False\n",
            "108 block4c_dwconv False\n",
            "109 block4c_bn False\n",
            "110 block4c_activation False\n",
            "111 block4c_se_squeeze False\n",
            "112 block4c_se_reshape False\n",
            "113 block4c_se_reduce False\n",
            "114 block4c_se_expand False\n",
            "115 block4c_se_excite False\n",
            "116 block4c_project_conv False\n",
            "117 block4c_project_bn False\n",
            "118 block4c_drop False\n",
            "119 block4c_add False\n",
            "120 block5a_expand_conv False\n",
            "121 block5a_expand_bn False\n",
            "122 block5a_expand_activation False\n",
            "123 block5a_dwconv False\n",
            "124 block5a_bn False\n",
            "125 block5a_activation False\n",
            "126 block5a_se_squeeze False\n",
            "127 block5a_se_reshape False\n",
            "128 block5a_se_reduce False\n",
            "129 block5a_se_expand False\n",
            "130 block5a_se_excite False\n",
            "131 block5a_project_conv False\n",
            "132 block5a_project_bn False\n",
            "133 block5b_expand_conv False\n",
            "134 block5b_expand_bn False\n",
            "135 block5b_expand_activation False\n",
            "136 block5b_dwconv False\n",
            "137 block5b_bn False\n",
            "138 block5b_activation False\n",
            "139 block5b_se_squeeze False\n",
            "140 block5b_se_reshape False\n",
            "141 block5b_se_reduce False\n",
            "142 block5b_se_expand False\n",
            "143 block5b_se_excite False\n",
            "144 block5b_project_conv False\n",
            "145 block5b_project_bn False\n",
            "146 block5b_drop False\n",
            "147 block5b_add False\n",
            "148 block5c_expand_conv False\n",
            "149 block5c_expand_bn False\n",
            "150 block5c_expand_activation False\n",
            "151 block5c_dwconv False\n",
            "152 block5c_bn False\n",
            "153 block5c_activation False\n",
            "154 block5c_se_squeeze False\n",
            "155 block5c_se_reshape False\n",
            "156 block5c_se_reduce False\n",
            "157 block5c_se_expand False\n",
            "158 block5c_se_excite False\n",
            "159 block5c_project_conv False\n",
            "160 block5c_project_bn False\n",
            "161 block5c_drop False\n",
            "162 block5c_add False\n",
            "163 block6a_expand_conv False\n",
            "164 block6a_expand_bn False\n",
            "165 block6a_expand_activation False\n",
            "166 block6a_dwconv_pad False\n",
            "167 block6a_dwconv False\n",
            "168 block6a_bn False\n",
            "169 block6a_activation False\n",
            "170 block6a_se_squeeze False\n",
            "171 block6a_se_reshape False\n",
            "172 block6a_se_reduce False\n",
            "173 block6a_se_expand False\n",
            "174 block6a_se_excite False\n",
            "175 block6a_project_conv False\n",
            "176 block6a_project_bn False\n",
            "177 block6b_expand_conv False\n",
            "178 block6b_expand_bn False\n",
            "179 block6b_expand_activation False\n",
            "180 block6b_dwconv False\n",
            "181 block6b_bn False\n",
            "182 block6b_activation False\n",
            "183 block6b_se_squeeze False\n",
            "184 block6b_se_reshape False\n",
            "185 block6b_se_reduce False\n",
            "186 block6b_se_expand False\n",
            "187 block6b_se_excite False\n",
            "188 block6b_project_conv False\n",
            "189 block6b_project_bn False\n",
            "190 block6b_drop False\n",
            "191 block6b_add False\n",
            "192 block6c_expand_conv False\n",
            "193 block6c_expand_bn False\n",
            "194 block6c_expand_activation False\n",
            "195 block6c_dwconv False\n",
            "196 block6c_bn False\n",
            "197 block6c_activation False\n",
            "198 block6c_se_squeeze False\n",
            "199 block6c_se_reshape False\n",
            "200 block6c_se_reduce False\n",
            "201 block6c_se_expand False\n",
            "202 block6c_se_excite False\n",
            "203 block6c_project_conv False\n",
            "204 block6c_project_bn False\n",
            "205 block6c_drop False\n",
            "206 block6c_add False\n",
            "207 block6d_expand_conv False\n",
            "208 block6d_expand_bn False\n",
            "209 block6d_expand_activation False\n",
            "210 block6d_dwconv False\n",
            "211 block6d_bn False\n",
            "212 block6d_activation False\n",
            "213 block6d_se_squeeze False\n",
            "214 block6d_se_reshape False\n",
            "215 block6d_se_reduce False\n",
            "216 block6d_se_expand False\n",
            "217 block6d_se_excite False\n",
            "218 block6d_project_conv False\n",
            "219 block6d_project_bn False\n",
            "220 block6d_drop False\n",
            "221 block6d_add False\n",
            "222 block7a_expand_conv False\n",
            "223 block7a_expand_bn False\n",
            "224 block7a_expand_activation False\n",
            "225 block7a_dwconv False\n",
            "226 block7a_bn False\n",
            "227 block7a_activation False\n",
            "228 block7a_se_squeeze False\n",
            "229 block7a_se_reshape False\n",
            "230 block7a_se_reduce False\n",
            "231 block7a_se_expand False\n",
            "232 block7a_se_excite False\n",
            "233 block7a_project_conv False\n",
            "234 block7a_project_bn False\n",
            "235 top_conv False\n",
            "236 top_bn False\n",
            "237 top_activation False\n"
          ]
        }
      ]
    },
    {
      "cell_type": "markdown",
      "source": [
        "* Generally, the less data you have, the less layers you want to unfreeze and the more gradually you want to fine-tune.\n",
        "* 📖 Resource: The ULMFiT (Universal Language Model Fine-tuning for Text Classification) paper has a great series of experiments on fine-tuning models.\n",
        "* To begin fine-tuning, we'll unfreeze the entire base model by setting its trainable attribute to True. Then we'll refreeze every layer in the base model except for the last 10 by looping through them and setting their trainable attribute to False. Finally, we'll recompile the model."
      ],
      "metadata": {
        "id": "vlLT0ZCzCMXd"
      }
    },
    {
      "cell_type": "code",
      "source": [
        "base_model.trainable = True\n",
        "\n",
        "# Freeze all layers except for the\n",
        "for layer in base_model.layers[:-10]:\n",
        "  layer.trainable = False\n",
        "\n",
        "# Recompile the model (always recompile after any adjustments to a model)\n",
        "model_2.compile(loss=\"categorical_crossentropy\",\n",
        "              optimizer=tf.keras.optimizers.Adam(lr=0.0001), # lr is 10x lower than before for fine-tuning\n",
        "              metrics=[\"accuracy\"])\n",
        "     "
      ],
      "metadata": {
        "colab": {
          "base_uri": "https://localhost:8080/"
        },
        "id": "8yjF6eAODuwe",
        "outputId": "5cf317d4-ee49-4913-ef11-9658117d09e2"
      },
      "execution_count": 63,
      "outputs": [
        {
          "output_type": "stream",
          "name": "stderr",
          "text": [
            "WARNING:absl:`lr` is deprecated, please use `learning_rate` instead, or use the legacy optimizer, e.g.,tf.keras.optimizers.legacy.Adam.\n"
          ]
        }
      ]
    },
    {
      "cell_type": "code",
      "source": [
        "# Check which layers are tuneable (trainable)\n",
        "for layer_number, layer in enumerate(base_model.layers):\n",
        "  print(layer_number, layer.name, layer.trainable)"
      ],
      "metadata": {
        "colab": {
          "base_uri": "https://localhost:8080/"
        },
        "id": "YzEjSLF5Gx8T",
        "outputId": "2dbaf642-54ef-4218-9719-2bfdd45f7e08"
      },
      "execution_count": 64,
      "outputs": [
        {
          "output_type": "stream",
          "name": "stdout",
          "text": [
            "0 input_3 False\n",
            "1 rescaling_4 False\n",
            "2 normalization_2 False\n",
            "3 rescaling_5 False\n",
            "4 stem_conv_pad False\n",
            "5 stem_conv False\n",
            "6 stem_bn False\n",
            "7 stem_activation False\n",
            "8 block1a_dwconv False\n",
            "9 block1a_bn False\n",
            "10 block1a_activation False\n",
            "11 block1a_se_squeeze False\n",
            "12 block1a_se_reshape False\n",
            "13 block1a_se_reduce False\n",
            "14 block1a_se_expand False\n",
            "15 block1a_se_excite False\n",
            "16 block1a_project_conv False\n",
            "17 block1a_project_bn False\n",
            "18 block2a_expand_conv False\n",
            "19 block2a_expand_bn False\n",
            "20 block2a_expand_activation False\n",
            "21 block2a_dwconv_pad False\n",
            "22 block2a_dwconv False\n",
            "23 block2a_bn False\n",
            "24 block2a_activation False\n",
            "25 block2a_se_squeeze False\n",
            "26 block2a_se_reshape False\n",
            "27 block2a_se_reduce False\n",
            "28 block2a_se_expand False\n",
            "29 block2a_se_excite False\n",
            "30 block2a_project_conv False\n",
            "31 block2a_project_bn False\n",
            "32 block2b_expand_conv False\n",
            "33 block2b_expand_bn False\n",
            "34 block2b_expand_activation False\n",
            "35 block2b_dwconv False\n",
            "36 block2b_bn False\n",
            "37 block2b_activation False\n",
            "38 block2b_se_squeeze False\n",
            "39 block2b_se_reshape False\n",
            "40 block2b_se_reduce False\n",
            "41 block2b_se_expand False\n",
            "42 block2b_se_excite False\n",
            "43 block2b_project_conv False\n",
            "44 block2b_project_bn False\n",
            "45 block2b_drop False\n",
            "46 block2b_add False\n",
            "47 block3a_expand_conv False\n",
            "48 block3a_expand_bn False\n",
            "49 block3a_expand_activation False\n",
            "50 block3a_dwconv_pad False\n",
            "51 block3a_dwconv False\n",
            "52 block3a_bn False\n",
            "53 block3a_activation False\n",
            "54 block3a_se_squeeze False\n",
            "55 block3a_se_reshape False\n",
            "56 block3a_se_reduce False\n",
            "57 block3a_se_expand False\n",
            "58 block3a_se_excite False\n",
            "59 block3a_project_conv False\n",
            "60 block3a_project_bn False\n",
            "61 block3b_expand_conv False\n",
            "62 block3b_expand_bn False\n",
            "63 block3b_expand_activation False\n",
            "64 block3b_dwconv False\n",
            "65 block3b_bn False\n",
            "66 block3b_activation False\n",
            "67 block3b_se_squeeze False\n",
            "68 block3b_se_reshape False\n",
            "69 block3b_se_reduce False\n",
            "70 block3b_se_expand False\n",
            "71 block3b_se_excite False\n",
            "72 block3b_project_conv False\n",
            "73 block3b_project_bn False\n",
            "74 block3b_drop False\n",
            "75 block3b_add False\n",
            "76 block4a_expand_conv False\n",
            "77 block4a_expand_bn False\n",
            "78 block4a_expand_activation False\n",
            "79 block4a_dwconv_pad False\n",
            "80 block4a_dwconv False\n",
            "81 block4a_bn False\n",
            "82 block4a_activation False\n",
            "83 block4a_se_squeeze False\n",
            "84 block4a_se_reshape False\n",
            "85 block4a_se_reduce False\n",
            "86 block4a_se_expand False\n",
            "87 block4a_se_excite False\n",
            "88 block4a_project_conv False\n",
            "89 block4a_project_bn False\n",
            "90 block4b_expand_conv False\n",
            "91 block4b_expand_bn False\n",
            "92 block4b_expand_activation False\n",
            "93 block4b_dwconv False\n",
            "94 block4b_bn False\n",
            "95 block4b_activation False\n",
            "96 block4b_se_squeeze False\n",
            "97 block4b_se_reshape False\n",
            "98 block4b_se_reduce False\n",
            "99 block4b_se_expand False\n",
            "100 block4b_se_excite False\n",
            "101 block4b_project_conv False\n",
            "102 block4b_project_bn False\n",
            "103 block4b_drop False\n",
            "104 block4b_add False\n",
            "105 block4c_expand_conv False\n",
            "106 block4c_expand_bn False\n",
            "107 block4c_expand_activation False\n",
            "108 block4c_dwconv False\n",
            "109 block4c_bn False\n",
            "110 block4c_activation False\n",
            "111 block4c_se_squeeze False\n",
            "112 block4c_se_reshape False\n",
            "113 block4c_se_reduce False\n",
            "114 block4c_se_expand False\n",
            "115 block4c_se_excite False\n",
            "116 block4c_project_conv False\n",
            "117 block4c_project_bn False\n",
            "118 block4c_drop False\n",
            "119 block4c_add False\n",
            "120 block5a_expand_conv False\n",
            "121 block5a_expand_bn False\n",
            "122 block5a_expand_activation False\n",
            "123 block5a_dwconv False\n",
            "124 block5a_bn False\n",
            "125 block5a_activation False\n",
            "126 block5a_se_squeeze False\n",
            "127 block5a_se_reshape False\n",
            "128 block5a_se_reduce False\n",
            "129 block5a_se_expand False\n",
            "130 block5a_se_excite False\n",
            "131 block5a_project_conv False\n",
            "132 block5a_project_bn False\n",
            "133 block5b_expand_conv False\n",
            "134 block5b_expand_bn False\n",
            "135 block5b_expand_activation False\n",
            "136 block5b_dwconv False\n",
            "137 block5b_bn False\n",
            "138 block5b_activation False\n",
            "139 block5b_se_squeeze False\n",
            "140 block5b_se_reshape False\n",
            "141 block5b_se_reduce False\n",
            "142 block5b_se_expand False\n",
            "143 block5b_se_excite False\n",
            "144 block5b_project_conv False\n",
            "145 block5b_project_bn False\n",
            "146 block5b_drop False\n",
            "147 block5b_add False\n",
            "148 block5c_expand_conv False\n",
            "149 block5c_expand_bn False\n",
            "150 block5c_expand_activation False\n",
            "151 block5c_dwconv False\n",
            "152 block5c_bn False\n",
            "153 block5c_activation False\n",
            "154 block5c_se_squeeze False\n",
            "155 block5c_se_reshape False\n",
            "156 block5c_se_reduce False\n",
            "157 block5c_se_expand False\n",
            "158 block5c_se_excite False\n",
            "159 block5c_project_conv False\n",
            "160 block5c_project_bn False\n",
            "161 block5c_drop False\n",
            "162 block5c_add False\n",
            "163 block6a_expand_conv False\n",
            "164 block6a_expand_bn False\n",
            "165 block6a_expand_activation False\n",
            "166 block6a_dwconv_pad False\n",
            "167 block6a_dwconv False\n",
            "168 block6a_bn False\n",
            "169 block6a_activation False\n",
            "170 block6a_se_squeeze False\n",
            "171 block6a_se_reshape False\n",
            "172 block6a_se_reduce False\n",
            "173 block6a_se_expand False\n",
            "174 block6a_se_excite False\n",
            "175 block6a_project_conv False\n",
            "176 block6a_project_bn False\n",
            "177 block6b_expand_conv False\n",
            "178 block6b_expand_bn False\n",
            "179 block6b_expand_activation False\n",
            "180 block6b_dwconv False\n",
            "181 block6b_bn False\n",
            "182 block6b_activation False\n",
            "183 block6b_se_squeeze False\n",
            "184 block6b_se_reshape False\n",
            "185 block6b_se_reduce False\n",
            "186 block6b_se_expand False\n",
            "187 block6b_se_excite False\n",
            "188 block6b_project_conv False\n",
            "189 block6b_project_bn False\n",
            "190 block6b_drop False\n",
            "191 block6b_add False\n",
            "192 block6c_expand_conv False\n",
            "193 block6c_expand_bn False\n",
            "194 block6c_expand_activation False\n",
            "195 block6c_dwconv False\n",
            "196 block6c_bn False\n",
            "197 block6c_activation False\n",
            "198 block6c_se_squeeze False\n",
            "199 block6c_se_reshape False\n",
            "200 block6c_se_reduce False\n",
            "201 block6c_se_expand False\n",
            "202 block6c_se_excite False\n",
            "203 block6c_project_conv False\n",
            "204 block6c_project_bn False\n",
            "205 block6c_drop False\n",
            "206 block6c_add False\n",
            "207 block6d_expand_conv False\n",
            "208 block6d_expand_bn False\n",
            "209 block6d_expand_activation False\n",
            "210 block6d_dwconv False\n",
            "211 block6d_bn False\n",
            "212 block6d_activation False\n",
            "213 block6d_se_squeeze False\n",
            "214 block6d_se_reshape False\n",
            "215 block6d_se_reduce False\n",
            "216 block6d_se_expand False\n",
            "217 block6d_se_excite False\n",
            "218 block6d_project_conv False\n",
            "219 block6d_project_bn False\n",
            "220 block6d_drop False\n",
            "221 block6d_add False\n",
            "222 block7a_expand_conv False\n",
            "223 block7a_expand_bn False\n",
            "224 block7a_expand_activation False\n",
            "225 block7a_dwconv False\n",
            "226 block7a_bn False\n",
            "227 block7a_activation False\n",
            "228 block7a_se_squeeze True\n",
            "229 block7a_se_reshape True\n",
            "230 block7a_se_reduce True\n",
            "231 block7a_se_expand True\n",
            "232 block7a_se_excite True\n",
            "233 block7a_project_conv True\n",
            "234 block7a_project_bn True\n",
            "235 top_conv True\n",
            "236 top_bn True\n",
            "237 top_activation True\n"
          ]
        }
      ]
    },
    {
      "cell_type": "markdown",
      "source": [
        "# last 10 layers of the base model along with the output layer will have their weights updated during training.\n",
        "\n",
        "> 🤔 Question: Why did we recompile the model?\n",
        "\n",
        "* Every time you make a change to your models, you need to recompile them.\n",
        "\n",
        "* In our case, we're using the exact same loss, optimizer and metrics as before, except this time the learning rate for our optimizer will be 10x smaller than before (0.0001 instead of Adam's default of 0.001). because we are updating already learned weight we dont want it updated too much to not let overfit.\n",
        "\n",
        "* We do this so the model doesn't try to overwrite the existing weights in the pretrained model too fast. In other words, we want learning to be more gradual.\n",
        "\n",
        "🔑 Note: There's no set standard for setting the learning rate during fine-tuning, though reductions of 2.6x-10x+ seem to work well in practice.\n"
      ],
      "metadata": {
        "id": "7VCCZmafHRe6"
      }
    },
    {
      "cell_type": "code",
      "source": [
        "# How many trainable variables do we have now?\n",
        "print(len(model_2.trainable_variables))\n",
        "# Wonderful, it looks like our model has a total of 10 trainable variables, the last 10 layers of the base model and the weight and bias parameters of the Dense output layer."
      ],
      "metadata": {
        "colab": {
          "base_uri": "https://localhost:8080/"
        },
        "id": "bH4Jmb2HG13t",
        "outputId": "71d42efb-38ab-4c91-924c-e6f28e1acb34"
      },
      "execution_count": 69,
      "outputs": [
        {
          "output_type": "stream",
          "name": "stdout",
          "text": [
            "12\n"
          ]
        }
      ]
    },
    {
      "cell_type": "code",
      "source": [
        "model_2.trainable_variables\n",
        "# we get all the weight fron different trainable layers"
      ],
      "metadata": {
        "colab": {
          "base_uri": "https://localhost:8080/"
        },
        "id": "9TyoLl31HOrS",
        "outputId": "fc0bcf2b-2412-43fd-bb0c-c006db66e5b8"
      },
      "execution_count": 71,
      "outputs": [
        {
          "output_type": "execute_result",
          "data": {
            "text/plain": [
              "[<tf.Variable 'block7a_se_reduce/kernel:0' shape=(1, 1, 1152, 48) dtype=float32, numpy=\n",
              " array([[[[-0.05485657,  0.07178846,  0.01534605, ..., -0.09284662,\n",
              "            0.0104828 , -0.02693838],\n",
              "          [-0.03157939,  0.02819107, -0.05579546, ...,  0.00487578,\n",
              "            0.12001809, -0.06901816],\n",
              "          [-0.07792544,  0.12601745,  0.03935236, ...,  0.03086486,\n",
              "           -0.01581392,  0.1306234 ],\n",
              "          ...,\n",
              "          [-0.07692936,  0.19920062,  0.17471024, ...,  0.03312391,\n",
              "           -0.04528928, -0.09214652],\n",
              "          [ 0.01010198,  0.06855008,  0.05820991, ...,  0.00131649,\n",
              "           -0.08952942, -0.00476829],\n",
              "          [ 0.03583075, -0.01228165,  0.04561347, ..., -0.00822134,\n",
              "           -0.07354517, -0.06507882]]]], dtype=float32)>,\n",
              " <tf.Variable 'block7a_se_reduce/bias:0' shape=(48,) dtype=float32, numpy=\n",
              " array([-0.10886215, -0.13624744, -0.15257476,  0.14799541, -0.08512902,\n",
              "        -0.12059905, -0.08779966, -0.08187538, -0.06925284, -0.12518929,\n",
              "        -0.0819265 , -0.1259736 , -0.09993652, -0.10109923, -0.13398036,\n",
              "        -0.09867296, -0.09382621, -0.11011569, -0.1063069 , -0.09003814,\n",
              "        -0.04766154, -0.06743164, -0.13778378, -0.10579358, -0.10130141,\n",
              "        -0.13948615,  0.13246794, -0.03255463, -0.11809722, -0.04813838,\n",
              "        -0.13148174, -0.05429332, -0.0448516 , -0.11129897, -0.08523702,\n",
              "        -0.13361962, -0.07146074, -0.13821687, -0.0614575 , -0.02393492,\n",
              "        -0.08265438, -0.13204956, -0.10251977, -0.12446474, -0.1350065 ,\n",
              "        -0.06927117, -0.07627591, -0.08064308], dtype=float32)>,\n",
              " <tf.Variable 'block7a_se_expand/kernel:0' shape=(1, 1, 48, 1152) dtype=float32, numpy=\n",
              " array([[[[ 0.01703347, -0.09556078, -0.12866898, ..., -0.11176323,\n",
              "           -0.12041699,  0.07214174],\n",
              "          [ 0.11851509,  0.09440814, -0.07513665, ..., -0.10720892,\n",
              "            0.15331012,  0.00920153],\n",
              "          [-0.03525457, -0.05621038,  0.03370081, ...,  0.0058019 ,\n",
              "            0.08038238,  0.02380909],\n",
              "          ...,\n",
              "          [-0.16428104,  0.14296436, -0.07728611, ..., -0.03546136,\n",
              "            0.03369582, -0.19963196],\n",
              "          [-0.01133208, -0.0060606 ,  0.10776694, ...,  0.01572948,\n",
              "           -0.06349678, -0.05537278],\n",
              "          [-0.09189203, -0.05271737, -0.08292874, ..., -0.03266691,\n",
              "           -0.15144289, -0.13922407]]]], dtype=float32)>,\n",
              " <tf.Variable 'block7a_se_expand/bias:0' shape=(1152,) dtype=float32, numpy=\n",
              " array([ 0.04515592,  0.0518708 ,  0.08215576, ..., -0.02809454,\n",
              "         0.06679371,  0.14091711], dtype=float32)>,\n",
              " <tf.Variable 'block7a_project_conv/kernel:0' shape=(1, 1, 1152, 320) dtype=float32, numpy=\n",
              " array([[[[ 0.04719412, -0.03508057,  0.18866068, ...,  0.00667723,\n",
              "            0.01607844, -0.06703078],\n",
              "          [-0.10309057,  0.01945817,  0.03923143, ..., -0.09136088,\n",
              "            0.07520416,  0.09395675],\n",
              "          [-0.0786793 ,  0.02817695, -0.03047303, ...,  0.01593926,\n",
              "            0.13013661, -0.05727762],\n",
              "          ...,\n",
              "          [ 0.01056576, -0.02389853,  0.15035501, ...,  0.04682408,\n",
              "            0.03543943, -0.0752975 ],\n",
              "          [-0.06144901, -0.0928897 ,  0.05499939, ...,  0.16682369,\n",
              "            0.08615127, -0.02209447],\n",
              "          [-0.04315694,  0.1413447 ,  0.00528443, ..., -0.00220996,\n",
              "            0.1894294 , -0.11107358]]]], dtype=float32)>,\n",
              " <tf.Variable 'block7a_project_bn/gamma:0' shape=(320,) dtype=float32, numpy=\n",
              " array([2.6341524, 3.6408505, 2.6395326, 2.6145833, 2.6313312, 2.6202953,\n",
              "        2.5319185, 2.5870585, 2.688308 , 2.6000342, 2.9978335, 2.537907 ,\n",
              "        2.6381385, 2.716591 , 2.558281 , 2.4929833, 2.644765 , 2.462597 ,\n",
              "        2.6660817, 2.5237637, 2.6011422, 2.824746 , 2.5168786, 2.5305552,\n",
              "        2.7185206, 2.7899334, 2.682837 , 2.5672472, 2.4950414, 2.607678 ,\n",
              "        2.6045194, 2.5780609, 2.63664  , 2.5805535, 2.5575125, 2.5273108,\n",
              "        2.5634987, 2.7832053, 2.6418092, 2.604934 , 2.5325363, 2.6006708,\n",
              "        2.6354814, 2.5668874, 2.7951095, 2.646076 , 3.0281844, 2.6361535,\n",
              "        3.1250885, 2.635435 , 2.5462308, 2.6689003, 2.5725474, 2.5831702,\n",
              "        2.5835443, 2.656816 , 2.5504594, 2.6580045, 2.642674 , 2.548922 ,\n",
              "        2.5658593, 2.5088289, 2.8326697, 2.6741598, 2.724444 , 2.6740642,\n",
              "        2.6301656, 2.6501355, 2.5464098, 2.584042 , 2.5088935, 2.6053326,\n",
              "        2.548359 , 2.742098 , 2.6033902, 2.5825214, 2.6483955, 2.685057 ,\n",
              "        2.6903856, 2.7595356, 2.6767306, 2.650072 , 2.6561706, 2.6387742,\n",
              "        2.5386903, 2.6601446, 2.585036 , 2.581829 , 2.493314 , 2.5478692,\n",
              "        2.7056026, 2.5470285, 2.6166646, 2.7911394, 2.5091803, 2.5457087,\n",
              "        2.4962032, 2.616603 , 2.8938844, 2.5239155, 2.5611029, 2.5762894,\n",
              "        2.6258383, 2.7690558, 2.6246526, 2.573153 , 2.63151  , 2.6664348,\n",
              "        2.5510879, 2.633915 , 2.5973866, 2.6333516, 2.5894468, 2.5375085,\n",
              "        2.7006404, 2.6648164, 2.5562012, 2.6261616, 2.5598128, 2.515569 ,\n",
              "        2.643523 , 2.6532161, 2.7102292, 2.5004933, 2.8885357, 2.5730307,\n",
              "        2.6309655, 2.5566099, 2.542208 , 2.5430515, 2.95321  , 2.530806 ,\n",
              "        2.6387343, 2.610428 , 2.580837 , 2.6031556, 2.668818 , 2.549356 ,\n",
              "        2.6471393, 2.5472634, 2.669148 , 2.59522  , 2.6507857, 2.4828112,\n",
              "        2.601118 , 2.593023 , 2.549623 , 2.534933 , 2.7077003, 2.5183656,\n",
              "        2.6026828, 2.985571 , 2.6405106, 2.7155428, 2.5788558, 2.6546528,\n",
              "        2.5677054, 2.4542222, 2.7947254, 2.5911338, 2.6567724, 2.5698543,\n",
              "        2.50019  , 2.5938528, 2.6083398, 2.5553062, 2.5281339, 2.5907693,\n",
              "        2.5921338, 2.6407883, 2.5940228, 2.6011744, 2.6939318, 2.5788543,\n",
              "        2.611848 , 2.5353673, 2.5492253, 2.6692536, 2.5442774, 2.6057358,\n",
              "        2.545667 , 2.699785 , 2.5898273, 2.6510255, 2.6357298, 2.5392187,\n",
              "        3.0744135, 2.5465763, 2.62727  , 2.8991907, 2.6765053, 2.5408316,\n",
              "        2.6696007, 2.663587 , 2.6330073, 2.6307907, 2.557663 , 2.6597102,\n",
              "        2.7168522, 3.0360131, 2.4636025, 2.5911775, 2.6008296, 2.6731155,\n",
              "        2.6936364, 2.716485 , 2.680393 , 2.7018907, 2.7021012, 2.5174494,\n",
              "        2.604642 , 2.6076188, 2.6755745, 2.5452864, 2.5664885, 2.8462067,\n",
              "        2.7362747, 2.666304 , 2.5056198, 2.5951312, 2.5824764, 2.6146016,\n",
              "        2.642559 , 2.5692267, 2.792615 , 2.6337516, 2.4910922, 2.6466959,\n",
              "        2.6380413, 2.5529966, 2.565908 , 2.5560148, 2.640346 , 2.6173239,\n",
              "        2.6475196, 2.6759052, 3.218808 , 2.5925794, 2.5743115, 2.6601744,\n",
              "        2.6724327, 2.631072 , 2.562081 , 2.5806832, 2.512028 , 2.6604302,\n",
              "        2.5478892, 2.5730498, 2.6972325, 2.5915775, 2.6661477, 2.6339667,\n",
              "        2.6636207, 2.5320785, 2.6257393, 2.622644 , 2.508248 , 2.6330373,\n",
              "        2.599642 , 2.6596751, 2.6126783, 2.6051974, 2.652374 , 2.6319253,\n",
              "        2.8959923, 2.6422274, 2.6246538, 2.4762268, 2.631236 , 2.4831147,\n",
              "        2.6260679, 2.519754 , 2.619554 , 2.8796465, 2.614829 , 2.58701  ,\n",
              "        2.5688565, 2.6110027, 2.6058009, 2.5786552, 2.6547408, 2.5492873,\n",
              "        2.6010828, 2.8261983, 2.5328765, 2.689091 , 2.5229828, 2.5879102,\n",
              "        2.7365847, 2.7272425, 2.6959665, 2.6330662, 2.5203118, 2.688423 ,\n",
              "        2.5512888, 3.3626828, 2.5781293, 2.50825  , 2.5737724, 2.621484 ,\n",
              "        2.6324031, 2.6176171, 2.5813835, 2.5144784, 2.633849 , 2.8199816,\n",
              "        2.6682093, 2.599474 , 2.6375234, 2.684862 , 2.525223 , 2.6976318,\n",
              "        2.6058314, 2.5276728, 2.4987195, 2.572669 , 2.5587776, 2.5677974,\n",
              "        2.838972 , 2.619664 ], dtype=float32)>,\n",
              " <tf.Variable 'block7a_project_bn/beta:0' shape=(320,) dtype=float32, numpy=\n",
              " array([ 2.72746431e-04, -4.64200834e-03,  1.81363500e-03, -1.35792862e-03,\n",
              "        -1.83621727e-04,  7.23875011e-04, -7.06277788e-04, -3.28818336e-04,\n",
              "        -1.00322848e-03,  5.77372033e-04, -3.32189701e-03, -8.64792033e-04,\n",
              "         1.79181120e-03, -8.18454195e-04, -1.69087423e-03,  2.51508714e-03,\n",
              "        -1.26882526e-03, -3.69476293e-05, -2.75014690e-03, -3.24349292e-03,\n",
              "         2.12383200e-03, -9.11651237e-04, -2.34528631e-03, -1.68305065e-03,\n",
              "        -7.17351562e-04,  2.03338059e-04, -1.06290297e-03, -1.05257204e-03,\n",
              "         7.56997324e-04,  8.66741582e-04,  4.24314709e-03,  5.80201682e-04,\n",
              "        -1.42630236e-03,  3.64625268e-03,  1.12341705e-03,  1.69936311e-03,\n",
              "         1.08880980e-03,  4.06244246e-04,  1.67966017e-03, -3.07304901e-04,\n",
              "         2.56448926e-04, -2.74889544e-03, -2.60693108e-04,  6.29616028e-04,\n",
              "         5.18684392e-04,  5.06498793e-04, -1.75745424e-03, -2.50845333e-03,\n",
              "         3.29580111e-03,  2.34114681e-03,  1.78862875e-03, -1.96675933e-03,\n",
              "        -2.85300863e-04,  2.95514881e-04,  1.76551077e-03,  2.14295986e-04,\n",
              "        -2.74702528e-04, -4.98560366e-05, -2.33496467e-05,  6.49673748e-05,\n",
              "         3.62340477e-04, -9.65728366e-04, -2.40365812e-03, -3.28422553e-04,\n",
              "         1.72259891e-03, -9.60275298e-04, -1.24948169e-03, -1.23629603e-03,\n",
              "        -4.82999487e-04,  1.66278379e-03, -1.42891321e-03, -8.51270393e-04,\n",
              "         2.50486657e-03,  1.03739847e-03,  4.44977719e-04, -4.01280500e-04,\n",
              "        -6.51122653e-04,  7.47022335e-04, -1.48657290e-03,  5.63821697e-04,\n",
              "        -2.27600569e-03,  1.02134841e-03,  1.50884001e-03, -4.78561968e-04,\n",
              "        -2.13380903e-04,  3.12323740e-04,  1.69344270e-03,  7.68164638e-04,\n",
              "        -1.42305926e-03, -1.06511544e-03,  8.57689520e-05, -1.03630626e-03,\n",
              "        -5.28990058e-04, -6.56761054e-04, -1.05450675e-03,  1.19510374e-03,\n",
              "        -3.83046397e-04, -2.39993151e-05, -6.99702534e-04, -1.11313257e-03,\n",
              "         1.15426502e-03, -3.16569209e-03,  1.56251244e-05, -5.30554564e-04,\n",
              "        -1.35117490e-03, -1.99875431e-04, -1.27230806e-03,  3.45696841e-04,\n",
              "        -1.73765479e-03,  8.10689293e-04, -7.09120708e-04,  1.19463378e-03,\n",
              "        -1.29504187e-03, -1.42769760e-03, -2.05490855e-03,  3.33959106e-05,\n",
              "        -9.67560452e-04,  2.18152488e-03,  2.38515713e-05,  4.46808335e-05,\n",
              "        -2.04296876e-03, -1.20915414e-03, -9.56242220e-05,  4.59675764e-04,\n",
              "         3.40061216e-03,  2.13403418e-03, -5.79986838e-04,  1.29770138e-03,\n",
              "        -1.09179609e-03,  9.54744522e-04, -8.50354671e-04, -1.00062031e-03,\n",
              "         1.42553748e-04,  3.43387743e-04, -5.74955542e-04, -2.38789900e-04,\n",
              "        -1.63314794e-03,  1.01994854e-04,  2.63368245e-03,  1.79869402e-03,\n",
              "        -1.25590130e-03, -2.92626093e-03,  9.38380021e-04, -3.11836222e-04,\n",
              "        -4.31053893e-04, -1.59043982e-03,  1.84826949e-03,  1.48812158e-03,\n",
              "        -2.77693220e-03, -8.86596739e-04, -2.36758046e-04, -7.58587732e-04,\n",
              "         1.39371923e-03, -4.49905143e-04,  5.05587144e-04, -9.97542636e-04,\n",
              "         1.03000528e-03,  2.86184740e-03, -1.79313810e-03, -6.55176118e-04,\n",
              "        -2.65727611e-03,  7.20865792e-04,  1.30724453e-03, -4.23565325e-05,\n",
              "         6.62169245e-04, -4.66128025e-04,  2.81012943e-03,  1.82552508e-03,\n",
              "         5.87477058e-04, -4.03790065e-04,  8.74075748e-04,  7.78581234e-05,\n",
              "         1.90386223e-03, -1.54897827e-03,  2.25501688e-04,  5.10995567e-04,\n",
              "         2.55123922e-03,  8.13688268e-04, -7.14337279e-04, -5.06902405e-04,\n",
              "         2.85416422e-03,  7.83873023e-04, -1.10656860e-04,  9.32446972e-04,\n",
              "         2.40951893e-03, -6.86718326e-04, -2.52255704e-03,  2.18124787e-05,\n",
              "         1.05487206e-05,  8.27186217e-04, -1.75172405e-03, -1.25424110e-03,\n",
              "         8.82197171e-04, -5.65536728e-04, -1.00640114e-03, -3.75324744e-04,\n",
              "         1.51518488e-03, -1.22928934e-04,  8.04806245e-04,  4.69992170e-04,\n",
              "        -5.85276866e-04, -1.16747025e-04, -3.51934647e-03,  1.32238166e-03,\n",
              "         1.72750279e-03,  2.94423138e-04,  2.98701430e-04,  4.09114582e-04,\n",
              "        -5.18784160e-04, -2.73050228e-03,  1.59792858e-03,  2.05026925e-04,\n",
              "         7.29332387e-04, -8.44324881e-04,  1.73368491e-03, -1.31481164e-03,\n",
              "        -1.38368423e-03,  3.16325552e-03,  1.51809235e-03,  8.39646265e-04,\n",
              "         6.18721606e-05, -2.25067860e-03, -1.54738067e-04,  7.56336085e-04,\n",
              "        -1.71400257e-03,  6.03145338e-04, -5.99783496e-04,  9.78035154e-04,\n",
              "        -2.15801597e-03,  9.26407811e-04,  6.17332407e-04,  2.00839248e-03,\n",
              "         3.08294198e-03, -7.05075916e-04,  3.08018411e-03, -2.07686680e-03,\n",
              "        -3.42484983e-03,  8.07445089e-04, -1.29282055e-03, -1.24681287e-03,\n",
              "         6.63550978e-04,  1.38722942e-03, -1.00464269e-03,  2.45917181e-04,\n",
              "        -1.47426047e-03, -2.40818423e-04,  2.99509428e-03,  1.09945354e-03,\n",
              "         8.59148684e-04,  1.50627500e-06, -1.17584574e-03,  4.68704355e-04,\n",
              "         8.43120288e-05,  1.58117816e-03,  1.44869217e-03, -1.08577078e-03,\n",
              "        -9.88185639e-04,  2.09095539e-03,  1.32484653e-03, -1.08445913e-03,\n",
              "        -8.18771659e-04, -1.73332344e-03, -6.66451058e-04, -1.59535231e-03,\n",
              "         3.21470387e-03,  1.90356874e-03,  7.54604407e-04, -2.53299979e-04,\n",
              "         1.34878664e-03, -1.87308283e-03,  1.15370855e-03, -1.05404225e-03,\n",
              "        -1.19788572e-03,  1.14590931e-03,  1.14154675e-04, -5.62238798e-04,\n",
              "         1.96290808e-03,  8.19200242e-04, -1.13923859e-03, -1.30361354e-03,\n",
              "         1.50869356e-03, -1.18403800e-03, -2.32256460e-03,  1.89215309e-04,\n",
              "        -4.54480432e-05, -1.98359881e-03,  1.85492670e-03, -2.23364055e-04,\n",
              "        -8.34366656e-04,  2.03655963e-03,  1.67561357e-03,  1.62004714e-03,\n",
              "        -3.21354310e-04,  3.61894118e-03, -5.57434803e-04, -1.67479762e-03,\n",
              "         1.03459624e-03,  4.82435600e-04, -2.24323105e-03, -1.16618583e-03,\n",
              "         1.39774487e-03, -3.93694296e-04,  1.31923391e-03, -8.33242026e-04,\n",
              "        -1.68927254e-05, -2.22254661e-03, -4.09675704e-04,  2.92616361e-03,\n",
              "        -1.78410482e-04, -1.21830043e-03,  3.88241722e-03,  7.66222889e-04,\n",
              "        -1.43284255e-04, -1.88554521e-03,  8.52050260e-04,  1.40042137e-03,\n",
              "         2.37329234e-03,  7.15036993e-04, -2.30495381e-04,  3.50229093e-03],\n",
              "       dtype=float32)>,\n",
              " <tf.Variable 'top_conv/kernel:0' shape=(1, 1, 320, 1280) dtype=float32, numpy=\n",
              " array([[[[ 0.010654  ,  0.04302309, -0.05814039, ...,  0.07820047,\n",
              "            0.09309781,  0.13512692],\n",
              "          [ 0.18291403,  0.0635317 ,  0.1210966 , ...,  0.10852515,\n",
              "            0.09180524,  0.25709218],\n",
              "          [-0.01965742,  0.02730735,  0.02497241, ...,  0.10817309,\n",
              "            0.11124102,  0.03874104],\n",
              "          ...,\n",
              "          [ 0.16707249,  0.0034612 , -0.04011405, ...,  0.07070784,\n",
              "           -0.03778364,  0.04866563],\n",
              "          [-0.03250833, -0.03533007, -0.08403775, ..., -0.04473848,\n",
              "           -0.06186406,  0.05368444],\n",
              "          [ 0.14157134, -0.01509961, -0.20079431, ..., -0.10574265,\n",
              "           -0.04939263,  0.04458737]]]], dtype=float32)>,\n",
              " <tf.Variable 'top_bn/gamma:0' shape=(1280,) dtype=float32, numpy=\n",
              " array([2.656564 , 2.543096 , 2.3632998, ..., 2.7232573, 2.503377 ,\n",
              "        2.161115 ], dtype=float32)>,\n",
              " <tf.Variable 'top_bn/beta:0' shape=(1280,) dtype=float32, numpy=\n",
              " array([-2.2949498, -2.3487396, -2.0764754, ..., -2.4685047, -2.2737474,\n",
              "        -1.4324068], dtype=float32)>,\n",
              " <tf.Variable 'output_layer/kernel:0' shape=(1280, 10) dtype=float32, numpy=\n",
              " array([[ 0.04142351,  0.0012224 ,  0.01694717, ..., -0.02264936,\n",
              "         -0.07834916,  0.01060947],\n",
              "        [-0.07047287, -0.01753872, -0.08480724, ...,  0.00120601,\n",
              "         -0.08655217,  0.01600938],\n",
              "        [ 0.0279485 ,  0.06911602, -0.00963311, ..., -0.06306045,\n",
              "          0.00333215,  0.03407471],\n",
              "        ...,\n",
              "        [-0.08724807, -0.02922943, -0.08331423, ..., -0.0573699 ,\n",
              "          0.05668894,  0.06352651],\n",
              "        [ 0.00150594, -0.05283044, -0.00680459, ..., -0.05604437,\n",
              "          0.11363456, -0.04479408],\n",
              "        [-0.06199518, -0.06720155,  0.08462417, ..., -0.03848398,\n",
              "         -0.01322766,  0.08876372]], dtype=float32)>,\n",
              " <tf.Variable 'output_layer/bias:0' shape=(10,) dtype=float32, numpy=\n",
              " array([ 0.00520381, -0.00934141,  0.00853285, -0.01659002,  0.00357739,\n",
              "         0.01498438,  0.00850853, -0.00643386, -0.01036674, -0.00439502],\n",
              "       dtype=float32)>]"
            ]
          },
          "metadata": {},
          "execution_count": 71
        }
      ]
    },
    {
      "cell_type": "markdown",
      "source": [
        "Wonderful, it looks like our model has a total of 10 trainable variables, the last 10 layers of the base model and the weight and bias parameters of the Dense output layer.\n",
        "\n",
        "Time to fine-tune!\n",
        "\n",
        "We're going to continue training on from where our previous model finished. Since it trained for 5 epochs in our feature extraction model, our fine-tuning will begin on the epoch 5 and continue for another 5 epochs.\n",
        "* because transfer learning workflow, you first train on feature extraction model to train that final output layer to your custom data and then you go backward and start fine tuning other layers.\n",
        "\n",
        "To do this, we can use the `initial_epoch` parameter of the `fit()` method. We'll pass it the last epoch of the previous model's training history (`history_10_percent_data_aug.epoch[-1]`)."
      ],
      "metadata": {
        "id": "HOtV89J5KF7O"
      }
    },
    {
      "cell_type": "code",
      "source": [
        "# Fine tune for another 5 epochs\n",
        "fine_tune_epochs = initial_epochs + 5\n",
        "\n",
        "# Refit the model (same as model_2 except with more trainable layers)\n",
        "history_fine_10_percent_data_aug = model_2.fit(train_data_10_percent,\n",
        "                                               epochs=fine_tune_epochs,\n",
        "                                               validation_data=test_data,\n",
        "                                               initial_epoch=history_10_percent_data_aug.epoch[-1], # start training from previous last epoch\n",
        "                                               validation_steps=int(0.25 * len(test_data)),\n",
        "                                               callbacks=[create_tensorboard_callback(\"transfer_learning\", \"10_percent_fine_tune_last_10\")]) # name experiment appropriately"
      ],
      "metadata": {
        "colab": {
          "base_uri": "https://localhost:8080/"
        },
        "id": "GfGyh5o6Kxde",
        "outputId": "506fded1-3ad2-4a40-e38e-cbe3641e42a2"
      },
      "execution_count": 76,
      "outputs": [
        {
          "output_type": "stream",
          "name": "stderr",
          "text": [
            "WARNING:tensorflow:Model failed to serialize as JSON. Ignoring... Unable to serialize [2.0896919 2.1128857 2.1081853] to JSON. Unrecognized type <class 'tensorflow.python.framework.ops.EagerTensor'>.\n"
          ]
        },
        {
          "output_type": "stream",
          "name": "stdout",
          "text": [
            "Saving TensorBoard log files to: transfer_learning/10_percent_fine_tune_last_10/20230222-081807\n",
            "Epoch 5/10\n"
          ]
        },
        {
          "output_type": "stream",
          "name": "stderr",
          "text": [
            "WARNING:tensorflow:Using a while_loop for converting RngReadAndSkip cause there is no registered converter for this op.\n",
            "WARNING:tensorflow:Using a while_loop for converting Bitcast cause there is no registered converter for this op.\n",
            "WARNING:tensorflow:Using a while_loop for converting Bitcast cause there is no registered converter for this op.\n",
            "WARNING:tensorflow:Using a while_loop for converting StatelessRandomUniformV2 cause there is no registered converter for this op.\n",
            "WARNING:tensorflow:Using a while_loop for converting ImageProjectiveTransformV3 cause there is no registered converter for this op.\n",
            "WARNING:tensorflow:Using a while_loop for converting RngReadAndSkip cause there is no registered converter for this op.\n",
            "WARNING:tensorflow:Using a while_loop for converting Bitcast cause there is no registered converter for this op.\n",
            "WARNING:tensorflow:Using a while_loop for converting Bitcast cause there is no registered converter for this op.\n",
            "WARNING:tensorflow:Using a while_loop for converting StatelessRandomUniformV2 cause there is no registered converter for this op.\n",
            "WARNING:tensorflow:Using a while_loop for converting ImageProjectiveTransformV3 cause there is no registered converter for this op.\n",
            "WARNING:tensorflow:Using a while_loop for converting RngReadAndSkip cause there is no registered converter for this op.\n",
            "WARNING:tensorflow:Using a while_loop for converting Bitcast cause there is no registered converter for this op.\n",
            "WARNING:tensorflow:Using a while_loop for converting Bitcast cause there is no registered converter for this op.\n",
            "WARNING:tensorflow:Using a while_loop for converting StatelessRandomUniformV2 cause there is no registered converter for this op.\n",
            "WARNING:tensorflow:Using a while_loop for converting ImageProjectiveTransformV3 cause there is no registered converter for this op.\n",
            "WARNING:tensorflow:Using a while_loop for converting RngReadAndSkip cause there is no registered converter for this op.\n",
            "WARNING:tensorflow:Using a while_loop for converting Bitcast cause there is no registered converter for this op.\n",
            "WARNING:tensorflow:Using a while_loop for converting Bitcast cause there is no registered converter for this op.\n",
            "WARNING:tensorflow:Using a while_loop for converting StatelessRandomUniformV2 cause there is no registered converter for this op.\n",
            "WARNING:tensorflow:Using a while_loop for converting ImageProjectiveTransformV3 cause there is no registered converter for this op.\n"
          ]
        },
        {
          "output_type": "stream",
          "name": "stdout",
          "text": [
            "24/24 [==============================] - 171s 7s/step - loss: 0.7443 - accuracy: 0.7547 - val_loss: 0.5157 - val_accuracy: 0.8339\n",
            "Epoch 6/10\n",
            "24/24 [==============================] - 118s 5s/step - loss: 0.3349 - accuracy: 0.8973 - val_loss: 0.5580 - val_accuracy: 0.8092\n",
            "Epoch 7/10\n",
            "24/24 [==============================] - 113s 5s/step - loss: 0.2519 - accuracy: 0.9080 - val_loss: 0.5411 - val_accuracy: 0.8306\n",
            "Epoch 8/10\n",
            "24/24 [==============================] - 148s 6s/step - loss: 0.1770 - accuracy: 0.9493 - val_loss: 0.4889 - val_accuracy: 0.8372\n",
            "Epoch 9/10\n",
            "24/24 [==============================] - 143s 6s/step - loss: 0.1081 - accuracy: 0.9720 - val_loss: 0.4780 - val_accuracy: 0.8586\n",
            "Epoch 10/10\n",
            "24/24 [==============================] - 105s 4s/step - loss: 0.0808 - accuracy: 0.9800 - val_loss: 0.5288 - val_accuracy: 0.8520\n"
          ]
        }
      ]
    },
    {
      "cell_type": "code",
      "source": [
        "history_10_percent_data_aug.epoch[-1]"
      ],
      "metadata": {
        "colab": {
          "base_uri": "https://localhost:8080/"
        },
        "id": "WlYMC6v5MtgD",
        "outputId": "a884431e-1e81-4c83-c75f-96667e067e60"
      },
      "execution_count": 77,
      "outputs": [
        {
          "output_type": "execute_result",
          "data": {
            "text/plain": [
              "4"
            ]
          },
          "metadata": {},
          "execution_count": 77
        }
      ]
    },
    {
      "cell_type": "code",
      "source": [
        "# Evaluate the model on the test data\n",
        "results_fine_tune_10_percent = model_2.evaluate(test_data)"
      ],
      "metadata": {
        "colab": {
          "base_uri": "https://localhost:8080/"
        },
        "id": "eQazMDPHMt10",
        "outputId": "6e418341-d829-495a-fa05-fb0095df3931"
      },
      "execution_count": 78,
      "outputs": [
        {
          "output_type": "stream",
          "name": "stdout",
          "text": [
            "79/79 [==============================] - 175s 2s/step - loss: 0.5165 - accuracy: 0.8572\n"
          ]
        }
      ]
    },
    {
      "cell_type": "markdown",
      "source": [
        "# Alright, we need a way to evaluate our model's performance before and after fine-tuning. How about we write a function to compare the before and after?"
      ],
      "metadata": {
        "id": "WJ-HFxG7O-l4"
      }
    },
    {
      "cell_type": "code",
      "source": [
        "#  it only plot after fine tune 5 epochs and no before fine tuning 5 epochs so, this function need update\n",
        "plot_loss_curves(history_fine_10_percent_data_aug)"
      ],
      "metadata": {
        "colab": {
          "base_uri": "https://localhost:8080/",
          "height": 573
        },
        "id": "WDBUwwVPPWaZ",
        "outputId": "bf60d2f4-5275-4583-c5db-0c623857d366"
      },
      "execution_count": 79,
      "outputs": [
        {
          "output_type": "display_data",
          "data": {
            "text/plain": [
              "<Figure size 432x288 with 1 Axes>"
            ],
            "image/png": "[encoded data removed]"
          },
          "metadata": {
            "needs_background": "light"
          }
        },
        {
          "output_type": "display_data",
          "data": {
            "text/plain": [
              "<Figure size 432x288 with 1 Axes>"
            ],
            "image/png": "[encoded data removed]"
          },
          "metadata": {
            "needs_background": "light"
          }
        }
      ]
    },
    {
      "cell_type": "code",
      "source": [
        "def compare_historys(original_history, new_history, initial_epochs=5):\n",
        "    \"\"\"\n",
        "    Compares two model history objects.\n",
        "    \"\"\"\n",
        "    # Get original history measurements\n",
        "    acc = original_history.history[\"accuracy\"]\n",
        "    loss = original_history.history[\"loss\"]\n",
        "\n",
        "    print(len(acc))\n",
        "\n",
        "    val_acc = original_history.history[\"val_accuracy\"]\n",
        "    val_loss = original_history.history[\"val_loss\"]\n",
        "\n",
        "    # Combine original history with new history\n",
        "    total_acc = acc + new_history.history[\"accuracy\"]\n",
        "    total_loss = loss + new_history.history[\"loss\"]\n",
        "\n",
        "    total_val_acc = val_acc + new_history.history[\"val_accuracy\"]\n",
        "    total_val_loss = val_loss + new_history.history[\"val_loss\"]\n",
        "\n",
        "    print(len(total_acc))\n",
        "    print(total_acc)\n",
        "\n",
        "    # Make plots\n",
        "    plt.figure(figsize=(8, 8))\n",
        "    plt.subplot(2, 1, 1)\n",
        "    plt.plot(total_acc, label='Training Accuracy')\n",
        "    plt.plot(total_val_acc, label='Validation Accuracy')\n",
        "    plt.plot([initial_epochs-1, initial_epochs-1],\n",
        "              plt.ylim(), label='Start Fine Tuning') # reshift plot around epochs\n",
        "    plt.legend(loc='lower right')\n",
        "    plt.title('Training and Validation Accuracy')\n",
        "\n",
        "    plt.subplot(2, 1, 2)\n",
        "    plt.plot(total_loss, label='Training Loss')\n",
        "    plt.plot(total_val_loss, label='Validation Loss')\n",
        "    plt.plot([initial_epochs-1, initial_epochs-1],\n",
        "              plt.ylim(), label='Start Fine Tuning') # reshift plot around epochs\n",
        "    plt.legend(loc='upper right')\n",
        "    plt.title('Training and Validation Loss')\n",
        "    plt.xlabel('epoch')\n",
        "    plt.show()"
      ],
      "metadata": {
        "id": "9HbV6E-aPAU7"
      },
      "execution_count": 80,
      "outputs": []
    },
    {
      "cell_type": "code",
      "source": [
        "compare_historys(original_history=history_10_percent_data_aug, \n",
        "                 new_history=history_fine_10_percent_data_aug, \n",
        "                 initial_epochs=5)\n",
        "# typical fine tune setup, you do feture extraction in one half of epoch first and finetune in other half of epoch"
      ],
      "metadata": {
        "colab": {
          "base_uri": "https://localhost:8080/",
          "height": 588
        },
        "id": "7CQswRK3RiXq",
        "outputId": "9feb7df7-062a-4683-a9c3-3c6ad4619941"
      },
      "execution_count": 82,
      "outputs": [
        {
          "output_type": "stream",
          "name": "stdout",
          "text": [
            "5\n",
            "11\n",
            "[0.36399999260902405, 0.6919999718666077, 0.7573333382606506, 0.7853333353996277, 0.8119999766349792, 0.7546666860580444, 0.8973333239555359, 0.9079999923706055, 0.9493333101272583, 0.972000002861023, 0.9800000190734863]\n"
          ]
        },
        {
          "output_type": "display_data",
          "data": {
            "text/plain": [
              "<Figure size 576x576 with 2 Axes>"
            ],
            "image/png": "[encoded data removed]"
          },
          "metadata": {
            "needs_background": "light"
          }
        }
      ]
    },
    {
      "cell_type": "markdown",
      "source": [
        " But remember, it should be noted that fine-tuning usually works best with larger amounts of data. while feature extraction usually works well on lower data."
      ],
      "metadata": {
        "id": "QVNbEPMQRjV5"
      }
    },
    {
      "cell_type": "markdown",
      "source": [
        "## Model 4: Fine-tuning an existing model all of the data"
      ],
      "metadata": {
        "id": "aGVkWkQKR2P6"
      }
    },
    {
      "cell_type": "code",
      "source": [
        "# Download and unzip 10 classes of data with all images\n",
        "!wget https://storage.googleapis.com/ztm_tf_course/food_vision/10_food_classes_all_data.zip \n",
        "unzip_data(\"10_food_classes_all_data.zip\")\n",
        "\n",
        "# Setup data directories\n",
        "train_dir = \"10_food_classes_all_data/train/\"\n",
        "test_dir = \"10_food_classes_all_data/test/\""
      ],
      "metadata": {
        "colab": {
          "base_uri": "https://localhost:8080/"
        },
        "id": "yvLrtaAxVR4v",
        "outputId": "533f3964-bbbd-42a2-c16d-fff40e6fa487"
      },
      "execution_count": 83,
      "outputs": [
        {
          "output_type": "stream",
          "name": "stdout",
          "text": [
            "--2023-02-22 08:54:58--  https://storage.googleapis.com/ztm_tf_course/food_vision/10_food_classes_all_data.zip\n",
            "Resolving storage.googleapis.com (storage.googleapis.com)... 142.251.2.128, 142.250.141.128, 2607:f8b0:4023:c0b::80, ...\n",
            "Connecting to storage.googleapis.com (storage.googleapis.com)|142.251.2.128|:443... connected.\n",
            "HTTP request sent, awaiting response... 200 OK\n",
            "Length: 519183241 (495M) [application/zip]\n",
            "Saving to: ‘10_food_classes_all_data.zip’\n",
            "\n",
            "10_food_classes_all 100%[===================>] 495.13M   109MB/s    in 4.1s    \n",
            "\n",
            "2023-02-22 08:55:02 (120 MB/s) - ‘10_food_classes_all_data.zip’ saved [519183241/519183241]\n",
            "\n"
          ]
        }
      ]
    },
    {
      "cell_type": "code",
      "source": [
        "# How many images are we working with now?\n",
        "walk_through_dir(\"10_food_classes_all_data\")"
      ],
      "metadata": {
        "colab": {
          "base_uri": "https://localhost:8080/"
        },
        "id": "C8ENyeFtVThR",
        "outputId": "d4d77cdb-4979-448b-d8c2-fc46f94451aa"
      },
      "execution_count": 84,
      "outputs": [
        {
          "output_type": "stream",
          "name": "stdout",
          "text": [
            "There are 2 directories and 0 images in '10_food_classes_all_data'.\n",
            "There are 10 directories and 0 images in '10_food_classes_all_data/test'.\n",
            "There are 0 directories and 250 images in '10_food_classes_all_data/test/grilled_salmon'.\n",
            "There are 0 directories and 250 images in '10_food_classes_all_data/test/ice_cream'.\n",
            "There are 0 directories and 250 images in '10_food_classes_all_data/test/chicken_wings'.\n",
            "There are 0 directories and 250 images in '10_food_classes_all_data/test/hamburger'.\n",
            "There are 0 directories and 250 images in '10_food_classes_all_data/test/steak'.\n",
            "There are 0 directories and 250 images in '10_food_classes_all_data/test/sushi'.\n",
            "There are 0 directories and 250 images in '10_food_classes_all_data/test/fried_rice'.\n",
            "There are 0 directories and 250 images in '10_food_classes_all_data/test/chicken_curry'.\n",
            "There are 0 directories and 250 images in '10_food_classes_all_data/test/pizza'.\n",
            "There are 0 directories and 250 images in '10_food_classes_all_data/test/ramen'.\n",
            "There are 10 directories and 0 images in '10_food_classes_all_data/train'.\n",
            "There are 0 directories and 750 images in '10_food_classes_all_data/train/grilled_salmon'.\n",
            "There are 0 directories and 750 images in '10_food_classes_all_data/train/ice_cream'.\n",
            "There are 0 directories and 750 images in '10_food_classes_all_data/train/chicken_wings'.\n",
            "There are 0 directories and 750 images in '10_food_classes_all_data/train/hamburger'.\n",
            "There are 0 directories and 750 images in '10_food_classes_all_data/train/steak'.\n",
            "There are 0 directories and 750 images in '10_food_classes_all_data/train/sushi'.\n",
            "There are 0 directories and 750 images in '10_food_classes_all_data/train/fried_rice'.\n",
            "There are 0 directories and 750 images in '10_food_classes_all_data/train/chicken_curry'.\n",
            "There are 0 directories and 750 images in '10_food_classes_all_data/train/pizza'.\n",
            "There are 0 directories and 750 images in '10_food_classes_all_data/train/ramen'.\n"
          ]
        }
      ]
    },
    {
      "cell_type": "markdown",
      "source": [
        "And now we'll turn the images into tensors datasets."
      ],
      "metadata": {
        "id": "Af-OpSq4VbMF"
      }
    },
    {
      "cell_type": "code",
      "source": [
        "# Setup data inputs\n",
        "import tensorflow as tf\n",
        "IMG_SIZE = (224, 224)\n",
        "train_data_10_classes_full = tf.keras.preprocessing.image_dataset_from_directory(train_dir,\n",
        "                                                                                 label_mode=\"categorical\",\n",
        "                                                                                 image_size=IMG_SIZE)\n",
        "\n",
        "# Note: this is the same test dataset we've been using for the previous modelling experiments\n",
        "test_data = tf.keras.preprocessing.image_dataset_from_directory(test_dir,\n",
        "                                                                label_mode=\"categorical\",\n",
        "                                                                image_size=IMG_SIZE)\n",
        "     "
      ],
      "metadata": {
        "colab": {
          "base_uri": "https://localhost:8080/"
        },
        "id": "H-SXaOO0VWex",
        "outputId": "378e7df9-ea1b-4dce-8fd0-667c87792fa1"
      },
      "execution_count": 86,
      "outputs": [
        {
          "output_type": "stream",
          "name": "stdout",
          "text": [
            "Found 7500 files belonging to 10 classes.\n",
            "Found 2500 files belonging to 10 classes.\n"
          ]
        }
      ]
    },
    {
      "cell_type": "markdown",
      "source": [
        "* We've got 10x more images in of the training classes to work with.\n",
        "* The test dataset is the same we've been using for our previous experiments.\n",
        "* As it is now, our model_2 has been fine-tuned on 10 percent of the data, so to begin fine-tuning on all of the data and keep our experiments consistent, we need to revert it back to the weights we checkpointed after 5 epochs of feature-extraction.\n",
        "* To demonstrate this, we'll first evaluate the current model_2."
      ],
      "metadata": {
        "id": "ZnKJPwjwVZ8X"
      }
    },
    {
      "cell_type": "code",
      "source": [
        "# Evaluate model (this is the fine-tuned 10 percent of data version)\n",
        "model_2.evaluate(test_data)"
      ],
      "metadata": {
        "colab": {
          "base_uri": "https://localhost:8080/"
        },
        "id": "b30vqdHKWXvD",
        "outputId": "8faaf540-486c-45ac-f17f-70b29d6cb866"
      },
      "execution_count": 87,
      "outputs": [
        {
          "output_type": "stream",
          "name": "stdout",
          "text": [
            "79/79 [==============================] - 280s 4s/step - loss: 0.5165 - accuracy: 0.8572\n"
          ]
        },
        {
          "output_type": "execute_result",
          "data": {
            "text/plain": [
              "[0.5165301561355591, 0.857200026512146]"
            ]
          },
          "metadata": {},
          "execution_count": 87
        }
      ]
    },
    {
      "cell_type": "code",
      "source": [
        "results_fine_tune_10_percent\n",
        "# same value as above but only difference is small precision"
      ],
      "metadata": {
        "colab": {
          "base_uri": "https://localhost:8080/"
        },
        "id": "Xi_g4SRrWZxD",
        "outputId": "bec3c0b0-3a80-4b90-ab89-f769f9599619"
      },
      "execution_count": 88,
      "outputs": [
        {
          "output_type": "execute_result",
          "data": {
            "text/plain": [
              "[0.5165301561355591, 0.857200026512146]"
            ]
          },
          "metadata": {},
          "execution_count": 88
        }
      ]
    },
    {
      "cell_type": "markdown",
      "source": [
        "# Now we'll revert the model model_2 back to the saved weights to compare two fine tune model and previous fine tuned model stat epochs from the weight saved as checkpoint. for this model also same weight need to be loaded in model 2."
      ],
      "metadata": {
        "id": "53gxJFI3WjNA"
      }
    },
    {
      "cell_type": "code",
      "source": [
        "# Now we'll revert the model back to the saved weights(feature extraction version) by loading weight of that feature extraction version i model_2.\n",
        "# Load model from checkpoint, that way we can fine-tune from the same stage the 10 percent data model was fine-tuned from\n",
        "# to train a fine tuning model_4, we need to revert model_2 back to feature extraction weight\n",
        "model_2.load_weights(checkpoint_path) # revert model back to saved weights"
      ],
      "metadata": {
        "colab": {
          "base_uri": "https://localhost:8080/",
          "height": 362
        },
        "id": "fSe1xOvBW91B",
        "outputId": "b0e78880-2955-45de-e4a8-15ec46b97734"
      },
      "execution_count": 92,
      "outputs": [
        {
          "output_type": "error",
          "ename": "ValueError",
          "evalue": "ignored",
          "traceback": [
            "\u001b[0;31m---------------------------------------------------------------------------\u001b[0m",
            "\u001b[0;31mValueError\u001b[0m                                Traceback (most recent call last)",
            "\u001b[0;32m<ipython-input-92-656db553d017>\u001b[0m in \u001b[0;36m<module>\u001b[0;34m\u001b[0m\n\u001b[1;32m      1\u001b[0m \u001b[0;31m# Now we'll revert the model back to the saved weights(feature extraction version) by loading weight of that feature extraction version i model_2.\u001b[0m\u001b[0;34m\u001b[0m\u001b[0;34m\u001b[0m\u001b[0;34m\u001b[0m\u001b[0m\n\u001b[1;32m      2\u001b[0m \u001b[0;31m# Load model from checkpoint, that way we can fine-tune from the same stage the 10 percent data model was fine-tuned from\u001b[0m\u001b[0;34m\u001b[0m\u001b[0;34m\u001b[0m\u001b[0;34m\u001b[0m\u001b[0m\n\u001b[0;32m----> 3\u001b[0;31m \u001b[0mmodel_2\u001b[0m\u001b[0;34m.\u001b[0m\u001b[0mload_weights\u001b[0m\u001b[0;34m(\u001b[0m\u001b[0mcheckpoint_path\u001b[0m\u001b[0;34m)\u001b[0m \u001b[0;31m# revert model back to saved weights\u001b[0m\u001b[0;34m\u001b[0m\u001b[0;34m\u001b[0m\u001b[0m\n\u001b[0m",
            "\u001b[0;32m/usr/local/lib/python3.8/dist-packages/keras/utils/traceback_utils.py\u001b[0m in \u001b[0;36merror_handler\u001b[0;34m(*args, **kwargs)\u001b[0m\n\u001b[1;32m     68\u001b[0m             \u001b[0;31m# To get the full stack trace, call:\u001b[0m\u001b[0;34m\u001b[0m\u001b[0;34m\u001b[0m\u001b[0;34m\u001b[0m\u001b[0m\n\u001b[1;32m     69\u001b[0m             \u001b[0;31m# `tf.debugging.disable_traceback_filtering()`\u001b[0m\u001b[0;34m\u001b[0m\u001b[0;34m\u001b[0m\u001b[0;34m\u001b[0m\u001b[0m\n\u001b[0;32m---> 70\u001b[0;31m             \u001b[0;32mraise\u001b[0m \u001b[0me\u001b[0m\u001b[0;34m.\u001b[0m\u001b[0mwith_traceback\u001b[0m\u001b[0;34m(\u001b[0m\u001b[0mfiltered_tb\u001b[0m\u001b[0;34m)\u001b[0m \u001b[0;32mfrom\u001b[0m \u001b[0;32mNone\u001b[0m\u001b[0;34m\u001b[0m\u001b[0;34m\u001b[0m\u001b[0m\n\u001b[0m\u001b[1;32m     71\u001b[0m         \u001b[0;32mfinally\u001b[0m\u001b[0;34m:\u001b[0m\u001b[0;34m\u001b[0m\u001b[0;34m\u001b[0m\u001b[0m\n\u001b[1;32m     72\u001b[0m             \u001b[0;32mdel\u001b[0m \u001b[0mfiltered_tb\u001b[0m\u001b[0;34m\u001b[0m\u001b[0;34m\u001b[0m\u001b[0m\n",
            "\u001b[0;32m/usr/local/lib/python3.8/dist-packages/tensorflow/python/training/saving/saveable_object_util.py\u001b[0m in \u001b[0;36mrestore\u001b[0;34m(self, restored_tensors, restored_shapes)\u001b[0m\n\u001b[1;32m    137\u001b[0m             self.handle_op, self._var_shape, restored_tensor)\n\u001b[1;32m    138\u001b[0m       \u001b[0;32mexcept\u001b[0m \u001b[0mValueError\u001b[0m \u001b[0;32mas\u001b[0m \u001b[0me\u001b[0m\u001b[0;34m:\u001b[0m\u001b[0;34m\u001b[0m\u001b[0;34m\u001b[0m\u001b[0m\n\u001b[0;32m--> 139\u001b[0;31m         raise ValueError(\n\u001b[0m\u001b[1;32m    140\u001b[0m             \u001b[0;34mf\"Received incompatible tensor with shape {restored_tensor.shape} \"\u001b[0m\u001b[0;34m\u001b[0m\u001b[0;34m\u001b[0m\u001b[0m\n\u001b[1;32m    141\u001b[0m             \u001b[0;34mf\"when attempting to restore variable with shape {self._var_shape} \"\u001b[0m\u001b[0;34m\u001b[0m\u001b[0;34m\u001b[0m\u001b[0m\n",
            "\u001b[0;31mValueError\u001b[0m: Received incompatible tensor with shape (1280, 10) when attempting to restore variable with shape (1, 1, 1152, 48) and name optimizer/_variables/1/.ATTRIBUTES/VARIABLE_VALUE."
          ]
        }
      ]
    },
    {
      "cell_type": "code",
      "source": [
        "# After loading the weights, this should have gone down (no fine-tuning)\n",
        "model_2.evaluate(test_data)"
      ],
      "metadata": {
        "colab": {
          "base_uri": "https://localhost:8080/"
        },
        "id": "2XHaWrvxXMWQ",
        "outputId": "6d7d8c9e-a37d-457c-ad56-fa34a0cf2851"
      },
      "execution_count": 93,
      "outputs": [
        {
          "output_type": "stream",
          "name": "stdout",
          "text": [
            "79/79 [==============================] - 228s 3s/step - loss: 0.6239 - accuracy: 0.8400\n"
          ]
        },
        {
          "output_type": "execute_result",
          "data": {
            "text/plain": [
              "[0.6239119172096252, 0.8399999737739563]"
            ]
          },
          "metadata": {},
          "execution_count": 93
        }
      ]
    },
    {
      "cell_type": "code",
      "source": [
        "# Check to see if the above two results are the same (they should be)\n",
        "results_10_percent_data_aug"
      ],
      "metadata": {
        "colab": {
          "base_uri": "https://localhost:8080/"
        },
        "id": "drzfY7DEXwaS",
        "outputId": "8a461e8a-0fa9-4fda-e485-931c38aae8bc"
      },
      "execution_count": 94,
      "outputs": [
        {
          "output_type": "execute_result",
          "data": {
            "text/plain": [
              "[0.6239118576049805, 0.8399999737739563]"
            ]
          },
          "metadata": {},
          "execution_count": 94
        }
      ]
    },
    {
      "cell_type": "markdown",
      "source": [
        "Alright, the previous steps might seem quite confusing but all we've done is:\n",
        "\n",
        "* Trained a feature extraction transfer learning model for 5 epochs on 10% of the data (with all base model layers frozen) and saved the model's weights using ModelCheckpoint.\n",
        "* Fine-tuned the same model on the same 10% of the data for a further 5 epochs with the top 10 layers of the base model unfrozen.\n",
        "* Saved the results and training logs each time.\n",
        "* Reloaded the model from 1 to do the same steps as 2 but with all of the data.\n",
        "The same steps as 2?\n",
        "\n",
        "Yeah, we're going to fine-tune the last 10 layers of the base model with the full dataset for another 5 epochs but first let's remind ourselves which layers are trainable."
      ],
      "metadata": {
        "id": "-KzGRHdFY-z1"
      }
    },
    {
      "cell_type": "code",
      "source": [
        "# Check which layers are tuneable in the whole model\n",
        "for layer_number, layer in enumerate(model_2.layers):\n",
        "  print(layer_number, layer.name, layer.trainable)"
      ],
      "metadata": {
        "colab": {
          "base_uri": "https://localhost:8080/"
        },
        "id": "8vjHWuDVavH3",
        "outputId": "fa4aef04-ef24-4835-c5cf-6e58fb31c8ff"
      },
      "execution_count": 95,
      "outputs": [
        {
          "output_type": "stream",
          "name": "stdout",
          "text": [
            "0 input_layer True\n",
            "1 data_augmentation True\n",
            "2 efficientnetb0 True\n",
            "3 global_average_pooling_layer True\n",
            "4 output_layer True\n"
          ]
        }
      ]
    },
    {
      "cell_type": "code",
      "source": [
        "# Check which layers are tuneable in the base model\n",
        "for layer_number, layer in enumerate(base_model.layers):\n",
        "  print(layer_number, layer.name, layer.trainable)"
      ],
      "metadata": {
        "colab": {
          "base_uri": "https://localhost:8080/"
        },
        "id": "x7sK_EqcaxLU",
        "outputId": "644685f1-89cd-4a63-ec9b-7d88a3b1b3d8"
      },
      "execution_count": 96,
      "outputs": [
        {
          "output_type": "stream",
          "name": "stdout",
          "text": [
            "0 input_3 False\n",
            "1 rescaling_4 False\n",
            "2 normalization_2 False\n",
            "3 rescaling_5 False\n",
            "4 stem_conv_pad False\n",
            "5 stem_conv False\n",
            "6 stem_bn False\n",
            "7 stem_activation False\n",
            "8 block1a_dwconv False\n",
            "9 block1a_bn False\n",
            "10 block1a_activation False\n",
            "11 block1a_se_squeeze False\n",
            "12 block1a_se_reshape False\n",
            "13 block1a_se_reduce False\n",
            "14 block1a_se_expand False\n",
            "15 block1a_se_excite False\n",
            "16 block1a_project_conv False\n",
            "17 block1a_project_bn False\n",
            "18 block2a_expand_conv False\n",
            "19 block2a_expand_bn False\n",
            "20 block2a_expand_activation False\n",
            "21 block2a_dwconv_pad False\n",
            "22 block2a_dwconv False\n",
            "23 block2a_bn False\n",
            "24 block2a_activation False\n",
            "25 block2a_se_squeeze False\n",
            "26 block2a_se_reshape False\n",
            "27 block2a_se_reduce False\n",
            "28 block2a_se_expand False\n",
            "29 block2a_se_excite False\n",
            "30 block2a_project_conv False\n",
            "31 block2a_project_bn False\n",
            "32 block2b_expand_conv False\n",
            "33 block2b_expand_bn False\n",
            "34 block2b_expand_activation False\n",
            "35 block2b_dwconv False\n",
            "36 block2b_bn False\n",
            "37 block2b_activation False\n",
            "38 block2b_se_squeeze False\n",
            "39 block2b_se_reshape False\n",
            "40 block2b_se_reduce False\n",
            "41 block2b_se_expand False\n",
            "42 block2b_se_excite False\n",
            "43 block2b_project_conv False\n",
            "44 block2b_project_bn False\n",
            "45 block2b_drop False\n",
            "46 block2b_add False\n",
            "47 block3a_expand_conv False\n",
            "48 block3a_expand_bn False\n",
            "49 block3a_expand_activation False\n",
            "50 block3a_dwconv_pad False\n",
            "51 block3a_dwconv False\n",
            "52 block3a_bn False\n",
            "53 block3a_activation False\n",
            "54 block3a_se_squeeze False\n",
            "55 block3a_se_reshape False\n",
            "56 block3a_se_reduce False\n",
            "57 block3a_se_expand False\n",
            "58 block3a_se_excite False\n",
            "59 block3a_project_conv False\n",
            "60 block3a_project_bn False\n",
            "61 block3b_expand_conv False\n",
            "62 block3b_expand_bn False\n",
            "63 block3b_expand_activation False\n",
            "64 block3b_dwconv False\n",
            "65 block3b_bn False\n",
            "66 block3b_activation False\n",
            "67 block3b_se_squeeze False\n",
            "68 block3b_se_reshape False\n",
            "69 block3b_se_reduce False\n",
            "70 block3b_se_expand False\n",
            "71 block3b_se_excite False\n",
            "72 block3b_project_conv False\n",
            "73 block3b_project_bn False\n",
            "74 block3b_drop False\n",
            "75 block3b_add False\n",
            "76 block4a_expand_conv False\n",
            "77 block4a_expand_bn False\n",
            "78 block4a_expand_activation False\n",
            "79 block4a_dwconv_pad False\n",
            "80 block4a_dwconv False\n",
            "81 block4a_bn False\n",
            "82 block4a_activation False\n",
            "83 block4a_se_squeeze False\n",
            "84 block4a_se_reshape False\n",
            "85 block4a_se_reduce False\n",
            "86 block4a_se_expand False\n",
            "87 block4a_se_excite False\n",
            "88 block4a_project_conv False\n",
            "89 block4a_project_bn False\n",
            "90 block4b_expand_conv False\n",
            "91 block4b_expand_bn False\n",
            "92 block4b_expand_activation False\n",
            "93 block4b_dwconv False\n",
            "94 block4b_bn False\n",
            "95 block4b_activation False\n",
            "96 block4b_se_squeeze False\n",
            "97 block4b_se_reshape False\n",
            "98 block4b_se_reduce False\n",
            "99 block4b_se_expand False\n",
            "100 block4b_se_excite False\n",
            "101 block4b_project_conv False\n",
            "102 block4b_project_bn False\n",
            "103 block4b_drop False\n",
            "104 block4b_add False\n",
            "105 block4c_expand_conv False\n",
            "106 block4c_expand_bn False\n",
            "107 block4c_expand_activation False\n",
            "108 block4c_dwconv False\n",
            "109 block4c_bn False\n",
            "110 block4c_activation False\n",
            "111 block4c_se_squeeze False\n",
            "112 block4c_se_reshape False\n",
            "113 block4c_se_reduce False\n",
            "114 block4c_se_expand False\n",
            "115 block4c_se_excite False\n",
            "116 block4c_project_conv False\n",
            "117 block4c_project_bn False\n",
            "118 block4c_drop False\n",
            "119 block4c_add False\n",
            "120 block5a_expand_conv False\n",
            "121 block5a_expand_bn False\n",
            "122 block5a_expand_activation False\n",
            "123 block5a_dwconv False\n",
            "124 block5a_bn False\n",
            "125 block5a_activation False\n",
            "126 block5a_se_squeeze False\n",
            "127 block5a_se_reshape False\n",
            "128 block5a_se_reduce False\n",
            "129 block5a_se_expand False\n",
            "130 block5a_se_excite False\n",
            "131 block5a_project_conv False\n",
            "132 block5a_project_bn False\n",
            "133 block5b_expand_conv False\n",
            "134 block5b_expand_bn False\n",
            "135 block5b_expand_activation False\n",
            "136 block5b_dwconv False\n",
            "137 block5b_bn False\n",
            "138 block5b_activation False\n",
            "139 block5b_se_squeeze False\n",
            "140 block5b_se_reshape False\n",
            "141 block5b_se_reduce False\n",
            "142 block5b_se_expand False\n",
            "143 block5b_se_excite False\n",
            "144 block5b_project_conv False\n",
            "145 block5b_project_bn False\n",
            "146 block5b_drop False\n",
            "147 block5b_add False\n",
            "148 block5c_expand_conv False\n",
            "149 block5c_expand_bn False\n",
            "150 block5c_expand_activation False\n",
            "151 block5c_dwconv False\n",
            "152 block5c_bn False\n",
            "153 block5c_activation False\n",
            "154 block5c_se_squeeze False\n",
            "155 block5c_se_reshape False\n",
            "156 block5c_se_reduce False\n",
            "157 block5c_se_expand False\n",
            "158 block5c_se_excite False\n",
            "159 block5c_project_conv False\n",
            "160 block5c_project_bn False\n",
            "161 block5c_drop False\n",
            "162 block5c_add False\n",
            "163 block6a_expand_conv False\n",
            "164 block6a_expand_bn False\n",
            "165 block6a_expand_activation False\n",
            "166 block6a_dwconv_pad False\n",
            "167 block6a_dwconv False\n",
            "168 block6a_bn False\n",
            "169 block6a_activation False\n",
            "170 block6a_se_squeeze False\n",
            "171 block6a_se_reshape False\n",
            "172 block6a_se_reduce False\n",
            "173 block6a_se_expand False\n",
            "174 block6a_se_excite False\n",
            "175 block6a_project_conv False\n",
            "176 block6a_project_bn False\n",
            "177 block6b_expand_conv False\n",
            "178 block6b_expand_bn False\n",
            "179 block6b_expand_activation False\n",
            "180 block6b_dwconv False\n",
            "181 block6b_bn False\n",
            "182 block6b_activation False\n",
            "183 block6b_se_squeeze False\n",
            "184 block6b_se_reshape False\n",
            "185 block6b_se_reduce False\n",
            "186 block6b_se_expand False\n",
            "187 block6b_se_excite False\n",
            "188 block6b_project_conv False\n",
            "189 block6b_project_bn False\n",
            "190 block6b_drop False\n",
            "191 block6b_add False\n",
            "192 block6c_expand_conv False\n",
            "193 block6c_expand_bn False\n",
            "194 block6c_expand_activation False\n",
            "195 block6c_dwconv False\n",
            "196 block6c_bn False\n",
            "197 block6c_activation False\n",
            "198 block6c_se_squeeze False\n",
            "199 block6c_se_reshape False\n",
            "200 block6c_se_reduce False\n",
            "201 block6c_se_expand False\n",
            "202 block6c_se_excite False\n",
            "203 block6c_project_conv False\n",
            "204 block6c_project_bn False\n",
            "205 block6c_drop False\n",
            "206 block6c_add False\n",
            "207 block6d_expand_conv False\n",
            "208 block6d_expand_bn False\n",
            "209 block6d_expand_activation False\n",
            "210 block6d_dwconv False\n",
            "211 block6d_bn False\n",
            "212 block6d_activation False\n",
            "213 block6d_se_squeeze False\n",
            "214 block6d_se_reshape False\n",
            "215 block6d_se_reduce False\n",
            "216 block6d_se_expand False\n",
            "217 block6d_se_excite False\n",
            "218 block6d_project_conv False\n",
            "219 block6d_project_bn False\n",
            "220 block6d_drop False\n",
            "221 block6d_add False\n",
            "222 block7a_expand_conv False\n",
            "223 block7a_expand_bn False\n",
            "224 block7a_expand_activation False\n",
            "225 block7a_dwconv False\n",
            "226 block7a_bn False\n",
            "227 block7a_activation False\n",
            "228 block7a_se_squeeze True\n",
            "229 block7a_se_reshape True\n",
            "230 block7a_se_reduce True\n",
            "231 block7a_se_expand True\n",
            "232 block7a_se_excite True\n",
            "233 block7a_project_conv True\n",
            "234 block7a_project_bn True\n",
            "235 top_conv True\n",
            "236 top_bn True\n",
            "237 top_activation True\n"
          ]
        }
      ]
    },
    {
      "cell_type": "markdown",
      "source": [
        "Looking good! The last 10 layers are trainable (unfrozen).\n",
        "\n",
        "We've got one more step to do before we can begin fine-tuning.\n",
        "\n",
        "Do you remember what it is?\n",
        "\n",
        "I'll give you a hint. We just reloaded the weights to our model and what do we need to do every time we make a change to our models?\n",
        "\n",
        "Recompile them!"
      ],
      "metadata": {
        "id": "TTfLlXPba1Vt"
      }
    },
    {
      "cell_type": "code",
      "source": [
        "# Compile\n",
        "model_2.compile(loss=\"categorical_crossentropy\",\n",
        "                optimizer=tf.keras.optimizers.Adam(lr=0.0001), # divide learning rate by 10 for fine-tuning\n",
        "                metrics=[\"accuracy\"])"
      ],
      "metadata": {
        "colab": {
          "base_uri": "https://localhost:8080/"
        },
        "id": "G_KORASUbAo5",
        "outputId": "bd5f87fd-0005-40a4-b9ee-902a96e471b5"
      },
      "execution_count": 97,
      "outputs": [
        {
          "output_type": "stream",
          "name": "stderr",
          "text": [
            "WARNING:absl:`lr` is deprecated, please use `learning_rate` instead, or use the legacy optimizer, e.g.,tf.keras.optimizers.legacy.Adam.\n"
          ]
        }
      ]
    },
    {
      "cell_type": "code",
      "source": [
        "# Continue to train and fine-tune the model to our data\n",
        "fine_tune_epochs = initial_epochs + 5\n",
        "\n",
        "history_fine_10_classes_full = model_2.fit(train_data_10_classes_full,\n",
        "                                           epochs=fine_tune_epochs,\n",
        "                                           initial_epoch=history_10_percent_data_aug.epoch[-1],\n",
        "                                           validation_data=test_data,\n",
        "                                           validation_steps=int(0.25 * len(test_data)),\n",
        "                                           callbacks=[create_tensorboard_callback(\"transfer_learning\", \"full_10_classes_fine_tune_last_10\")])"
      ],
      "metadata": {
        "colab": {
          "base_uri": "https://localhost:8080/"
        },
        "id": "KmYvuswebQx_",
        "outputId": "5f7d7bc5-ffbe-4d19-e15f-9c4a291fb1c4"
      },
      "execution_count": 98,
      "outputs": [
        {
          "output_type": "stream",
          "name": "stderr",
          "text": [
            "WARNING:tensorflow:Model failed to serialize as JSON. Ignoring... Unable to serialize [2.0896919 2.1128857 2.1081853] to JSON. Unrecognized type <class 'tensorflow.python.framework.ops.EagerTensor'>.\n"
          ]
        },
        {
          "output_type": "stream",
          "name": "stdout",
          "text": [
            "Saving TensorBoard log files to: transfer_learning/full_10_classes_fine_tune_last_10/20230222-092357\n",
            "Epoch 5/10\n"
          ]
        },
        {
          "output_type": "stream",
          "name": "stderr",
          "text": [
            "WARNING:tensorflow:Using a while_loop for converting RngReadAndSkip cause there is no registered converter for this op.\n",
            "WARNING:tensorflow:Using a while_loop for converting Bitcast cause there is no registered converter for this op.\n",
            "WARNING:tensorflow:Using a while_loop for converting Bitcast cause there is no registered converter for this op.\n",
            "WARNING:tensorflow:Using a while_loop for converting StatelessRandomUniformV2 cause there is no registered converter for this op.\n",
            "WARNING:tensorflow:Using a while_loop for converting ImageProjectiveTransformV3 cause there is no registered converter for this op.\n",
            "WARNING:tensorflow:Using a while_loop for converting RngReadAndSkip cause there is no registered converter for this op.\n",
            "WARNING:tensorflow:Using a while_loop for converting Bitcast cause there is no registered converter for this op.\n",
            "WARNING:tensorflow:Using a while_loop for converting Bitcast cause there is no registered converter for this op.\n",
            "WARNING:tensorflow:Using a while_loop for converting StatelessRandomUniformV2 cause there is no registered converter for this op.\n",
            "WARNING:tensorflow:Using a while_loop for converting ImageProjectiveTransformV3 cause there is no registered converter for this op.\n",
            "WARNING:tensorflow:Using a while_loop for converting RngReadAndSkip cause there is no registered converter for this op.\n",
            "WARNING:tensorflow:Using a while_loop for converting Bitcast cause there is no registered converter for this op.\n",
            "WARNING:tensorflow:Using a while_loop for converting Bitcast cause there is no registered converter for this op.\n",
            "WARNING:tensorflow:Using a while_loop for converting StatelessRandomUniformV2 cause there is no registered converter for this op.\n",
            "WARNING:tensorflow:Using a while_loop for converting ImageProjectiveTransformV3 cause there is no registered converter for this op.\n",
            "WARNING:tensorflow:Using a while_loop for converting RngReadAndSkip cause there is no registered converter for this op.\n",
            "WARNING:tensorflow:Using a while_loop for converting Bitcast cause there is no registered converter for this op.\n",
            "WARNING:tensorflow:Using a while_loop for converting Bitcast cause there is no registered converter for this op.\n",
            "WARNING:tensorflow:Using a while_loop for converting StatelessRandomUniformV2 cause there is no registered converter for this op.\n",
            "WARNING:tensorflow:Using a while_loop for converting ImageProjectiveTransformV3 cause there is no registered converter for this op.\n"
          ]
        },
        {
          "output_type": "stream",
          "name": "stdout",
          "text": [
            "235/235 [==============================] - 814s 3s/step - loss: 0.6255 - accuracy: 0.7967 - val_loss: 0.2679 - val_accuracy: 0.9128\n",
            "Epoch 6/10\n",
            "235/235 [==============================] - 809s 3s/step - loss: 0.4184 - accuracy: 0.8661 - val_loss: 0.2916 - val_accuracy: 0.8980\n",
            "Epoch 7/10\n",
            "235/235 [==============================] - 753s 3s/step - loss: 0.3451 - accuracy: 0.8856 - val_loss: 0.2551 - val_accuracy: 0.9095\n",
            "Epoch 8/10\n",
            "235/235 [==============================] - 809s 3s/step - loss: 0.2763 - accuracy: 0.9099 - val_loss: 0.2320 - val_accuracy: 0.9062\n",
            "Epoch 9/10\n",
            "235/235 [==============================] - 784s 3s/step - loss: 0.2342 - accuracy: 0.9200 - val_loss: 0.3543 - val_accuracy: 0.8783\n",
            "Epoch 10/10\n",
            "235/235 [==============================] - 767s 3s/step - loss: 0.2190 - accuracy: 0.9292 - val_loss: 0.2845 - val_accuracy: 0.9030\n"
          ]
        }
      ]
    },
    {
      "cell_type": "code",
      "source": [
        "results_fine_tune_full_data = model_2.evaluate(test_data)\n",
        "results_fine_tune_full_data"
      ],
      "metadata": {
        "colab": {
          "base_uri": "https://localhost:8080/"
        },
        "id": "1RHjCbRIb8Cy",
        "outputId": "b7253939-96c8-458a-b782-0380f48f94de"
      },
      "execution_count": 99,
      "outputs": [
        {
          "output_type": "stream",
          "name": "stdout",
          "text": [
            "79/79 [==============================] - 204s 3s/step - loss: 0.3219 - accuracy: 0.8984\n"
          ]
        },
        {
          "output_type": "execute_result",
          "data": {
            "text/plain": [
              "[0.32190704345703125, 0.8984000086784363]"
            ]
          },
          "metadata": {},
          "execution_count": 99
        }
      ]
    },
    {
      "cell_type": "code",
      "source": [
        "# How did fine-tuning go with more data?\n",
        "compare_historys(original_history=history_10_percent_data_aug,\n",
        "                 new_history=history_fine_10_classes_full,\n",
        "                 initial_epochs=5)"
      ],
      "metadata": {
        "colab": {
          "base_uri": "https://localhost:8080/",
          "height": 588
        },
        "id": "YwaAYsrVdtU6",
        "outputId": "c3e83947-b5f3-4378-b7e2-31c7f5b2e388"
      },
      "execution_count": 100,
      "outputs": [
        {
          "output_type": "stream",
          "name": "stdout",
          "text": [
            "5\n",
            "11\n",
            "[0.36399999260902405, 0.6919999718666077, 0.7573333382606506, 0.7853333353996277, 0.8119999766349792, 0.79666668176651, 0.8661333322525024, 0.8855999708175659, 0.9098666906356812, 0.9200000166893005, 0.9291999936103821]\n"
          ]
        },
        {
          "output_type": "display_data",
          "data": {
            "text/plain": [
              "<Figure size 576x576 with 2 Axes>"
            ],
            "image/png": "[encoded data removed]"
          },
          "metadata": {
            "needs_background": "light"
          }
        }
      ]
    },
    {
      "cell_type": "markdown",
      "source": [
        "## Viewing our experiment data on TensorBoard"
      ],
      "metadata": {
        "id": "UU15MBWvdwQX"
      }
    },
    {
      "cell_type": "markdown",
      "source": [
        "Right now our experimental results are scattered all throughout our notebook. If we want to share them with someone, they'd be getting a bunch of different graphs and metrics... not a fun time.\n",
        "\n",
        "But guess what?\n",
        "\n",
        "Thanks to the TensorBoard callback we made with our helper function create_tensorflow_callback(), we've been tracking our modelling experiments the whole time.\n",
        "\n",
        "How about we upload them to TensorBoard.dev and check them out?\n",
        "\n",
        "We can do with the tensorboard dev upload command and passing it the directory where our experiments have been logged.\n",
        "\n",
        "🔑 Note: Remember, whatever you upload to TensorBoard.dev becomes public. If there are training logs you don't want to share, don't upload them."
      ],
      "metadata": {
        "id": "jmIvvUzcd3tj"
      }
    },
    {
      "cell_type": "code",
      "source": [
        "# View tensorboard logs of transfer learning modelling experiments (should be 4 models)\n",
        "# Upload TensorBoard dev records\n",
        "!tensorboard dev upload --logdir ./transfer_learning \\\n",
        "  --name \"Transfer learning experiments\" \\\n",
        "  --description \"A series of different transfer learning experiments with varying amounts of data and fine-tuning\" \\\n",
        "  --one_shot # exits the uploader when upload has finished"
      ],
      "metadata": {
        "id": "_fzbwY1EeMI6"
      },
      "execution_count": null,
      "outputs": []
    },
    {
      "cell_type": "markdown",
      "source": [
        "Once we've uploaded the results to TensorBoard.dev we get a shareable link we can use to view and compare our experiments and share our results with others if needed.\n",
        "\n",
        "🤔 Question: Which model performed the best? Why do you think this is? How did fine-tuning go?\n",
        "\n",
        "To find all of your previous TensorBoard.dev experiments using the command tensorboard dev list."
      ],
      "metadata": {
        "id": "fFcbPnk7gWuZ"
      }
    },
    {
      "cell_type": "code",
      "source": [
        "# View previous experiments\n",
        "!tensorboard dev list"
      ],
      "metadata": {
        "colab": {
          "base_uri": "https://localhost:8080/"
        },
        "id": "TZD83koxgXaB",
        "outputId": "7f46851b-b237-4bad-945d-5ceeb642d940"
      },
      "execution_count": 104,
      "outputs": [
        {
          "output_type": "stream",
          "name": "stdout",
          "text": [
            "2023-02-22 12:01:36.734004: W tensorflow/compiler/xla/stream_executor/platform/default/dso_loader.cc:64] Could not load dynamic library 'libnvinfer.so.7'; dlerror: libnvinfer.so.7: cannot open shared object file: No such file or directory; LD_LIBRARY_PATH: /usr/local/nvidia/lib:/usr/local/nvidia/lib64\n",
            "2023-02-22 12:01:36.734139: W tensorflow/compiler/xla/stream_executor/platform/default/dso_loader.cc:64] Could not load dynamic library 'libnvinfer_plugin.so.7'; dlerror: libnvinfer_plugin.so.7: cannot open shared object file: No such file or directory; LD_LIBRARY_PATH: /usr/local/nvidia/lib:/usr/local/nvidia/lib64\n",
            "2023-02-22 12:01:36.734164: W tensorflow/compiler/tf2tensorrt/utils/py_utils.cc:38] TF-TRT Warning: Cannot dlopen some TensorRT libraries. If you would like to use Nvidia GPU with TensorRT, please make sure the missing libraries mentioned above are installed properly.\n",
            "2023-02-22 12:01:39.102580: E tensorflow/compiler/xla/stream_executor/cuda/cuda_driver.cc:267] failed call to cuInit: CUDA_ERROR_NO_DEVICE: no CUDA-capable device is detected\n",
            "https://tensorboard.dev/experiment/QFZHV0BMS8uyERUxPOfMNg/\n",
            "\tName                 Transfer learning experiments\n",
            "\tDescription          A series of different transfer learning experiments with varying amounts of data and fine-tuning\n",
            "\tId                   QFZHV0BMS8uyERUxPOfMNg\n",
            "\tCreated              2023-02-22 12:00:50 (49 seconds ago)\n",
            "\tUpdated              2023-02-22 12:00:56 (43 seconds ago)\n",
            "\tRuns                 10\n",
            "\tTags                 5\n",
            "\tScalars              162\n",
            "\tTensor bytes         0\n",
            "\tBinary object bytes  6008467\n",
            "Total: 1 experiment(s)\n"
          ]
        }
      ]
    },
    {
      "cell_type": "markdown",
      "source": [
        "And if you want to remove a previous experiment (and delete it from public viewing) you can use the command:\n",
        "\n",
        "tensorboard dev delete --experiment_id [INSERT_EXPERIMENT_ID_TO_DELETE]```"
      ],
      "metadata": {
        "id": "uSu5ZH3tgfGc"
      }
    },
    {
      "cell_type": "code",
      "source": [
        "# Remove previous experiments\n",
        "# !tensorboard dev delete --experiment_id OUbW0O3pRqqQgAphVBxi8Q"
      ],
      "metadata": {
        "id": "B30AFcRJgo2z"
      },
      "execution_count": null,
      "outputs": []
    },
    {
      "cell_type": "markdown",
      "source": [
        "https://tensorboard.dev/experiment/QFZHV0BMS8uyERUxPOfMNg/"
      ],
      "metadata": {
        "id": "n_lmy59ogs8c"
      }
    }
  ]
}